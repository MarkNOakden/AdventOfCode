{
 "cells": [
  {
   "cell_type": "code",
   "execution_count": 63,
   "metadata": {
    "collapsed": false
   },
   "outputs": [
    {
     "name": "stdout",
     "output_type": "stream",
     "text": [
      "Part 1 answer is: ursvoerv\n",
      "Part 2 answer is: vomaypnn\n"
     ]
    }
   ],
   "source": [
    "import pandas as pd\n",
    "\n",
    "input_l = []\n",
    "with open('input.txt') as fd:\n",
    "    for line in fd:\n",
    "        input_l.append([c for c in line.rstrip('\\n')])\n",
    "        \n",
    "data = pd.DataFrame(input_l)\n",
    "\n",
    "part1 = part2 = ''\n",
    "for col in data.columns:\n",
    "    part1 += data[col].value_counts().index[0]\n",
    "    part2 += data[col].value_counts().index[-1]\n",
    "\n",
    "print 'Part 1 answer is: {}'.format(part1)\n",
    "print 'Part 2 answer is: {}'.format(part2)"
   ]
  },
  {
   "cell_type": "code",
   "execution_count": 80,
   "metadata": {
    "collapsed": false
   },
   "outputs": [
    {
     "name": "stdout",
     "output_type": "stream",
     "text": [
      "Message1 is: ursvoerv\n",
      "Message2 is: vomaypnn\n"
     ]
    }
   ],
   "source": [
    "import pandas as pd\n",
    "df = pd.read_table('input.txt', header=None).apply(lambda x: pd.Series(list(x[0])), axis=1)\n",
    "part1 = ''.join(df.apply(lambda x: x.value_counts().index[0]))\n",
    "part2 = ''.join(df.apply(lambda x: x.value_counts().index[-1]))\n",
    "\n",
    "print 'Message1 is: {}\\nMessage2 is: {}'.format(part1, part2)"
   ]
  },
  {
   "cell_type": "code",
   "execution_count": null,
   "metadata": {
    "collapsed": true
   },
   "outputs": [],
   "source": []
  }
 ],
 "metadata": {
  "kernelspec": {
   "display_name": "Python 2",
   "language": "python",
   "name": "python2"
  },
  "language_info": {
   "codemirror_mode": {
    "name": "ipython",
    "version": 2
   },
   "file_extension": ".py",
   "mimetype": "text/x-python",
   "name": "python",
   "nbconvert_exporter": "python",
   "pygments_lexer": "ipython2",
   "version": "2.7.6"
  }
 },
 "nbformat": 4,
 "nbformat_minor": 1
}
