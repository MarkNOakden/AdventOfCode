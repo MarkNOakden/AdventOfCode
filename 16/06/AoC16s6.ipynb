{
 "cells": [
  {
   "cell_type": "code",
   "execution_count": 1,
   "metadata": {
    "collapsed": false
   },
   "outputs": [
    {
     "name": "stdout",
     "output_type": "stream",
     "text": [
      "Part 1 answer is: ursvoerv\n",
      "Part 2 answer is: vomaypnn\n"
     ]
    }
   ],
   "source": [
    "import pandas as pd\n",
    "\n",
    "input_l = []\n",
    "with open('input.txt') as fd:\n",
    "    for line in fd:\n",
    "        input_l.append([c for c in line.rstrip('\\n')])\n",
    "        \n",
    "data = pd.DataFrame(input_l)\n",
    "\n",
    "part1 = part2 = ''\n",
    "for col in data.columns:\n",
    "    part1 += data[col].value_counts().index[0]\n",
    "    part2 += data[col].value_counts().index[-1]\n",
    "\n",
    "print 'Part 1 answer is: {}'.format(part1)\n",
    "print 'Part 2 answer is: {}'.format(part2)"
   ]
  },
  {
   "cell_type": "code",
   "execution_count": 2,
   "metadata": {
    "collapsed": false
   },
   "outputs": [
    {
     "name": "stdout",
     "output_type": "stream",
     "text": [
      "Message1 is: ursvoerv\n",
      "Message2 is: vomaypnn\n"
     ]
    }
   ],
   "source": [
    "import pandas as pd\n",
    "df = pd.read_table('input.txt', header=None).apply(lambda x: pd.Series(list(x[0])), axis=1)\n",
    "part1 = ''.join(df.apply(lambda x: x.value_counts().index[0]))\n",
    "part2 = ''.join(df.apply(lambda x: x.value_counts().index[-1]))\n",
    "\n",
    "print 'Message1 is: {}\\nMessage2 is: {}'.format(part1, part2)"
   ]
  },
  {
   "cell_type": "code",
   "execution_count": 3,
   "metadata": {
    "collapsed": false
   },
   "outputs": [
    {
     "data": {
      "text/html": [
       "<div>\n",
       "<table border=\"1\" class=\"dataframe\">\n",
       "  <thead>\n",
       "    <tr style=\"text-align: right;\">\n",
       "      <th></th>\n",
       "      <th>0</th>\n",
       "      <th>1</th>\n",
       "      <th>2</th>\n",
       "      <th>3</th>\n",
       "      <th>4</th>\n",
       "      <th>5</th>\n",
       "      <th>6</th>\n",
       "      <th>7</th>\n",
       "    </tr>\n",
       "  </thead>\n",
       "  <tbody>\n",
       "    <tr>\n",
       "      <th>0</th>\n",
       "      <td>y</td>\n",
       "      <td>v</td>\n",
       "      <td>a</td>\n",
       "      <td>y</td>\n",
       "      <td>w</td>\n",
       "      <td>r</td>\n",
       "      <td>u</td>\n",
       "      <td>l</td>\n",
       "    </tr>\n",
       "    <tr>\n",
       "      <th>1</th>\n",
       "      <td>u</td>\n",
       "      <td>j</td>\n",
       "      <td>c</td>\n",
       "      <td>s</td>\n",
       "      <td>e</td>\n",
       "      <td>j</td>\n",
       "      <td>w</td>\n",
       "      <td>m</td>\n",
       "    </tr>\n",
       "    <tr>\n",
       "      <th>2</th>\n",
       "      <td>z</td>\n",
       "      <td>t</td>\n",
       "      <td>y</td>\n",
       "      <td>z</td>\n",
       "      <td>o</td>\n",
       "      <td>n</td>\n",
       "      <td>a</td>\n",
       "      <td>c</td>\n",
       "    </tr>\n",
       "    <tr>\n",
       "      <th>3</th>\n",
       "      <td>y</td>\n",
       "      <td>o</td>\n",
       "      <td>r</td>\n",
       "      <td>n</td>\n",
       "      <td>a</td>\n",
       "      <td>f</td>\n",
       "      <td>i</td>\n",
       "      <td>a</td>\n",
       "    </tr>\n",
       "    <tr>\n",
       "      <th>4</th>\n",
       "      <td>i</td>\n",
       "      <td>b</td>\n",
       "      <td>m</td>\n",
       "      <td>d</td>\n",
       "      <td>p</td>\n",
       "      <td>p</td>\n",
       "      <td>r</td>\n",
       "      <td>a</td>\n",
       "    </tr>\n",
       "  </tbody>\n",
       "</table>\n",
       "</div>"
      ],
      "text/plain": [
       "   0  1  2  3  4  5  6  7\n",
       "0  y  v  a  y  w  r  u  l\n",
       "1  u  j  c  s  e  j  w  m\n",
       "2  z  t  y  z  o  n  a  c\n",
       "3  y  o  r  n  a  f  i  a\n",
       "4  i  b  m  d  p  p  r  a"
      ]
     },
     "execution_count": 3,
     "metadata": {},
     "output_type": "execute_result"
    }
   ],
   "source": [
    "df.head()"
   ]
  },
  {
   "cell_type": "code",
   "execution_count": null,
   "metadata": {
    "collapsed": true
   },
   "outputs": [],
   "source": []
  }
 ],
 "metadata": {
  "anaconda-cloud": {},
  "kernelspec": {
   "display_name": "Python 3",
   "language": "python",
   "name": "python3"
  },
  "language_info": {
   "codemirror_mode": {
    "name": "ipython",
    "version": 3
   },
   "file_extension": ".py",
   "mimetype": "text/x-python",
   "name": "python",
   "nbconvert_exporter": "python",
   "pygments_lexer": "ipython3",
   "version": "3.6.5"
  }
 },
 "nbformat": 4,
 "nbformat_minor": 2
}
