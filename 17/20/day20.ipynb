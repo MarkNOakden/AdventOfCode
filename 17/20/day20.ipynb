{
 "cells": [
  {
   "cell_type": "code",
   "execution_count": 1,
   "metadata": {},
   "outputs": [],
   "source": [
    "import pandas as pd\n",
    "import numpy as np\n",
    "import re"
   ]
  },
  {
   "cell_type": "markdown",
   "metadata": {},
   "source": [
    "# recurrence relation\n",
    "$$\\vec{p}_n = \\vec{p}_0 + n\\vec{v}_0 + \\sum_{i=1}^{n}i\\vec{a}_0$$\n",
    "\n",
    "$$\\vec{p}_n = \\vec{p}_0 + n\\vec{v}_0 +\\frac{n(n+1)}{2}\\vec{a}_0$$"
   ]
  },
  {
   "cell_type": "code",
   "execution_count": 2,
   "metadata": {},
   "outputs": [],
   "source": [
    "test_data='''p=< 3,0,0>, v=< 2,0,0>, a=<-1,0,0>\n",
    "p=< 4,0,0>, v=< 0,0,0>, a=<-2,0,0>'''.splitlines()\n",
    "real_data = open('input.txt').readlines()"
   ]
  },
  {
   "cell_type": "code",
   "execution_count": 3,
   "metadata": {},
   "outputs": [],
   "source": [
    "parser = re.compile(r'(.=<([^,]+),([^,]+),([^,])+>(, )?)(.=<([^,]+),([^,]+),([^,])+>(, )?)(.=<([^,]+),([^,]+),([^,])+>(, )?)')"
   ]
  },
  {
   "cell_type": "code",
   "execution_count": 4,
   "metadata": {},
   "outputs": [],
   "source": [
    "def parse_lines(lines):\n",
    "    p = []\n",
    "    v = []\n",
    "    a = []\n",
    "    for line in lines:\n",
    "        l = parser.match(line)\n",
    "        if l:\n",
    "            p.append(list(map(int,l.group(2, 3, 4))))\n",
    "            v.append(list(map(int,l.group(7, 8, 9))))\n",
    "            a.append(list(map(int,l.group(12, 13, 14))))\n",
    "    return map(lambda x: np.array(x, dtype=np.int64), [p, v, a]) # , dtype=np.float64"
   ]
  },
  {
   "cell_type": "code",
   "execution_count": 5,
   "metadata": {},
   "outputs": [],
   "source": [
    "def manhattan(v):\n",
    "    return abs(v).sum(axis=1)\n",
    "\n",
    "def norm2(v):\n",
    "    return (v**2).sum(axis=1)"
   ]
  },
  {
   "cell_type": "code",
   "execution_count": 6,
   "metadata": {},
   "outputs": [],
   "source": [
    "# p, v, a = parse_lines(real_data)\n",
    "p0, v0, a0 = parse_lines(real_data)\n",
    "# n = 100000\n",
    "# for i in range(n):\n",
    "#     v = v + a\n",
    "#     p = p + v"
   ]
  },
  {
   "cell_type": "code",
   "execution_count": 7,
   "metadata": {},
   "outputs": [],
   "source": [
    "# def p_i(n):\n",
    "#     return p0 + n*v0 + (n*(n+1)*a)/2\n",
    "\n",
    "# np.where(manhattan(p_i(n*1000000)) == manhattan(p_i(n*1000000)).min())"
   ]
  },
  {
   "cell_type": "markdown",
   "metadata": {},
   "source": [
    "# Part 1 - doesn't acceleration just win out?"
   ]
  },
  {
   "cell_type": "markdown",
   "metadata": {},
   "source": [
    "particles `[ 21, 159, 285, 442, 457]` have the equal lowest acceleration.\n",
    "\n",
    "particle 457 starts nearest the origin and moves slowest at the beginning (all of these particles are have a component of their velocity in the same direction as their respective accelerations, i.e. none is currently slowing)\n",
    "\n",
    "therefore the part 1 answer is 457"
   ]
  },
  {
   "cell_type": "code",
   "execution_count": 9,
   "metadata": {},
   "outputs": [],
   "source": [
    "test_data2 = '''p=<-6,0,0>, v=< 3,0,0>, a=< 0,0,0>    \n",
    "p=<-4,0,0>, v=< 2,0,0>, a=< 0,0,0>\n",
    "p=<-2,0,0>, v=< 1,0,0>, a=< 0,0,0>\n",
    "p=< 3,0,0>, v=<-1,0,0>, a=< 0,0,0>'''.splitlines()"
   ]
  },
  {
   "cell_type": "code",
   "execution_count": 10,
   "metadata": {},
   "outputs": [],
   "source": [
    "#p0, v0, a0 = parse_lines(test_data2)\n",
    "p0, v0, a0 = parse_lines(real_data)"
   ]
  },
  {
   "cell_type": "markdown",
   "metadata": {},
   "source": [
    "## separate dataframes for $\\vec{p}$, $\\vec{v}$ and $\\vec{a}$"
   ]
  },
  {
   "cell_type": "code",
   "execution_count": 11,
   "metadata": {},
   "outputs": [],
   "source": [
    "iters = 0\n",
    "p, v, a = map(pd.DataFrame, [p0, v0, a0])\n",
    "lastcount = len(p) + 1"
   ]
  },
  {
   "cell_type": "code",
   "execution_count": 12,
   "metadata": {},
   "outputs": [
    {
     "name": "stdout",
     "output_type": "stream",
     "text": [
      "iteration        0\n",
      "iteration        1: count = 1000\n",
      "iteration       10: count = 998\n",
      "iteration       18: count = 996\n",
      "iteration       35: count = 994\n",
      "iteration       36: count = 992\n"
     ]
    }
   ],
   "source": [
    "while iters < 100:\n",
    "    if iters % 10000 == 0:\n",
    "        print(f'iteration {iters:8}')\n",
    "    v = v + a\n",
    "    p = p + v\n",
    "    mask = ~p.duplicated(keep=False)\n",
    "    v = v[mask].reset_index(drop=True)\n",
    "    a = a[mask].reset_index(drop=True)\n",
    "    p = p[mask].reset_index(drop=True)\n",
    "    count = len(p)\n",
    "    iters += 1\n",
    "    if count != lastcount:\n",
    "        print(f'iteration {iters:8}: count = {count}', flush=True)\n",
    "        lastcount = count\n",
    "\n"
   ]
  },
  {
   "cell_type": "code",
   "execution_count": 13,
   "metadata": {},
   "outputs": [
    {
     "data": {
      "text/plain": [
       "992"
      ]
     },
     "execution_count": 13,
     "metadata": {},
     "output_type": "execute_result"
    }
   ],
   "source": [
    "len(p)"
   ]
  },
  {
   "cell_type": "code",
   "execution_count": null,
   "metadata": {},
   "outputs": [],
   "source": []
  },
  {
   "cell_type": "code",
   "execution_count": null,
   "metadata": {},
   "outputs": [],
   "source": []
  },
  {
   "cell_type": "code",
   "execution_count": null,
   "metadata": {},
   "outputs": [],
   "source": []
  },
  {
   "cell_type": "code",
   "execution_count": null,
   "metadata": {},
   "outputs": [],
   "source": []
  },
  {
   "cell_type": "code",
   "execution_count": null,
   "metadata": {},
   "outputs": [],
   "source": []
  },
  {
   "cell_type": "markdown",
   "metadata": {},
   "source": [
    "particles `[ 21, 159, 285, 442, 457]` have the equal lowest acceleration.\n",
    "\n",
    "particle 457 starts nearest the origin and moves slowest at the beginning\n",
    "\n",
    "therefore the part 1 answer is 457"
   ]
  },
  {
   "cell_type": "code",
   "execution_count": null,
   "metadata": {},
   "outputs": [],
   "source": []
  },
  {
   "cell_type": "code",
   "execution_count": null,
   "metadata": {},
   "outputs": [],
   "source": []
  },
  {
   "cell_type": "markdown",
   "metadata": {},
   "source": [
    "## single dataframe for $\\vec{p}$, $\\vec{v}$ and $\\vec{a}$"
   ]
  },
  {
   "cell_type": "code",
   "execution_count": 88,
   "metadata": {},
   "outputs": [],
   "source": [
    "p0, v0, a0 = parse_lines(real_data)\n",
    "\n",
    "\n",
    "sdf = pd.concat(map(pd.DataFrame, [p0, v0, a0]), axis=1, ignore_index=True)\n",
    "V = ['v0', 'v1', 'v2']\n",
    "A = ['a0', 'a1', 'a2']\n",
    "P = ['p0', 'p1', 'p2']\n",
    "\n",
    "sdf.columns = P + V + A\n"
   ]
  },
  {
   "cell_type": "code",
   "execution_count": 89,
   "metadata": {},
   "outputs": [
    {
     "data": {
      "text/html": [
       "<div>\n",
       "<style scoped>\n",
       "    .dataframe tbody tr th:only-of-type {\n",
       "        vertical-align: middle;\n",
       "    }\n",
       "\n",
       "    .dataframe tbody tr th {\n",
       "        vertical-align: top;\n",
       "    }\n",
       "\n",
       "    .dataframe thead th {\n",
       "        text-align: right;\n",
       "    }\n",
       "</style>\n",
       "<table border=\"1\" class=\"dataframe\">\n",
       "  <thead>\n",
       "    <tr style=\"text-align: right;\">\n",
       "      <th></th>\n",
       "      <th>p0</th>\n",
       "      <th>p1</th>\n",
       "      <th>p2</th>\n",
       "      <th>v0</th>\n",
       "      <th>v1</th>\n",
       "      <th>v2</th>\n",
       "      <th>a0</th>\n",
       "      <th>a1</th>\n",
       "      <th>a2</th>\n",
       "    </tr>\n",
       "  </thead>\n",
       "  <tbody>\n",
       "    <tr>\n",
       "      <th>0</th>\n",
       "      <td>-833</td>\n",
       "      <td>-499</td>\n",
       "      <td>1</td>\n",
       "      <td>84</td>\n",
       "      <td>17</td>\n",
       "      <td>1</td>\n",
       "      <td>-4</td>\n",
       "      <td>1</td>\n",
       "      <td>1</td>\n",
       "    </tr>\n",
       "    <tr>\n",
       "      <th>1</th>\n",
       "      <td>-168</td>\n",
       "      <td>3586</td>\n",
       "      <td>1</td>\n",
       "      <td>-61</td>\n",
       "      <td>-58</td>\n",
       "      <td>1</td>\n",
       "      <td>7</td>\n",
       "      <td>-13</td>\n",
       "      <td>8</td>\n",
       "    </tr>\n",
       "    <tr>\n",
       "      <th>2</th>\n",
       "      <td>364</td>\n",
       "      <td>223</td>\n",
       "      <td>7</td>\n",
       "      <td>31</td>\n",
       "      <td>-11</td>\n",
       "      <td>1</td>\n",
       "      <td>-5</td>\n",
       "      <td>0</td>\n",
       "      <td>3</td>\n",
       "    </tr>\n",
       "    <tr>\n",
       "      <th>3</th>\n",
       "      <td>769</td>\n",
       "      <td>-854</td>\n",
       "      <td>5</td>\n",
       "      <td>-20</td>\n",
       "      <td>4</td>\n",
       "      <td>4</td>\n",
       "      <td>0</td>\n",
       "      <td>1</td>\n",
       "      <td>9</td>\n",
       "    </tr>\n",
       "    <tr>\n",
       "      <th>4</th>\n",
       "      <td>6985</td>\n",
       "      <td>-3666</td>\n",
       "      <td>3</td>\n",
       "      <td>-112</td>\n",
       "      <td>99</td>\n",
       "      <td>3</td>\n",
       "      <td>-4</td>\n",
       "      <td>0</td>\n",
       "      <td>4</td>\n",
       "    </tr>\n",
       "  </tbody>\n",
       "</table>\n",
       "</div>"
      ],
      "text/plain": [
       "     p0    p1  p2   v0  v1  v2  a0  a1  a2\n",
       "0  -833  -499   1   84  17   1  -4   1   1\n",
       "1  -168  3586   1  -61 -58   1   7 -13   8\n",
       "2   364   223   7   31 -11   1  -5   0   3\n",
       "3   769  -854   5  -20   4   4   0   1   9\n",
       "4  6985 -3666   3 -112  99   3  -4   0   4"
      ]
     },
     "execution_count": 89,
     "metadata": {},
     "output_type": "execute_result"
    }
   ],
   "source": [
    "sdf.head()"
   ]
  },
  {
   "cell_type": "code",
   "execution_count": 90,
   "metadata": {},
   "outputs": [],
   "source": [
    "from IPython.display import display, HTML\n",
    "iters = 0\n",
    "lastcount = len(sdf)+1 # set higher than he length, so that the count will be displayed on the first iteration\n"
   ]
  },
  {
   "cell_type": "code",
   "execution_count": 91,
   "metadata": {},
   "outputs": [
    {
     "name": "stdout",
     "output_type": "stream",
     "text": [
      "iteration        1: count = 1000\n"
     ]
    },
    {
     "data": {
      "text/html": [
       "Collision between particles:"
      ],
      "text/plain": [
       "<IPython.core.display.HTML object>"
      ]
     },
     "metadata": {},
     "output_type": "display_data"
    },
    {
     "data": {
      "text/html": [
       "<div>\n",
       "<style scoped>\n",
       "    .dataframe tbody tr th:only-of-type {\n",
       "        vertical-align: middle;\n",
       "    }\n",
       "\n",
       "    .dataframe tbody tr th {\n",
       "        vertical-align: top;\n",
       "    }\n",
       "\n",
       "    .dataframe thead th {\n",
       "        text-align: right;\n",
       "    }\n",
       "</style>\n",
       "<table border=\"1\" class=\"dataframe\">\n",
       "  <thead>\n",
       "    <tr style=\"text-align: right;\">\n",
       "      <th></th>\n",
       "      <th>p0</th>\n",
       "      <th>p1</th>\n",
       "      <th>p2</th>\n",
       "      <th>v0</th>\n",
       "      <th>v1</th>\n",
       "      <th>v2</th>\n",
       "      <th>a0</th>\n",
       "      <th>a1</th>\n",
       "      <th>a2</th>\n",
       "    </tr>\n",
       "  </thead>\n",
       "  <tbody>\n",
       "    <tr>\n",
       "      <th>395</th>\n",
       "      <td>13</td>\n",
       "      <td>-27</td>\n",
       "      <td>530</td>\n",
       "      <td>106</td>\n",
       "      <td>-185</td>\n",
       "      <td>89</td>\n",
       "      <td>4</td>\n",
       "      <td>-17</td>\n",
       "      <td>8</td>\n",
       "    </tr>\n",
       "    <tr>\n",
       "      <th>401</th>\n",
       "      <td>13</td>\n",
       "      <td>-27</td>\n",
       "      <td>530</td>\n",
       "      <td>-103</td>\n",
       "      <td>-6</td>\n",
       "      <td>89</td>\n",
       "      <td>-2</td>\n",
       "      <td>-11</td>\n",
       "      <td>8</td>\n",
       "    </tr>\n",
       "  </tbody>\n",
       "</table>\n",
       "</div>"
      ],
      "text/plain": [
       "     p0  p1   p2   v0   v1  v2  a0  a1  a2\n",
       "395  13 -27  530  106 -185  89   4 -17   8\n",
       "401  13 -27  530 -103   -6  89  -2 -11   8"
      ]
     },
     "metadata": {},
     "output_type": "display_data"
    },
    {
     "name": "stdout",
     "output_type": "stream",
     "text": [
      "iteration       10: count = 998\n"
     ]
    },
    {
     "data": {
      "text/html": [
       "Collision between particles:"
      ],
      "text/plain": [
       "<IPython.core.display.HTML object>"
      ]
     },
     "metadata": {},
     "output_type": "display_data"
    },
    {
     "data": {
      "text/html": [
       "<div>\n",
       "<style scoped>\n",
       "    .dataframe tbody tr th:only-of-type {\n",
       "        vertical-align: middle;\n",
       "    }\n",
       "\n",
       "    .dataframe tbody tr th {\n",
       "        vertical-align: top;\n",
       "    }\n",
       "\n",
       "    .dataframe thead th {\n",
       "        text-align: right;\n",
       "    }\n",
       "</style>\n",
       "<table border=\"1\" class=\"dataframe\">\n",
       "  <thead>\n",
       "    <tr style=\"text-align: right;\">\n",
       "      <th></th>\n",
       "      <th>p0</th>\n",
       "      <th>p1</th>\n",
       "      <th>p2</th>\n",
       "      <th>v0</th>\n",
       "      <th>v1</th>\n",
       "      <th>v2</th>\n",
       "      <th>a0</th>\n",
       "      <th>a1</th>\n",
       "      <th>a2</th>\n",
       "    </tr>\n",
       "  </thead>\n",
       "  <tbody>\n",
       "    <tr>\n",
       "      <th>306</th>\n",
       "      <td>30</td>\n",
       "      <td>-14</td>\n",
       "      <td>728</td>\n",
       "      <td>-9</td>\n",
       "      <td>182</td>\n",
       "      <td>74</td>\n",
       "      <td>1</td>\n",
       "      <td>14</td>\n",
       "      <td>4</td>\n",
       "    </tr>\n",
       "    <tr>\n",
       "      <th>314</th>\n",
       "      <td>30</td>\n",
       "      <td>-14</td>\n",
       "      <td>728</td>\n",
       "      <td>-144</td>\n",
       "      <td>12</td>\n",
       "      <td>74</td>\n",
       "      <td>-12</td>\n",
       "      <td>5</td>\n",
       "      <td>4</td>\n",
       "    </tr>\n",
       "  </tbody>\n",
       "</table>\n",
       "</div>"
      ],
      "text/plain": [
       "     p0  p1   p2   v0   v1  v2  a0  a1  a2\n",
       "306  30 -14  728   -9  182  74   1  14   4\n",
       "314  30 -14  728 -144   12  74 -12   5   4"
      ]
     },
     "metadata": {},
     "output_type": "display_data"
    },
    {
     "name": "stdout",
     "output_type": "stream",
     "text": [
      "iteration       18: count = 996\n"
     ]
    },
    {
     "data": {
      "text/html": [
       "Collision between particles:"
      ],
      "text/plain": [
       "<IPython.core.display.HTML object>"
      ]
     },
     "metadata": {},
     "output_type": "display_data"
    },
    {
     "data": {
      "text/html": [
       "<div>\n",
       "<style scoped>\n",
       "    .dataframe tbody tr th:only-of-type {\n",
       "        vertical-align: middle;\n",
       "    }\n",
       "\n",
       "    .dataframe tbody tr th {\n",
       "        vertical-align: top;\n",
       "    }\n",
       "\n",
       "    .dataframe thead th {\n",
       "        text-align: right;\n",
       "    }\n",
       "</style>\n",
       "<table border=\"1\" class=\"dataframe\">\n",
       "  <thead>\n",
       "    <tr style=\"text-align: right;\">\n",
       "      <th></th>\n",
       "      <th>p0</th>\n",
       "      <th>p1</th>\n",
       "      <th>p2</th>\n",
       "      <th>v0</th>\n",
       "      <th>v1</th>\n",
       "      <th>v2</th>\n",
       "      <th>a0</th>\n",
       "      <th>a1</th>\n",
       "      <th>a2</th>\n",
       "    </tr>\n",
       "  </thead>\n",
       "  <tbody>\n",
       "    <tr>\n",
       "      <th>467</th>\n",
       "      <td>-8</td>\n",
       "      <td>-15</td>\n",
       "      <td>700</td>\n",
       "      <td>-338</td>\n",
       "      <td>-361</td>\n",
       "      <td>37</td>\n",
       "      <td>-11</td>\n",
       "      <td>-7</td>\n",
       "      <td>1</td>\n",
       "    </tr>\n",
       "    <tr>\n",
       "      <th>469</th>\n",
       "      <td>-8</td>\n",
       "      <td>-15</td>\n",
       "      <td>700</td>\n",
       "      <td>547</td>\n",
       "      <td>231</td>\n",
       "      <td>37</td>\n",
       "      <td>15</td>\n",
       "      <td>6</td>\n",
       "      <td>1</td>\n",
       "    </tr>\n",
       "  </tbody>\n",
       "</table>\n",
       "</div>"
      ],
      "text/plain": [
       "     p0  p1   p2   v0   v1  v2  a0  a1  a2\n",
       "467  -8 -15  700 -338 -361  37 -11  -7   1\n",
       "469  -8 -15  700  547  231  37  15   6   1"
      ]
     },
     "metadata": {},
     "output_type": "display_data"
    },
    {
     "name": "stdout",
     "output_type": "stream",
     "text": [
      "iteration       35: count = 994\n"
     ]
    },
    {
     "data": {
      "text/html": [
       "Collision between particles:"
      ],
      "text/plain": [
       "<IPython.core.display.HTML object>"
      ]
     },
     "metadata": {},
     "output_type": "display_data"
    },
    {
     "data": {
      "text/html": [
       "<div>\n",
       "<style scoped>\n",
       "    .dataframe tbody tr th:only-of-type {\n",
       "        vertical-align: middle;\n",
       "    }\n",
       "\n",
       "    .dataframe tbody tr th {\n",
       "        vertical-align: top;\n",
       "    }\n",
       "\n",
       "    .dataframe thead th {\n",
       "        text-align: right;\n",
       "    }\n",
       "</style>\n",
       "<table border=\"1\" class=\"dataframe\">\n",
       "  <thead>\n",
       "    <tr style=\"text-align: right;\">\n",
       "      <th></th>\n",
       "      <th>p0</th>\n",
       "      <th>p1</th>\n",
       "      <th>p2</th>\n",
       "      <th>v0</th>\n",
       "      <th>v1</th>\n",
       "      <th>v2</th>\n",
       "      <th>a0</th>\n",
       "      <th>a1</th>\n",
       "      <th>a2</th>\n",
       "    </tr>\n",
       "  </thead>\n",
       "  <tbody>\n",
       "    <tr>\n",
       "      <th>212</th>\n",
       "      <td>-49</td>\n",
       "      <td>33</td>\n",
       "      <td>72</td>\n",
       "      <td>-299</td>\n",
       "      <td>72</td>\n",
       "      <td>2</td>\n",
       "      <td>-8</td>\n",
       "      <td>4</td>\n",
       "      <td>0</td>\n",
       "    </tr>\n",
       "    <tr>\n",
       "      <th>213</th>\n",
       "      <td>-49</td>\n",
       "      <td>33</td>\n",
       "      <td>72</td>\n",
       "      <td>-278</td>\n",
       "      <td>-148</td>\n",
       "      <td>2</td>\n",
       "      <td>-9</td>\n",
       "      <td>-1</td>\n",
       "      <td>0</td>\n",
       "    </tr>\n",
       "  </tbody>\n",
       "</table>\n",
       "</div>"
      ],
      "text/plain": [
       "     p0  p1  p2   v0   v1  v2  a0  a1  a2\n",
       "212 -49  33  72 -299   72   2  -8   4   0\n",
       "213 -49  33  72 -278 -148   2  -9  -1   0"
      ]
     },
     "metadata": {},
     "output_type": "display_data"
    },
    {
     "name": "stdout",
     "output_type": "stream",
     "text": [
      "iteration       36: count = 992\n"
     ]
    }
   ],
   "source": [
    "#display(sdf)\n",
    "while iters < 100:\n",
    "    sdf.loc[:, V] += sdf.loc[:, A].rename(columns=dict(zip(A, V)))\n",
    "    sdf.loc[:, P] += sdf.loc[:, V].rename(columns=dict(zip(V, P)))\n",
    "    #display(sdf)\n",
    "    mask = ~sdf.duplicated(subset=P, keep=False) # keep = False == don't include ANY dupes in output\n",
    "    if sum(~mask) != 0:\n",
    "        display(HTML('Collision between particles:'))\n",
    "        display(sdf[~mask])\n",
    "    sdf = sdf[mask].reset_index(drop=True)\n",
    "    count = len(sdf)\n",
    "    iters += 1\n",
    "    if count != lastcount:\n",
    "        print(f'iteration {iters:8}: count = {count}', flush=True)\n",
    "        lastcount = count\n"
   ]
  },
  {
   "cell_type": "code",
   "execution_count": 61,
   "metadata": {},
   "outputs": [
    {
     "data": {
      "text/plain": [
       "100"
      ]
     },
     "execution_count": 61,
     "metadata": {},
     "output_type": "execute_result"
    }
   ],
   "source": [
    "iters"
   ]
  },
  {
   "cell_type": "code",
   "execution_count": 62,
   "metadata": {},
   "outputs": [
    {
     "data": {
      "text/plain": [
       "992"
      ]
     },
     "execution_count": 62,
     "metadata": {},
     "output_type": "execute_result"
    }
   ],
   "source": [
    "mask.sum()"
   ]
  },
  {
   "cell_type": "code",
   "execution_count": 63,
   "metadata": {},
   "outputs": [],
   "source": [
    "sdf.loc[:, V] = sdf.loc[:, V] + sdf.loc[:, A].rename(columns=dict(zip(A, V)))\n",
    "sdf.loc[:, P] = sdf.loc[:, P] + sdf.loc[:, V].rename(columns=dict(zip(V, P)))\n",
    "#display(sdf)\n",
    "mask = ~sdf.duplicated(subset=P, keep=False) # keep = False == don't include ANY dupes in output\n"
   ]
  },
  {
   "cell_type": "code",
   "execution_count": 64,
   "metadata": {},
   "outputs": [
    {
     "data": {
      "text/plain": [
       "992"
      ]
     },
     "execution_count": 64,
     "metadata": {},
     "output_type": "execute_result"
    }
   ],
   "source": [
    "mask.sum()"
   ]
  },
  {
   "cell_type": "code",
   "execution_count": 65,
   "metadata": {},
   "outputs": [
    {
     "data": {
      "text/html": [
       "<div>\n",
       "<style scoped>\n",
       "    .dataframe tbody tr th:only-of-type {\n",
       "        vertical-align: middle;\n",
       "    }\n",
       "\n",
       "    .dataframe tbody tr th {\n",
       "        vertical-align: top;\n",
       "    }\n",
       "\n",
       "    .dataframe thead th {\n",
       "        text-align: right;\n",
       "    }\n",
       "</style>\n",
       "<table border=\"1\" class=\"dataframe\">\n",
       "  <thead>\n",
       "    <tr style=\"text-align: right;\">\n",
       "      <th></th>\n",
       "      <th>p0</th>\n",
       "      <th>p1</th>\n",
       "      <th>p2</th>\n",
       "      <th>v0</th>\n",
       "      <th>v1</th>\n",
       "      <th>v2</th>\n",
       "      <th>a0</th>\n",
       "      <th>a1</th>\n",
       "      <th>a2</th>\n",
       "    </tr>\n",
       "  </thead>\n",
       "  <tbody>\n",
       "  </tbody>\n",
       "</table>\n",
       "</div>"
      ],
      "text/plain": [
       "Empty DataFrame\n",
       "Columns: [p0, p1, p2, v0, v1, v2, a0, a1, a2]\n",
       "Index: []"
      ]
     },
     "execution_count": 65,
     "metadata": {},
     "output_type": "execute_result"
    }
   ],
   "source": [
    "sdf[~mask]"
   ]
  },
  {
   "cell_type": "code",
   "execution_count": 66,
   "metadata": {},
   "outputs": [
    {
     "data": {
      "text/html": [
       "<div>\n",
       "<style scoped>\n",
       "    .dataframe tbody tr th:only-of-type {\n",
       "        vertical-align: middle;\n",
       "    }\n",
       "\n",
       "    .dataframe tbody tr th {\n",
       "        vertical-align: top;\n",
       "    }\n",
       "\n",
       "    .dataframe thead th {\n",
       "        text-align: right;\n",
       "    }\n",
       "</style>\n",
       "<table border=\"1\" class=\"dataframe\">\n",
       "  <thead>\n",
       "    <tr style=\"text-align: right;\">\n",
       "      <th></th>\n",
       "      <th>p0</th>\n",
       "      <th>p1</th>\n",
       "      <th>p2</th>\n",
       "      <th>v0</th>\n",
       "      <th>v1</th>\n",
       "      <th>v2</th>\n",
       "      <th>a0</th>\n",
       "      <th>a1</th>\n",
       "      <th>a2</th>\n",
       "    </tr>\n",
       "  </thead>\n",
       "  <tbody>\n",
       "    <tr>\n",
       "      <th>460</th>\n",
       "      <td>8189</td>\n",
       "      <td>-38966</td>\n",
       "      <td>31415</td>\n",
       "      <td>90</td>\n",
       "      <td>-788</td>\n",
       "      <td>611</td>\n",
       "      <td>0</td>\n",
       "      <td>-8</td>\n",
       "      <td>6</td>\n",
       "    </tr>\n",
       "    <tr>\n",
       "      <th>461</th>\n",
       "      <td>12648</td>\n",
       "      <td>-10301</td>\n",
       "      <td>36874</td>\n",
       "      <td>319</td>\n",
       "      <td>-248</td>\n",
       "      <td>715</td>\n",
       "      <td>4</td>\n",
       "      <td>-3</td>\n",
       "      <td>7</td>\n",
       "    </tr>\n",
       "    <tr>\n",
       "      <th>462</th>\n",
       "      <td>12648</td>\n",
       "      <td>-24497</td>\n",
       "      <td>26673</td>\n",
       "      <td>229</td>\n",
       "      <td>-449</td>\n",
       "      <td>514</td>\n",
       "      <td>2</td>\n",
       "      <td>-4</td>\n",
       "      <td>5</td>\n",
       "    </tr>\n",
       "    <tr>\n",
       "      <th>463</th>\n",
       "      <td>8826</td>\n",
       "      <td>-14214</td>\n",
       "      <td>36773</td>\n",
       "      <td>97</td>\n",
       "      <td>-156</td>\n",
       "      <td>714</td>\n",
       "      <td>0</td>\n",
       "      <td>0</td>\n",
       "      <td>7</td>\n",
       "    </tr>\n",
       "    <tr>\n",
       "      <th>464</th>\n",
       "      <td>-89636</td>\n",
       "      <td>1347</td>\n",
       "      <td>11114</td>\n",
       "      <td>-1705</td>\n",
       "      <td>15</td>\n",
       "      <td>210</td>\n",
       "      <td>-16</td>\n",
       "      <td>0</td>\n",
       "      <td>2</td>\n",
       "    </tr>\n",
       "    <tr>\n",
       "      <th>465</th>\n",
       "      <td>223</td>\n",
       "      <td>17376</td>\n",
       "      <td>30906</td>\n",
       "      <td>36</td>\n",
       "      <td>361</td>\n",
       "      <td>606</td>\n",
       "      <td>1</td>\n",
       "      <td>3</td>\n",
       "      <td>6</td>\n",
       "    </tr>\n",
       "    <tr>\n",
       "      <th>466</th>\n",
       "      <td>45202</td>\n",
       "      <td>-6087</td>\n",
       "      <td>11014</td>\n",
       "      <td>1010</td>\n",
       "      <td>-92</td>\n",
       "      <td>209</td>\n",
       "      <td>10</td>\n",
       "      <td>0</td>\n",
       "      <td>2</td>\n",
       "    </tr>\n",
       "    <tr>\n",
       "      <th>467</th>\n",
       "      <td>-23933</td>\n",
       "      <td>1437</td>\n",
       "      <td>6065</td>\n",
       "      <td>-525</td>\n",
       "      <td>22</td>\n",
       "      <td>110</td>\n",
       "      <td>-5</td>\n",
       "      <td>0</td>\n",
       "      <td>1</td>\n",
       "    </tr>\n",
       "    <tr>\n",
       "      <th>468</th>\n",
       "      <td>57940</td>\n",
       "      <td>-6054</td>\n",
       "      <td>606</td>\n",
       "      <td>1333</td>\n",
       "      <td>-189</td>\n",
       "      <td>6</td>\n",
       "      <td>14</td>\n",
       "      <td>-3</td>\n",
       "      <td>0</td>\n",
       "    </tr>\n",
       "    <tr>\n",
       "      <th>469</th>\n",
       "      <td>-22547</td>\n",
       "      <td>33975</td>\n",
       "      <td>42122</td>\n",
       "      <td>-439</td>\n",
       "      <td>775</td>\n",
       "      <td>817</td>\n",
       "      <td>-3</td>\n",
       "      <td>8</td>\n",
       "      <td>8</td>\n",
       "    </tr>\n",
       "    <tr>\n",
       "      <th>470</th>\n",
       "      <td>48733</td>\n",
       "      <td>-2523</td>\n",
       "      <td>36865</td>\n",
       "      <td>1096</td>\n",
       "      <td>-38</td>\n",
       "      <td>715</td>\n",
       "      <td>11</td>\n",
       "      <td>0</td>\n",
       "      <td>7</td>\n",
       "    </tr>\n",
       "    <tr>\n",
       "      <th>471</th>\n",
       "      <td>-22580</td>\n",
       "      <td>-46413</td>\n",
       "      <td>404</td>\n",
       "      <td>-537</td>\n",
       "      <td>-1028</td>\n",
       "      <td>4</td>\n",
       "      <td>-6</td>\n",
       "      <td>-10</td>\n",
       "      <td>0</td>\n",
       "    </tr>\n",
       "    <tr>\n",
       "      <th>472</th>\n",
       "      <td>-11587</td>\n",
       "      <td>-18442</td>\n",
       "      <td>25862</td>\n",
       "      <td>-338</td>\n",
       "      <td>-324</td>\n",
       "      <td>506</td>\n",
       "      <td>-5</td>\n",
       "      <td>-2</td>\n",
       "      <td>5</td>\n",
       "    </tr>\n",
       "    <tr>\n",
       "      <th>473</th>\n",
       "      <td>-34363</td>\n",
       "      <td>-51876</td>\n",
       "      <td>26268</td>\n",
       "      <td>-758</td>\n",
       "      <td>-1106</td>\n",
       "      <td>510</td>\n",
       "      <td>-8</td>\n",
       "      <td>-11</td>\n",
       "      <td>5</td>\n",
       "    </tr>\n",
       "    <tr>\n",
       "      <th>474</th>\n",
       "      <td>-4214</td>\n",
       "      <td>-20267</td>\n",
       "      <td>309</td>\n",
       "      <td>-57</td>\n",
       "      <td>-421</td>\n",
       "      <td>3</td>\n",
       "      <td>0</td>\n",
       "      <td>-4</td>\n",
       "      <td>0</td>\n",
       "    </tr>\n",
       "  </tbody>\n",
       "</table>\n",
       "</div>"
      ],
      "text/plain": [
       "        p0     p1     p2    v0    v1   v2  a0  a1  a2\n",
       "460   8189 -38966  31415    90  -788  611   0  -8   6\n",
       "461  12648 -10301  36874   319  -248  715   4  -3   7\n",
       "462  12648 -24497  26673   229  -449  514   2  -4   5\n",
       "463   8826 -14214  36773    97  -156  714   0   0   7\n",
       "464 -89636   1347  11114 -1705    15  210 -16   0   2\n",
       "465    223  17376  30906    36   361  606   1   3   6\n",
       "466  45202  -6087  11014  1010   -92  209  10   0   2\n",
       "467 -23933   1437   6065  -525    22  110  -5   0   1\n",
       "468  57940  -6054    606  1333  -189    6  14  -3   0\n",
       "469 -22547  33975  42122  -439   775  817  -3   8   8\n",
       "470  48733  -2523  36865  1096   -38  715  11   0   7\n",
       "471 -22580 -46413    404  -537 -1028    4  -6 -10   0\n",
       "472 -11587 -18442  25862  -338  -324  506  -5  -2   5\n",
       "473 -34363 -51876  26268  -758 -1106  510  -8 -11   5\n",
       "474  -4214 -20267    309   -57  -421    3   0  -4   0"
      ]
     },
     "execution_count": 66,
     "metadata": {},
     "output_type": "execute_result"
    }
   ],
   "source": [
    "sdf[460:475]"
   ]
  },
  {
   "cell_type": "code",
   "execution_count": 67,
   "metadata": {},
   "outputs": [],
   "source": [
    "iters += 1\n",
    "sdf = sdf[mask].reset_index(drop=True)"
   ]
  },
  {
   "cell_type": "code",
   "execution_count": 68,
   "metadata": {},
   "outputs": [
    {
     "data": {
      "text/plain": [
       "992"
      ]
     },
     "execution_count": 68,
     "metadata": {},
     "output_type": "execute_result"
    }
   ],
   "source": [
    "len(sdf)"
   ]
  },
  {
   "cell_type": "markdown",
   "metadata": {},
   "source": [
    "two particles $P$ and $P'$ with parameters $\\{\\vec{p}, \\vec{v}, \\vec{a}\\}$ and $\\{\\vec{p'}, \\vec{v'}, \\vec{a'}\\}$ collide at time n, if and only if the following are equal:\n",
    "\n",
    "$$\\vec{p}_n = \\vec{p}_0 + n\\vec{v}_0 +\\frac{n(n+1)}{2}\\vec{a}_0$$\n",
    "\n",
    "$$\\vec{p'}_n = \\vec{p'}_0 + n\\vec{v'}_0 +\\frac{n(n+1)}{2}\\vec{a'}_0$$\n",
    "\n",
    "i.e. if\n",
    "\n",
    "$$\\vec{p}_0 + n\\vec{v}_0 +\\frac{n(n+1)}{2}\\vec{a}_0 = \\vec{p'}_0 + n\\vec{v'}_0 +\\frac{n(n+1)}{2}\\vec{a'}_0$$\n",
    "\n",
    "$$(\\vec{p}_0 - \\vec{p'}_0) + n(\\vec{v}_0 - \\vec{v'}_0) + \\frac{n(n+1)}{2}(\\vec{a}_0 -\\vec{a'}_0) = 0$$"
   ]
  },
  {
   "cell_type": "code",
   "execution_count": null,
   "metadata": {},
   "outputs": [],
   "source": []
  }
 ],
 "metadata": {
  "kernelspec": {
   "display_name": "Python 3",
   "language": "python",
   "name": "python3"
  },
  "language_info": {
   "codemirror_mode": {
    "name": "ipython",
    "version": 3
   },
   "file_extension": ".py",
   "mimetype": "text/x-python",
   "name": "python",
   "nbconvert_exporter": "python",
   "pygments_lexer": "ipython3",
   "version": "3.6.3"
  }
 },
 "nbformat": 4,
 "nbformat_minor": 2
}
