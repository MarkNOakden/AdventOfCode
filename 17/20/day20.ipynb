{
 "cells": [
  {
   "cell_type": "code",
   "execution_count": 1,
   "metadata": {},
   "outputs": [],
   "source": [
    "import pandas as pd\n",
    "import numpy as np\n",
    "import re"
   ]
  },
  {
   "cell_type": "markdown",
   "metadata": {},
   "source": [
    "# recurrence relation\n",
    "$$p_n = p_0 + nv_0 + \\sum_{i=1}^{n}ia_0$$\n",
    "\n",
    "$$p_n = p_0 + nv_0 +\\frac{n(n+1)}{2}a_0$$"
   ]
  },
  {
   "cell_type": "code",
   "execution_count": 2,
   "metadata": {},
   "outputs": [],
   "source": [
    "test_data='''p=< 3,0,0>, v=< 2,0,0>, a=<-1,0,0>\n",
    "p=< 4,0,0>, v=< 0,0,0>, a=<-2,0,0>'''.splitlines()\n",
    "real_data = open('input.txt').readlines()"
   ]
  },
  {
   "cell_type": "code",
   "execution_count": 3,
   "metadata": {},
   "outputs": [],
   "source": [
    "parser = re.compile(r'(.=<([^,]+),([^,]+),([^,])+>(, )?)(.=<([^,]+),([^,]+),([^,])+>(, )?)(.=<([^,]+),([^,]+),([^,])+>(, )?)')"
   ]
  },
  {
   "cell_type": "code",
   "execution_count": 4,
   "metadata": {},
   "outputs": [],
   "source": [
    "def parse_lines(lines):\n",
    "    p = []\n",
    "    v = []\n",
    "    a = []\n",
    "    for line in lines:\n",
    "        l = parser.match(line)\n",
    "        if l:\n",
    "            p.append(list(map(int,l.group(2, 3, 4))))\n",
    "            v.append(list(map(int,l.group(7, 8, 9))))\n",
    "            a.append(list(map(int,l.group(12, 13, 14))))\n",
    "    return map(lambda x: np.array(x, dtype=np.int64), [p, v, a]) # , dtype=np.float64"
   ]
  },
  {
   "cell_type": "code",
   "execution_count": 5,
   "metadata": {},
   "outputs": [],
   "source": [
    "def manhattan(v):\n",
    "    return abs(v).sum(axis=1)\n",
    "\n",
    "def norm2(v):\n",
    "    return (v**2).sum(axis=1)"
   ]
  },
  {
   "cell_type": "code",
   "execution_count": 6,
   "metadata": {},
   "outputs": [],
   "source": [
    "# p, v, a = parse_lines(real_data)\n",
    "p0, v0, a0 = parse_lines(real_data)\n",
    "# n = 100000\n",
    "# for i in range(n):\n",
    "#     v = v + a\n",
    "#     p = p + v"
   ]
  },
  {
   "cell_type": "code",
   "execution_count": 7,
   "metadata": {},
   "outputs": [],
   "source": [
    "# def p_i(n):\n",
    "#     return p0 + n*v0 + (n*(n+1)*a)/2\n",
    "\n",
    "# np.where(manhattan(p_i(n*1000000)) == manhattan(p_i(n*1000000)).min())"
   ]
  },
  {
   "cell_type": "markdown",
   "metadata": {},
   "source": [
    "# Part 1 - doesn't acceleration just win out?"
   ]
  },
  {
   "cell_type": "markdown",
   "metadata": {},
   "source": [
    "particles `[ 21, 159, 285, 442, 457]` have the equal lowest acceleration.\n",
    "\n",
    "particle 457 starts nearest the origin and moves slowest at the beginning (all of these particles are have a component of their velocity in the same direction as their respective accelerations, i.e. none is currently slowing)\n",
    "\n",
    "therefore the part 1 answer is 457"
   ]
  },
  {
   "cell_type": "code",
   "execution_count": 8,
   "metadata": {},
   "outputs": [],
   "source": [
    "# def cull(a, c=None):\n",
    "#     '''If called without a second argument: remove duplicate elements from array, returning the new array and\n",
    "#     a list of the indices of the elements kept from the original array\n",
    "    \n",
    "#     If called with the second element, cull the array based on the indices of the second argument'''\n",
    "#     if c is None:\n",
    "#         arr, c = np.unique(a, axis=0, return_counts=True)\n",
    "#         out = arr[np.where(c == 1)]\n",
    "#         mask = np.all(np.where(np.isin(a, out)),axis=0)\n",
    "#         return out, mask\n",
    "#     else:\n",
    "#         out = a[c]\n",
    "#         return out, c\n"
   ]
  },
  {
   "cell_type": "code",
   "execution_count": 9,
   "metadata": {},
   "outputs": [],
   "source": [
    "test_data2 = '''p=<-6,0,0>, v=< 3,0,0>, a=< 0,0,0>    \n",
    "p=<-4,0,0>, v=< 2,0,0>, a=< 0,0,0>\n",
    "p=<-2,0,0>, v=< 1,0,0>, a=< 0,0,0>\n",
    "p=< 3,0,0>, v=<-1,0,0>, a=< 0,0,0>'''.splitlines()"
   ]
  },
  {
   "cell_type": "code",
   "execution_count": 10,
   "metadata": {},
   "outputs": [],
   "source": [
    "#p0, v0, a0 = parse_lines(test_data2)\n",
    "p0, v0, a0 = parse_lines(real_data)"
   ]
  },
  {
   "cell_type": "code",
   "execution_count": 11,
   "metadata": {},
   "outputs": [],
   "source": [
    "iters = 0\n",
    "p, v, a = map(pd.DataFrame, [p0, v0, a0])\n",
    "lastcount = len(p) + 1"
   ]
  },
  {
   "cell_type": "code",
   "execution_count": 12,
   "metadata": {},
   "outputs": [
    {
     "name": "stdout",
     "output_type": "stream",
     "text": [
      "iteration        0\n",
      "iteration        1: count = 1000\n",
      "iteration       10: count = 998\n",
      "iteration       18: count = 996\n",
      "iteration       35: count = 994\n",
      "iteration       36: count = 992\n"
     ]
    }
   ],
   "source": [
    "while iters < 100:\n",
    "    if iters % 10000 == 0:\n",
    "        print(f'iteration {iters:8}')\n",
    "    v = v + a\n",
    "    p = p + v\n",
    "    mask = ~p.duplicated(keep=False)\n",
    "    v = v[mask].reset_index(drop=True)\n",
    "    a = a[mask].reset_index(drop=True)\n",
    "    p = p[mask].reset_index(drop=True)\n",
    "    count = len(p)\n",
    "    iters += 1\n",
    "    if count != lastcount:\n",
    "        print(f'iteration {iters:8}: count = {count}', flush=True)\n",
    "        lastcount = count\n",
    "\n"
   ]
  },
  {
   "cell_type": "code",
   "execution_count": 13,
   "metadata": {},
   "outputs": [
    {
     "data": {
      "text/plain": [
       "992"
      ]
     },
     "execution_count": 13,
     "metadata": {},
     "output_type": "execute_result"
    }
   ],
   "source": [
    "len(p)"
   ]
  },
  {
   "cell_type": "code",
   "execution_count": null,
   "metadata": {},
   "outputs": [],
   "source": []
  },
  {
   "cell_type": "code",
   "execution_count": null,
   "metadata": {},
   "outputs": [],
   "source": []
  },
  {
   "cell_type": "code",
   "execution_count": null,
   "metadata": {},
   "outputs": [],
   "source": []
  },
  {
   "cell_type": "code",
   "execution_count": null,
   "metadata": {},
   "outputs": [],
   "source": []
  },
  {
   "cell_type": "code",
   "execution_count": null,
   "metadata": {},
   "outputs": [],
   "source": []
  },
  {
   "cell_type": "markdown",
   "metadata": {},
   "source": [
    "particles `[ 21, 159, 285, 442, 457]` have the equal lowest acceleration.\n",
    "\n",
    "particle 457 starts nearest the origin and moves slowest at the beginning\n",
    "\n",
    "therefore the part 1 answer is 457"
   ]
  },
  {
   "cell_type": "code",
   "execution_count": null,
   "metadata": {},
   "outputs": [],
   "source": []
  },
  {
   "cell_type": "code",
   "execution_count": null,
   "metadata": {},
   "outputs": [],
   "source": []
  },
  {
   "cell_type": "markdown",
   "metadata": {},
   "source": [
    "# Pandas version"
   ]
  },
  {
   "cell_type": "code",
   "execution_count": 14,
   "metadata": {},
   "outputs": [],
   "source": [
    "p0, v0, a0 = parse_lines(real_data)\n",
    "\n",
    "\n",
    "sdf = pd.concat(map(pd.DataFrame, [p0, v0, a0]), axis=1, ignore_index=True)\n",
    "V = ['v0', 'v1', 'v2']\n",
    "A = ['a0', 'a1', 'a2']\n",
    "P = ['p0', 'p1', 'p2']\n",
    "\n",
    "sdf.columns = P + V + A\n"
   ]
  },
  {
   "cell_type": "code",
   "execution_count": 15,
   "metadata": {},
   "outputs": [
    {
     "data": {
      "text/html": [
       "<div>\n",
       "<style scoped>\n",
       "    .dataframe tbody tr th:only-of-type {\n",
       "        vertical-align: middle;\n",
       "    }\n",
       "\n",
       "    .dataframe tbody tr th {\n",
       "        vertical-align: top;\n",
       "    }\n",
       "\n",
       "    .dataframe thead th {\n",
       "        text-align: right;\n",
       "    }\n",
       "</style>\n",
       "<table border=\"1\" class=\"dataframe\">\n",
       "  <thead>\n",
       "    <tr style=\"text-align: right;\">\n",
       "      <th></th>\n",
       "      <th>p0</th>\n",
       "      <th>p1</th>\n",
       "      <th>p2</th>\n",
       "      <th>v0</th>\n",
       "      <th>v1</th>\n",
       "      <th>v2</th>\n",
       "      <th>a0</th>\n",
       "      <th>a1</th>\n",
       "      <th>a2</th>\n",
       "    </tr>\n",
       "  </thead>\n",
       "  <tbody>\n",
       "    <tr>\n",
       "      <th>0</th>\n",
       "      <td>-833</td>\n",
       "      <td>-499</td>\n",
       "      <td>1</td>\n",
       "      <td>84</td>\n",
       "      <td>17</td>\n",
       "      <td>1</td>\n",
       "      <td>-4</td>\n",
       "      <td>1</td>\n",
       "      <td>1</td>\n",
       "    </tr>\n",
       "    <tr>\n",
       "      <th>1</th>\n",
       "      <td>-168</td>\n",
       "      <td>3586</td>\n",
       "      <td>1</td>\n",
       "      <td>-61</td>\n",
       "      <td>-58</td>\n",
       "      <td>1</td>\n",
       "      <td>7</td>\n",
       "      <td>-13</td>\n",
       "      <td>8</td>\n",
       "    </tr>\n",
       "    <tr>\n",
       "      <th>2</th>\n",
       "      <td>364</td>\n",
       "      <td>223</td>\n",
       "      <td>7</td>\n",
       "      <td>31</td>\n",
       "      <td>-11</td>\n",
       "      <td>1</td>\n",
       "      <td>-5</td>\n",
       "      <td>0</td>\n",
       "      <td>3</td>\n",
       "    </tr>\n",
       "    <tr>\n",
       "      <th>3</th>\n",
       "      <td>769</td>\n",
       "      <td>-854</td>\n",
       "      <td>5</td>\n",
       "      <td>-20</td>\n",
       "      <td>4</td>\n",
       "      <td>4</td>\n",
       "      <td>0</td>\n",
       "      <td>1</td>\n",
       "      <td>9</td>\n",
       "    </tr>\n",
       "    <tr>\n",
       "      <th>4</th>\n",
       "      <td>6985</td>\n",
       "      <td>-3666</td>\n",
       "      <td>3</td>\n",
       "      <td>-112</td>\n",
       "      <td>99</td>\n",
       "      <td>3</td>\n",
       "      <td>-4</td>\n",
       "      <td>0</td>\n",
       "      <td>4</td>\n",
       "    </tr>\n",
       "  </tbody>\n",
       "</table>\n",
       "</div>"
      ],
      "text/plain": [
       "     p0    p1  p2   v0  v1  v2  a0  a1  a2\n",
       "0  -833  -499   1   84  17   1  -4   1   1\n",
       "1  -168  3586   1  -61 -58   1   7 -13   8\n",
       "2   364   223   7   31 -11   1  -5   0   3\n",
       "3   769  -854   5  -20   4   4   0   1   9\n",
       "4  6985 -3666   3 -112  99   3  -4   0   4"
      ]
     },
     "execution_count": 15,
     "metadata": {},
     "output_type": "execute_result"
    }
   ],
   "source": [
    "sdf.head()"
   ]
  },
  {
   "cell_type": "code",
   "execution_count": 16,
   "metadata": {},
   "outputs": [
    {
     "name": "stdout",
     "output_type": "stream",
     "text": [
      "iteration        1: count = 1000\n",
      "iteration       10: count = 998\n",
      "iteration       18: count = 996\n",
      "iteration       35: count = 994\n",
      "iteration       36: count = 992\n"
     ]
    }
   ],
   "source": [
    "\n",
    "iters = 0\n",
    "lastcount = len(sdf)+1\n",
    "while iters < 100:\n",
    "    sdf.loc[:, V] = sdf.loc[:, V] + sdf.loc[:, A].rename(columns=dict(zip(A, V)))\n",
    "    sdf.loc[:, P] = sdf.loc[:, P] + sdf.loc[:, V].rename(columns=dict(zip(V, P)))\n",
    "    \n",
    "    mask = ~sdf.duplicated(subset=P, keep=False) # keep = False == don't include ANY dupes in output\n",
    "    sdf = sdf[mask].reset_index(drop=True)\n",
    "    count = len(sdf)\n",
    "    iters += 1\n",
    "    if count != lastcount:\n",
    "        print(f'iteration {iters:8}: count = {count}', flush=True)\n",
    "        lastcount = count"
   ]
  },
  {
   "cell_type": "code",
   "execution_count": 17,
   "metadata": {},
   "outputs": [
    {
     "data": {
      "text/html": [
       "<div>\n",
       "<style scoped>\n",
       "    .dataframe tbody tr th:only-of-type {\n",
       "        vertical-align: middle;\n",
       "    }\n",
       "\n",
       "    .dataframe tbody tr th {\n",
       "        vertical-align: top;\n",
       "    }\n",
       "\n",
       "    .dataframe thead th {\n",
       "        text-align: right;\n",
       "    }\n",
       "</style>\n",
       "<table border=\"1\" class=\"dataframe\">\n",
       "  <thead>\n",
       "    <tr style=\"text-align: right;\">\n",
       "      <th></th>\n",
       "      <th>p0</th>\n",
       "      <th>p1</th>\n",
       "      <th>p2</th>\n",
       "      <th>v0</th>\n",
       "      <th>v1</th>\n",
       "      <th>v2</th>\n",
       "      <th>a0</th>\n",
       "      <th>a1</th>\n",
       "      <th>a2</th>\n",
       "    </tr>\n",
       "  </thead>\n",
       "  <tbody>\n",
       "    <tr>\n",
       "      <th>0</th>\n",
       "      <td>-12633</td>\n",
       "      <td>6251</td>\n",
       "      <td>5151</td>\n",
       "      <td>-316</td>\n",
       "      <td>117</td>\n",
       "      <td>101</td>\n",
       "      <td>-4</td>\n",
       "      <td>1</td>\n",
       "      <td>1</td>\n",
       "    </tr>\n",
       "    <tr>\n",
       "      <th>1</th>\n",
       "      <td>29082</td>\n",
       "      <td>-67864</td>\n",
       "      <td>40501</td>\n",
       "      <td>639</td>\n",
       "      <td>-1358</td>\n",
       "      <td>801</td>\n",
       "      <td>7</td>\n",
       "      <td>-13</td>\n",
       "      <td>8</td>\n",
       "    </tr>\n",
       "    <tr>\n",
       "      <th>2</th>\n",
       "      <td>-21786</td>\n",
       "      <td>-877</td>\n",
       "      <td>15257</td>\n",
       "      <td>-469</td>\n",
       "      <td>-11</td>\n",
       "      <td>301</td>\n",
       "      <td>-5</td>\n",
       "      <td>0</td>\n",
       "      <td>3</td>\n",
       "    </tr>\n",
       "    <tr>\n",
       "      <th>3</th>\n",
       "      <td>-1231</td>\n",
       "      <td>4596</td>\n",
       "      <td>45855</td>\n",
       "      <td>-20</td>\n",
       "      <td>104</td>\n",
       "      <td>904</td>\n",
       "      <td>0</td>\n",
       "      <td>1</td>\n",
       "      <td>9</td>\n",
       "    </tr>\n",
       "    <tr>\n",
       "      <th>4</th>\n",
       "      <td>-24415</td>\n",
       "      <td>6234</td>\n",
       "      <td>20503</td>\n",
       "      <td>-512</td>\n",
       "      <td>99</td>\n",
       "      <td>403</td>\n",
       "      <td>-4</td>\n",
       "      <td>0</td>\n",
       "      <td>4</td>\n",
       "    </tr>\n",
       "  </tbody>\n",
       "</table>\n",
       "</div>"
      ],
      "text/plain": [
       "      p0     p1     p2   v0    v1   v2  a0  a1  a2\n",
       "0 -12633   6251   5151 -316   117  101  -4   1   1\n",
       "1  29082 -67864  40501  639 -1358  801   7 -13   8\n",
       "2 -21786   -877  15257 -469   -11  301  -5   0   3\n",
       "3  -1231   4596  45855  -20   104  904   0   1   9\n",
       "4 -24415   6234  20503 -512    99  403  -4   0   4"
      ]
     },
     "execution_count": 17,
     "metadata": {},
     "output_type": "execute_result"
    }
   ],
   "source": [
    "sdf.head()"
   ]
  },
  {
   "cell_type": "code",
   "execution_count": 18,
   "metadata": {},
   "outputs": [],
   "source": [
    "a= pd.DataFrame([[0], [0], [1], [2]])"
   ]
  },
  {
   "cell_type": "code",
   "execution_count": 19,
   "metadata": {},
   "outputs": [
    {
     "data": {
      "text/html": [
       "<div>\n",
       "<style scoped>\n",
       "    .dataframe tbody tr th:only-of-type {\n",
       "        vertical-align: middle;\n",
       "    }\n",
       "\n",
       "    .dataframe tbody tr th {\n",
       "        vertical-align: top;\n",
       "    }\n",
       "\n",
       "    .dataframe thead th {\n",
       "        text-align: right;\n",
       "    }\n",
       "</style>\n",
       "<table border=\"1\" class=\"dataframe\">\n",
       "  <thead>\n",
       "    <tr style=\"text-align: right;\">\n",
       "      <th></th>\n",
       "      <th>0</th>\n",
       "    </tr>\n",
       "  </thead>\n",
       "  <tbody>\n",
       "    <tr>\n",
       "      <th>0</th>\n",
       "      <td>1</td>\n",
       "    </tr>\n",
       "    <tr>\n",
       "      <th>1</th>\n",
       "      <td>2</td>\n",
       "    </tr>\n",
       "  </tbody>\n",
       "</table>\n",
       "</div>"
      ],
      "text/plain": [
       "   0\n",
       "0  1\n",
       "1  2"
      ]
     },
     "execution_count": 19,
     "metadata": {},
     "output_type": "execute_result"
    }
   ],
   "source": [
    "a[~a.duplicated(keep=False)].reset_index(drop=True)"
   ]
  },
  {
   "cell_type": "code",
   "execution_count": null,
   "metadata": {},
   "outputs": [],
   "source": []
  }
 ],
 "metadata": {
  "kernelspec": {
   "display_name": "Python 3",
   "language": "python",
   "name": "python3"
  },
  "language_info": {
   "codemirror_mode": {
    "name": "ipython",
    "version": 3
   },
   "file_extension": ".py",
   "mimetype": "text/x-python",
   "name": "python",
   "nbconvert_exporter": "python",
   "pygments_lexer": "ipython3",
   "version": "3.6.3"
  }
 },
 "nbformat": 4,
 "nbformat_minor": 2
}
