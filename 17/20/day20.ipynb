{
 "cells": [
  {
   "cell_type": "code",
   "execution_count": 1,
   "metadata": {},
   "outputs": [],
   "source": [
    "import pandas as pd\n",
    "import numpy as np\n",
    "import re"
   ]
  },
  {
   "cell_type": "markdown",
   "metadata": {},
   "source": [
    "# recurrence relation\n",
    "$$\\vec{p}_n = \\vec{p}_0 + n\\vec{v}_0 + \\sum_{i=1}^{n}i\\vec{a}_0$$\n",
    "\n",
    "$$\\vec{p}_n = \\vec{p}_0 + n\\vec{v}_0 +\\frac{n(n+1)}{2}\\vec{a}_0$$"
   ]
  },
  {
   "cell_type": "code",
   "execution_count": 2,
   "metadata": {},
   "outputs": [],
   "source": [
    "test_data='''p=< 3,0,0>, v=< 2,0,0>, a=<-1,0,0>\n",
    "p=< 4,0,0>, v=< 0,0,0>, a=<-2,0,0>'''.splitlines()\n",
    "real_data = open('input.txt').readlines()"
   ]
  },
  {
   "cell_type": "code",
   "execution_count": 3,
   "metadata": {},
   "outputs": [],
   "source": [
    "parser = re.compile(r'(.=<([^,]+),([^,]+),([^,]+)>(, )?)(.=<([^,]+),([^,]+),([^,]+)>(, )?)(.=<([^,]+),([^,]+),([^,]+)>(, )?)')"
   ]
  },
  {
   "cell_type": "code",
   "execution_count": 4,
   "metadata": {},
   "outputs": [],
   "source": [
    "def parse_lines(lines):\n",
    "    p = []\n",
    "    v = []\n",
    "    a = []\n",
    "    for line in lines:\n",
    "        l = parser.match(line)\n",
    "        if l:\n",
    "            p.append(list(map(int,l.group(2, 3, 4))))\n",
    "            v.append(list(map(int,l.group(7, 8, 9))))\n",
    "            a.append(list(map(int,l.group(12, 13, 14))))\n",
    "    return map(lambda x: np.array(x, dtype=np.int64), [p, v, a]) # , dtype=np.float64"
   ]
  },
  {
   "cell_type": "code",
   "execution_count": 5,
   "metadata": {},
   "outputs": [],
   "source": [
    "def manhattan(v):\n",
    "    return abs(v).sum(axis=1)\n",
    "\n",
    "def norm2(v):\n",
    "    return (v**2).sum(axis=1)"
   ]
  },
  {
   "cell_type": "code",
   "execution_count": 6,
   "metadata": {},
   "outputs": [],
   "source": [
    "# p, v, a = parse_lines(real_data)\n",
    "p0, v0, a0 = parse_lines(real_data)\n",
    "# n = 100000\n",
    "# for i in range(n):\n",
    "#     v = v + a\n",
    "#     p = p + v"
   ]
  },
  {
   "cell_type": "code",
   "execution_count": 7,
   "metadata": {},
   "outputs": [],
   "source": [
    "# def p_i(n):\n",
    "#     return p0 + n*v0 + (n*(n+1)*a)/2\n",
    "\n",
    "# np.where(manhattan(p_i(n*1000000)) == manhattan(p_i(n*1000000)).min())"
   ]
  },
  {
   "cell_type": "markdown",
   "metadata": {},
   "source": [
    "# Part 1 - doesn't acceleration just win out?"
   ]
  },
  {
   "cell_type": "markdown",
   "metadata": {},
   "source": [
    "particles `[ 21, 159, 285, 442, 457]` have the equal lowest acceleration.\n",
    "\n",
    "particle 457 starts nearest the origin and moves slowest at the beginning (all of these particles are have a component of their velocity in the same direction as their respective accelerations, i.e. none is currently slowing)\n",
    "\n",
    "therefore the part 1 answer is 457"
   ]
  },
  {
   "cell_type": "code",
   "execution_count": 8,
   "metadata": {},
   "outputs": [],
   "source": [
    "test_data2 = '''p=<-6,0,0>, v=< 3,0,0>, a=< 0,0,0>    \n",
    "p=<-4,0,0>, v=< 2,0,0>, a=< 0,0,0>\n",
    "p=<-2,0,0>, v=< 1,0,0>, a=< 0,0,0>\n",
    "p=< 3,0,0>, v=<-1,0,0>, a=< 0,0,0>'''.splitlines()"
   ]
  },
  {
   "cell_type": "code",
   "execution_count": 9,
   "metadata": {},
   "outputs": [],
   "source": [
    "#p0, v0, a0 = parse_lines(test_data2)\n",
    "p0, v0, a0 = parse_lines(real_data)"
   ]
  },
  {
   "cell_type": "markdown",
   "metadata": {},
   "source": [
    "## separate dataframes for $\\vec{p}$, $\\vec{v}$ and $\\vec{a}$"
   ]
  },
  {
   "cell_type": "code",
   "execution_count": 10,
   "metadata": {},
   "outputs": [],
   "source": [
    "iters = 0\n",
    "p, v, a = map(pd.DataFrame, [p0, v0, a0])\n",
    "lastcount = len(p) + 1"
   ]
  },
  {
   "cell_type": "code",
   "execution_count": 11,
   "metadata": {},
   "outputs": [
    {
     "name": "stdout",
     "output_type": "stream",
     "text": [
      "iteration        0\n",
      "iteration        1: count = 1000\n",
      "iteration       10: count = 979\n",
      "iteration       12: count = 973\n",
      "iteration       13: count = 955\n",
      "iteration       14: count = 932\n",
      "iteration       15: count = 921\n",
      "iteration       16: count = 906\n",
      "iteration       17: count = 874\n",
      "iteration       18: count = 858\n",
      "iteration       19: count = 831\n",
      "iteration       20: count = 821\n",
      "iteration       21: count = 809\n",
      "iteration       22: count = 795\n",
      "iteration       23: count = 791\n",
      "iteration       24: count = 771\n",
      "iteration       25: count = 752\n",
      "iteration       26: count = 723\n",
      "iteration       27: count = 703\n",
      "iteration       28: count = 669\n",
      "iteration       29: count = 648\n",
      "iteration       30: count = 634\n",
      "iteration       31: count = 622\n",
      "iteration       32: count = 617\n",
      "iteration       33: count = 589\n",
      "iteration       34: count = 570\n",
      "iteration       35: count = 542\n",
      "iteration       36: count = 522\n",
      "iteration       37: count = 494\n",
      "iteration       38: count = 481\n",
      "iteration       39: count = 448\n"
     ]
    }
   ],
   "source": [
    "while iters < 100:\n",
    "    if iters % 10000 == 0:\n",
    "        print(f'iteration {iters:8}')\n",
    "    v = v + a\n",
    "    p = p + v\n",
    "    mask = ~p.duplicated(keep=False)\n",
    "    v = v[mask].reset_index(drop=True)\n",
    "    a = a[mask].reset_index(drop=True)\n",
    "    p = p[mask].reset_index(drop=True)\n",
    "    count = len(p)\n",
    "    iters += 1\n",
    "    if count != lastcount:\n",
    "        print(f'iteration {iters:8}: count = {count}', flush=True)\n",
    "        lastcount = count\n",
    "\n"
   ]
  },
  {
   "cell_type": "code",
   "execution_count": 12,
   "metadata": {},
   "outputs": [
    {
     "data": {
      "text/plain": [
       "448"
      ]
     },
     "execution_count": 12,
     "metadata": {},
     "output_type": "execute_result"
    }
   ],
   "source": [
    "len(p)"
   ]
  },
  {
   "cell_type": "markdown",
   "metadata": {},
   "source": [
    "## single dataframe for $\\vec{p}$, $\\vec{v}$ and $\\vec{a}$"
   ]
  },
  {
   "cell_type": "code",
   "execution_count": 13,
   "metadata": {},
   "outputs": [],
   "source": [
    "p0, v0, a0 = parse_lines(real_data)\n",
    "\n",
    "\n",
    "sdf = pd.concat(map(pd.DataFrame, [p0, v0, a0]), axis=1, ignore_index=True)\n",
    "V = ['v0', 'v1', 'v2']\n",
    "A = ['a0', 'a1', 'a2']\n",
    "P = ['p0', 'p1', 'p2']\n",
    "\n",
    "sdf.columns = P + V + A\n"
   ]
  },
  {
   "cell_type": "code",
   "execution_count": 14,
   "metadata": {},
   "outputs": [
    {
     "data": {
      "text/html": [
       "<div>\n",
       "<style scoped>\n",
       "    .dataframe tbody tr th:only-of-type {\n",
       "        vertical-align: middle;\n",
       "    }\n",
       "\n",
       "    .dataframe tbody tr th {\n",
       "        vertical-align: top;\n",
       "    }\n",
       "\n",
       "    .dataframe thead th {\n",
       "        text-align: right;\n",
       "    }\n",
       "</style>\n",
       "<table border=\"1\" class=\"dataframe\">\n",
       "  <thead>\n",
       "    <tr style=\"text-align: right;\">\n",
       "      <th></th>\n",
       "      <th>p0</th>\n",
       "      <th>p1</th>\n",
       "      <th>p2</th>\n",
       "      <th>v0</th>\n",
       "      <th>v1</th>\n",
       "      <th>v2</th>\n",
       "      <th>a0</th>\n",
       "      <th>a1</th>\n",
       "      <th>a2</th>\n",
       "    </tr>\n",
       "  </thead>\n",
       "  <tbody>\n",
       "    <tr>\n",
       "      <th>0</th>\n",
       "      <td>-833</td>\n",
       "      <td>-499</td>\n",
       "      <td>-1391</td>\n",
       "      <td>84</td>\n",
       "      <td>17</td>\n",
       "      <td>61</td>\n",
       "      <td>-4</td>\n",
       "      <td>1</td>\n",
       "      <td>1</td>\n",
       "    </tr>\n",
       "    <tr>\n",
       "      <th>1</th>\n",
       "      <td>-168</td>\n",
       "      <td>3586</td>\n",
       "      <td>-2721</td>\n",
       "      <td>-61</td>\n",
       "      <td>-58</td>\n",
       "      <td>61</td>\n",
       "      <td>7</td>\n",
       "      <td>-13</td>\n",
       "      <td>8</td>\n",
       "    </tr>\n",
       "    <tr>\n",
       "      <th>2</th>\n",
       "      <td>364</td>\n",
       "      <td>223</td>\n",
       "      <td>1877</td>\n",
       "      <td>31</td>\n",
       "      <td>-11</td>\n",
       "      <td>-71</td>\n",
       "      <td>-5</td>\n",
       "      <td>0</td>\n",
       "      <td>-3</td>\n",
       "    </tr>\n",
       "    <tr>\n",
       "      <th>3</th>\n",
       "      <td>769</td>\n",
       "      <td>-854</td>\n",
       "      <td>-8705</td>\n",
       "      <td>-20</td>\n",
       "      <td>4</td>\n",
       "      <td>64</td>\n",
       "      <td>0</td>\n",
       "      <td>1</td>\n",
       "      <td>9</td>\n",
       "    </tr>\n",
       "    <tr>\n",
       "      <th>4</th>\n",
       "      <td>6985</td>\n",
       "      <td>-3666</td>\n",
       "      <td>3653</td>\n",
       "      <td>-112</td>\n",
       "      <td>99</td>\n",
       "      <td>-23</td>\n",
       "      <td>-4</td>\n",
       "      <td>0</td>\n",
       "      <td>-4</td>\n",
       "    </tr>\n",
       "  </tbody>\n",
       "</table>\n",
       "</div>"
      ],
      "text/plain": [
       "     p0    p1    p2   v0  v1  v2  a0  a1  a2\n",
       "0  -833  -499 -1391   84  17  61  -4   1   1\n",
       "1  -168  3586 -2721  -61 -58  61   7 -13   8\n",
       "2   364   223  1877   31 -11 -71  -5   0  -3\n",
       "3   769  -854 -8705  -20   4  64   0   1   9\n",
       "4  6985 -3666  3653 -112  99 -23  -4   0  -4"
      ]
     },
     "execution_count": 14,
     "metadata": {},
     "output_type": "execute_result"
    }
   ],
   "source": [
    "sdf.head()"
   ]
  },
  {
   "cell_type": "code",
   "execution_count": 15,
   "metadata": {},
   "outputs": [],
   "source": [
    "from IPython.display import display, HTML\n",
    "iters = 0\n",
    "lastcount = len(sdf)+1 # set higher than he length, so that the count will be displayed on the first iteration\n",
    "verbose=False"
   ]
  },
  {
   "cell_type": "code",
   "execution_count": 16,
   "metadata": {},
   "outputs": [
    {
     "name": "stdout",
     "output_type": "stream",
     "text": [
      "iteration        1: count = 1000\n",
      "iteration       10: count = 979\n",
      "iteration       12: count = 973\n",
      "iteration       13: count = 955\n",
      "iteration       14: count = 932\n",
      "iteration       15: count = 921\n",
      "iteration       16: count = 906\n",
      "iteration       17: count = 874\n",
      "iteration       18: count = 858\n",
      "iteration       19: count = 831\n",
      "iteration       20: count = 821\n",
      "iteration       21: count = 809\n",
      "iteration       22: count = 795\n",
      "iteration       23: count = 791\n",
      "iteration       24: count = 771\n",
      "iteration       25: count = 752\n",
      "iteration       26: count = 723\n",
      "iteration       27: count = 703\n",
      "iteration       28: count = 669\n",
      "iteration       29: count = 648\n",
      "iteration       30: count = 634\n",
      "iteration       31: count = 622\n",
      "iteration       32: count = 617\n",
      "iteration       33: count = 589\n",
      "iteration       34: count = 570\n",
      "iteration       35: count = 542\n",
      "iteration       36: count = 522\n",
      "iteration       37: count = 494\n",
      "iteration       38: count = 481\n",
      "iteration       39: count = 448\n"
     ]
    }
   ],
   "source": [
    "#display(sdf)\n",
    "while iters < 100:\n",
    "    sdf.loc[:, V] += sdf.loc[:, A].rename(columns=dict(zip(A, V)))\n",
    "    sdf.loc[:, P] += sdf.loc[:, V].rename(columns=dict(zip(V, P)))\n",
    "    #display(sdf)\n",
    "    mask = ~sdf.duplicated(subset=P, keep=False) # keep = False == don't include ANY dupes in output\n",
    "    if verbose:\n",
    "        if sum(~mask) != 0:\n",
    "            display(HTML('Collision between particles:'))\n",
    "            display(sdf[~mask])\n",
    "    sdf = sdf[mask]\n",
    "    count = len(sdf)\n",
    "    iters += 1\n",
    "    if count != lastcount:\n",
    "        print(f'iteration {iters:8}: count = {count}', flush=True)\n",
    "        lastcount = count\n"
   ]
  },
  {
   "cell_type": "markdown",
   "metadata": {},
   "source": [
    "two particles $P$ and $P'$ with parameters $\\{\\vec{p}, \\vec{v}, \\vec{a}\\}$ and $\\{\\vec{p'}, \\vec{v'}, \\vec{a'}\\}$ collide at time n, if and only if the following are equal:\n",
    "\n",
    "$$\\vec{p}_n = \\vec{p}_0 + n\\vec{v}_0 +\\frac{n(n+1)}{2}\\vec{a}_0$$\n",
    "\n",
    "$$\\vec{p'}_n = \\vec{p'}_0 + n\\vec{v'}_0 +\\frac{n(n+1)}{2}\\vec{a'}_0$$\n",
    "\n",
    "i.e. if\n",
    "\n",
    "$$\\vec{p}_0 + n\\vec{v}_0 +\\frac{n(n+1)}{2}\\vec{a}_0 = \\vec{p'}_0 + n\\vec{v'}_0 +\\frac{n(n+1)}{2}\\vec{a'}_0$$\n",
    "\n",
    "$$(\\vec{p}_0 - \\vec{p'}_0) + n(\\vec{v}_0 - \\vec{v'}_0) + \\frac{n(n+1)}{2}(\\vec{a}_0 -\\vec{a'}_0) = 0$$"
   ]
  },
  {
   "cell_type": "code",
   "execution_count": null,
   "metadata": {},
   "outputs": [],
   "source": []
  }
 ],
 "metadata": {
  "kernelspec": {
   "display_name": "Python 3",
   "language": "python",
   "name": "python3"
  },
  "language_info": {
   "codemirror_mode": {
    "name": "ipython",
    "version": 3
   },
   "file_extension": ".py",
   "mimetype": "text/x-python",
   "name": "python",
   "nbconvert_exporter": "python",
   "pygments_lexer": "ipython3",
   "version": "3.6.5"
  }
 },
 "nbformat": 4,
 "nbformat_minor": 2
}
