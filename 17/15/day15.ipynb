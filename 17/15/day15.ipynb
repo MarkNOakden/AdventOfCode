{
 "cells": [
  {
   "cell_type": "markdown",
   "metadata": {},
   "source": [
    "# --- Day 15: Dueling Generators ---"
   ]
  },
  {
   "cell_type": "code",
   "execution_count": 1,
   "metadata": {},
   "outputs": [],
   "source": [
    "# Generator A starts with 277\n",
    "# Generator B starts with 349\n",
    "a_start = 277\n",
    "b_start = 349\n",
    "\n",
    "# test values\n",
    "# a_start = 65\n",
    "# b_start = 8921\n",
    "\n",
    "#\n",
    "fac_a = 16807\n",
    "fac_b = 48271\n",
    "\n",
    "modulus = 2147483647\n",
    "\n",
    "mask = 65535\n",
    "#iterations = 5\n",
    "iterations1 = 40000000\n",
    "iterations2 = 5000000"
   ]
  },
  {
   "cell_type": "markdown",
   "metadata": {},
   "source": [
    "## Part 1"
   ]
  },
  {
   "cell_type": "code",
   "execution_count": 2,
   "metadata": {
    "collapsed": true
   },
   "outputs": [],
   "source": [
    "def gen(start, mult):\n",
    "    value = start\n",
    "    while True:\n",
    "        value = value * mult % modulus\n",
    "        yield value"
   ]
  },
  {
   "cell_type": "code",
   "execution_count": 3,
   "metadata": {},
   "outputs": [
    {
     "name": "stdout",
     "output_type": "stream",
     "text": [
      "part 1 answer: 592\n",
      "35.1 s ± 0 ns per loop (mean ± std. dev. of 1 run, 1 loop each)\n"
     ]
    }
   ],
   "source": [
    "%%timeit -n 1 -r 1\n",
    "a = gen(a_start, fac_a)\n",
    "b = gen(b_start, fac_b)\n",
    "n = 0\n",
    "for _ in range(iterations1):\n",
    "    a_val, b_val = next(a), next(b)\n",
    "    comp = (a_val ^ b_val) & mask\n",
    "    if not comp:\n",
    "        n += 1\n",
    "    \n",
    "print(f'part 1 answer: {n}')"
   ]
  },
  {
   "cell_type": "markdown",
   "metadata": {},
   "source": [
    "## Part 2"
   ]
  },
  {
   "cell_type": "code",
   "execution_count": 4,
   "metadata": {
    "collapsed": true
   },
   "outputs": [],
   "source": [
    "def gen4(start, mult):\n",
    "    value = start\n",
    "    while True:\n",
    "        value = value * mult % modulus\n",
    "        if not (value & 3): \n",
    "            yield value\n",
    "            \n",
    "def gen8(start, mult):\n",
    "    value = start\n",
    "    while True:\n",
    "        value = value * mult % modulus\n",
    "        if not (value & 7):\n",
    "            yield value"
   ]
  },
  {
   "cell_type": "code",
   "execution_count": 5,
   "metadata": {},
   "outputs": [
    {
     "name": "stdout",
     "output_type": "stream",
     "text": [
      "part 2 answer: 320\n",
      "17.3 s ± 0 ns per loop (mean ± std. dev. of 1 run, 1 loop each)\n"
     ]
    }
   ],
   "source": [
    "%%timeit -n 1 -r 1\n",
    "a = gen4(a_start, fac_a)\n",
    "b = gen8(b_start, fac_b)\n",
    "n = 0\n",
    "for _ in range(iterations2):\n",
    "    a_val, b_val = next(a), next(b)\n",
    "    comp = (a_val ^ b_val) & mask\n",
    "    if not comp:\n",
    "        n += 1\n",
    "    \n",
    "print(f'part 2 answer: {n}')"
   ]
  },
  {
   "cell_type": "code",
   "execution_count": null,
   "metadata": {
    "collapsed": true
   },
   "outputs": [],
   "source": []
  }
 ],
 "metadata": {
  "kernelspec": {
   "display_name": "Python 3",
   "language": "python",
   "name": "python3"
  },
  "language_info": {
   "codemirror_mode": {
    "name": "ipython",
    "version": 3
   },
   "file_extension": ".py",
   "mimetype": "text/x-python",
   "name": "python",
   "nbconvert_exporter": "python",
   "pygments_lexer": "ipython3",
   "version": "3.6.2"
  }
 },
 "nbformat": 4,
 "nbformat_minor": 2
}
