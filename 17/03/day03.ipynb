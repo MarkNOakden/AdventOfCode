{
 "cells": [
  {
   "cell_type": "code",
   "execution_count": 1,
   "metadata": {},
   "outputs": [],
   "source": [
    "from itertools import cycle\n",
    "from operator import add"
   ]
  },
  {
   "cell_type": "code",
   "execution_count": 2,
   "metadata": {
    "collapsed": true
   },
   "outputs": [],
   "source": [
    "input_address = 368078\n",
    "#input_address = 10"
   ]
  },
  {
   "cell_type": "code",
   "execution_count": 3,
   "metadata": {
    "collapsed": true
   },
   "outputs": [],
   "source": [
    "direction_deltas = [(1, 0), (0, 1), (-1, 0), (0, -1)]\n",
    "all_direction_deltas = [(1, 0), (1, 1), (0, 1), (-1, 1), (-1, 0), (-1, -1), (0, -1), (1, -1)]"
   ]
  },
  {
   "cell_type": "code",
   "execution_count": 4,
   "metadata": {
    "collapsed": true
   },
   "outputs": [],
   "source": [
    "def coord_add(a1, a2):\n",
    "    return tuple(map(add, a1, a2))"
   ]
  },
  {
   "cell_type": "code",
   "execution_count": 5,
   "metadata": {},
   "outputs": [],
   "source": [
    "def neighbour_count(c, grid):\n",
    "    # cardinal directions only\n",
    "    count = 0\n",
    "    for d in direction_deltas:\n",
    "        if coord_add(c, d) in grid:\n",
    "            count += 1\n",
    "    return count"
   ]
  },
  {
   "cell_type": "code",
   "execution_count": 6,
   "metadata": {
    "collapsed": true
   },
   "outputs": [],
   "source": [
    "direction = cycle(direction_deltas)\n",
    "\n",
    "current_pos = (0, 0)\n",
    "current_dir = next(direction)\n",
    "current_address = 1\n",
    "\n",
    "grid = {}\n",
    "inv_grid = {}\n",
    "while current_address <= input_address:\n",
    "    #print(f'number = {current_address}, location = {currentpos}, dir = {currentdir}')\n",
    "    grid[current_pos] = current_address\n",
    "    inv_grid[current_address] = current_pos\n",
    "    current_address += 1\n",
    "    current_pos = coord_add(current_pos, current_dir)\n",
    "    if neighbour_count(current_pos, grid) == 1:\n",
    "        current_dir = next(direction) # turn left if the next cell only has one populated neighbour"
   ]
  },
  {
   "cell_type": "code",
   "execution_count": 7,
   "metadata": {},
   "outputs": [
    {
     "name": "stdout",
     "output_type": "stream",
     "text": [
      "part1 answer: 371\n"
     ]
    }
   ],
   "source": [
    "print(f'part1 answer: {sum(map(abs, inv_grid[input_address]))}')"
   ]
  },
  {
   "cell_type": "code",
   "execution_count": 8,
   "metadata": {},
   "outputs": [],
   "source": [
    "def neighbour_sum(c, g):\n",
    "    total = 0\n",
    "    for d in all_direction_deltas:\n",
    "        if coord_add(c, d) in g:\n",
    "            total += g[coord_add(c, d)]\n",
    "    return total"
   ]
  },
  {
   "cell_type": "code",
   "execution_count": 9,
   "metadata": {
    "collapsed": true
   },
   "outputs": [],
   "source": [
    "direction = cycle(direction_deltas)\n",
    "\n",
    "current_pos = (0, 0)\n",
    "current_dir = next(direction)\n",
    "current_val = 1\n",
    "\n",
    "sum_grid = {}\n",
    "\n",
    "while current_val <= input_address:\n",
    "    #print(f'number = {current_address}, location = {currentpos}, dir = {currentdir}')\n",
    "    sum_grid[current_pos] = current_val\n",
    "    current_pos = coord_add(current_pos, current_dir)\n",
    "    current_val = neighbour_sum(current_pos, sum_grid)\n",
    "    if neighbour_count(current_pos, sum_grid) == 1:\n",
    "        current_dir = next(direction) # turn left if the next cell only has one populated neighbour    "
   ]
  },
  {
   "cell_type": "code",
   "execution_count": 10,
   "metadata": {},
   "outputs": [
    {
     "name": "stdout",
     "output_type": "stream",
     "text": [
      "part 2 answer: 369601\n"
     ]
    }
   ],
   "source": [
    "print(f'part 2 answer: {current_val}')"
   ]
  },
  {
   "cell_type": "code",
   "execution_count": null,
   "metadata": {
    "collapsed": true
   },
   "outputs": [],
   "source": []
  }
 ],
 "metadata": {
  "kernelspec": {
   "display_name": "Python 3",
   "language": "python",
   "name": "python3"
  },
  "language_info": {
   "codemirror_mode": {
    "name": "ipython",
    "version": 3
   },
   "file_extension": ".py",
   "mimetype": "text/x-python",
   "name": "python",
   "nbconvert_exporter": "python",
   "pygments_lexer": "ipython3",
   "version": "3.6.2"
  }
 },
 "nbformat": 4,
 "nbformat_minor": 2
}
