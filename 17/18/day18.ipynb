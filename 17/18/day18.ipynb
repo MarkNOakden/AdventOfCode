{
 "cells": [
  {
   "cell_type": "markdown",
   "metadata": {},
   "source": [
    "```--- Day 18: Duet ---```"
   ]
  },
  {
   "cell_type": "code",
   "execution_count": 1,
   "metadata": {
    "collapsed": true
   },
   "outputs": [],
   "source": [
    "import unittest\n",
    "import re\n",
    "from time import sleep"
   ]
  },
  {
   "cell_type": "code",
   "execution_count": 2,
   "metadata": {
    "collapsed": true
   },
   "outputs": [],
   "source": [
    "test_prog = '''set a 1\n",
    "add a 2\n",
    "mul a a\n",
    "mod a 5\n",
    "snd a\n",
    "set a 0\n",
    "rcv a\n",
    "jgz a -1\n",
    "set a 1\n",
    "jgz a -2'''.split('\\n')\n",
    "\n",
    "prog = open('input.txt').readlines()"
   ]
  },
  {
   "cell_type": "markdown",
   "metadata": {},
   "source": [
    "\n",
    "    snd X plays a sound with a frequency equal to the value of X.\n",
    "    set X Y sets register X to the value of Y.\n",
    "    add X Y increases register X by the value of Y.\n",
    "    mul X Y sets register X to the result of multiplying the value contained in register X by the value of Y.\n",
    "    mod X Y sets register X to the remainder of dividing the value contained in register X by the value of Y (that is, it sets X to the result of X modulo Y).\n",
    "    rcv X recovers the frequency of the last sound played, but only when the value of X is not zero. (If it is zero, the command does nothing.)\n",
    "    jgz X Y jumps with an offset of the value of Y, but only if the value of X is greater than zero. (An offset of 2 skips the next instruction, an offset of -1 jumps to the previous instruction, and so on.)\n"
   ]
  },
  {
   "cell_type": "code",
   "execution_count": 3,
   "metadata": {},
   "outputs": [],
   "source": [
    "class VM(object):\n",
    "    def __init__(self, progl, prognum=0, part=1, debug=False):\n",
    "        self.prog = progl[:]\n",
    "        self.prognum = prognum\n",
    "        self.part = part\n",
    "        self.debug = debug\n",
    "        self.registers = {'p': prognum}\n",
    "        self.pc = 0\n",
    "        self.running = False\n",
    "        self.blocked = [False]\n",
    "        self.otherblocked = self.blocked\n",
    "        self.snds = [] # all sounds played, earliest first\n",
    "        self.sndcount = 0\n",
    "        self.rcvs = self.snds\n",
    "\n",
    "    def connect(self, other):\n",
    "        self.rcvs = other.snds\n",
    "        self.otherblocked = other.blocked\n",
    "        \n",
    "    def run(self):\n",
    "        self.running = True\n",
    "        while self.running:\n",
    "            self.step()\n",
    "        print(f' <P{self.prognum}> stopped')\n",
    "        return self\n",
    "    \n",
    "    linematcher = re.compile(r'^([^ ]+) ([^ ]+)( ([^ ]+))?')\n",
    "\n",
    "    def step(self):\n",
    "        try:\n",
    "            l = self.prog[self.pc].strip()\n",
    "        except IndexError:\n",
    "            self.running = False\n",
    "            return self\n",
    "        instr, op1, op2, _unused = VM.linematcher.match(l).groups()\n",
    "        f, args = VM.dispatcher[instr]\n",
    "        if args == 1:\n",
    "            f(self, op1)\n",
    "        else:\n",
    "            f(self, op1, op2)\n",
    "        if self.debug:\n",
    "            print(f' <P{self.prognum}> {self.pc:4}: {l} | {self.registers}', flush=True)\n",
    "        if self.blocked[0] & self.otherblocked[0]: # RACE CONDITION?\n",
    "            self.running = False\n",
    "            print(f'!! P{self.prognum} detected DEADLOCK !!')\n",
    "        return self\n",
    "    \n",
    "    def _snd(self, op):\n",
    "        self.sndcount += 1\n",
    "        self.snds.append(self.value(op))\n",
    "        self.otherblocked[0] = False\n",
    "        self.pc += 1\n",
    "\n",
    "    def _rcv(self, op):\n",
    "        if self.part == 1:\n",
    "            # last sound played / message sent\n",
    "            print(f'part 1 answer: {self.snds[-1]}')\n",
    "            self.running = False\n",
    "        while True:\n",
    "            try:\n",
    "                val = self.rcvs.pop(0) # pull the oldest sound/message\n",
    "                self.blocked[0] = False\n",
    "                break\n",
    "            except IndexError:\n",
    "                # run hot (could also sleep() a bit here)\n",
    "                self.blocked[0] = True\n",
    "                return # doesn't change self.pc, so instruction will be retried\n",
    "        self.set_reg(op, val)\n",
    "        self.pc += 1\n",
    "        \n",
    "    def _set(self, op1, op2):\n",
    "        self.set_reg(op1, self.value(op2))\n",
    "        self.pc += 1\n",
    "\n",
    "    def _add(self, op1, op2):\n",
    "        self.set_reg(op1, self.value(op1) + self.value(op2))\n",
    "        self.pc += 1\n",
    "        \n",
    "    def _mul(self, op1, op2):\n",
    "        self.set_reg(op1, self.value(op1) * self.value(op2))\n",
    "        self.pc += 1\n",
    "        \n",
    "    def _mod(self, op1, op2):\n",
    "        self.set_reg(op1, self.value(op1) % self.value(op2))\n",
    "        self.pc += 1\n",
    "    \n",
    "    def _jgz(self, op1, op2):\n",
    "        if self.value(op1) > 0:\n",
    "            self.pc += self.value(op2)\n",
    "        else:\n",
    "            self.pc += 1\n",
    "\n",
    "    dispatcher = {'snd': (_snd, 1), # 'instr': (_instr_func, args)\n",
    "                  'rcv': (_rcv, 1),\n",
    "                  'set': (_set, 2),\n",
    "                  'add': (_add, 2),\n",
    "                  'mul': (_mul, 2),\n",
    "                  'mod': (_mod, 2),\n",
    "                  'jgz': (_jgz, 2)}\n",
    "            \n",
    "    def value(self, v):\n",
    "        v = v.strip()\n",
    "        try:\n",
    "            return int(v)\n",
    "        except ValueError:\n",
    "            return self.get_reg(v)\n",
    "            \n",
    "    def get_reg(self, r):\n",
    "        r = r.strip()\n",
    "        if r in self.registers:\n",
    "            return self.registers[r]\n",
    "        else:\n",
    "            self.registers[r] = 0\n",
    "            return 0\n",
    "        \n",
    "    def set_reg(self, r, val):\n",
    "        self.registers[r] = val"
   ]
  },
  {
   "cell_type": "markdown",
   "metadata": {},
   "source": [
    "# Part 1 Test"
   ]
  },
  {
   "cell_type": "code",
   "execution_count": 4,
   "metadata": {
    "collapsed": true
   },
   "outputs": [],
   "source": [
    "v = VM(test_prog)"
   ]
  },
  {
   "cell_type": "code",
   "execution_count": 5,
   "metadata": {},
   "outputs": [
    {
     "name": "stdout",
     "output_type": "stream",
     "text": [
      "part 1 answer: 4\n",
      " <P0> stopped\n"
     ]
    },
    {
     "data": {
      "text/plain": [
       "<__main__.VM at 0x1f78c5ae208>"
      ]
     },
     "execution_count": 5,
     "metadata": {},
     "output_type": "execute_result"
    }
   ],
   "source": [
    "v.run()"
   ]
  },
  {
   "cell_type": "markdown",
   "metadata": {},
   "source": [
    "# Part 1 Actual"
   ]
  },
  {
   "cell_type": "code",
   "execution_count": 6,
   "metadata": {
    "collapsed": true
   },
   "outputs": [],
   "source": [
    "v = VM(prog)"
   ]
  },
  {
   "cell_type": "code",
   "execution_count": 7,
   "metadata": {},
   "outputs": [
    {
     "name": "stdout",
     "output_type": "stream",
     "text": [
      "part 1 answer: 7071\n",
      " <P0> stopped\n"
     ]
    },
    {
     "data": {
      "text/plain": [
       "<__main__.VM at 0x1f78c5ae550>"
      ]
     },
     "execution_count": 7,
     "metadata": {},
     "output_type": "execute_result"
    }
   ],
   "source": [
    "v.run()"
   ]
  },
  {
   "cell_type": "markdown",
   "metadata": {},
   "source": [
    "# Part 2"
   ]
  },
  {
   "cell_type": "code",
   "execution_count": 8,
   "metadata": {
    "collapsed": true
   },
   "outputs": [],
   "source": [
    "USE_THREADS = True"
   ]
  },
  {
   "cell_type": "code",
   "execution_count": 9,
   "metadata": {
    "collapsed": true
   },
   "outputs": [],
   "source": [
    "test_prog2 = '''snd 1\n",
    "snd 2\n",
    "snd p\n",
    "rcv a\n",
    "rcv b\n",
    "rcv c\n",
    "rcv d'''.split('\\n')"
   ]
  },
  {
   "cell_type": "markdown",
   "metadata": {},
   "source": [
    "# With Threads:-"
   ]
  },
  {
   "cell_type": "code",
   "execution_count": 10,
   "metadata": {},
   "outputs": [
    {
     "name": "stdout",
     "output_type": "stream",
     "text": [
      "!! P1 detected DEADLOCK !!!! P0 detected DEADLOCK !!\n",
      "\n",
      "\n",
      "part 2 answer: 8001\n",
      " <P1> stopped\n",
      " <P0> stopped\n",
      "\n"
     ]
    }
   ],
   "source": [
    "if USE_THREADS:\n",
    "    # test\n",
    "    # prog0 = VM(test_prog2, prognum=0, part=2, debug=True)\n",
    "    # prog1 = VM(test_prog2, prognum=1, part=2, debug=True)\n",
    "\n",
    "    # actual\n",
    "    prog0 = VM(prog, prognum=0, part=2, debug=False)\n",
    "    prog1 = VM(prog, prognum=1, part=2, debug=False)\n",
    "\n",
    "    prog0.connect(prog1)\n",
    "    prog1.connect(prog0)\n",
    "\n",
    "    import threading\n",
    "\n",
    "    threads = [threading.Thread(target=prog0.run), threading.Thread(target=prog1.run)]\n",
    "\n",
    "    [t.start() for t in threads]\n",
    "    [t.join() for t in threads]\n",
    "\n",
    "    print(f'\\n\\npart 2 answer: {prog1.sndcount}')\n",
    "else:\n",
    "    print('Not using threads this time')"
   ]
  },
  {
   "cell_type": "markdown",
   "metadata": {},
   "source": [
    "# Without Threads:-"
   ]
  },
  {
   "cell_type": "code",
   "execution_count": 11,
   "metadata": {
    "collapsed": true
   },
   "outputs": [],
   "source": [
    "# test\n",
    "# prog0 = VM(test_prog2, prognum=0, part=2, debug=True)\n",
    "# prog1 = VM(test_prog2, prognum=1, part=2, debug=True)\n",
    "\n",
    "# actual\n",
    "prog0 = VM(prog, prognum=0, part=2, debug=False)\n",
    "prog1 = VM(prog, prognum=1, part=2, debug=False)"
   ]
  },
  {
   "cell_type": "code",
   "execution_count": 12,
   "metadata": {
    "collapsed": true
   },
   "outputs": [],
   "source": [
    "prog0.connect(prog1)\n",
    "prog1.connect(prog0)"
   ]
  },
  {
   "cell_type": "code",
   "execution_count": 13,
   "metadata": {},
   "outputs": [
    {
     "name": "stdout",
     "output_type": "stream",
     "text": [
      "!! P1 detected DEADLOCK !!\n",
      "!! Scheduler detected DEADLOCK !!\n"
     ]
    }
   ],
   "source": [
    "iprog = 0\n",
    "progs = [prog0, prog1]\n",
    "while True:\n",
    "    p = progs[iprog]\n",
    "    #print(f'P{p.prognum} ', flush=True, end='')\n",
    "    while not p.blocked[0]:\n",
    "        #print('.', flush=True, end='')\n",
    "        p.step()\n",
    "    iprog = 1 - iprog\n",
    "    #print('\\n')\n",
    "    if all([sp.blocked[0] for sp in progs]):\n",
    "        print('!! Scheduler detected DEADLOCK !!')\n",
    "        break\n",
    "\n",
    "    "
   ]
  },
  {
   "cell_type": "code",
   "execution_count": 14,
   "metadata": {},
   "outputs": [
    {
     "name": "stdout",
     "output_type": "stream",
     "text": [
      "\n",
      "\n",
      "part 2 answer: 8001\n"
     ]
    }
   ],
   "source": [
    "print(f'\\n\\npart 2 answer: {prog1.sndcount}')"
   ]
  },
  {
   "cell_type": "code",
   "execution_count": null,
   "metadata": {
    "collapsed": true
   },
   "outputs": [],
   "source": []
  }
 ],
 "metadata": {
  "kernelspec": {
   "display_name": "Python 3",
   "language": "python",
   "name": "python3"
  },
  "language_info": {
   "codemirror_mode": {
    "name": "ipython",
    "version": 3
   },
   "file_extension": ".py",
   "mimetype": "text/x-python",
   "name": "python",
   "nbconvert_exporter": "python",
   "pygments_lexer": "ipython3",
   "version": "3.6.2"
  }
 },
 "nbformat": 4,
 "nbformat_minor": 2
}
