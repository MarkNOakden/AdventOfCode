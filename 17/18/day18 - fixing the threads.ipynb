{
 "cells": [
  {
   "cell_type": "markdown",
   "metadata": {},
   "source": [
    "```--- Day 18: Duet ---```\n",
    "\n",
    "Working threads edition :)"
   ]
  },
  {
   "cell_type": "code",
   "execution_count": 1,
   "metadata": {
    "collapsed": true
   },
   "outputs": [],
   "source": [
    "import re\n",
    "from time import sleep\n",
    "from collections import deque\n",
    "\n",
    "import threading\n",
    "\n",
    "prog = [x.strip() for x in open('input.txt').readlines()]"
   ]
  },
  {
   "cell_type": "code",
   "execution_count": 2,
   "metadata": {
    "collapsed": true
   },
   "outputs": [],
   "source": [
    "class VM(object):\n",
    "    def __init__(self, progl, prognum=0, part=1, debug=False):\n",
    "        self.prog = progl[:]\n",
    "        self.prognum = prognum\n",
    "        self.part = part\n",
    "        self.debug = debug\n",
    "        #\n",
    "        self.registers = {'p': prognum}\n",
    "        self.pc = 0\n",
    "        self.running = False\n",
    "        self.blocked = [False]\n",
    "        self.otherblocked = self.blocked # autoconnect in case we are running only one instance as per part 1\n",
    "        self.snds = deque() # send buffer\n",
    "        self.sndcount = 0\n",
    "        self.rcvs = self.snds # autoconnect in case we are running only one instance as per part 1\n",
    "        self.lock = threading.Lock()\n",
    "\n",
    "    def connect(self, other):\n",
    "        # connect the send / rcv buffer\n",
    "        self.rcvs = other.snds\n",
    "        # connect the deadlock detection semaphore\n",
    "        self.otherblocked = other.blocked\n",
    "        # ther can be only one lock\n",
    "        if self.prognum != 0:\n",
    "            self.lock = other.lock\n",
    "        \n",
    "    def run(self):\n",
    "        self.running = True\n",
    "        while self.running:\n",
    "            self.step()\n",
    "        print(f' <P{self.prognum}> stopped')\n",
    "        return self\n",
    "    \n",
    "    linematcher = re.compile(r'^([^ ]+) ([^ ]+)( ([^ ]+))?')\n",
    "\n",
    "    def step(self):\n",
    "        try:\n",
    "            if self.pc < 0:\n",
    "                # fell off the front of the program\n",
    "                raise IndexError\n",
    "            l = self.prog[self.pc].strip()\n",
    "        except IndexError:\n",
    "            # fell off the end of the program\n",
    "            self.running = False\n",
    "            return self\n",
    "        instr, op1, op2, _unused = VM.linematcher.match(l).groups()\n",
    "        f, args = VM.dispatcher[instr]\n",
    "        if args == 1:\n",
    "            f(self, op1)\n",
    "        else:\n",
    "            f(self, op1, op2)\n",
    "        if self.debug:\n",
    "            print(f' <P{self.prognum}> {self.pc:4}: {l} | {self.registers}', flush=True)\n",
    "        with self.lock: # Critical section\n",
    "            # DEADLOCK detection\n",
    "            if self.blocked[0] & self.otherblocked[0]: \n",
    "                self.running = False\n",
    "                print(f'!! P{self.prognum} detected DEADLOCK !!')\n",
    "        return self\n",
    "    \n",
    "    def _snd(self, op):\n",
    "        with self.lock: # Critical section\n",
    "            self.sndcount += 1\n",
    "            self.snds.append(self.value(op))\n",
    "            self.otherblocked[0] = False\n",
    "        self.pc += 1\n",
    "\n",
    "    def _rcv(self, op):\n",
    "        if self.part == 1:\n",
    "            # last sound played / message sent\n",
    "            print(f'part 1 answer: {self.snds[-1]}')\n",
    "            self.running = False\n",
    "        with self.lock: # Critical section\n",
    "            try:\n",
    "                self.blocked[0] = False\n",
    "                val = self.rcvs.popleft() # pull the oldest sound/message\n",
    "            except IndexError:\n",
    "                # run hot (could also sleep() a bit here)\n",
    "                self.blocked[0] = True\n",
    "                return # doesn't change self.pc, so rcv instruction will be retried\n",
    "        self.set_reg(op, val)\n",
    "        self.pc += 1\n",
    "        \n",
    "    def _set(self, op1, op2):\n",
    "        self.set_reg(op1, self.value(op2))\n",
    "        self.pc += 1\n",
    "\n",
    "    def _add(self, op1, op2):\n",
    "        self.set_reg(op1, self.value(op1) + self.value(op2))\n",
    "        self.pc += 1\n",
    "        \n",
    "    def _mul(self, op1, op2):\n",
    "        self.set_reg(op1, self.value(op1) * self.value(op2))\n",
    "        self.pc += 1\n",
    "        \n",
    "    def _mod(self, op1, op2):\n",
    "        self.set_reg(op1, self.value(op1) % self.value(op2))\n",
    "        self.pc += 1\n",
    "    \n",
    "    def _jgz(self, op1, op2):\n",
    "        if self.value(op1) > 0:\n",
    "            self.pc += self.value(op2)\n",
    "        else:\n",
    "            self.pc += 1\n",
    "\n",
    "    dispatcher = {'snd': (_snd, 1), # 'instr': (_instr_func, args)\n",
    "                  'rcv': (_rcv, 1),\n",
    "                  'set': (_set, 2),\n",
    "                  'add': (_add, 2),\n",
    "                  'mul': (_mul, 2),\n",
    "                  'mod': (_mod, 2),\n",
    "                  'jgz': (_jgz, 2)}\n",
    "            \n",
    "    def value(self, v):\n",
    "        v = v.strip()\n",
    "        try:\n",
    "            return int(v)\n",
    "        except ValueError:\n",
    "            return self.get_reg(v)\n",
    "            \n",
    "    def get_reg(self, r):\n",
    "        r = r.strip()\n",
    "        if r in self.registers:\n",
    "            return self.registers[r]\n",
    "        else:\n",
    "            self.registers[r] = 0\n",
    "            return 0\n",
    "        \n",
    "    def set_reg(self, r, val):\n",
    "        self.registers[r] = val"
   ]
  },
  {
   "cell_type": "markdown",
   "metadata": {},
   "source": [
    "# Part 2 - with threads and added Critical Section lock()ing:-"
   ]
  },
  {
   "cell_type": "code",
   "execution_count": 3,
   "metadata": {},
   "outputs": [
    {
     "name": "stdout",
     "output_type": "stream",
     "text": [
      "!! P0 detected DEADLOCK !!!! P1 detected DEADLOCK !!\n",
      "\n",
      "part 2 answer: 8001\n",
      "\n",
      "\n",
      " <P0> stopped <P1> stopped\n",
      "\n"
     ]
    }
   ],
   "source": [
    "prog0 = VM(prog, prognum=0, part=2, debug=False)\n",
    "prog1 = VM(prog, prognum=1, part=2, debug=False)\n",
    "\n",
    "prog0.connect(prog1)\n",
    "prog1.connect(prog0)\n",
    "\n",
    "\n",
    "threads = [threading.Thread(target=prog0.run), threading.Thread(target=prog1.run)]\n",
    "\n",
    "[t.start() for t in threads]\n",
    "[t.join() for t in threads] # \"And now, we wait.\" https://www.youtube.com/watch?v=x_iPvUWyzhE\n",
    "\n",
    "print(f'\\n\\npart 2 answer: {prog1.sndcount}')"
   ]
  },
  {
   "cell_type": "code",
   "execution_count": 4,
   "metadata": {},
   "outputs": [],
   "source": [
    "# If they ran correctly, both programs will:\n",
    "#\n",
    "# * be blocked\n",
    "# * be on instruction 21 ('rcv b')\n",
    "# * have empty send buffers\n",
    "# * will have send 8128 or 8001 times (prog0, prog1 respectively)\n",
    "assert((prog0.pc, prog0.prog[prog0.pc], prog0.sndcount, prog0.blocked, len(prog0.snds)) == (21, 'rcv b', 8128, [True], 0))\n",
    "assert((prog1.pc, prog1.prog[prog1.pc], prog1.sndcount, prog1.blocked, len(prog1.snds)) == (21, 'rcv b', 8001, [True], 0))"
   ]
  },
  {
   "cell_type": "code",
   "execution_count": null,
   "metadata": {
    "collapsed": true
   },
   "outputs": [],
   "source": []
  }
 ],
 "metadata": {
  "kernelspec": {
   "display_name": "Python 3",
   "language": "python",
   "name": "python3"
  },
  "language_info": {
   "codemirror_mode": {
    "name": "ipython",
    "version": 3
   },
   "file_extension": ".py",
   "mimetype": "text/x-python",
   "name": "python",
   "nbconvert_exporter": "python",
   "pygments_lexer": "ipython3",
   "version": "3.6.2"
  }
 },
 "nbformat": 4,
 "nbformat_minor": 2
}
