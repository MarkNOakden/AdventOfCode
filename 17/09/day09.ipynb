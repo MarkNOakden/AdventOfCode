{
 "cells": [
  {
   "cell_type": "code",
   "execution_count": 1,
   "metadata": {
    "collapsed": true
   },
   "outputs": [],
   "source": [
    "import unittest"
   ]
  },
  {
   "cell_type": "code",
   "execution_count": 2,
   "metadata": {
    "collapsed": true
   },
   "outputs": [],
   "source": [
    "input_stream = list(open('input.txt').read().strip())"
   ]
  },
  {
   "cell_type": "code",
   "execution_count": 3,
   "metadata": {
    "collapsed": true
   },
   "outputs": [],
   "source": [
    "def process_stream(s):\n",
    "    mode = 'GROUP'\n",
    "    cancelled = False\n",
    "    depth = 0\n",
    "    res = {'score': 0,\n",
    "           'group_count': 0,\n",
    "           'garbage_count': 0,\n",
    "           'non_garbage_count': 0,\n",
    "           'cancel_count': 0,\n",
    "           'max_depth': 0}\n",
    "    for c in s:\n",
    "        if cancelled:\n",
    "            cancelled = False\n",
    "            res['cancel_count'] += 1\n",
    "            continue\n",
    "        # Default mode - GROUP #######################################################################################\n",
    "        if mode == 'GROUP':\n",
    "            if c == '<':\n",
    "                res['non_garbage_count'] += 1\n",
    "                mode = 'GARBAGE'\n",
    "            elif c == '{':\n",
    "                res['non_garbage_count'] += 1\n",
    "                depth += 1\n",
    "                if depth > res['max_depth']:\n",
    "                    res['max_depth'] == depth\n",
    "            elif c == '}':\n",
    "                res['non_garbage_count'] += 1\n",
    "                res['group_count'] += 1\n",
    "                res['score'] += depth\n",
    "                depth -= 1\n",
    "# extraneous case - !-cancels only occur in garbage\n",
    "#             elif c == '!':\n",
    "#                 res['non_garbage_count'] += 1\n",
    "#                 cancelled = True\n",
    "        # mode - GARBAGE #############################################################################################\n",
    "        elif mode == 'GARBAGE':\n",
    "            if c == '>':\n",
    "                mode = 'GROUP'\n",
    "            elif c == '!':\n",
    "                cancelled = True\n",
    "            else:\n",
    "                res['garbage_count'] += 1\n",
    "        else:\n",
    "            raise ValueError(f'Unknown mode {mode}')\n",
    "    return res\n",
    "        "
   ]
  },
  {
   "cell_type": "code",
   "execution_count": 4,
   "metadata": {
    "collapsed": true
   },
   "outputs": [],
   "source": [
    "class TestIt(unittest.TestCase):\n",
    "    def test01(self):\n",
    "        res = process_stream('<{o\"i!a,<{i<a>')\n",
    "        self.assertEqual(res['group_count'], 0)\n",
    "    def test02(self):\n",
    "        res = process_stream('{{{}}}')\n",
    "        self.assertEqual(res['group_count'], 3)\n",
    "    def test03(self):\n",
    "        res = process_stream('{{{},{},{{}}}}')\n",
    "        self.assertEqual(res['group_count'], 6)\n",
    "    def test04(self):\n",
    "        res = process_stream('{<{},{},{{}}>}')\n",
    "        self.assertEqual(res['group_count'], 1)\n",
    "    def test05(self):\n",
    "        res = process_stream('{{<!>},{<!>},{<!>},{<a>}}')\n",
    "        self.assertEqual(res['group_count'], 2)\n",
    "    def test06(self):\n",
    "        res = process_stream('<{o\"i!a,<{i<a>')\n",
    "        self.assertEqual(res['score'], 0)\n",
    "    def test07(self):\n",
    "        res = process_stream('{{{}}}')\n",
    "        self.assertEqual(res['score'], 6)\n",
    "    def test08(self):\n",
    "        res = process_stream('{{{},{},{{}}}}')\n",
    "        self.assertEqual(res['score'], 16)\n",
    "    def test09(self):\n",
    "        res = process_stream('{{<ab>},{<ab>},{<ab>},{<ab>}}')\n",
    "        self.assertEqual(res['score'], 9)\n",
    "    def test10(self):\n",
    "        res = process_stream('{{<!!>},{<!!>},{<!!>},{<!!>}}')\n",
    "        self.assertEqual(res['score'], 9)\n",
    "    def test11(self):\n",
    "        res = process_stream('{{<a!>},{<a!>},{<a!>},{<ab>}}')\n",
    "        self.assertEqual(res['score'], 3) \n",
    "    def test12(self):\n",
    "        res = process_stream('<>')\n",
    "        self.assertEqual(res['garbage_count'], 0) \n",
    "    def test13(self):\n",
    "        res = process_stream('<>')\n",
    "        self.assertEqual(res['garbage_count'], 0) \n",
    "    def test14(self):\n",
    "        res = process_stream('<random characters>')\n",
    "        self.assertEqual(res['garbage_count'], 17) \n",
    "    def test15(self):\n",
    "        res = process_stream('<<<<>')\n",
    "        self.assertEqual(res['garbage_count'], 3) \n",
    "    def test16(self):\n",
    "        res = process_stream('<{!>}>')\n",
    "        self.assertEqual(res['garbage_count'], 2) \n",
    "    def test17(self):\n",
    "        res = process_stream('<!!>')\n",
    "        self.assertEqual(res['garbage_count'], 0) \n",
    "    def test18(self):\n",
    "        res = process_stream('<!!!>>')\n",
    "        self.assertEqual(res['garbage_count'], 0) \n",
    "    def test19(self):\n",
    "        res = process_stream('<{o\"i!a,<{i<a>')\n",
    "        self.assertEqual(res['garbage_count'], 10) \n"
   ]
  },
  {
   "cell_type": "code",
   "execution_count": 5,
   "metadata": {},
   "outputs": [
    {
     "name": "stderr",
     "output_type": "stream",
     "text": [
      "test01 (__main__.TestIt) ... ok\n",
      "test02 (__main__.TestIt) ... ok\n",
      "test03 (__main__.TestIt) ... ok\n",
      "test04 (__main__.TestIt) ... ok\n",
      "test05 (__main__.TestIt) ... ok\n",
      "test06 (__main__.TestIt) ... ok\n",
      "test07 (__main__.TestIt) ... ok\n",
      "test08 (__main__.TestIt) ... ok\n",
      "test09 (__main__.TestIt) ... ok\n",
      "test10 (__main__.TestIt) ... ok\n",
      "test11 (__main__.TestIt) ... ok\n",
      "test12 (__main__.TestIt) ... ok\n",
      "test13 (__main__.TestIt) ... ok\n",
      "test14 (__main__.TestIt) ... ok\n",
      "test15 (__main__.TestIt) ... ok\n",
      "test16 (__main__.TestIt) ... ok\n",
      "test17 (__main__.TestIt) ... ok\n",
      "test18 (__main__.TestIt) ... ok\n",
      "test19 (__main__.TestIt) ... ok\n",
      "\n",
      "----------------------------------------------------------------------\n",
      "Ran 19 tests in 0.053s\n",
      "\n",
      "OK\n"
     ]
    },
    {
     "data": {
      "text/plain": [
       "<unittest.runner.TextTestResult run=19 errors=0 failures=0>"
      ]
     },
     "execution_count": 5,
     "metadata": {},
     "output_type": "execute_result"
    }
   ],
   "source": [
    "suite = unittest.TestLoader().loadTestsFromTestCase(TestIt)\n",
    "unittest.TextTestRunner(verbosity=2).run(suite)"
   ]
  },
  {
   "cell_type": "code",
   "execution_count": 6,
   "metadata": {
    "collapsed": true
   },
   "outputs": [],
   "source": [
    "res = process_stream(input_stream)"
   ]
  },
  {
   "cell_type": "code",
   "execution_count": 7,
   "metadata": {},
   "outputs": [
    {
     "name": "stdout",
     "output_type": "stream",
     "text": [
      "part 1 answer: 11846\n",
      "part 2 answer 6285\n"
     ]
    }
   ],
   "source": [
    "print(f'part 1 answer: {res[\"score\"]}\\npart 2 answer {res[\"garbage_count\"]}')"
   ]
  },
  {
   "cell_type": "code",
   "execution_count": null,
   "metadata": {
    "collapsed": true
   },
   "outputs": [],
   "source": []
  }
 ],
 "metadata": {
  "kernelspec": {
   "display_name": "Python 3",
   "language": "python",
   "name": "python3"
  },
  "language_info": {
   "codemirror_mode": {
    "name": "ipython",
    "version": 3
   },
   "file_extension": ".py",
   "mimetype": "text/x-python",
   "name": "python",
   "nbconvert_exporter": "python",
   "pygments_lexer": "ipython3",
   "version": "3.6.5"
  }
 },
 "nbformat": 4,
 "nbformat_minor": 2
}
