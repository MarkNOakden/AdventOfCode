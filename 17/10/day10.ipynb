{
 "cells": [
  {
   "cell_type": "code",
   "execution_count": 1,
   "metadata": {
    "collapsed": true
   },
   "outputs": [],
   "source": [
    "import unittest\n",
    "import numpy as np\n",
    "import operator\n",
    "from functools import reduce"
   ]
  },
  {
   "cell_type": "code",
   "execution_count": 2,
   "metadata": {
    "collapsed": true
   },
   "outputs": [],
   "source": [
    "input_str = open('input.txt').read().strip()\n",
    "input_lengths = list(map(int, input_str.split(',')))"
   ]
  },
  {
   "cell_type": "code",
   "execution_count": 3,
   "metadata": {
    "collapsed": true
   },
   "outputs": [],
   "source": [
    "def mklengths(s):\n",
    "    return list(map(ord, s)) + [17, 31, 73, 47, 23]"
   ]
  },
  {
   "cell_type": "code",
   "execution_count": 4,
   "metadata": {
    "collapsed": true
   },
   "outputs": [],
   "source": [
    "input_lengths_part2 = mklengths(input_str)"
   ]
  },
  {
   "cell_type": "code",
   "execution_count": 5,
   "metadata": {
    "collapsed": true
   },
   "outputs": [],
   "source": [
    "class Ring(object):\n",
    "    def __init__(self, size=256):\n",
    "        self.l = np.arange(size)\n",
    "        self.len = size\n",
    "        self.cur = 0\n",
    "        self.skip = 0\n",
    "\n",
    "    def checksum(self):\n",
    "        return self.l[0] * self.l[1]\n",
    "    \n",
    "    def knot(self, length):\n",
    "        # bring the current to the hed of the list\n",
    "        tmp = np.roll(self.l, -self.cur)\n",
    "        #print(f'1> {tmp}')\n",
    "        # reverse the elements\n",
    "        tmp[0:length] = tmp[0:length][::-1]\n",
    "        #print(f'2> {tmp}')\n",
    "        # roll it back to the original positions\n",
    "        self.l = np.roll(tmp, self.cur)\n",
    "        # now make the current and skip modifications\n",
    "        self.cur = (self.cur + length + self.skip) % self.len\n",
    "        self.skip += 1\n",
    "        return self\n",
    "    \n",
    "    def knot_all(self, lengths):\n",
    "        for l in lengths:\n",
    "            self.knot(l)\n",
    "        return self\n",
    "    \n",
    "    def do_rounds(self, lengths, rounds=64):\n",
    "        for i in range(rounds):\n",
    "            self.knot_all(lengths)\n",
    "        return self\n",
    "    \n",
    "    def dense_hash(self):\n",
    "        tmp = self.l\n",
    "        dense = []\n",
    "        for i in range(16):\n",
    "            chunk = tmp[0:16]\n",
    "            tmp = tmp[16:]\n",
    "            dense.append(reduce(operator.xor, chunk))\n",
    "        #return ''.join(lambda x: f'{x:2x}' for x in dense)\n",
    "        return ''.join([f'{x:02x}' for x in dense])\n",
    "    \n",
    "    def __str__(self):\n",
    "        outl = []\n",
    "        for i, c in enumerate(self.l):\n",
    "            outl.append(f'[{c}]' if i == self.cur else f'{c}')\n",
    "        return ' '.join(outl)\n",
    "    \n",
    "    __repr__ = __str__"
   ]
  },
  {
   "cell_type": "code",
   "execution_count": 6,
   "metadata": {
    "collapsed": true
   },
   "outputs": [],
   "source": [
    "class TestIt(unittest.TestCase):\n",
    "    def test01(self):\n",
    "        r = Ring(5)\n",
    "        r.knot(3)\n",
    "        self.assertEqual(str(r), '2 1 0 [3] 4')\n",
    "    def test02(self):\n",
    "        r = Ring(5)\n",
    "        r.knot_all([3, 4])\n",
    "        self.assertEqual(str(r), '4 3 0 [1] 2')\n",
    "    def test03(self):\n",
    "        r = Ring(5)\n",
    "        r.knot_all([3, 4, 1])\n",
    "        self.assertEqual(str(r), '4 [3] 0 1 2')\n",
    "    def test04(self):\n",
    "        r = Ring(5)\n",
    "        r.knot_all([3, 4, 1, 5])\n",
    "        self.assertEqual(str(r), '3 4 2 1 [0]')\n",
    "    def test05(self):\n",
    "        r = Ring(5)\n",
    "        r.knot_all([3, 4, 1, 5])\n",
    "        self.assertEqual(r.checksum(), 12)\n",
    "    def test06(self):\n",
    "        r = Ring(256)\n",
    "        lengths = mklengths('')\n",
    "        r.do_rounds(lengths)\n",
    "        self.assertEqual(r.dense_hash(), 'a2582a3a0e66e6e86e3812dcb672a272')\n",
    "    def test07(self):\n",
    "        r = Ring(256)\n",
    "        lengths = mklengths('AoC 2017')\n",
    "        r.do_rounds(lengths)\n",
    "        self.assertEqual(r.dense_hash(), '33efeb34ea91902bb2f59c9920caa6cd')\n",
    "    def test08(self):\n",
    "        r = Ring(256)\n",
    "        lengths = mklengths('1,2,3')\n",
    "        r.do_rounds(lengths)\n",
    "        self.assertEqual(r.dense_hash(), '3efbe78a8d82f29979031a4aa0b16a9d')\n",
    "    def test09(self):\n",
    "        r = Ring(256)\n",
    "        lengths = mklengths('1,2,4')\n",
    "        r.do_rounds(lengths)\n",
    "        self.assertEqual(r.dense_hash(), '63960835bcdc130f0b66d7ff4f6a5a8e')\n"
   ]
  },
  {
   "cell_type": "code",
   "execution_count": 7,
   "metadata": {},
   "outputs": [
    {
     "name": "stderr",
     "output_type": "stream",
     "text": [
      "test01 (__main__.TestIt) ... ok\n",
      "test02 (__main__.TestIt) ... ok\n",
      "test03 (__main__.TestIt) ... ok\n",
      "test04 (__main__.TestIt) ... ok\n",
      "test05 (__main__.TestIt) ... ok\n",
      "test06 (__main__.TestIt) ... ok\n",
      "test07 (__main__.TestIt) ... ok\n",
      "test08 (__main__.TestIt) ... ok\n",
      "test09 (__main__.TestIt) ... ok\n",
      "\n",
      "----------------------------------------------------------------------\n",
      "Ran 9 tests in 0.167s\n",
      "\n",
      "OK\n"
     ]
    },
    {
     "data": {
      "text/plain": [
       "<unittest.runner.TextTestResult run=9 errors=0 failures=0>"
      ]
     },
     "execution_count": 7,
     "metadata": {},
     "output_type": "execute_result"
    }
   ],
   "source": [
    "suite = unittest.TestLoader().loadTestsFromTestCase(TestIt)\n",
    "unittest.TextTestRunner(verbosity=2).run(suite)"
   ]
  },
  {
   "cell_type": "code",
   "execution_count": 8,
   "metadata": {
    "collapsed": true
   },
   "outputs": [],
   "source": [
    "r = Ring(256)"
   ]
  },
  {
   "cell_type": "code",
   "execution_count": 9,
   "metadata": {},
   "outputs": [
    {
     "name": "stdout",
     "output_type": "stream",
     "text": [
      "part 1 answer: 38628\n"
     ]
    }
   ],
   "source": [
    "r.knot_all(input_lengths)\n",
    "print(f'part 1 answer: {r.checksum()}')"
   ]
  },
  {
   "cell_type": "code",
   "execution_count": 10,
   "metadata": {
    "collapsed": true
   },
   "outputs": [],
   "source": [
    "r = Ring(256)"
   ]
  },
  {
   "cell_type": "code",
   "execution_count": 11,
   "metadata": {},
   "outputs": [
    {
     "name": "stdout",
     "output_type": "stream",
     "text": [
      "part 2 answer: e1462100a34221a7f0906da15c1c979a\n"
     ]
    }
   ],
   "source": [
    "r.do_rounds(input_lengths_part2)\n",
    "print(f'part 2 answer: {r.dense_hash()}')"
   ]
  },
  {
   "cell_type": "code",
   "execution_count": null,
   "metadata": {
    "collapsed": true
   },
   "outputs": [],
   "source": []
  }
 ],
 "metadata": {
  "kernelspec": {
   "display_name": "Python 3",
   "language": "python",
   "name": "python3"
  },
  "language_info": {
   "codemirror_mode": {
    "name": "ipython",
    "version": 3
   },
   "file_extension": ".py",
   "mimetype": "text/x-python",
   "name": "python",
   "nbconvert_exporter": "python",
   "pygments_lexer": "ipython3",
   "version": "3.6.4"
  }
 },
 "nbformat": 4,
 "nbformat_minor": 2
}
