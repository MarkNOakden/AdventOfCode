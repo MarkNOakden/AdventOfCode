{
 "cells": [
  {
   "cell_type": "markdown",
   "metadata": {},
   "source": [
    "# `--- Day 17: Spinlock ---`\n",
    "\n",
    "## Part 1"
   ]
  },
  {
   "cell_type": "code",
   "execution_count": 1,
   "metadata": {
    "collapsed": true
   },
   "outputs": [],
   "source": [
    "class Spinlock(object):\n",
    "    def __init__(self, step=3):\n",
    "        self.spinlock = [0]\n",
    "        self.current_index = 0\n",
    "        self.step = step\n",
    "\n",
    "    def current_value(self):\n",
    "        return self.spinlock[self.current_index]\n",
    "    \n",
    "    def add_one(self):\n",
    "        new_index = (self.current_index + self.step) % self.len() + 1\n",
    "        new_val = self.current_value() + 1\n",
    "        self.spinlock.insert(new_index, new_val)\n",
    "        self.current_index = new_index\n",
    "        return self\n",
    "\n",
    "    def len(self):\n",
    "        return len(self.spinlock)\n",
    "    \n",
    "    def __str__(self):\n",
    "        return ' '.join(f'({i})' if i == self.current_value() else f'{i}'\n",
    "                       for i in self.spinlock)\n",
    "\n",
    "    __repr__ = __str__"
   ]
  },
  {
   "cell_type": "code",
   "execution_count": 2,
   "metadata": {},
   "outputs": [
    {
     "name": "stdout",
     "output_type": "stream",
     "text": [
      "part 1 answer: 1244\n",
      "5.22 ms ± 0 ns per loop (mean ± std. dev. of 1 run, 1 loop each)\n"
     ]
    }
   ],
   "source": [
    "%%timeit -n 1 -r 1\n",
    "s = Spinlock(step=370)\n",
    "\n",
    "for i in range(2017):\n",
    "    s.add_one()\n",
    "\n",
    "print(f'part 1 answer: {s.spinlock[s.current_index + 1]}')"
   ]
  },
  {
   "cell_type": "markdown",
   "metadata": {},
   "source": [
    "## Part 2\n",
    "The key to part 2 is the recurrence relation between the insertion position at step $n$: $k_n$) and the insertion postion at the previous step: $k_{n-1}$:-\n",
    "\n",
    "$$\n",
    "k_n = 1 + [k_{n-1} + 370]\\pmod n\n",
    "$$\n",
    "\n",
    "with the first few positions being:\n",
    "\n",
    "$$\n",
    "k_0 = 0\\\\\n",
    "k_1 = 1 + [370 + k_0]\\pmod 1 = 1\\\\\n",
    "k_2 = 1 + [370 + k_1]\\pmod 2 = 2\\\\\n",
    "k_3 = 1 + [370 + k_2]\\pmod 3 = 1\\\\\n",
    "k_4 = 1 + [370 + k_3]\\pmod 4 = 4\n",
    "$$\n",
    "\n",
    "The 0 element always stays at the start of the buffer (there is no way that the position after the current position can be the 0 element since the current position can never be less than 0)\n",
    "\n",
    "The only time that the value following 0 changes is when the insertion position is at 1.  We therefore step through to 50,000,000, calculating the next offset via the recurrence relation each time.  The last time this is equal to 1 prior to the 50,000,000th iteration is the value we are looking for."
   ]
  },
  {
   "cell_type": "code",
   "execution_count": 3,
   "metadata": {},
   "outputs": [
    {
     "name": "stdout",
     "output_type": "stream",
     "text": [
      "part 2 answer: 11162912\n",
      "19.1 s ± 0 ns per loop (mean ± std. dev. of 1 run, 1 loop each)\n"
     ]
    }
   ],
   "source": [
    "%%timeit -n 1 -r 1\n",
    "last = 0\n",
    "highest = 0\n",
    "for i in range(50000000):\n",
    "    n = i + 1\n",
    "    k_n = (last + 370) % n + 1\n",
    "    if k_n == 1:\n",
    "        highest = n\n",
    "    last = k_n\n",
    "print(f'part 2 answer: {highest}')"
   ]
  },
  {
   "cell_type": "code",
   "execution_count": null,
   "metadata": {
    "collapsed": true
   },
   "outputs": [],
   "source": []
  }
 ],
 "metadata": {
  "kernelspec": {
   "display_name": "Python 3",
   "language": "python",
   "name": "python3"
  },
  "language_info": {
   "codemirror_mode": {
    "name": "ipython",
    "version": 3
   },
   "file_extension": ".py",
   "mimetype": "text/x-python",
   "name": "python",
   "nbconvert_exporter": "python",
   "pygments_lexer": "ipython3",
   "version": "3.6.2"
  }
 },
 "nbformat": 4,
 "nbformat_minor": 2
}
