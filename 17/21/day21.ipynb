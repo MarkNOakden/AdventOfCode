{
 "cells": [
  {
   "cell_type": "markdown",
   "metadata": {},
   "source": [
    "# `--- Day 21: Fractal Art ---`"
   ]
  },
  {
   "cell_type": "code",
   "execution_count": 1,
   "metadata": {},
   "outputs": [],
   "source": [
    "from collections import Counter\n",
    "from functools import reduce\n",
    "from operator import concat"
   ]
  },
  {
   "cell_type": "code",
   "execution_count": 2,
   "metadata": {},
   "outputs": [],
   "source": [
    "input_lines = open('input.txt').readlines()\n",
    "test_lines = '''../.# => ##./#../...\n",
    ".#./..#/### => #..#/..../..../#..#'''.splitlines()"
   ]
  },
  {
   "cell_type": "markdown",
   "metadata": {},
   "source": [
    "## convert strings <-> grids"
   ]
  },
  {
   "cell_type": "code",
   "execution_count": 3,
   "metadata": {},
   "outputs": [],
   "source": [
    "def string2grid(s):\n",
    "    g = []\n",
    "    for l in s.split('/'):\n",
    "        g.append(list(l))\n",
    "    return g\n",
    "\n",
    "def grid2string(g):\n",
    "    s = []\n",
    "    for l in g:\n",
    "        s.append(''.join(l))\n",
    "    return '/'.join(s)"
   ]
  },
  {
   "cell_type": "markdown",
   "metadata": {},
   "source": [
    "## split/combine grids, apply enhancement..."
   ]
  },
  {
   "cell_type": "code",
   "execution_count": 4,
   "metadata": {},
   "outputs": [],
   "source": [
    "def splitsize(g):\n",
    "    if len(g) % 2 == 0:\n",
    "        return 2\n",
    "    else:\n",
    "        return 3\n",
    "\n",
    "def lsplit(l, chunksize):\n",
    "    assert(len(l) % chunksize == 0)\n",
    "    inlist = l[:] # copy\n",
    "    outlist = []\n",
    "    while inlist:\n",
    "        chunk = inlist[:chunksize]\n",
    "        inlist = inlist[chunksize:]\n",
    "        outlist.append(chunk)\n",
    "    return outlist\n",
    "        \n",
    "def split(g):\n",
    "    size = splitsize(g)\n",
    "    splitter = lambda x: lsplit(x, size)\n",
    "    out_grid = [] # will be NxN list of grids (each a MxM list of chars)\n",
    "    in_grid = g[:] # shallow copy\n",
    "    while in_grid:\n",
    "        rows = in_grid[:size]\n",
    "        in_grid = in_grid[size:]\n",
    "        splitrows = list(map(splitter, rows))\n",
    "        out_grid.append(list(map(list, zip(*splitrows))))\n",
    "    return out_grid\n",
    "\n",
    "def combine(g):\n",
    "    out_list = []\n",
    "    for row in g:\n",
    "        out_list.append(list(map(lambda x: reduce(concat,x), list(zip(*row)))))\n",
    "    return list(reduce(concat, out_list))\n",
    "\n",
    "def enhance(grid, rules):\n",
    "    enhanced = []\n",
    "    for row in split(grid): # split\n",
    "        erow = []\n",
    "        for g in row:\n",
    "            key = grid2string(g)\n",
    "            erow.append(string2grid(rules[key])) # apply\n",
    "        enhanced.append(erow)\n",
    "    return combine(enhanced) # combine"
   ]
  },
  {
   "cell_type": "markdown",
   "metadata": {},
   "source": [
    "## grid transformations"
   ]
  },
  {
   "cell_type": "code",
   "execution_count": 5,
   "metadata": {},
   "outputs": [],
   "source": [
    "def compose(f,g):\n",
    "    def new(x):\n",
    "        return f(g(x))\n",
    "    return new\n",
    "\n",
    "def vflip(g):\n",
    "    return list(reversed(g))\n",
    "\n",
    "def hflip(g):\n",
    "    return list(map(lambda x: list(reversed(x)), g))\n",
    "\n",
    "def transpose(g):\n",
    "    return list(map(list, zip(*g)))\n",
    "\n",
    "def e(g):\n",
    "    # identity element\n",
    "    return g\n",
    "\n",
    "r90 = compose(transpose, vflip)\n",
    "r180 = compose(hflip, vflip)\n",
    "r270 = compose(transpose, hflip)\n",
    "neswflip = compose(vflip, r90)\n",
    "nwseflip = compose(hflip, r90)\n",
    "\n",
    "all_transforms = [e, r90, r180, r270, hflip, vflip, neswflip, nwseflip] # symmetry group of square\n",
    "\n",
    "def fapply(flist, arg):\n",
    "    '''apply a list of functions to an argument, returning the list of results\n",
    "    fapply([f, g, h], x) => [f(x), g(x), h(x)]'''\n",
    "    return list(map(lambda x: x(arg), flist))"
   ]
  },
  {
   "cell_type": "markdown",
   "metadata": {},
   "source": [
    "## pretty printing grids"
   ]
  },
  {
   "cell_type": "code",
   "execution_count": 6,
   "metadata": {},
   "outputs": [],
   "source": [
    "def as_str(g):\n",
    "    return '\\n'.join(map(lambda x: ''.join(x), g))\n",
    "\n",
    "def pretty(g):\n",
    "    print(as_str(g))"
   ]
  },
  {
   "cell_type": "code",
   "execution_count": 7,
   "metadata": {},
   "outputs": [],
   "source": [
    "def pixelcount(g):\n",
    "    c = Counter(grid2string(g))\n",
    "    return c['#']"
   ]
  },
  {
   "cell_type": "markdown",
   "metadata": {},
   "source": [
    "## make enhancement dictionary"
   ]
  },
  {
   "cell_type": "code",
   "execution_count": 8,
   "metadata": {},
   "outputs": [],
   "source": [
    "def rules2dict(rules):\n",
    "    rulesdict = {}\n",
    "    for rule in rules:\n",
    "        rule = rule.strip()\n",
    "        pattern, _, target = rule.partition(' => ')\n",
    "        for pat in map(grid2string, fapply(all_transforms, string2grid(pattern))):\n",
    "            rulesdict[pat] = target\n",
    "    return rulesdict"
   ]
  },
  {
   "cell_type": "markdown",
   "metadata": {},
   "source": [
    "### Testing"
   ]
  },
  {
   "cell_type": "code",
   "execution_count": 9,
   "metadata": {},
   "outputs": [],
   "source": [
    "rules = rules2dict(test_lines)"
   ]
  },
  {
   "cell_type": "code",
   "execution_count": 10,
   "metadata": {},
   "outputs": [
    {
     "name": "stdout",
     "output_type": "stream",
     "text": [
      ".#.\n",
      "..#\n",
      "###\n"
     ]
    }
   ],
   "source": [
    "start = string2grid('.#./..#/###')\n",
    "pretty(start)"
   ]
  },
  {
   "cell_type": "code",
   "execution_count": 11,
   "metadata": {},
   "outputs": [
    {
     "name": "stdout",
     "output_type": "stream",
     "text": [
      "#..#\n",
      "....\n",
      "....\n",
      "#..#\n"
     ]
    }
   ],
   "source": [
    "iter1 = enhance(start, rules)\n",
    "pretty(iter1)"
   ]
  },
  {
   "cell_type": "code",
   "execution_count": 12,
   "metadata": {},
   "outputs": [
    {
     "name": "stdout",
     "output_type": "stream",
     "text": [
      "##.##.\n",
      "#..#..\n",
      "......\n",
      "##.##.\n",
      "#..#..\n",
      "......\n"
     ]
    }
   ],
   "source": [
    "iter2 = enhance(iter1, rules)\n",
    "pretty(iter2)"
   ]
  },
  {
   "cell_type": "code",
   "execution_count": 13,
   "metadata": {},
   "outputs": [
    {
     "name": "stdout",
     "output_type": "stream",
     "text": [
      "testing part 1: 12\n"
     ]
    }
   ],
   "source": [
    "print(f'testing part 1: {pixelcount(iter2)}')"
   ]
  },
  {
   "cell_type": "markdown",
   "metadata": {},
   "source": [
    "# Part 1"
   ]
  },
  {
   "cell_type": "code",
   "execution_count": 14,
   "metadata": {},
   "outputs": [],
   "source": [
    "rules = rules2dict(input_lines)"
   ]
  },
  {
   "cell_type": "code",
   "execution_count": null,
   "metadata": {},
   "outputs": [
    {
     "name": "stdout",
     "output_type": "stream",
     "text": [
      "part 1 answer: 194\n",
      "546 µs ± 0 ns per loop (mean ± std. dev. of 1 run, 1 loop each)\n"
     ]
    }
   ],
   "source": [
    "%%timeit -n 1 -r 1\n",
    "g = start\n",
    "for i in range(5):\n",
    "    g = enhance(g, rules)\n",
    "print(f'part 1 answer: {pixelcount(g)}')"
   ]
  },
  {
   "cell_type": "markdown",
   "metadata": {},
   "source": [
    "# Part 2"
   ]
  },
  {
   "cell_type": "code",
   "execution_count": null,
   "metadata": {},
   "outputs": [],
   "source": [
    "%%timeit -n 1 -r 1\n",
    "g = start\n",
    "for i in range(18):\n",
    "    g = enhance(g, rules)\n",
    "print(f'part 2 answer: {pixelcount(g)}')"
   ]
  },
  {
   "cell_type": "code",
   "execution_count": null,
   "metadata": {},
   "outputs": [],
   "source": []
  },
  {
   "cell_type": "code",
   "execution_count": null,
   "metadata": {},
   "outputs": [],
   "source": []
  }
 ],
 "metadata": {
  "kernelspec": {
   "display_name": "Python 3",
   "language": "python",
   "name": "python3"
  },
  "language_info": {
   "codemirror_mode": {
    "name": "ipython",
    "version": 3
   },
   "file_extension": ".py",
   "mimetype": "text/x-python",
   "name": "python",
   "nbconvert_exporter": "python",
   "pygments_lexer": "ipython3",
   "version": "3.6.3"
  }
 },
 "nbformat": 4,
 "nbformat_minor": 2
}
