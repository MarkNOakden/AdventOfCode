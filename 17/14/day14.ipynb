{
 "cells": [
  {
   "cell_type": "markdown",
   "metadata": {},
   "source": [
    "# --- Day 14: Disk Defragmentation ---"
   ]
  },
  {
   "cell_type": "code",
   "execution_count": 1,
   "metadata": {
    "collapsed": true
   },
   "outputs": [],
   "source": [
    "import unittest\n",
    "import numpy as np\n",
    "import operator\n",
    "from functools import reduce"
   ]
  },
  {
   "cell_type": "code",
   "execution_count": 2,
   "metadata": {
    "collapsed": true
   },
   "outputs": [],
   "source": [
    "input_str = 'hwlqcszp'\n",
    "#input_str = 'flqrgnkx'\n",
    "input_strings = [input_str + f'-{i}' for i in range(128)]"
   ]
  },
  {
   "cell_type": "code",
   "execution_count": 3,
   "metadata": {
    "collapsed": true
   },
   "outputs": [],
   "source": [
    "def mklengths(s):\n",
    "    return list(map(ord, s)) + [17, 31, 73, 47, 23]"
   ]
  },
  {
   "cell_type": "code",
   "execution_count": 4,
   "metadata": {
    "collapsed": true
   },
   "outputs": [],
   "source": [
    "class Ring(object):\n",
    "    def __init__(self, size=256):\n",
    "        self.l = np.arange(size)\n",
    "        self.len = size\n",
    "        self.cur = 0\n",
    "        self.skip = 0\n",
    "\n",
    "    def checksum(self):\n",
    "        return self.l[0] * self.l[1]\n",
    "    \n",
    "    def knot(self, length):\n",
    "        # bring the current to the hed of the list\n",
    "        tmp = np.roll(self.l, -self.cur)\n",
    "        #print(f'1> {tmp}')\n",
    "        # reverse the elements\n",
    "        tmp[0:length] = tmp[0:length][::-1]\n",
    "        #print(f'2> {tmp}')\n",
    "        # roll it back to the original positions\n",
    "        self.l = np.roll(tmp, self.cur)\n",
    "        # now make the current and skip modifications\n",
    "        self.cur = (self.cur + length + self.skip) % self.len\n",
    "        self.skip += 1\n",
    "        return self\n",
    "    \n",
    "    def knot_all(self, lengths):\n",
    "        for l in lengths:\n",
    "            self.knot(l)\n",
    "        return self\n",
    "    \n",
    "    def do_rounds(self, lengths, rounds=64):\n",
    "        for i in range(rounds):\n",
    "            self.knot_all(lengths)\n",
    "        return self\n",
    "    \n",
    "    def dense_hash(self):\n",
    "        tmp = self.l\n",
    "        dense = []\n",
    "        for i in range(16):\n",
    "            chunk = tmp[0:16]\n",
    "            tmp = tmp[16:]\n",
    "            dense.append(reduce(operator.xor, chunk))\n",
    "        #return ''.join(lambda x: f'{x:2x}' for x in dense)\n",
    "        return ''.join([f'{x:02x}' for x in dense])\n",
    "    \n",
    "    def __str__(self):\n",
    "        outl = []\n",
    "        for i, c in enumerate(self.l):\n",
    "            outl.append(f'[{c}]' if i == self.cur else f'{c}')\n",
    "        return ' '.join(outl)\n",
    "    \n",
    "    __repr__ = __str__"
   ]
  },
  {
   "cell_type": "code",
   "execution_count": 5,
   "metadata": {
    "collapsed": true
   },
   "outputs": [],
   "source": [
    "input_lengths = list(map(mklengths, input_strings))"
   ]
  },
  {
   "cell_type": "code",
   "execution_count": 6,
   "metadata": {
    "collapsed": true
   },
   "outputs": [],
   "source": [
    "knot = Ring()"
   ]
  },
  {
   "cell_type": "code",
   "execution_count": 7,
   "metadata": {
    "collapsed": true
   },
   "outputs": [],
   "source": [
    "hashes = []\n",
    "for i in input_lengths:\n",
    "    knot = Ring()\n",
    "    l = knot.do_rounds(i)\n",
    "    hashes.append(knot.dense_hash())"
   ]
  },
  {
   "cell_type": "code",
   "execution_count": 8,
   "metadata": {
    "collapsed": true
   },
   "outputs": [],
   "source": [
    "bits = dict()\n",
    "bits['0'] = [0, 0, 0, 0]\n",
    "bits['1'] = [0, 0, 0, 1]\n",
    "bits['2'] = [0, 0, 1, 0]\n",
    "bits['3'] = [0, 0, 1, 1]\n",
    "bits['4'] = [0, 1, 0, 0]\n",
    "bits['5'] = [0, 1, 0, 1]\n",
    "bits['6'] = [0, 1, 1, 0]\n",
    "bits['7'] = [0, 1, 1, 1]\n",
    "bits['8'] = [1, 0, 0, 0]\n",
    "bits['9'] = [1, 0, 0, 1]\n",
    "bits['a'] = [1, 0, 1, 0]\n",
    "bits['b'] = [1, 0, 1, 1]\n",
    "bits['c'] = [1, 1, 0, 0]\n",
    "bits['d'] = [1, 1, 0, 1]\n",
    "bits['e'] = [1, 1, 1, 0]\n",
    "bits['f'] = [1, 1, 1, 1]"
   ]
  },
  {
   "cell_type": "code",
   "execution_count": 9,
   "metadata": {
    "collapsed": true
   },
   "outputs": [],
   "source": [
    "import pandas as pd"
   ]
  },
  {
   "cell_type": "code",
   "execution_count": 10,
   "metadata": {
    "collapsed": true
   },
   "outputs": [],
   "source": [
    "hashes_bin = []\n",
    "for h in hashes:\n",
    "    hashes_bin.append(reduce(operator.add, map(lambda x: bits[x], list(h))))\n",
    "\n",
    "disk = pd.DataFrame(hashes_bin)"
   ]
  },
  {
   "cell_type": "code",
   "execution_count": 11,
   "metadata": {},
   "outputs": [
    {
     "name": "stdout",
     "output_type": "stream",
     "text": [
      "part 1 answer: 8304\n"
     ]
    }
   ],
   "source": [
    "print(f'part 1 answer: {disk.sum().sum()}')"
   ]
  },
  {
   "cell_type": "code",
   "execution_count": 46,
   "metadata": {
    "collapsed": true
   },
   "outputs": [],
   "source": [
    "group_grid = pd.DataFrame(np.zeros(shape=(128, 128), dtype=np.int))"
   ]
  },
  {
   "cell_type": "code",
   "execution_count": 47,
   "metadata": {
    "collapsed": true
   },
   "outputs": [],
   "source": [
    "used_groups = set([0])\n",
    "for row in range(128):\n",
    "    above = disk.shift().fillna(0).astype(np.int)\n",
    "    left = disk.shift(axis=1).fillna(0).astype(np.int)\n",
    "    for col in range(128):\n",
    "        if disk.loc[row, col] == 1:\n",
    "            # if there is an entry above, then we use that number\n",
    "            if above.loc[row, col] != 0:\n",
    "                group_grid.loc[row, col] = group_grid.loc[row - 1, col]\n",
    "                # if there is an entry to our left, replace all entries matching that\n",
    "                if left.loc[row, col] != 0:\n",
    "                    this_val = group_grid.loc[row, col]\n",
    "                    left_val = group_grid.loc[row, col - 1]\n",
    "                    #print(f'r,c = {row,col} this = {this_val} left = {left_val}')\n",
    "                    if left_val != this_val:\n",
    "                        used_groups.remove(left_val)\n",
    "                        # replace all group_grid entries matching left.loc[row, col] with group_grid.loc[row, col]\n",
    "                        group_grid.loc[0:row, :] = group_grid.loc[0:row, :].applymap(lambda x: this_val if x == left_val else x)\n",
    "            elif left.loc[row, col] != 0:\n",
    "                group_grid.loc[row, col] = group_grid.loc[row, col - 1]\n",
    "            else:\n",
    "                # new group number - smallest +ve integer not in used_groups\n",
    "                max_group=max(used_groups)\n",
    "                next_group = min([i for i in range(max_group + 2) if i not in used_groups])\n",
    "                group_grid.loc[row, col] = next_group\n",
    "                used_groups.add(next_group)\n",
    "\n",
    "            "
   ]
  },
  {
   "cell_type": "code",
   "execution_count": 48,
   "metadata": {},
   "outputs": [
    {
     "name": "stdout",
     "output_type": "stream",
     "text": [
      "part 2 answer: 1018\n"
     ]
    }
   ],
   "source": [
    "print(f'part 2 answer: {len(used_groups) - 1}')"
   ]
  },
  {
   "cell_type": "markdown",
   "metadata": {},
   "source": [
    "# eye-candy"
   ]
  },
  {
   "cell_type": "code",
   "execution_count": 49,
   "metadata": {
    "collapsed": true
   },
   "outputs": [],
   "source": [
    "import matplotlib.pyplot as plt\n",
    "%matplotlib inline\n"
   ]
  },
  {
   "cell_type": "code",
   "execution_count": 50,
   "metadata": {
    "collapsed": true
   },
   "outputs": [],
   "source": [
    "from random import shuffle"
   ]
  },
  {
   "cell_type": "code",
   "execution_count": 51,
   "metadata": {
    "collapsed": true
   },
   "outputs": [],
   "source": [
    "used_groups.remove(0)"
   ]
  },
  {
   "cell_type": "code",
   "execution_count": 52,
   "metadata": {},
   "outputs": [],
   "source": [
    "# shuffle the colour numbers\n",
    "keys = list(used_groups)\n",
    "values = keys.copy()\n",
    "shuffle(values)\n",
    "shuffler = dict(zip(keys, values))\n",
    "shuffler[0] = 0"
   ]
  },
  {
   "cell_type": "code",
   "execution_count": 53,
   "metadata": {
    "collapsed": true
   },
   "outputs": [],
   "source": [
    "shifted_grid = group_grid.applymap(lambda x: shuffler[x])\n",
    "shifted_grid = shifted_grid.applymap(lambda x: 0 if x == 0 else x + 150)"
   ]
  },
  {
   "cell_type": "code",
   "execution_count": 54,
   "metadata": {
    "scrolled": false
   },
   "outputs": [
    {
     "data": {
      "image/png": "[encoded data removed]",
      "text/plain": [
       "<matplotlib.figure.Figure at 0x2a71901c748>"
      ]
     },
     "metadata": {},
     "output_type": "display_data"
    }
   ],
   "source": [
    "fig, ax = plt.subplots(figsize=(15, 15))\n",
    "ax.imshow(shifted_grid, cmap='nipy_spectral')\n",
    "plt.savefig('groups.png')"
   ]
  },
  {
   "cell_type": "code",
   "execution_count": 55,
   "metadata": {},
   "outputs": [
    {
     "data": {
      "text/html": [
       "<div>\n",
       "<style>\n",
       "    .dataframe thead tr:only-child th {\n",
       "        text-align: right;\n",
       "    }\n",
       "\n",
       "    .dataframe thead th {\n",
       "        text-align: left;\n",
       "    }\n",
       "\n",
       "    .dataframe tbody tr th {\n",
       "        vertical-align: top;\n",
       "    }\n",
       "</style>\n",
       "<table border=\"1\" class=\"dataframe\">\n",
       "  <thead>\n",
       "    <tr style=\"text-align: right;\">\n",
       "      <th></th>\n",
       "      <th>0</th>\n",
       "      <th>1</th>\n",
       "      <th>2</th>\n",
       "      <th>3</th>\n",
       "      <th>4</th>\n",
       "      <th>5</th>\n",
       "      <th>6</th>\n",
       "      <th>7</th>\n",
       "      <th>8</th>\n",
       "    </tr>\n",
       "  </thead>\n",
       "  <tbody>\n",
       "    <tr>\n",
       "      <th>0</th>\n",
       "      <td>0</td>\n",
       "      <td>0</td>\n",
       "      <td>0</td>\n",
       "      <td>0</td>\n",
       "      <td>0</td>\n",
       "      <td>1</td>\n",
       "      <td>0</td>\n",
       "      <td>0</td>\n",
       "      <td>0</td>\n",
       "    </tr>\n",
       "    <tr>\n",
       "      <th>1</th>\n",
       "      <td>0</td>\n",
       "      <td>0</td>\n",
       "      <td>24</td>\n",
       "      <td>0</td>\n",
       "      <td>1</td>\n",
       "      <td>1</td>\n",
       "      <td>0</td>\n",
       "      <td>0</td>\n",
       "      <td>0</td>\n",
       "    </tr>\n",
       "    <tr>\n",
       "      <th>2</th>\n",
       "      <td>1</td>\n",
       "      <td>1</td>\n",
       "      <td>0</td>\n",
       "      <td>1</td>\n",
       "      <td>1</td>\n",
       "      <td>0</td>\n",
       "      <td>38</td>\n",
       "      <td>0</td>\n",
       "      <td>0</td>\n",
       "    </tr>\n",
       "    <tr>\n",
       "      <th>3</th>\n",
       "      <td>0</td>\n",
       "      <td>1</td>\n",
       "      <td>1</td>\n",
       "      <td>1</td>\n",
       "      <td>0</td>\n",
       "      <td>38</td>\n",
       "      <td>38</td>\n",
       "      <td>38</td>\n",
       "      <td>0</td>\n",
       "    </tr>\n",
       "    <tr>\n",
       "      <th>4</th>\n",
       "      <td>0</td>\n",
       "      <td>1</td>\n",
       "      <td>1</td>\n",
       "      <td>1</td>\n",
       "      <td>0</td>\n",
       "      <td>0</td>\n",
       "      <td>0</td>\n",
       "      <td>0</td>\n",
       "      <td>40</td>\n",
       "    </tr>\n",
       "    <tr>\n",
       "      <th>5</th>\n",
       "      <td>0</td>\n",
       "      <td>0</td>\n",
       "      <td>0</td>\n",
       "      <td>0</td>\n",
       "      <td>0</td>\n",
       "      <td>22</td>\n",
       "      <td>0</td>\n",
       "      <td>0</td>\n",
       "      <td>40</td>\n",
       "    </tr>\n",
       "    <tr>\n",
       "      <th>6</th>\n",
       "      <td>22</td>\n",
       "      <td>22</td>\n",
       "      <td>0</td>\n",
       "      <td>0</td>\n",
       "      <td>22</td>\n",
       "      <td>22</td>\n",
       "      <td>22</td>\n",
       "      <td>0</td>\n",
       "      <td>0</td>\n",
       "    </tr>\n",
       "    <tr>\n",
       "      <th>7</th>\n",
       "      <td>22</td>\n",
       "      <td>22</td>\n",
       "      <td>22</td>\n",
       "      <td>22</td>\n",
       "      <td>22</td>\n",
       "      <td>22</td>\n",
       "      <td>22</td>\n",
       "      <td>0</td>\n",
       "      <td>0</td>\n",
       "    </tr>\n",
       "    <tr>\n",
       "      <th>8</th>\n",
       "      <td>0</td>\n",
       "      <td>22</td>\n",
       "      <td>22</td>\n",
       "      <td>22</td>\n",
       "      <td>22</td>\n",
       "      <td>0</td>\n",
       "      <td>0</td>\n",
       "      <td>72</td>\n",
       "      <td>72</td>\n",
       "    </tr>\n",
       "  </tbody>\n",
       "</table>\n",
       "</div>"
      ],
      "text/plain": [
       "    0   1   2   3   4   5   6   7   8\n",
       "0   0   0   0   0   0   1   0   0   0\n",
       "1   0   0  24   0   1   1   0   0   0\n",
       "2   1   1   0   1   1   0  38   0   0\n",
       "3   0   1   1   1   0  38  38  38   0\n",
       "4   0   1   1   1   0   0   0   0  40\n",
       "5   0   0   0   0   0  22   0   0  40\n",
       "6  22  22   0   0  22  22  22   0   0\n",
       "7  22  22  22  22  22  22  22   0   0\n",
       "8   0  22  22  22  22   0   0  72  72"
      ]
     },
     "execution_count": 55,
     "metadata": {},
     "output_type": "execute_result"
    }
   ],
   "source": [
    "group_grid.loc[0:8, 0:8]"
   ]
  },
  {
   "cell_type": "code",
   "execution_count": null,
   "metadata": {
    "collapsed": true
   },
   "outputs": [],
   "source": []
  }
 ],
 "metadata": {
  "kernelspec": {
   "display_name": "Python 3",
   "language": "python",
   "name": "python3"
  },
  "language_info": {
   "codemirror_mode": {
    "name": "ipython",
    "version": 3
   },
   "file_extension": ".py",
   "mimetype": "text/x-python",
   "name": "python",
   "nbconvert_exporter": "python",
   "pygments_lexer": "ipython3",
   "version": "3.6.2"
  }
 },
 "nbformat": 4,
 "nbformat_minor": 2
}
