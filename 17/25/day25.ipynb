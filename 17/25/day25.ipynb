{
 "cells": [
  {
   "cell_type": "code",
   "execution_count": 20,
   "metadata": {},
   "outputs": [],
   "source": [
    "from collections import deque, defaultdict\n",
    "import re"
   ]
  },
  {
   "cell_type": "code",
   "execution_count": 21,
   "metadata": {},
   "outputs": [],
   "source": [
    "input_spec = open('input.txt').readlines()\n",
    "test_spec = '''Begin in state A.\n",
    "Perform a diagnostic checksum after 6 steps.\n",
    "\n",
    "In state A:\n",
    "  If the current value is 0:\n",
    "    - Write the value 1.\n",
    "    - Move one slot to the right.\n",
    "    - Continue with state B.\n",
    "  If the current value is 1:\n",
    "    - Write the value 0.\n",
    "    - Move one slot to the left.\n",
    "    - Continue with state B.\n",
    "\n",
    "In state B:\n",
    "  If the current value is 0:\n",
    "    - Write the value 1.\n",
    "    - Move one slot to the left.\n",
    "    - Continue with state A.\n",
    "  If the current value is 1:\n",
    "    - Write the value 1.\n",
    "    - Move one slot to the right.\n",
    "    - Continue with state A.'''.splitlines()"
   ]
  },
  {
   "cell_type": "code",
   "execution_count": 121,
   "metadata": {},
   "outputs": [],
   "source": [
    "class UTM(object):\n",
    "    def __init__(self):\n",
    "        self.tape = defaultdict(int)\n",
    "        self.cursor = 0\n",
    "        self.state = None\n",
    "        self.iters = 0\n",
    "        self.stop = None\n",
    "        self.spec = defaultdict(dict)\n",
    "        \n",
    "    def step(self):\n",
    "        s = self.state\n",
    "        c = self.tape[self.cursor]\n",
    "        self.tape[self.cursor] = self.spec[s][c]['write']\n",
    "        self.cursor += self.spec[s][c]['move']\n",
    "        self.state = self.spec[s][c]['new_state']\n",
    "        self.iters += 1\n",
    "        return self\n",
    "    \n",
    "    def diagnose(self):\n",
    "        while self.iters < self.stop:\n",
    "            self.step()\n",
    "        return self\n",
    "        \n",
    "    def checksum(self):\n",
    "        return sum(self.tape.values())\n",
    "    \n",
    "    \n",
    "    def load(self, speclines):\n",
    "        self.state = re.match(r'Begin in state ([A-Z]).', speclines[0]).group(1)\n",
    "        self.stop = int(re.match(r'Perform a diagnostic checksum after ([0-9]+) steps.', speclines[1]).group(1))\n",
    "        \n",
    "        state = current = new = slot_move = new_state = None\n",
    "        for l in speclines[2:]:\n",
    "            #print('l: ', l)\n",
    "            m = re.match(r'In state ([A-Z]):', l)\n",
    "            if m:\n",
    "                state = m.group(1)\n",
    "                #print('state', state)\n",
    "                \n",
    "            m = re.match(r'  If the current value is ([01]):', l)\n",
    "            if m:\n",
    "                current = int(m.group(1))\n",
    "                #print('current', current)\n",
    "                \n",
    "            m = re.match(r'    - Write the value ([01]).', l)\n",
    "            if m:\n",
    "                new = int(m.group(1))\n",
    "                #print('new', new)\n",
    "                \n",
    "            m = re.match(r'    - Move one slot to the (left|right).', l)\n",
    "            if m:\n",
    "                slot_move = -1 if m.group(1) == 'left' else 1\n",
    "                \n",
    "            m = re.match(r'    - Continue with state ([A-Z]).', l)\n",
    "            if m:\n",
    "                new_state = m.group(1)\n",
    "                \n",
    "            if new_state is not None:\n",
    "                self.spec[state][current] = {'write': new, 'move': slot_move, 'new_state': new_state}\n",
    "                current = new = slot_move = new_state = None\n",
    "                \n",
    "        return self\n",
    "    "
   ]
  },
  {
   "cell_type": "code",
   "execution_count": 126,
   "metadata": {},
   "outputs": [
    {
     "name": "stdout",
     "output_type": "stream",
     "text": [
      "test (should be 3): 3\n"
     ]
    }
   ],
   "source": [
    "%%timeit -n1 -test = UTM()\n",
    "test.load(test_spec)\n",
    "\n",
    "print(f'test (should be 3): {test.diagnose().checksum()}')"
   ]
  },
  {
   "cell_type": "code",
   "execution_count": 125,
   "metadata": {},
   "outputs": [
    {
     "name": "stdout",
     "output_type": "stream",
     "text": [
      "part 1 answer: 2870\n"
     ]
    }
   ],
   "source": [
    "part1 = UTM()\n",
    "part1.load(input_spec)\n",
    "print(f'part 1 answer: {part1.diagnose().checksum()}')"
   ]
  },
  {
   "cell_type": "code",
   "execution_count": 128,
   "metadata": {},
   "outputs": [
    {
     "data": {
      "text/plain": [
       "-5581"
      ]
     },
     "execution_count": 128,
     "metadata": {},
     "output_type": "execute_result"
    }
   ],
   "source": [
    "min(part1.tape.keys())"
   ]
  },
  {
   "cell_type": "code",
   "execution_count": 129,
   "metadata": {},
   "outputs": [
    {
     "data": {
      "text/plain": [
       "18"
      ]
     },
     "execution_count": 129,
     "metadata": {},
     "output_type": "execute_result"
    }
   ],
   "source": [
    "max(part1.tape.keys())"
   ]
  },
  {
   "cell_type": "code",
   "execution_count": 130,
   "metadata": {},
   "outputs": [
    {
     "data": {
      "text/plain": [
       "5599"
      ]
     },
     "execution_count": 130,
     "metadata": {},
     "output_type": "execute_result"
    }
   ],
   "source": [
    "18 + 5581"
   ]
  },
  {
   "cell_type": "code",
   "execution_count": null,
   "metadata": {},
   "outputs": [],
   "source": []
  }
 ],
 "metadata": {
  "kernelspec": {
   "display_name": "Python 3",
   "language": "python",
   "name": "python3"
  },
  "language_info": {
   "codemirror_mode": {
    "name": "ipython",
    "version": 3
   },
   "file_extension": ".py",
   "mimetype": "text/x-python",
   "name": "python",
   "nbconvert_exporter": "python",
   "pygments_lexer": "ipython3",
   "version": "3.6.3"
  }
 },
 "nbformat": 4,
 "nbformat_minor": 2
}
