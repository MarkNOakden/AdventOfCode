{
 "cells": [
  {
   "cell_type": "markdown",
   "metadata": {},
   "source": [
    "# `--- Day 22: Sporifica Virus ---`"
   ]
  },
  {
   "cell_type": "code",
   "execution_count": 1,
   "metadata": {},
   "outputs": [],
   "source": [
    "input_lines = open('input.txt').readlines()\n",
    "test_lines = '''..#\n",
    "#..\n",
    "...'''.splitlines()"
   ]
  },
  {
   "cell_type": "code",
   "execution_count": 2,
   "metadata": {},
   "outputs": [],
   "source": [
    "DIRECTIONS = 'NESW' # in clockwise order\n",
    "MOVES = {'N': (-1, 0),\n",
    "         'E': (0, 1),\n",
    "         'S': (1, 0),\n",
    "         'W': (0, -1)}"
   ]
  },
  {
   "cell_type": "code",
   "execution_count": 3,
   "metadata": {},
   "outputs": [],
   "source": [
    "class Sporifica(object):\n",
    "    def __init__(self, lines):\n",
    "        self.grid = {}\n",
    "        height = len(lines)\n",
    "        for row, l in enumerate(lines):\n",
    "            l = l.strip()\n",
    "            width = len(l)\n",
    "            for col, c in enumerate(l):\n",
    "                self.grid[(row, col)] = c\n",
    "\n",
    "        self.current_row = width // 2 # grid is odd number of chars wide\n",
    "        self.current_col = height // 2\n",
    "        self.directions = DIRECTIONS # directions[0] is current direction\n",
    "        self.infections = 0\n",
    "        \n",
    "    def direction(self):\n",
    "        return self.directions[0]\n",
    "        \n",
    "    def turn_right(self):\n",
    "        self.directions = self.directions[1:] + self.directions[0]\n",
    "        return self\n",
    "    \n",
    "    def turn_left(self):\n",
    "        self.directions = self.directions[-1] + self.directions[0:-1]\n",
    "        return self\n",
    "    \n",
    "    def get_current(self):\n",
    "        return self.get(self.current_row, self.current_col)\n",
    "    \n",
    "    def set_current(self, s):\n",
    "        self.grid[(self.current_row, self.current_col)] = s\n",
    "        \n",
    "    def get(self, r, c):\n",
    "        if (r, c) not in self.grid:\n",
    "            self.grid[(r, c)] = '.'\n",
    "        return self.grid[(r, c)]\n",
    "    \n",
    "    def burst(self):\n",
    "        if self.get_current() == '#':\n",
    "            self.turn_right()\n",
    "            self.set_current('.') # clean the node\n",
    "        else:\n",
    "            self.turn_left()\n",
    "            self.set_current('#') # infect the node\n",
    "            self.infections += 1\n",
    "        step_r, step_c = MOVES[self.direction()]\n",
    "        self.current_row += step_r\n",
    "        self.current_col += step_c\n",
    "        return self\n",
    "\n",
    "    def burst2(self):\n",
    "        cur = self.get_current()\n",
    "        if cur == '#': # infected -> flagged\n",
    "            self.turn_right()\n",
    "            self.set_current('F')\n",
    "        elif cur == 'F': # flagged -> clean\n",
    "            self.turn_right()\n",
    "            self.turn_right()\n",
    "            self.set_current('.')\n",
    "        elif cur == '.': # clean -> weakened\n",
    "            self.turn_left()\n",
    "            self.set_current('W')\n",
    "        elif cur == 'W': # weakened -> infected\n",
    "            self.set_current('#')\n",
    "            self.infections += 1\n",
    "        else:\n",
    "            raise ValueError(f'Unexpected state {cur}')\n",
    "        step_r, step_c = MOVES[self.direction()]\n",
    "        self.current_row += step_r\n",
    "        self.current_col += step_c\n",
    "        return self\n",
    "        \n",
    "    def __str__(self):\n",
    "        s = ''\n",
    "        keys = self.grid.keys()\n",
    "        rows, cols = zip(*keys)\n",
    "        r = min(rows)\n",
    "        while r <= max(rows):\n",
    "            c = min(cols)\n",
    "            while c <= max(cols):\n",
    "                if r == self.current_row and c == self.current_col:\n",
    "                    L, R = list('[]')\n",
    "                else:\n",
    "                    L = R = ' '\n",
    "                s += L + self.get(r, c) + R\n",
    "                c += 1\n",
    "            s += '\\n'\n",
    "            r += 1\n",
    "        return s\n",
    "           \n",
    "    __repr__ = __str__"
   ]
  },
  {
   "cell_type": "code",
   "execution_count": 4,
   "metadata": {},
   "outputs": [
    {
     "name": "stdout",
     "output_type": "stream",
     "text": [
      "part 1 answer: 5246\n",
      "23.3 ms ± 0 ns per loop (mean ± std. dev. of 1 run, 1 loop each)\n"
     ]
    }
   ],
   "source": [
    "%%timeit -n 1 -r 1\n",
    "s = Sporifica(input_lines)\n",
    "\n",
    "for i in range(10000):\n",
    "    s.burst()\n",
    "    \n",
    "print(f'part 1 answer: {s.infections}')"
   ]
  },
  {
   "cell_type": "code",
   "execution_count": 5,
   "metadata": {},
   "outputs": [
    {
     "name": "stdout",
     "output_type": "stream",
     "text": [
      "part 2 answer 2512059\n",
      "20.1 s ± 0 ns per loop (mean ± std. dev. of 1 run, 1 loop each)\n"
     ]
    }
   ],
   "source": [
    "%%timeit -n 1 -r 1\n",
    "s2 = Sporifica(input_lines)\n",
    "\n",
    "for i in range(10000000):\n",
    "    s2.burst2()\n",
    "    \n",
    "print(f'part 2 answer {s2.infections}')"
   ]
  },
  {
   "cell_type": "markdown",
   "metadata": {},
   "source": [
    "# timings\n",
    "\n",
    "## Dell XPS13 i7\n",
    "```\n",
    "part 1 answer: 5246\n",
    "20.3 ms ± 0 ns per loop (mean ± std. dev. of 1 run, 1 loop each)\n",
    "part 2 answer 2512059\n",
    "31.4 s ± 0 ns per loop (mean ± std. dev. of 1 run, 1 loop each)\n",
    "```\n",
    "\n",
    "## MacBook Pro\n",
    "```\n",
    "part 1 answer: 5246\n",
    "23.3 ms ± 0 ns per loop (mean ± std. dev. of 1 run, 1 loop each)\n",
    "part 2 answer 2512059\n",
    "20.1 s ± 0 ns per loop (mean ± std. dev. of 1 run, 1 loop each)\n",
    "```"
   ]
  },
  {
   "cell_type": "code",
   "execution_count": null,
   "metadata": {},
   "outputs": [],
   "source": []
  }
 ],
 "metadata": {
  "kernelspec": {
   "display_name": "Python 3",
   "language": "python",
   "name": "python3"
  },
  "language_info": {
   "codemirror_mode": {
    "name": "ipython",
    "version": 3
   },
   "file_extension": ".py",
   "mimetype": "text/x-python",
   "name": "python",
   "nbconvert_exporter": "python",
   "pygments_lexer": "ipython3",
   "version": "3.6.5"
  }
 },
 "nbformat": 4,
 "nbformat_minor": 2
}
