{
 "cells": [
  {
   "cell_type": "markdown",
   "metadata": {},
   "source": [
    "```--- Day 23: Coprocessor Conflagration ---```"
   ]
  },
  {
   "cell_type": "code",
   "execution_count": 1,
   "metadata": {},
   "outputs": [],
   "source": [
    "import re"
   ]
  },
  {
   "cell_type": "code",
   "execution_count": 2,
   "metadata": {},
   "outputs": [],
   "source": [
    "prog = open('input.txt').readlines()"
   ]
  },
  {
   "cell_type": "markdown",
   "metadata": {},
   "source": [
    "\n",
    "    set X Y sets register X to the value of Y.\n",
    "    sub X Y decreases register X by the value of Y.\n",
    "    mul X Y sets register X to the result of multiplying the value contained in register X by the value of Y.\n",
    "    jnz X Y jumps with an offset of the value of Y, but only if the value of X is not zero. (An offset of 2 skips the next instruction, an offset of -1 jumps to the previous instruction, and so on.)"
   ]
  },
  {
   "cell_type": "code",
   "execution_count": 3,
   "metadata": {},
   "outputs": [],
   "source": [
    "class VM(object):\n",
    "    def __init__(self, progl, prognum=0, part=1, debug=False):\n",
    "        self.prog = progl[:]\n",
    "        self.prognum = prognum\n",
    "        self.part = part\n",
    "        self.debug = debug\n",
    "        self.registers = {}\n",
    "        self.pc = 0\n",
    "        self.running = False\n",
    "        self.mul_count = 0\n",
    "\n",
    "    def run(self):\n",
    "        self.running = True\n",
    "        while self.running:\n",
    "            self.step()\n",
    "        print(f' <P{self.prognum}> stopped')\n",
    "        return self\n",
    "    \n",
    "    linematcher = re.compile(r'^([^ ]+) ([^ ]+)( ([^ ]+))?')\n",
    "\n",
    "    def step(self):\n",
    "        try:\n",
    "            l = self.prog[self.pc].strip()\n",
    "        except IndexError:\n",
    "            self.running = False\n",
    "            return self\n",
    "        instr, op1, op2, _unused = VM.linematcher.match(l).groups()\n",
    "        f, args = VM.dispatcher[instr]\n",
    "        if args == 1:\n",
    "            f(self, op1)\n",
    "        else:\n",
    "            f(self, op1, op2)\n",
    "        if self.debug:\n",
    "            print(f' <P{self.prognum}> {self.pc:4}: {l} | {self.registers}', flush=True)\n",
    "        return self\n",
    "    \n",
    "    def _set(self, op1, op2):\n",
    "        self.set_reg(op1, self.value(op2))\n",
    "        self.pc += 1\n",
    "\n",
    "    def _sub(self, op1, op2):\n",
    "        self.set_reg(op1, self.value(op1) - self.value(op2))\n",
    "        self.pc += 1\n",
    "        \n",
    "    def _mul(self, op1, op2):\n",
    "        self.set_reg(op1, self.value(op1) * self.value(op2))\n",
    "        self.mul_count += 1\n",
    "        self.pc += 1\n",
    "        \n",
    "    def _jnz(self, op1, op2):\n",
    "        if self.value(op1) != 0:\n",
    "            self.pc += self.value(op2)\n",
    "        else:\n",
    "            self.pc += 1\n",
    "\n",
    "    dispatcher = {'set': (_set, 2),\n",
    "                  'sub': (_sub, 2),\n",
    "                  'mul': (_mul, 2),\n",
    "                  'jnz': (_jnz, 2)}\n",
    "            \n",
    "    def value(self, v):\n",
    "        v = v.strip()\n",
    "        try:\n",
    "            return int(v)\n",
    "        except ValueError:\n",
    "            return self.get_reg(v)\n",
    "            \n",
    "    def get_reg(self, r):\n",
    "        r = r.strip()\n",
    "        if r in self.registers:\n",
    "            return self.registers[r]\n",
    "        else:\n",
    "            self.registers[r] = 0\n",
    "            return 0\n",
    "        \n",
    "    def set_reg(self, r, val):\n",
    "        self.registers[r] = val"
   ]
  },
  {
   "cell_type": "markdown",
   "metadata": {},
   "source": [
    "# Part 1 Actual"
   ]
  },
  {
   "cell_type": "code",
   "execution_count": 4,
   "metadata": {},
   "outputs": [],
   "source": [
    "v = VM(prog)"
   ]
  },
  {
   "cell_type": "code",
   "execution_count": 5,
   "metadata": {},
   "outputs": [
    {
     "name": "stdout",
     "output_type": "stream",
     "text": [
      " <P0> stopped\n"
     ]
    },
    {
     "data": {
      "text/plain": [
       "<__main__.VM at 0x1ab3c9bc390>"
      ]
     },
     "execution_count": 5,
     "metadata": {},
     "output_type": "execute_result"
    }
   ],
   "source": [
    "v.run()"
   ]
  },
  {
   "cell_type": "code",
   "execution_count": 6,
   "metadata": {},
   "outputs": [
    {
     "data": {
      "text/plain": [
       "5929"
      ]
     },
     "execution_count": 6,
     "metadata": {},
     "output_type": "execute_result"
    }
   ],
   "source": [
    "v.mul_count"
   ]
  },
  {
   "cell_type": "markdown",
   "metadata": {},
   "source": [
    "# Part 2"
   ]
  },
  {
   "cell_type": "markdown",
   "metadata": {
    "collapsed": true
   },
   "source": [
    "## Lightly commented assembly\n",
    "    start:\n",
    "         0: set b 79\n",
    "         1: set c b\n",
    "         2: jnz a 2 # a !=0 goto alpha\n",
    "         3: jnz 1 5 # goto beta\n",
    "    alpha:\n",
    "         4: mul b 100\n",
    "         5: sub b -100000\n",
    "         6: set c b\n",
    "         7: sub c -17000\n",
    "    beta:\n",
    "         8: set f 1\n",
    "         9: set d 2\n",
    "    epsilon:\n",
    "        10: set e 2\n",
    "    delta:\n",
    "        11: set g d\n",
    "        12: mul g e\n",
    "        13: sub g b\n",
    "        14: jnz g 2 # g != 0 goto gamma\n",
    "        15: set f 0\n",
    "    gamma:\n",
    "        16: sub e -1\n",
    "        17: set g e\n",
    "        18: sub g b\n",
    "        19: jnz g -8 # g != 0 goto delta\n",
    "        20: sub d -1\n",
    "        21: set g d\n",
    "        22: sub g b\n",
    "        23: jnz g -13 # g != 0 goto epsilon\n",
    "        24: jnz f 2 # f != 0 goto zeta\n",
    "        25: sub h -1\n",
    "    zeta:\n",
    "        26: set g b\n",
    "        27: sub g c\n",
    "        28: jnz g 2 # g != 0 goto eta:\n",
    "        29: jnz 1 3 # goto exit\n",
    "    eta:\n",
    "        30: sub b -17\n",
    "        31: jnz 1 -23 # goto beta\n",
    "    exit:\n"
   ]
  },
  {
   "cell_type": "markdown",
   "metadata": {},
   "source": [
    "## translation of the assembly into Python\n",
    "### Initialisation section"
   ]
  },
  {
   "cell_type": "code",
   "execution_count": 7,
   "metadata": {},
   "outputs": [
    {
     "name": "stdout",
     "output_type": "stream",
     "text": [
      "initialisation:-\n",
      "a = 1, b = 107900, c = 124900, d = 0, e = 0, f = 0, g = 0, h = 0\n"
     ]
    }
   ],
   "source": [
    "a = b = c = d = e = f = g = h = 0\n",
    "a = 1 # non-debug mode\n",
    "#     start:\n",
    "#         set b 79\n",
    "#         set c b\n",
    "# debug mode\n",
    "b = 79\n",
    "c = b\n",
    "#         jnz a 2 # a !=0 goto alpha\n",
    "#         jnz 1 5 # goto beta\n",
    "#     alpha:\n",
    "#         mul b 100\n",
    "#         sub b -100000\n",
    "#         set c b\n",
    "#         sub c -17000\n",
    "if a != 0: # not debug mode\n",
    "    b = b * 100\n",
    "    b = b + 100000\n",
    "    c = b\n",
    "    c = c + 17000\n",
    "print('initialisation:-')\n",
    "print(f'a = {a}, b = {b}, c = {c}, d = {d}, e = {e}, f = {f}, g = {g}, h = {h}')"
   ]
  },
  {
   "cell_type": "markdown",
   "metadata": {},
   "source": [
    "### main program\n",
    "(we don't actually execute this as it's checking naively)"
   ]
  },
  {
   "cell_type": "code",
   "execution_count": 8,
   "metadata": {},
   "outputs": [],
   "source": [
    "if False:\n",
    "    # python translation of assembly\n",
    "    # appears to be counting which numbers in range(107900, 124900, 17) are non-prime\n",
    "    while True:\n",
    "        #     beta:\n",
    "        #          8: set f 1\n",
    "        #          9: set d 2\n",
    "        f = 1\n",
    "        d = 2\n",
    "        while True: # for d = 2 to b\n",
    "            #     epsilon:\n",
    "            #         10: set e 2\n",
    "            e = 2\n",
    "            while True: # for e = 2 to b\n",
    "                #     delta:\n",
    "                #         11: set g d\n",
    "                #         12: mul g e\n",
    "                #         13: sub g b\n",
    "                g = d * e - b\n",
    "                #         14: jnz g 2 # g != 0 goto gamma\n",
    "                #         15: set f 0\n",
    "                if g == 0: # if d * e == b : f = 0\n",
    "                    f = 0\n",
    "                #     gamma:\n",
    "                #         16: sub e -1\n",
    "                e += 1\n",
    "                #         17: set g e\n",
    "                #         18: sub g b\n",
    "                g = e - b\n",
    "                #         19: jnz g -8 # g != 0 goto delta\n",
    "                if g == 0:\n",
    "                    break\n",
    "            #         20: sub d -1\n",
    "            d += 1\n",
    "            #         21: set g d\n",
    "            #         22: sub g b\n",
    "            g = d - b\n",
    "            #         23: jnz g -13 # g != 0 goto epsilon\n",
    "            if g == 0:\n",
    "                break\n",
    "        #         24: jnz f 2 # f != 0 goto zeta\n",
    "        #         25: sub h -1\n",
    "        if f == 0:\n",
    "            h += 1\n",
    "        #     zeta:\n",
    "        #         26: set g b\n",
    "        #         27: sub g c\n",
    "        g = b - c\n",
    "        #         28: jnz g 2 # g != 0 goto eta:\n",
    "        #         29: jnz 1 3 # goto exit\n",
    "        if g == 0:\n",
    "            break\n",
    "        #     eta:\n",
    "        #         30: sub b -17\n",
    "        #         31: jnz 1 -23 # goto beta\n",
    "        b = b + 17\n",
    "        #     exit:\n"
   ]
  },
  {
   "cell_type": "markdown",
   "metadata": {},
   "source": [
    "# Part 2\n",
    "\n",
    "We need to count the non-primes in {107900, 107917, 107934, ... 124900} (increasing by 17 each time)\n",
    "\n",
    "Approach: start with list of all numbers in the set and use Eratosthenes sieve to eliminate primes.  The number we are after is the original length (1001) minus the number of primes."
   ]
  },
  {
   "cell_type": "code",
   "execution_count": 9,
   "metadata": {},
   "outputs": [
    {
     "name": "stdout",
     "output_type": "stream",
     "text": [
      "part 2 answer: 907\n"
     ]
    }
   ],
   "source": [
    "numbers = range(b, c+17, 17)\n",
    "\n",
    "count_all = len(numbers)\n",
    "\n",
    "lowest = min(numbers)\n",
    "\n",
    "from math import sqrt\n",
    "\n",
    "for i in range(2, int(sqrt(lowest))+1):\n",
    "    numbers = [n for n in numbers if n % i != 0]\n",
    "\n",
    "print(f'part 2 answer: {count_all - len(numbers)}')"
   ]
  },
  {
   "cell_type": "code",
   "execution_count": null,
   "metadata": {},
   "outputs": [],
   "source": []
  }
 ],
 "metadata": {
  "kernelspec": {
   "display_name": "Python 3",
   "language": "python",
   "name": "python3"
  },
  "language_info": {
   "codemirror_mode": {
    "name": "ipython",
    "version": 3
   },
   "file_extension": ".py",
   "mimetype": "text/x-python",
   "name": "python",
   "nbconvert_exporter": "python",
   "pygments_lexer": "ipython3",
   "version": "3.6.3"
  }
 },
 "nbformat": 4,
 "nbformat_minor": 2
}
