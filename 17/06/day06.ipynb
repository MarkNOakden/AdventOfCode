{
 "cells": [
  {
   "cell_type": "code",
   "execution_count": 1,
   "metadata": {
    "collapsed": true
   },
   "outputs": [],
   "source": [
    "import unittest"
   ]
  },
  {
   "cell_type": "code",
   "execution_count": 2,
   "metadata": {
    "collapsed": true
   },
   "outputs": [],
   "source": [
    "test_vec = [0, 2, 7, 0]\n",
    "test_res = 5"
   ]
  },
  {
   "cell_type": "code",
   "execution_count": 3,
   "metadata": {},
   "outputs": [],
   "source": [
    "input_vec = list(map(int, open('input.txt').read().split()))"
   ]
  },
  {
   "cell_type": "code",
   "execution_count": 4,
   "metadata": {
    "collapsed": true
   },
   "outputs": [],
   "source": [
    "class Memory(object):\n",
    "    def __init__(self, vec):\n",
    "        self.banks = vec[:] # copy\n",
    "        self.len = len(self.banks)\n",
    "        \n",
    "    def redistribute(self):\n",
    "        pass_count = 0\n",
    "        seen = set()\n",
    "        this = self.memhash()\n",
    "        while this not in seen:\n",
    "            seen.add(this)\n",
    "            pass_count += 1\n",
    "            i = self.banks.index(max(self.banks)) # index of first element matching max element\n",
    "            val, self.banks[i] = self.banks[i], 0\n",
    "            while val > 0:\n",
    "                val -= 1\n",
    "                i += 1\n",
    "                self.banks[i % self.len] += 1\n",
    "            this = self.memhash()\n",
    "        return pass_count\n",
    "        \n",
    "    def memhash(self):\n",
    "        return hash(tuple(self.banks))\n",
    "    \n",
    "    def __str__(self):\n",
    "        return str(self.banks)"
   ]
  },
  {
   "cell_type": "code",
   "execution_count": 5,
   "metadata": {
    "collapsed": true
   },
   "outputs": [],
   "source": [
    "class Memory(object):\n",
    "    def __init__(self, vec):\n",
    "        self.banks = vec[:] # copy\n",
    "        self.len = len(self.banks)\n",
    "        \n",
    "    def redistribute(self):\n",
    "        pass_count = 0\n",
    "        seen = set()\n",
    "        this = self.memhash()\n",
    "        while this not in seen:\n",
    "            seen.add(this)\n",
    "            pass_count += 1\n",
    "            i = self.banks.index(max(self.banks)) # index of first element matching max element\n",
    "            val, self.banks[i] = self.banks[i], 0\n",
    "            while val > 0:\n",
    "                val -= 1\n",
    "                i += 1\n",
    "                self.banks[i % self.len] += 1\n",
    "            this = self.memhash()\n",
    "        return pass_count\n",
    "    \n",
    "    def current_cycle(self):\n",
    "        start = self.memhash()\n",
    "        last = None\n",
    "        cycle_count = 0\n",
    "        while start != last:\n",
    "            cycle_count += 1\n",
    "            i = self.banks.index(max(self.banks)) # index of first element matching max element\n",
    "            val, self.banks[i] = self.banks[i], 0\n",
    "            while val > 0:\n",
    "                val -= 1\n",
    "                i += 1\n",
    "                self.banks[i % self.len] += 1\n",
    "            last = self.memhash()\n",
    "        return cycle_count\n",
    "    \n",
    "    def memhash(self):\n",
    "        return hash(tuple(self.banks))\n",
    "    \n",
    "    def __str__(self):\n",
    "        return str(self.banks)"
   ]
  },
  {
   "cell_type": "code",
   "execution_count": 6,
   "metadata": {},
   "outputs": [],
   "source": [
    "class TestIt(unittest.TestCase):\n",
    "    def test_01(self):\n",
    "        testM = Memory(test_vec)\n",
    "        #print('Part 1')\n",
    "        count = testM.redistribute()\n",
    "        self.assertEqual(count, test_res)\n",
    "    def test_02(self):\n",
    "        testM = Memory(test_vec)\n",
    "        #print('Part 2')\n",
    "        count = testM.redistribute() # initialises to a pattern in the cycle\n",
    "        count = testM.current_cycle()\n",
    "        self.assertEqual(count, 4)"
   ]
  },
  {
   "cell_type": "code",
   "execution_count": 7,
   "metadata": {},
   "outputs": [
    {
     "name": "stderr",
     "output_type": "stream",
     "text": [
      "test_01 (__main__.TestIt) ... ok\n",
      "test_02 (__main__.TestIt) ... ok\n",
      "\n",
      "----------------------------------------------------------------------\n",
      "Ran 2 tests in 0.011s\n",
      "\n",
      "OK\n"
     ]
    },
    {
     "data": {
      "text/plain": [
       "<unittest.runner.TextTestResult run=2 errors=0 failures=0>"
      ]
     },
     "execution_count": 7,
     "metadata": {},
     "output_type": "execute_result"
    }
   ],
   "source": [
    "suite = unittest.TestLoader().loadTestsFromTestCase(TestIt)\n",
    "unittest.TextTestRunner(verbosity=2).run(suite)"
   ]
  },
  {
   "cell_type": "code",
   "execution_count": 8,
   "metadata": {},
   "outputs": [
    {
     "name": "stdout",
     "output_type": "stream",
     "text": [
      "part 1 answer: 4074\n",
      "part 2 answer: 2793\n"
     ]
    }
   ],
   "source": [
    "m = Memory(input_vec)\n",
    "print(f'part 1 answer: {m.redistribute()}')\n",
    "print(f'part 2 answer: {m.current_cycle()}')"
   ]
  },
  {
   "cell_type": "code",
   "execution_count": null,
   "metadata": {
    "collapsed": true
   },
   "outputs": [],
   "source": []
  }
 ],
 "metadata": {
  "kernelspec": {
   "display_name": "Python 3",
   "language": "python",
   "name": "python3"
  },
  "language_info": {
   "codemirror_mode": {
    "name": "ipython",
    "version": 3
   },
   "file_extension": ".py",
   "mimetype": "text/x-python",
   "name": "python",
   "nbconvert_exporter": "python",
   "pygments_lexer": "ipython3",
   "version": "3.6.2"
  }
 },
 "nbformat": 4,
 "nbformat_minor": 2
}
