{
 "cells": [
  {
   "cell_type": "code",
   "execution_count": 1,
   "metadata": {
    "collapsed": true
   },
   "outputs": [],
   "source": [
    "import unittest"
   ]
  },
  {
   "cell_type": "code",
   "execution_count": 2,
   "metadata": {},
   "outputs": [],
   "source": [
    "instruction_list = list(map(int, open('input.txt').readlines()))"
   ]
  },
  {
   "cell_type": "code",
   "execution_count": 3,
   "metadata": {},
   "outputs": [],
   "source": [
    "class VM(object):\n",
    "    def __init__(self, instrl, debug=False, part=1):\n",
    "        self.PC = 0\n",
    "        self.steps = 0\n",
    "        self.part = part\n",
    "        self.instrl = instrl[:] # copy since we will re-use the input instruction for each part\n",
    "        self.debug = debug\n",
    "        self.max = len(instrl)\n",
    "    \n",
    "    def jmp(self):\n",
    "        self.steps += 1\n",
    "        offset = self.instrl[self.PC]\n",
    "        if self.part == 1:\n",
    "            self.instrl[self.PC] += 1\n",
    "        else:\n",
    "            if offset >= 3:\n",
    "                self.instrl[self.PC] -= 1\n",
    "            else:\n",
    "                self.instrl[self.PC] += 1\n",
    "        self.PC += offset\n",
    "        if self.debug:\n",
    "            print(self)\n",
    "    \n",
    "    def run(self):\n",
    "        while self.oob() is None:\n",
    "            self.jmp()\n",
    "        return self.steps\n",
    "\n",
    "    def oob(self):\n",
    "        if self.PC >=0 and self.PC < self.max:\n",
    "            return None\n",
    "        else:\n",
    "            return self.steps\n",
    "        \n",
    "    def __str__(self):\n",
    "        outstr = ''\n",
    "        for i, j in enumerate(self.instrl):\n",
    "            if self.PC == i:\n",
    "                outstr += f'({j}) '\n",
    "            else:\n",
    "                outstr += f' {j}  '\n",
    "        return outstr\n"
   ]
  },
  {
   "cell_type": "code",
   "execution_count": 4,
   "metadata": {},
   "outputs": [],
   "source": [
    "class TestIt(unittest.TestCase):\n",
    "    def test_01(self):\n",
    "        testVM = VM([0, 3,  0,  1,  -3], debug=True)\n",
    "        print('Part 1')\n",
    "        count = testVM.run()\n",
    "        self.assertEqual(count, 5)\n",
    "    def test_02(self):\n",
    "        testVM = VM([0, 3,  0,  1,  -3], part=2, debug=True)\n",
    "        print('Part 2')\n",
    "        count = testVM.run()\n",
    "        self.assertEqual(count, 10)"
   ]
  },
  {
   "cell_type": "code",
   "execution_count": 5,
   "metadata": {},
   "outputs": [
    {
     "name": "stderr",
     "output_type": "stream",
     "text": [
      "test_01 (__main__.TestIt) ... ok\n",
      "test_02 (__main__.TestIt) ... "
     ]
    },
    {
     "name": "stdout",
     "output_type": "stream",
     "text": [
      "Part 1\n",
      "(1)  3   0   1   -3  \n",
      " 2  (3)  0   1   -3  \n",
      " 2   4   0   1  (-3) \n",
      " 2  (4)  0   1   -2  \n",
      " 2   5   0   1   -2  \n",
      "Part 2\n",
      "(1)  3   0   1   -3  \n",
      " 2  (3)  0   1   -3  \n",
      " 2   2   0   1  (-3) \n",
      " 2  (2)  0   1   -2  \n",
      " 2   3   0  (1)  -2  \n",
      " 2   3   0   2  (-2) \n",
      " 2   3  (0)  2   -1  \n",
      " 2   3  (1)  2   -1  \n",
      " 2   3   2  (2)  -1  \n",
      " 2   3   2   3   -1  \n"
     ]
    },
    {
     "name": "stderr",
     "output_type": "stream",
     "text": [
      "ok\n",
      "\n",
      "----------------------------------------------------------------------\n",
      "Ran 2 tests in 0.011s\n",
      "\n",
      "OK\n"
     ]
    },
    {
     "data": {
      "text/plain": [
       "<unittest.runner.TextTestResult run=2 errors=0 failures=0>"
      ]
     },
     "execution_count": 5,
     "metadata": {},
     "output_type": "execute_result"
    }
   ],
   "source": [
    "suite = unittest.TestLoader().loadTestsFromTestCase(TestIt)\n",
    "unittest.TextTestRunner(verbosity=2).run(suite)"
   ]
  },
  {
   "cell_type": "code",
   "execution_count": 6,
   "metadata": {
    "collapsed": true
   },
   "outputs": [],
   "source": [
    "part1VM = VM(instruction_list)"
   ]
  },
  {
   "cell_type": "code",
   "execution_count": 7,
   "metadata": {},
   "outputs": [
    {
     "name": "stdout",
     "output_type": "stream",
     "text": [
      "part1 answer: 391540\n"
     ]
    }
   ],
   "source": [
    "print(f'part1 answer: {part1VM.run()}')"
   ]
  },
  {
   "cell_type": "code",
   "execution_count": 8,
   "metadata": {
    "collapsed": true
   },
   "outputs": [],
   "source": [
    "part2VM = VM(instruction_list, part=2)"
   ]
  },
  {
   "cell_type": "code",
   "execution_count": 9,
   "metadata": {},
   "outputs": [
    {
     "name": "stdout",
     "output_type": "stream",
     "text": [
      "part2 answer: 30513679\n"
     ]
    }
   ],
   "source": [
    "print(f'part2 answer: {part2VM.run()}')"
   ]
  },
  {
   "cell_type": "markdown",
   "metadata": {},
   "source": [
    "### Visualisations..."
   ]
  },
  {
   "cell_type": "code",
   "execution_count": 31,
   "metadata": {
    "collapsed": true
   },
   "outputs": [],
   "source": [
    "visualise_list = [0, 3,  0,  1,  -3]"
   ]
  },
  {
   "cell_type": "code",
   "execution_count": 32,
   "metadata": {
    "collapsed": true
   },
   "outputs": [],
   "source": [
    "import networkx as nx\n",
    "import matplotlib.pyplot as plt\n",
    "%matplotlib inline"
   ]
  },
  {
   "cell_type": "code",
   "execution_count": 33,
   "metadata": {
    "collapsed": true
   },
   "outputs": [],
   "source": [
    "g = nx.DiGraph()"
   ]
  },
  {
   "cell_type": "code",
   "execution_count": 34,
   "metadata": {
    "collapsed": true
   },
   "outputs": [],
   "source": [
    "g.add_node('Exit Low')\n",
    "g.add_node('Exit High')\n",
    "for i, o in enumerate(visualise_list):\n",
    "    g.add_node(i)\n",
    "for i, o in enumerate(visualise_list):\n",
    "    if (i+o) < 0:\n",
    "        g.add_edge(i, 'Exit Low')\n",
    "    elif (i+o) > len(visualise_list):\n",
    "        g.add_edge(i, 'Exit High')\n",
    "    else:\n",
    "        g.add_edge(i, i+o)\n"
   ]
  },
  {
   "cell_type": "code",
   "execution_count": 35,
   "metadata": {
    "collapsed": true
   },
   "outputs": [],
   "source": [
    "pos = nx.spring_layout(g)"
   ]
  },
  {
   "cell_type": "code",
   "execution_count": 38,
   "metadata": {},
   "outputs": [
    {
     "name": "stderr",
     "output_type": "stream",
     "text": [
      "C:\\Users\\oakden\\Anaconda2\\envs\\dspython361\\lib\\site-packages\\networkx\\drawing\\nx_pylab.py:126: MatplotlibDeprecationWarning: pyplot.hold is deprecated.\n",
      "    Future behavior will be consistent with the long-time default:\n",
      "    plot commands add elements without first clearing the\n",
      "    Axes and/or Figure.\n",
      "  b = plt.ishold()\n",
      "C:\\Users\\oakden\\Anaconda2\\envs\\dspython361\\lib\\site-packages\\networkx\\drawing\\nx_pylab.py:138: MatplotlibDeprecationWarning: pyplot.hold is deprecated.\n",
      "    Future behavior will be consistent with the long-time default:\n",
      "    plot commands add elements without first clearing the\n",
      "    Axes and/or Figure.\n",
      "  plt.hold(b)\n",
      "C:\\Users\\oakden\\Anaconda2\\envs\\dspython361\\lib\\site-packages\\matplotlib\\__init__.py:917: UserWarning: axes.hold is deprecated. Please remove it from your matplotlibrc and/or style files.\n",
      "  warnings.warn(self.msg_depr_set % key)\n",
      "C:\\Users\\oakden\\Anaconda2\\envs\\dspython361\\lib\\site-packages\\matplotlib\\rcsetup.py:152: UserWarning: axes.hold is deprecated, will be removed in 3.0\n",
      "  warnings.warn(\"axes.hold is deprecated, will be removed in 3.0\")\n"
     ]
    },
    {
     "ename": "AttributeError",
     "evalue": "module 'networkx' has no attribute 'draw_labels'",
     "output_type": "error",
     "traceback": [
      "\u001b[1;31m---------------------------------------------------------------------------\u001b[0m",
      "\u001b[1;31mAttributeError\u001b[0m                            Traceback (most recent call last)",
      "\u001b[1;32m<ipython-input-38-d0c9b5744466>\u001b[0m in \u001b[0;36m<module>\u001b[1;34m()\u001b[0m\n\u001b[0;32m      5\u001b[0m \u001b[0mnx\u001b[0m\u001b[1;33m.\u001b[0m\u001b[0mdraw_networkx_nodes\u001b[0m\u001b[1;33m(\u001b[0m\u001b[0mg\u001b[0m\u001b[1;33m,\u001b[0m \u001b[0mpos\u001b[0m\u001b[1;33m=\u001b[0m\u001b[0mpos\u001b[0m\u001b[1;33m,\u001b[0m \u001b[0mnodelist\u001b[0m\u001b[1;33m=\u001b[0m\u001b[1;33m[\u001b[0m\u001b[1;34m'Exit Low'\u001b[0m\u001b[1;33m,\u001b[0m \u001b[1;34m'Exit High'\u001b[0m\u001b[1;33m]\u001b[0m\u001b[1;33m,\u001b[0m \u001b[0mnode_size\u001b[0m\u001b[1;33m=\u001b[0m\u001b[1;36m80\u001b[0m\u001b[1;33m,\u001b[0m \u001b[0mnode_color\u001b[0m\u001b[1;33m=\u001b[0m\u001b[1;34m'g'\u001b[0m\u001b[1;33m)\u001b[0m\u001b[1;33m\u001b[0m\u001b[0m\n\u001b[0;32m      6\u001b[0m \u001b[0mnx\u001b[0m\u001b[1;33m.\u001b[0m\u001b[0mdraw_networkx_nodes\u001b[0m\u001b[1;33m(\u001b[0m\u001b[0mg\u001b[0m\u001b[1;33m,\u001b[0m \u001b[0mpos\u001b[0m\u001b[1;33m=\u001b[0m\u001b[0mpos\u001b[0m\u001b[1;33m,\u001b[0m \u001b[0mnodelist\u001b[0m\u001b[1;33m=\u001b[0m\u001b[1;33m[\u001b[0m\u001b[1;36m0\u001b[0m\u001b[1;33m]\u001b[0m\u001b[1;33m,\u001b[0m \u001b[0mnode_size\u001b[0m\u001b[1;33m=\u001b[0m\u001b[1;36m80\u001b[0m\u001b[1;33m,\u001b[0m \u001b[0mnode_color\u001b[0m\u001b[1;33m=\u001b[0m\u001b[1;34m'y'\u001b[0m\u001b[1;33m)\u001b[0m\u001b[1;33m\u001b[0m\u001b[0m\n\u001b[1;32m----> 7\u001b[1;33m \u001b[0mnx\u001b[0m\u001b[1;33m.\u001b[0m\u001b[0mdraw_labels\u001b[0m\u001b[1;33m(\u001b[0m\u001b[0mg\u001b[0m\u001b[1;33m,\u001b[0m \u001b[0mpos\u001b[0m\u001b[1;33m=\u001b[0m\u001b[0mlabel_pos\u001b[0m\u001b[1;33m)\u001b[0m\u001b[1;33m\u001b[0m\u001b[0m\n\u001b[0m",
      "\u001b[1;31mAttributeError\u001b[0m: module 'networkx' has no attribute 'draw_labels'"
     ]
    },
    {
     "data": {
      "image/png": "[encoded data removed]",
      "text/plain": [
       "<matplotlib.figure.Figure at 0x1e4e690c780>"
      ]
     },
     "metadata": {},
     "output_type": "display_data"
    }
   ],
   "source": [
    "label_pos = {key: (pos[key][0], pos[key][1] + 0.03) for key in pos}\n",
    "plt.figure(figsize=(16,12))\n",
    "plt.axis('off')\n",
    "nx.draw(g, pos=pos, node_size=20)\n",
    "nx.draw_networkx_nodes(g, pos=pos, nodelist=['Exit Low', 'Exit High'], node_size=80, node_color='g')\n",
    "nx.draw_networkx_nodes(g, pos=pos, nodelist=[0], node_size=80, node_color='y')\n",
    "nx.draw_labels(g, pos=label_pos)"
   ]
  },
  {
   "cell_type": "code",
   "execution_count": 13,
   "metadata": {},
   "outputs": [
    {
     "data": {
      "text/plain": [
       "[(0, 0), (1, 1), (2, 2)]"
      ]
     },
     "execution_count": 13,
     "metadata": {},
     "output_type": "execute_result"
    }
   ],
   "source": []
  },
  {
   "cell_type": "code",
   "execution_count": null,
   "metadata": {
    "collapsed": true
   },
   "outputs": [],
   "source": []
  }
 ],
 "metadata": {
  "kernelspec": {
   "display_name": "Python 3",
   "language": "python",
   "name": "python3"
  },
  "language_info": {
   "codemirror_mode": {
    "name": "ipython",
    "version": 3
   },
   "file_extension": ".py",
   "mimetype": "text/x-python",
   "name": "python",
   "nbconvert_exporter": "python",
   "pygments_lexer": "ipython3",
   "version": "3.6.2"
  }
 },
 "nbformat": 4,
 "nbformat_minor": 2
}
