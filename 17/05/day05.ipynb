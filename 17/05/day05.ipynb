{
 "cells": [
  {
   "cell_type": "code",
   "execution_count": 1,
   "metadata": {
    "collapsed": true
   },
   "outputs": [],
   "source": [
    "import unittest"
   ]
  },
  {
   "cell_type": "code",
   "execution_count": 2,
   "metadata": {},
   "outputs": [],
   "source": [
    "instruction_list = list(map(int, open('input.txt').readlines()))"
   ]
  },
  {
   "cell_type": "code",
   "execution_count": 3,
   "metadata": {},
   "outputs": [],
   "source": [
    "class VM(object):\n",
    "    def __init__(self, instrl, debug=False, part=1):\n",
    "        self.PC = 0\n",
    "        self.steps = 0\n",
    "        self.part = part\n",
    "        self.instrl = instrl[:] # copy since we will re-use the input instruction for each part\n",
    "        self.debug = debug\n",
    "        self.max = len(instrl)\n",
    "    \n",
    "    def jmp(self):\n",
    "        self.steps += 1\n",
    "        offset = self.instrl[self.PC]\n",
    "        if self.part == 1:\n",
    "            self.instrl[self.PC] += 1\n",
    "        else:\n",
    "            if offset >= 3:\n",
    "                self.instrl[self.PC] -= 1\n",
    "            else:\n",
    "                self.instrl[self.PC] += 1\n",
    "        self.PC += offset\n",
    "        if self.debug:\n",
    "            print(self)\n",
    "    \n",
    "    def run(self):\n",
    "        while self.oob() is None:\n",
    "            self.jmp()\n",
    "        return self.steps\n",
    "\n",
    "    def oob(self):\n",
    "        if self.PC >=0 and self.PC < self.max:\n",
    "            return None\n",
    "        else:\n",
    "            return self.steps\n",
    "        \n",
    "    def __str__(self):\n",
    "        outstr = ''\n",
    "        for i, j in enumerate(self.instrl):\n",
    "            if self.PC == i:\n",
    "                outstr += f'({j}) '\n",
    "            else:\n",
    "                outstr += f' {j}  '\n",
    "        return outstr\n"
   ]
  },
  {
   "cell_type": "code",
   "execution_count": 4,
   "metadata": {},
   "outputs": [],
   "source": [
    "class TestIt(unittest.TestCase):\n",
    "    def test_01(self):\n",
    "        testVM = VM([0, 3,  0,  1,  -3], debug=True)\n",
    "        print('Part 1')\n",
    "        count = testVM.run()\n",
    "        self.assertEqual(count, 5)\n",
    "    def test_02(self):\n",
    "        testVM = VM([0, 3,  0,  1,  -3], part=2, debug=True)\n",
    "        print('Part 2')\n",
    "        count = testVM.run()\n",
    "        self.assertEqual(count, 10)"
   ]
  },
  {
   "cell_type": "code",
   "execution_count": 5,
   "metadata": {},
   "outputs": [
    {
     "name": "stderr",
     "output_type": "stream",
     "text": [
      "test_01 (__main__.TestIt) ... ok\n",
      "test_02 (__main__.TestIt) ... "
     ]
    },
    {
     "name": "stdout",
     "output_type": "stream",
     "text": [
      "Part 1\n",
      "(1)  3   0   1   -3  \n",
      " 2  (3)  0   1   -3  \n",
      " 2   4   0   1  (-3) \n",
      " 2  (4)  0   1   -2  \n",
      " 2   5   0   1   -2  \n",
      "Part 2\n",
      "(1)  3   0   1   -3  \n",
      " 2  (3)  0   1   -3  \n",
      " 2   2   0   1  (-3) \n",
      " 2  (2)  0   1   -2  \n",
      " 2   3   0  (1)  -2  \n",
      " 2   3   0   2  (-2) \n",
      " 2   3  (0)  2   -1  \n",
      " 2   3  (1)  2   -1  \n",
      " 2   3   2  (2)  -1  \n",
      " 2   3   2   3   -1  \n"
     ]
    },
    {
     "name": "stderr",
     "output_type": "stream",
     "text": [
      "ok\n",
      "\n",
      "----------------------------------------------------------------------\n",
      "Ran 2 tests in 0.012s\n",
      "\n",
      "OK\n"
     ]
    },
    {
     "data": {
      "text/plain": [
       "<unittest.runner.TextTestResult run=2 errors=0 failures=0>"
      ]
     },
     "execution_count": 5,
     "metadata": {},
     "output_type": "execute_result"
    }
   ],
   "source": [
    "suite = unittest.TestLoader().loadTestsFromTestCase(TestIt)\n",
    "unittest.TextTestRunner(verbosity=2).run(suite)"
   ]
  },
  {
   "cell_type": "code",
   "execution_count": 6,
   "metadata": {
    "collapsed": true
   },
   "outputs": [],
   "source": [
    "part1VM = VM(instruction_list)"
   ]
  },
  {
   "cell_type": "code",
   "execution_count": 7,
   "metadata": {},
   "outputs": [
    {
     "name": "stdout",
     "output_type": "stream",
     "text": [
      "part1 answer: 391540\n"
     ]
    }
   ],
   "source": [
    "print(f'part1 answer: {part1VM.run()}')"
   ]
  },
  {
   "cell_type": "code",
   "execution_count": 8,
   "metadata": {
    "collapsed": true
   },
   "outputs": [],
   "source": [
    "part2VM = VM(instruction_list, part=2)"
   ]
  },
  {
   "cell_type": "code",
   "execution_count": 9,
   "metadata": {},
   "outputs": [
    {
     "name": "stdout",
     "output_type": "stream",
     "text": [
      "part2 answer: 30513679\n"
     ]
    }
   ],
   "source": [
    "print(f'part2 answer: {part2VM.run()}')"
   ]
  },
  {
   "cell_type": "code",
   "execution_count": null,
   "metadata": {
    "collapsed": true
   },
   "outputs": [],
   "source": []
  }
 ],
 "metadata": {
  "kernelspec": {
   "display_name": "Python 3",
   "language": "python",
   "name": "python3"
  },
  "language_info": {
   "codemirror_mode": {
    "name": "ipython",
    "version": 3
   },
   "file_extension": ".py",
   "mimetype": "text/x-python",
   "name": "python",
   "nbconvert_exporter": "python",
   "pygments_lexer": "ipython3",
   "version": "3.6.2"
  }
 },
 "nbformat": 4,
 "nbformat_minor": 2
}
