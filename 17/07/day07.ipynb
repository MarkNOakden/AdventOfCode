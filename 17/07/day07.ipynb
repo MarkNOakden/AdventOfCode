{
 "cells": [
  {
   "cell_type": "code",
   "execution_count": 1,
   "metadata": {
    "collapsed": true
   },
   "outputs": [],
   "source": [
    "import networkx as nx\n",
    "import re\n",
    "import matplotlib.pyplot as plt\n",
    "from collections import Counter\n",
    "\n",
    "%matplotlib inline"
   ]
  },
  {
   "cell_type": "code",
   "execution_count": 2,
   "metadata": {
    "collapsed": true
   },
   "outputs": [],
   "source": [
    "in_lines = open('input.txt').readlines()"
   ]
  },
  {
   "cell_type": "code",
   "execution_count": 3,
   "metadata": {
    "collapsed": true
   },
   "outputs": [],
   "source": [
    "g = nx.DiGraph()"
   ]
  },
  {
   "cell_type": "code",
   "execution_count": 4,
   "metadata": {
    "collapsed": true
   },
   "outputs": [],
   "source": [
    "line_re = re.compile(r'^([^ ]+) \\(([0-9]+)\\)( -> (.*))?$')"
   ]
  },
  {
   "cell_type": "code",
   "execution_count": 5,
   "metadata": {
    "collapsed": true
   },
   "outputs": [],
   "source": [
    "nodes = []\n",
    "\n",
    "for l in in_lines:\n",
    "    match = line_re.match(l).groups()\n",
    "    nodes.append([match[0], match[1], None if match[3] is None else match[3].split(', ')])"
   ]
  },
  {
   "cell_type": "code",
   "execution_count": 6,
   "metadata": {
    "collapsed": true
   },
   "outputs": [],
   "source": [
    "g.add_nodes_from([(n[0], {'weight': int(n[1])}) for n in nodes])"
   ]
  },
  {
   "cell_type": "code",
   "execution_count": 7,
   "metadata": {
    "collapsed": true
   },
   "outputs": [],
   "source": [
    "for n in nodes:\n",
    "    try:\n",
    "        for child in n[2]:\n",
    "            g.add_edge(n[0], child)\n",
    "    except TypeError:\n",
    "        pass"
   ]
  },
  {
   "cell_type": "code",
   "execution_count": 9,
   "metadata": {},
   "outputs": [
    {
     "data": {
      "text/plain": [
       "InDegreeView({'jovejmr': 1, 'fesmk': 1, 'gwhfv': 1, 'vxfoyx': 1, 'pvtnv': 1, 'cpmuhnf': 1, 'ocezven': 1, 'xjqta': 1, 'hkckef': 1, 'nwuhqn': 1, 'wbbfc': 1, 'oictp': 1, 'zmizid': 1, 'uukembw': 1, 'iqdna': 1, 'vakapy': 1, 'qouck': 1, 'pqjeof': 1, 'faszmg': 1, 'jvjlfb': 1, 'oxwpxqj': 1, 'ryonf': 1, 'jrgndow': 1, 'iayecc': 1, 'lwuwrp': 1, 'haxfzky': 1, 'ahbxz': 1, 'muuyp': 1, 'emjuzdq': 1, 'csiof': 1, 'orkisb': 1, 'yheewtp': 1, 'utrhfs': 1, 'kczko': 1, 'iwcqa': 1, 'chdtaz': 1, 'pqoybi': 1, 'pinapwf': 1, 'vpfsdll': 1, 'ohjniy': 1, 'cbldohy': 1, 'vvgyhb': 1, 'wwjqcpu': 1, 'xvjuf': 1, 'zdsyu': 1, 'eovjzwr': 1, 'ohsjl': 1, 'eduzwi': 1, 'oyhvxt': 1, 'kyoypr': 1, 'mfaftsr': 1, 'heqou': 1, 'ktbxbnn': 1, 'yscxlz': 1, 'dukpbd': 1, 'kzlpr': 1, 'qswzv': 1, 'pxjuos': 1, 'mvavmml': 1, 'kqxpxlx': 1, 'ixdllwp': 1, 'nhrapmw': 1, 'wurmmqn': 1, 'dqjxyyd': 1, 'vlnnmg': 1, 'rjyyh': 1, 'hwezjo': 1, 'iyeuk': 1, 'lcaeg': 1, 'gfhfmig': 1, 'iugub': 1, 'tfpsrke': 1, 'nhjbg': 1, 'rleprim': 1, 'yowehs': 1, 'lefvu': 1, 'kcjcpk': 1, 'zhvyfkx': 1, 'ixeev': 1, 'rkjfzl': 1, 'cstxcb': 1, 'bzhzzv': 1, 'sqkae': 1, 'rpkaem': 1, 'krepomq': 1, 'hxdrc': 1, 'nebobeh': 1, 'jkcrf': 1, 'jlnxpy': 1, 'xdqma': 1, 'dtpzna': 1, 'wovwg': 1, 'eaggakx': 1, 'imfepc': 1, 'uruco': 1, 'qbhev': 1, 'bvrxeo': 1, 'exhjhpu': 1, 'zcubrms': 1, 'bqayvhe': 1, 'kutvex': 1, 'tzlsvpk': 1, 'jbqnyve': 1, 'aexqgs': 1, 'sbgug': 1, 'mmsesaw': 1, 'xsnbmt': 1, 'pzhayls': 1, 'iqyrubd': 1, 'nwzzgtf': 1, 'jgbce': 1, 'blhjjx': 1, 'xyoatzj': 1, 'drukt': 1, 'bxxpwa': 1, 'uyfca': 1, 'qslflr': 1, 'czrmixj': 1, 'rogrsp': 1, 'bcmep': 1, 'tvqfs': 1, 'vhdfs': 1, 'quaqp': 1, 'kqaox': 1, 'lyetyd': 1, 'uktdx': 1, 'eyhbm': 1, 'vrlwo': 1, 'xeoeht': 1, 'szgqmow': 1, 'hmxbpwl': 1, 'xorzt': 1, 'nohqdkf': 1, 'fbshzlu': 1, 'zlrod': 1, 'ftudp': 1, 'zskbac': 1, 'sdkbbc': 1, 'qngcb': 1, 'xziemca': 1, 'rpvqak': 1, 'bojkbqr': 1, 'jsthfix': 1, 'lxckefh': 1, 'qrlyc': 1, 'aemfgyt': 1, 'xbegaua': 1, 'hfcotwm': 1, 'wrmngqs': 1, 'anpriwx': 1, 'gsuxkc': 1, 'qryxc': 1, 'tymwxrt': 1, 'ifmnxwy': 1, 'qwjcmlq': 1, 'qlmptj': 1, 'eazsmg': 1, 'kygcd': 1, 'surfn': 1, 'ikwre': 1, 'tdulat': 1, 'yophj': 1, 'gverkkt': 1, 'vwhmf': 1, 'krvsaqc': 1, 'qgmtntw': 1, 'dmtlzbj': 1, 'zewvip': 1, 'znhkve': 1, 'odnfifx': 1, 'affmx': 1, 'pfeewo': 1, 'rviwwhc': 1, 'wpqqze': 1, 'zmmfuq': 1, 'qpnyq': 1, 'kjvaqy': 1, 'dkuhniy': 1, 'tzgsm': 1, 'xrgsnsh': 1, 'ozolfes': 1, 'zzrttv': 1, 'dvdnlr': 1, 'qqubd': 1, 'adsppu': 1, 'rblolc': 1, 'blslvmm': 1, 'qhdtqi': 1, 'obpwxg': 1, 'bxqlx': 1, 'bqjqj': 1, 'uxfnv': 1, 'socihs': 1, 'qnioy': 1, 'mbcxw': 1, 'wytylnc': 1, 'hckgf': 1, 'mnsxmc': 1, 'olyrohd': 1, 'nglln': 1, 'qoiit': 1, 'vqezl': 1, 'deboo': 1, 'dystb': 1, 'dpqxwea': 1, 'lpfprd': 1, 'fviaonx': 1, 'brvlzkw': 1, 'ocpzwk': 1, 'ynhgsj': 1, 'orgcvcg': 1, 'jfikyhd': 1, 'ajpjme': 1, 'atquwvk': 1, 'csmkbgh': 1, 'hercuw': 1, 'kpjmq': 1, 'iuosq': 1, 'onxwvpl': 1, 'ooilg': 1, 'dkolh': 1, 'crxcdnk': 1, 'xycwfmc': 1, 'hxphn': 1, 'uhczfn': 1, 'juxbbz': 1, 'fqevwyy': 1, 'ybhtg': 1, 'itaxno': 1, 'eibsqe': 1, 'lrzlckm': 1, 'anlre': 1, 'anetug': 1, 'syhbs': 1, 'wpmpzel': 1, 'rthbso': 1, 'narpa': 1, 'luralcy': 1, 'xurtoj': 1, 'hsycjdc': 1, 'geniumj': 1, 'pcissqn': 1, 'mebfx': 1, 'fhyhg': 1, 'pxsdzax': 1, 'waneo': 1, 'zwhpl': 1, 'vnlmjy': 1, 'litns': 1, 'qsdrdp': 1, 'rxulpe': 1, 'vxpjfrf': 1, 'slxrrx': 1, 'gwtsp': 1, 'hkrkkvv': 1, 'dbzmyy': 1, 'kywdy': 1, 'btsfhej': 1, 'acgdfu': 1, 'kccdhut': 1, 'rcfkr': 1, 'jwdmmcd': 1, 'phwnp': 1, 'asxxcu': 1, 'jsylrrl': 1, 'qvbyk': 1, 'atazf': 1, 'fierzfm': 1, 'kwhjz': 1, 'vdkklj': 1, 'hnfwgag': 1, 'eptfjt': 1, 'sdxlyd': 1, 'azddjb': 1, 'ydktfd': 1, 'tgspt': 1, 'eqjoky': 1, 'oadcp': 1, 'ycihhx': 1, 'bgacyt': 1, 'takkclx': 1, 'jvhuwnd': 1, 'dmohbhf': 1, 'wdzqhs': 1, 'fjforb': 1, 'npkqfq': 1, 'qugbhqd': 1, 'jxovdlo': 1, 'nmgme': 1, 'njmpeyi': 1, 'oekex': 1, 'uewmev': 1, 'gmxfl': 1, 'fhjnytd': 1, 'ytoju': 1, 'lsyuq': 1, 'taple': 1, 'fdojsjr': 1, 'sosqk': 1, 'rmvwkb': 1, 'boifbq': 1, 'xdwuc': 1, 'xnhowa': 1, 'qxrnvvk': 1, 'adxgp': 1, 'vsfhp': 1, 'jnyexah': 1, 'rzirj': 1, 'bqhfmb': 1, 'scwyfb': 1, 'kwlqal': 1, 'aeppvjo': 1, 'prwwpd': 1, 'zzuzfn': 1, 'rqgoz': 1, 'rgumam': 1, 'nouzec': 1, 'tqveqn': 1, 'bbpyckh': 1, 'kpcorrf': 1, 'inhsin': 1, 'ixflbkx': 1, 'crutxb': 1, 'iacjli': 1, 'nescogt': 1, 'jldua': 1, 'opttfsy': 1, 'vckfvm': 1, 'fodddp': 1, 'vbrhq': 1, 'wwhao': 1, 'zmnxzz': 1, 'eqhbool': 1, 'gqejbh': 1, 'dzcfaed': 1, 'khebz': 1, 'qjhegw': 1, 'zmfwxre': 1, 'jlvppc': 1, 'furqyga': 1, 'qaietz': 1, 'lfbke': 1, 'fbbsb': 1, 'mxseaq': 1, 'oumbw': 1, 'vedrnbs': 1, 'zsfuc': 1, 'ydzlkcn': 1, 'uppcjl': 1, 'gxgvu': 1, 'wezzh': 1, 'npmifyp': 1, 'mloey': 1, 'oqihebu': 1, 'evnqnr': 1, 'nozhmci': 1, 'swojpec': 1, 'yjlokcq': 1, 'rmndp': 1, 'ufzrbo': 1, 'hdhmvr': 1, 'hojzxhu': 1, 'eevkfzp': 1, 'lmildeh': 1, 'rsmfalh': 1, 'sleezka': 1, 'cvwwx': 1, 'vwvpuxj': 1, 'rqvni': 1, 'yocxtug': 1, 'ruayalk': 1, 'kbvepc': 1, 'codnc': 1, 'ovpoqt': 1, 'wbona': 1, 'vaedn': 1, 'pdrswn': 1, 'mqynznk': 1, 'dboryfe': 1, 'iwvgg': 1, 'kzuimi': 1, 'vmldb': 1, 'kwnpdyr': 1, 'olxrjth': 1, 'cjvpndj': 1, 'zenhi': 1, 'dyxlbp': 1, 'hrbeox': 1, 'lieexcn': 1, 'xochdg': 1, 'ffelpox': 1, 'ukqajr': 1, 'tujzdkt': 1, 'pdvqv': 1, 'tftmhfs': 1, 'vjiqdn': 1, 'qyqir': 1, 'brooyl': 1, 'ggkue': 1, 'zdrtwa': 1, 'wtenp': 1, 'xigac': 1, 'thgbcuu': 1, 'aupbre': 1, 'eksxd': 1, 'gyzhdk': 1, 'djjwlxc': 1, 'xacioc': 1, 'efylyde': 1, 'qomll': 1, 'fycbjfr': 1, 'foqhhy': 1, 'znfjlz': 1, 'djaamm': 1, 'jxjrfer': 1, 'xbuysgv': 1, 'lkbpaz': 1, 'iysgr': 1, 'ajncl': 1, 'mgklkfr': 1, 'yxjiuum': 1, 'jsyhr': 1, 'ocmqewc': 1, 'pddkiy': 1, 'bwifylg': 1, 'txrvdmv': 1, 'samoayn': 1, 'tijjvh': 1, 'hgayc': 1, 'sphbex': 1, 'sjrmzwh': 1, 'nyubyy': 1, 'xnyow': 1, 'gqrflb': 1, 'sudep': 1, 'rlngreu': 1, 'tymld': 1, 'kqieiv': 1, 'jyawoxq': 1, 'aeosriz': 1, 'nbdhcy': 1, 'tnbess': 1, 'rridhkb': 1, 'gzcqdt': 1, 'ckguaj': 1, 'cpxwsyb': 1, 'jfwbrfo': 1, 'mtvlfz': 1, 'ebptuar': 1, 'mfpxtom': 1, 'awxpkvm': 1, 'nupqbfq': 1, 'craakno': 1, 'jcbaauf': 1, 'hvqdejm': 1, 'zftvgdy': 1, 'rrrrgbe': 1, 'jswlnwo': 1, 'vfewf': 1, 'aqytxb': 1, 'njahbu': 1, 'jwahk': 1, 'oztts': 1, 'ybijr': 1, 'zvernrt': 1, 'oufye': 1, 'ltleg': 1, 'cvewsdi': 1, 'yiitzs': 1, 'sverl': 1, 'htipqs': 1, 'pbcywz': 1, 'krmjp': 1, 'ltnnn': 1, 'eioql': 1, 'vwohcb': 1, 'aiiswrv': 1, 'srahmep': 1, 'yveusc': 1, 'exshg': 1, 'qgbdih': 1, 'gmhwcj': 1, 'nghznvw': 1, 'kewlet': 1, 'tvjrjqj': 1, 'pzths': 1, 'wojzq': 1, 'hcnocre': 1, 'jowbyue': 1, 'vwske': 1, 'khxsoaa': 1, 'nxbmvbe': 1, 'cydve': 1, 'wpyem': 1, 'safph': 1, 'ekchuez': 1, 'nsyqlu': 1, 'cosbycn': 1, 'xxylgr': 1, 'kurvox': 1, 'iicum': 1, 'rkcdvt': 1, 'qfyzmmx': 1, 'xzhabw': 1, 'cnvgrhz': 1, 'emxhh': 1, 'zgcmic': 1, 'nomegvq': 1, 'kvgcvel': 1, 'gftkh': 1, 'odwmuu': 1, 'bqldhq': 1, 'awbgrbu': 1, 'ccsqmpv': 1, 'vxzcqpq': 1, 'dcbopj': 1, 'tznxngl': 1, 'dhmnja': 1, 'awwywgr': 1, 'alvmkwx': 1, 'arowo': 1, 'knvukf': 1, 'ffwzbh': 1, 'yygabb': 1, 'nssmfal': 1, 'klcixar': 1, 'szosumk': 1, 'chhab': 1, 'incqze': 1, 'krrjt': 1, 'xpxwgaq': 1, 'udydca': 1, 'lucdp': 1, 'ogrcxm': 1, 'tovvd': 1, 'btjjjxw': 1, 'utnhs': 1, 'xhzrq': 1, 'utoegrc': 1, 'gzttehr': 1, 'iypfs': 1, 'xihwd': 1, 'tkmobkr': 1, 'dtyaw': 1, 'yljnodb': 1, 'mydomlh': 1, 'nybkt': 1, 'jlrun': 1, 'ehjakg': 1, 'yinrfyl': 1, 'qwdhug': 1, 'axklth': 1, 'lnwutyi': 1, 'khcau': 1, 'xgqtx': 1, 'xgkduuc': 1, 'tpdaf': 1, 'wdhjt': 1, 'swakad': 1, 'ibvgkc': 1, 'fkttvdm': 1, 'ptogh': 1, 'jeacolj': 1, 'xtcpdsl': 1, 'inkwv': 1, 'dqslnjk': 1, 'mqwndjo': 1, 'vkyped': 1, 'pmhvbof': 1, 'fhrui': 1, 'jpdvph': 1, 'sialf': 1, 'pnuluh': 1, 'tlcfxef': 1, 'niniqlk': 1, 'xxwarr': 1, 'ktcfyc': 1, 'qvyaen': 1, 'ssmfscq': 1, 'nfyjqfo': 1, 'rqglm': 1, 'jznvixs': 1, 'uoyigbs': 1, 'bmatbfz': 1, 'zfavx': 1, 'exqsvn': 1, 'pbthb': 1, 'ndkmiz': 1, 'wkvcgtu': 1, 'obnnecx': 1, 'ajkkb': 1, 'xookni': 1, 'vgjtzi': 1, 'vdkwttr': 1, 'kbrdsqg': 1, 'ixndjgk': 1, 'mgxfso': 1, 'mexsmgu': 1, 'uemcawn': 1, 'rauprc': 1, 'zhclzz': 1, 'uhggwqa': 1, 'sjnpi': 1, 'wkjpw': 1, 'oqmjin': 1, 'uysnnym': 1, 'qpeztu': 1, 'tvuov': 1, 'xydikn': 1, 'ftklgzk': 1, 'fyynvhy': 1, 'odguqiy': 1, 'sccddm': 1, 'trvwm': 1, 'agsdkbw': 1, 'hxomy': 1, 'fwupt': 1, 'hbbkfas': 1, 'jsaksiq': 1, 'lmcqa': 1, 'hlxwud': 1, 'cgewz': 1, 'xtjals': 1, 'rpyji': 1, 'dgsalqk': 1, 'islwhh': 1, 'ujvwff': 1, 'ieqvf': 1, 'cnsxofp': 1, 'crqwarc': 1, 'pzprcdg': 1, 'nvgih': 1, 'jgbgjbe': 1, 'rdqisk': 1, 'dzsjhs': 1, 'jnczao': 1, 'xiita': 1, 'ntmbavi': 1, 'yrgxyez': 1, 'ydrdiyq': 1, 'fwlhy': 1, 'wqlrw': 1, 'iwkhee': 1, 'bummi': 1, 'kcuhnx': 1, 'gcnhj': 1, 'gctjzc': 1, 'tplmdae': 1, 'cfzstl': 1, 'xvxrg': 1, 'bmxcqpu': 1, 'sgjinm': 1, 'kimpf': 1, 'jryikzp': 1, 'pjtzjkm': 1, 'lucoli': 1, 'gruqu': 1, 'vqglff': 1, 'ukixq': 1, 'wcqxiv': 1, 'quomvk': 1, 'pgcvs': 1, 'mchtb': 1, 'wuoeas': 1, 'dmwzg': 1, 'hmgsla': 1, 'efuepo': 1, 'zfkiukq': 1, 'ficpk': 1, 'pqqqof': 1, 'nnsaju': 1, 'ruqgy': 1, 'fhhqd': 1, 'yvidh': 1, 'wnymiji': 1, 'hcfgsnr': 1, 'abqvi': 1, 'uduzaf': 1, 'ytiaiv': 1, 'xoakdt': 1, 'tgmtpht': 1, 'vzdse': 1, 'neisr': 1, 'tjfhwma': 1, 'lndzbn': 1, 'zwaygv': 1, 'ndpsefd': 1, 'yvfkur': 1, 'uwcgpwx': 1, 'neshq': 1, 'axzjpa': 1, 'dhfiwjb': 1, 'sampa': 1, 'yvupc': 1, 'nhaxbnh': 1, 'mjeja': 1, 'iprpx': 1, 'wcyrbc': 1, 'uqsrhrf': 1, 'cvuaf': 1, 'eaugk': 1, 'xcuzkj': 1, 'pifqyxs': 1, 'sbknkwh': 1, 'peubkss': 1, 'hakzty': 1, 'llgxywa': 1, 'qesfmt': 1, 'lsjnlpy': 1, 'efoouqi': 1, 'jevck': 1, 'buoykr': 1, 'xdpxpu': 1, 'lwvclga': 1, 'yutvqn': 1, 'jmavf': 1, 'cjfnt': 1, 'qunku': 1, 'ikrsja': 1, 'uojfba': 1, 'wfrqy': 1, 'vedjm': 1, 'sdagro': 1, 'bktqd': 1, 'ooiiqt': 1, 'qijqu': 1, 'qtrappj': 1, 'jbbvph': 1, 'vdujht': 1, 'owsotek': 1, 'qfcknc': 1, 'gbdida': 1, 'mjbmx': 1, 'uozuk': 1, 'cgemz': 1, 'ahjpc': 1, 'fmpkb': 1, 'jmdype': 1, 'sbgpr': 1, 'ksphb': 1, 'mricpy': 1, 'peclf': 1, 'jeqxuvl': 1, 'fcoaxeb': 1, 'oshhfb': 1, 'nnwxxk': 1, 'onzxd': 1, 'uijfe': 1, 'rlsynsa': 1, 'hfqskw': 1, 'otise': 1, 'fdyit': 1, 'cptpfpd': 1, 'djoxie': 1, 'xvkhbq': 1, 'gzxumn': 1, 'avqmq': 1, 'vyzfw': 1, 'lqdvwk': 1, 'ddzekr': 1, 'fdnmqri': 1, 'jioqtp': 1, 'cianrio': 1, 'azlnl': 1, 'qnhgur': 1, 'mfvta': 1, 'njvmjgm': 1, 'utbrib': 1, 'mxhxyj': 1, 'yiuyo': 1, 'ayrojfl': 1, 'jakjzay': 1, 'fiwwr': 1, 'klnhysy': 1, 'zyzwas': 1, 'gleaooi': 1, 'hznrevv': 1, 'oceimpw': 1, 'iqhrmo': 1, 'hhzarm': 1, 'hygxqrs': 1, 'iqbde': 1, 'hgusv': 1, 'xrglp': 1, 'bmivh': 1, 'isgef': 1, 'dptakt': 1, 'wzwey': 1, 'yvngku': 1, 'gwmkt': 1, 'vrqga': 1, 'gcenos': 1, 'luzjos': 1, 'kcewvb': 1, 'pexst': 1, 'odanj': 1, 'nrslon': 1, 'dmdgesa': 1, 'melui': 1, 'sokvf': 1, 'omupor': 1, 'tggkndf': 1, 'gtuoq': 1, 'czondc': 1, 'nrkxpd': 1, 'vwipyfi': 1, 'uhgqfua': 1, 'fvqwcn': 1, 'kmjzj': 1, 'zbicwki': 1, 'nrdcpk': 1, 'nnutid': 1, 'vesqwkh': 1, 'rhaqwc': 1, 'fyuwn': 1, 'wfekg': 1, 'mlidg': 1, 'vrfek': 1, 'tvzcg': 1, 'segwmpm': 1, 'vllsfc': 1, 'donhvzg': 1, 'nczcs': 1, 'pouqokx': 1, 'afucrtw': 1, 'nawvci': 1, 'temwow': 1, 'aceweuo': 1, 'fcfhlc': 1, 'gypqe': 1, 'ndczjq': 1, 'bmaynas': 1, 'kuwbj': 1, 'ggsdtdp': 1, 'yaxgb': 1, 'vxbdi': 1, 'gihgnqc': 1, 'fultd': 1, 'tezpif': 1, 'sudwjj': 1, 'fnihd': 1, 'dmneolr': 1, 'ighxxvd': 1, 'yshkxu': 1, 'vxaqay': 1, 'lhrdfkg': 1, 'oarrrpk': 1, 'lxpdska': 1, 'yyiiqr': 1, 'sdsyt': 1, 'nkxpqbc': 1, 'weyts': 1, 'gmsbmq': 1, 'akffhfg': 1, 'odoffm': 1, 'cgrcmg': 1, 'dyfyibk': 1, 'awrwywl': 1, 'jxpmi': 1, 'unxgbyg': 1, 'lwespc': 1, 'udpuj': 1, 'cugwenm': 1, 'vzxaf': 1, 'fkajvpp': 1, 'vpqmyx': 1, 'mifct': 1, 'nozlte': 1, 'vfgkz': 1, 'rhkgi': 1, 'ufxskgv': 1, 'jmlnsj': 1, 'dcbsi': 1, 'pqyjyl': 1, 'fwxntdg': 1, 'mgclfp': 1, 'zvfxidm': 1, 'gynpo': 1, 'fwxkh': 1, 'tnbjq': 1, 'nppone': 1, 'qxtfl': 1, 'fkprqmd': 1, 'wiadoyw': 1, 'vyyye': 1, 'crxfc': 1, 'qrsyoj': 1, 'rgujeec': 1, 'bfejcbh': 1, 'oybkcy': 1, 'cslci': 1, 'xsewp': 1, 'xupjwd': 1, 'uuziu': 1, 'twhkffp': 1, 'avcuzkv': 1, 'wjnoks': 1, 'palqz': 1, 'hvnmuj': 1, 'dmroo': 1, 'tptvyz': 1, 'uqmdsne': 1, 'ecconsw': 1, 'vejin': 1, 'czxsvq': 1, 'llfxe': 1, 'veokoh': 1, 'urwawsz': 1, 'evjeyvt': 1, 'kyziqis': 1, 'sdfxsnj': 1, 'yrrhqap': 1, 'tccwm': 1, 'twxadm': 1, 'rzpph': 1, 'kzzzjj': 1, 'xzvhic': 1, 'qekneh': 1, 'cltcdp': 1, 'vejds': 1, 'qzlzlwd': 1, 'ylwlpkw': 1, 'qxfvj': 1, 'ywtsd': 1, 'hxoswpm': 1, 'ayocum': 1, 'vwueokp': 1, 'gwrgur': 1, 'cndzkwl': 1, 'diauot': 1, 'cdogip': 1, 'feeksc': 1, 'rgnxext': 1, 'jpuqyc': 1, 'vygkoys': 1, 'lruhxda': 1, 'bdeol': 1, 'ctldb': 1, 'ovyleaj': 1, 'fiwcv': 1, 'sulpwi': 1, 'dcaxloo': 1, 'ipllhv': 1, 'vuqpnz': 1, 'emtol': 1, 'jhehhp': 1, 'txbdsy': 1, 'sdeecr': 1, 'fnxtff': 1, 'mryloc': 1, 'nvpon': 1, 'iagud': 1, 'lpsufo': 1, 'qmczi': 1, 'dmraxdz': 1, 'ahnofa': 0, 'oyuzm': 1, 'jqsfxta': 1, 'kfmqmy': 1, 'ucapi': 1, 'eirbxu': 1, 'pmvbbt': 1, 'phkuv': 1, 'hzkfzz': 1, 'uycjw': 1, 'pqozwy': 1, 'mjjkr': 1, 'inkttc': 1, 'oytgp': 1, 'bnluwnh': 1, 'itkyzhq': 1, 'oivliv': 1, 'lwiyyiu': 1, 'polzw': 1, 'hlsch': 1, 'yapxbpt': 1, 'vvyizmq': 1, 'wdtrk': 1, 'ilfgjk': 1, 'jplusbc': 1, 'tzvnssx': 1, 'ftdjg': 1, 'zlgdgn': 1, 'ayuwttz': 1, 'gftjrqd': 1, 'xdfuik': 1, 'npirsdf': 1, 'bqwljb': 1, 'fbcqhv': 1, 'wxmyjrh': 1, 'gpium': 1, 'tjjfh': 1, 'vpqyy': 1, 'gvqylt': 1, 'qjwrvpi': 1, 'crreuak': 1, 'oqtjh': 1, 'frqrk': 1, 'fhzzvtv': 1, 'ycalpp': 1, 'paofmv': 1, 'fridz': 1, 'uyvchvp': 1, 'fncqp': 1, 'zynkd': 1, 'ixfyyyz': 1, 'tvbtw': 1, 'rbxfyau': 1, 'fclal': 1, 'ggmjg': 1, 'nnqrj': 1, 'crxpsq': 1, 'gqvxml': 1, 'zkjjvwh': 1, 'evjspos': 1, 'swavc': 1, 'gpshsuk': 1, 'metlwn': 1, 'wmnengd': 1, 'zwgerw': 1, 'ygbuuxe': 1, 'cejbp': 1, 'hoqzhm': 1, 'hhunwd': 1, 'efxdvtm': 1, 'vpfbm': 1, 'kwgmma': 1, 'vlzkx': 1, 'dbibp': 1, 'qqvlmd': 1, 'khbylqn': 1, 'wjncmeh': 1, 'satrfh': 1, 'akmzxzw': 1, 'nqdcbhp': 1, 'ozkdsot': 1, 'efxmb': 1, 'qegjm': 1, 'ukmzkes': 1, 'uhiwblp': 1, 'sziei': 1, 'ncdavn': 1, 'xobzucu': 1, 'vglnwmg': 1, 'fhgujr': 1, 'bfekpxz': 1, 'wtegiqv': 1, 'scpjvm': 1, 'obrdxor': 1, 'vjtyvg': 1, 'ikqttp': 1, 'kysjzj': 1, 'thufrr': 1, 'bdgldyi': 1, 'dffdie': 1, 'tnyhegn': 1, 'nmtme': 1, 'gdiqocb': 1, 'nbenm': 1, 'dqbrxb': 1, 'qftepgn': 1, 'fhsmlky': 1, 'osgijzx': 1, 'jfwcwqn': 1, 'ozyvo': 1, 'onjzq': 1, 'erwjvd': 1, 'untjkhr': 1, 'afely': 1, 'ctgjnch': 1, 'wrdaarz': 1, 'vgomsg': 1, 'bscjk': 1, 'brjneo': 1, 'squxpbv': 1, 'ezzht': 1, 'lahieha': 1, 'wfqul': 1, 'jynanod': 1, 'msokpnb': 1, 'sgonpal': 1, 'dytqamx': 1, 'xqscl': 1, 'fewkvyo': 1, 'ecstxkl': 1, 'bxqfge': 1, 'vmhyd': 1, 'fomagh': 1, 'orlxs': 1, 'viwzkp': 1, 'lbvmy': 1, 'avgopx': 1, 'abwhrjo': 1, 'qynhr': 1, 'lyzzn': 1, 'ozikd': 1, 'pyulzo': 1, 'wjboxd': 1, 'fnzocu': 1, 'kcitnaj': 1, 'akgkxvi': 1, 'vrppcq': 1, 'njvbqvi': 1, 'zoviki': 1, 'vlucb': 1, 'jpqcyh': 1, 'dgjzv': 1, 'nqvbxx': 1, 'sewnmby': 1, 'atusqwd': 1, 'odugb': 1, 'zlyxnww': 1, 'wtlmura': 1, 'dftmlo': 1, 'lfijt': 1, 'lkqqjqh': 1, 'jzocbg': 1, 'csguji': 1, 'ixqkcbm': 1, 'nlgewi': 1, 'wralkrd': 1, 'dketeda': 1, 'kagubg': 1, 'kdutnp': 1, 'jtwov': 1, 'tzyexd': 1, 'frqulg': 1, 'grlbob': 1, 'qmbfra': 1, 'fcpeviq': 1, 'qqqxyrl': 1, 'iujrwvw': 1, 'wzoauoj': 1, 'fdtmx': 1, 'sntwas': 1, 'oegamc': 1, 'cxtxnm': 1, 'hogtrz': 1, 'hrgtmp': 1, 'vonee': 1, 'nsrpwww': 1, 'ofkhwy': 1, 'ddljunb': 1, 'jbpwoh': 1, 'fjgzrim': 1, 'kkgpo': 1, 'ygono': 1, 'sopkpcj': 1, 'fxbhth': 1, 'rvfxkl': 1, 'dahvvo': 1, 'memzmo': 1, 'gfyvv': 1, 'fnodwc': 1, 'alvsbd': 1, 'evlze': 1, 'ikves': 1, 'lhvil': 1, 'gxasczp': 1, 'jdvsc': 1, 'mimilpa': 1, 'nignkea': 1, 'rkjdd': 1, 'bskqnj': 1, 'anoxy': 1, 'noaiz': 1, 'yvpxb': 1, 'cbcxlyo': 1, 'tbyfd': 1, 'aenkx': 1, 'pqgnd': 1, 'nsqlbvb': 1, 'zkljkp': 1, 'wzinm': 1, 'bkeqil': 1, 'rngyvds': 1, 'jhgxjnj': 1, 'xmsfn': 1, 'grosthd': 1, 'kieip': 1, 'qwcyeqz': 1, 'imruiet': 1, 'pgodqz': 1, 'rmvhy': 1, 'eqnowu': 1, 'ramkjx': 1, 'ndhxim': 1, 'jwyhe': 1, 'bjhhjla': 1, 'nyfutww': 1, 'gjdquua': 1, 'huutudx': 1, 'ueefesu': 1, 'invtlwg': 1, 'oyvsrsc': 1, 'lxnip': 1, 'prvai': 1, 'ogyypi': 1, 'vujcsg': 1, 'dhktab': 1, 'ckqlnc': 1, 'jrovat': 1, 'mjofjlf': 1, 'vghgf': 1, 'lszwjv': 1, 'hbvvpki': 1, 'dzvsp': 1, 'pplqbii': 1, 'ovpmj': 1, 'bgwlsu': 1, 'yrudth': 1, 'txrejp': 1, 'wsclc': 1, 'oezxnl': 1, 'swhkru': 1, 'kralmj': 1, 'girvl': 1, 'yciltsr': 1, 'quqdh': 1, 'qmoorx': 1, 'hnaps': 1, 'gdhnu': 1, 'xadrr': 1, 'gyifp': 1, 'ecyxemp': 1, 'anhlx': 1, 'wxyel': 1, 'svufvq': 1, 'lkhka': 1, 'acrhuro': 1, 'uriolfn': 1, 'nczno': 1, 'fezzdc': 1, 'mzqmah': 1, 'ftmwpqg': 1, 'ozmbhy': 1, 'eiisyk': 1, 'stvon': 1, 'pehkkzk': 1, 'lusiwnm': 1, 'raezxi': 1, 'ericb': 1, 'dhpgc': 1, 'wxloqgs': 1, 'hwnasq': 1, 'fkoaesc': 1, 'zfzli': 1, 'gewtd': 1, 'nqcfsr': 1, 'lvmyjp': 1, 'waunp': 1, 'xmwnu': 1, 'uvxcv': 1, 'liyxgoa': 1, 'okczka': 1, 'qdqphk': 1, 'jbmccc': 1, 'wprzdkf': 1, 'fajcjs': 1, 'dsugcog': 1, 'xogkc': 1, 'mufdsrz': 1, 'ubcdd': 1, 'nqsgzg': 1, 'nshgykp': 1, 'qlzywpm': 1, 'kewmzq': 1, 'nijws': 1, 'prubmmc': 1, 'mdpooc': 1, 'rwzme': 1, 'bmnanm': 1, 'vprox': 1, 'yuqqx': 1, 'iglop': 1, 'pwaugpr': 1, 'iyvjjg': 1, 'zvlise': 1, 'vtnfaa': 1, 'iiozto': 1, 'hhumkf': 1, 'etzfe': 1, 'bsmwi': 1, 'xzkuda': 1, 'zprpamt': 1, 'zeitsku': 1, 'vvbshe': 1, 'nxualql': 1, 'srpftd': 1, 'gwxeoes': 1, 'gynzo': 1, 'wnwzo': 1})"
      ]
     },
     "execution_count": 9,
     "metadata": {},
     "output_type": "execute_result"
    }
   ],
   "source": [
    "g.in_degree()"
   ]
  },
  {
   "cell_type": "code",
   "execution_count": 10,
   "metadata": {},
   "outputs": [
    {
     "name": "stdout",
     "output_type": "stream",
     "text": [
      "part 1 answer: ahnofa\n"
     ]
    }
   ],
   "source": [
    "root = [n for n,d in g.in_degree() if d==0][0]\n",
    "print(f'part 1 answer: {root}')"
   ]
  },
  {
   "cell_type": "code",
   "execution_count": 11,
   "metadata": {
    "collapsed": true
   },
   "outputs": [],
   "source": [
    "def subtree_weight(g, n):\n",
    "    return sum([g.node[i]['weight'] for i in nx.descendants(g, n)]) + g.node[n]['weight']"
   ]
  },
  {
   "cell_type": "code",
   "execution_count": 12,
   "metadata": {},
   "outputs": [
    {
     "name": "stdout",
     "output_type": "stream",
     "text": [
      "part 2 answer: change node 'ltleg' from 808 to 802\n"
     ]
    }
   ],
   "source": [
    "this = root\n",
    "while len(g[this]) > 0:\n",
    "    subtree_weights = {i: subtree_weight(g, i) for i in g[this]}\n",
    "    c = Counter(subtree_weights.values())\n",
    "    if len(c) > 1:\n",
    "        most_common_val = c.most_common(2)[0][0]\n",
    "        least_common_val = c.most_common(2)[1][0]\n",
    "        unbalanced_tree = [k for k,v in subtree_weights.items() if v == least_common_val][0]\n",
    "        this = unbalanced_tree\n",
    "    else:\n",
    "        # the subtree underneath is balanced, so node[this] must be the one to change\n",
    "        print(f'part 2 answer: change node \\'{this}\\' from {g.node[this][\"weight\"]} to {g.node[this][\"weight\"] + most_common_val - least_common_val}')\n",
    "        break"
   ]
  },
  {
   "cell_type": "code",
   "execution_count": 12,
   "metadata": {
    "collapsed": true
   },
   "outputs": [],
   "source": [
    "from networkx.drawing.nx_agraph import graphviz_layout"
   ]
  },
  {
   "cell_type": "code",
   "execution_count": null,
   "metadata": {
    "collapsed": true
   },
   "outputs": [],
   "source": []
  }
 ],
 "metadata": {
  "kernelspec": {
   "display_name": "Python 3",
   "language": "python",
   "name": "python3"
  },
  "language_info": {
   "codemirror_mode": {
    "name": "ipython",
    "version": 3
   },
   "file_extension": ".py",
   "mimetype": "text/x-python",
   "name": "python",
   "nbconvert_exporter": "python",
   "pygments_lexer": "ipython3",
   "version": "3.6.5"
  }
 },
 "nbformat": 4,
 "nbformat_minor": 2
}
