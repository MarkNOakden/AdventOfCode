{
 "cells": [
  {
   "cell_type": "code",
   "execution_count": 1,
   "metadata": {},
   "outputs": [],
   "source": [
    "import networkx as nx\n",
    "import re\n",
    "import matplotlib.pyplot as plt\n",
    "from collections import Counter\n",
    "\n",
    "%matplotlib inline"
   ]
  },
  {
   "cell_type": "code",
   "execution_count": 2,
   "metadata": {
    "collapsed": true
   },
   "outputs": [],
   "source": [
    "in_lines = open('input.txt').readlines()"
   ]
  },
  {
   "cell_type": "code",
   "execution_count": 3,
   "metadata": {
    "collapsed": true
   },
   "outputs": [],
   "source": [
    "g = nx.DiGraph()"
   ]
  },
  {
   "cell_type": "code",
   "execution_count": 4,
   "metadata": {
    "collapsed": true
   },
   "outputs": [],
   "source": [
    "line_re = re.compile(r'^([^ ]+) \\(([0-9]+)\\)( -> (.*))?$')"
   ]
  },
  {
   "cell_type": "code",
   "execution_count": 5,
   "metadata": {},
   "outputs": [],
   "source": [
    "nodes = []\n",
    "\n",
    "for l in in_lines:\n",
    "    match = line_re.match(l).groups()\n",
    "    nodes.append([match[0], match[1], None if match[3] is None else match[3].split(', ')])"
   ]
  },
  {
   "cell_type": "code",
   "execution_count": 6,
   "metadata": {},
   "outputs": [],
   "source": [
    "g.add_nodes_from([(n[0], {'weight': int(n[1])}) for n in nodes])"
   ]
  },
  {
   "cell_type": "code",
   "execution_count": 7,
   "metadata": {},
   "outputs": [],
   "source": [
    "for n in nodes:\n",
    "    try:\n",
    "        for child in n[2]:\n",
    "            g.add_edge(n[0], child)\n",
    "    except TypeError:\n",
    "        pass"
   ]
  },
  {
   "cell_type": "code",
   "execution_count": 8,
   "metadata": {},
   "outputs": [
    {
     "name": "stdout",
     "output_type": "stream",
     "text": [
      "part 1 answer: ahnofa\n"
     ]
    }
   ],
   "source": [
    "root = [n for n,d in g.in_degree().items() if d==0][0]\n",
    "print(f'part 1 answer: {root}')"
   ]
  },
  {
   "cell_type": "code",
   "execution_count": 9,
   "metadata": {
    "collapsed": true
   },
   "outputs": [],
   "source": [
    "def subtree_weight(g, n):\n",
    "    return sum([g.node[i]['weight'] for i in nx.descendants(g, n)]) + g.node[n]['weight']"
   ]
  },
  {
   "cell_type": "code",
   "execution_count": 10,
   "metadata": {},
   "outputs": [
    {
     "name": "stdout",
     "output_type": "stream",
     "text": [
      "part 2 answer: change node 'ltleg' from 808 to 802\n"
     ]
    }
   ],
   "source": [
    "this = root\n",
    "while len(g[this]) > 0:\n",
    "    subtree_weights = {i: subtree_weight(g, i) for i in g[this]}\n",
    "    c = Counter(subtree_weights.values())\n",
    "    if len(c) > 1:\n",
    "        most_common_val = c.most_common(2)[0][0]\n",
    "        least_common_val = c.most_common(2)[1][0]\n",
    "        unbalanced_tree = [k for k,v in subtree_weights.items() if v == least_common_val][0]\n",
    "        this = unbalanced_tree\n",
    "    else:\n",
    "        # the subtree underneath is balanced, so node[this] must be the one to change\n",
    "        print(f'part 2 answer: change node \\'{this}\\' from {g.node[this][\"weight\"]} to {g.node[this][\"weight\"] + most_common_val - least_common_val}')\n",
    "        break"
   ]
  },
  {
   "cell_type": "code",
   "execution_count": null,
   "metadata": {
    "collapsed": true
   },
   "outputs": [],
   "source": []
  }
 ],
 "metadata": {
  "kernelspec": {
   "display_name": "Python 3",
   "language": "python",
   "name": "python3"
  },
  "language_info": {
   "codemirror_mode": {
    "name": "ipython",
    "version": 3
   },
   "file_extension": ".py",
   "mimetype": "text/x-python",
   "name": "python",
   "nbconvert_exporter": "python",
   "pygments_lexer": "ipython3",
   "version": "3.6.2"
  }
 },
 "nbformat": 4,
 "nbformat_minor": 2
}
