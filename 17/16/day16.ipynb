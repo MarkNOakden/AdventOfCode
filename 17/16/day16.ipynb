{
 "cells": [
  {
   "cell_type": "code",
   "execution_count": 1,
   "metadata": {
    "collapsed": true
   },
   "outputs": [],
   "source": [
    "#import pandas as pd\n",
    "#import numpy as np\n",
    "\n",
    "dancers = list('abcdefghijklmnop')\n",
    "test_dancers = list('abcde')"
   ]
  },
  {
   "cell_type": "code",
   "execution_count": 2,
   "metadata": {
    "collapsed": true
   },
   "outputs": [],
   "source": [
    "input_dance = open('input.txt').read().split(',')\n",
    "\n",
    "test_dance = ['s1', 'x3/4', 'pe/b']\n",
    "test_res = ['eabcd', 'eabdc', 'baedc']"
   ]
  },
  {
   "cell_type": "code",
   "execution_count": 3,
   "metadata": {},
   "outputs": [],
   "source": [
    "# # massively inefficient implementation - 10 seconds per dance()\n",
    "#\n",
    "# class Dancers(object):\n",
    "#     def __init__(self, dancers, moves):\n",
    "#         self.dancers = pd.Series(dancers)\n",
    "#         self.moves = moves\n",
    "#         self.pc = 0\n",
    "        \n",
    "#     def move(self):\n",
    "#         move = self.moves[self.pc]\n",
    "#         if move[0] == 's':\n",
    "#             dist = int(move[1:])\n",
    "#             self.dancers = pd.Series(np.roll(self.dancers, dist))\n",
    "#         elif move[0] == 'x':\n",
    "#             a, _, b = move[1:].partition('/')\n",
    "#             a, b = map(int, [a, b])\n",
    "#             self.dancers[a], self.dancers[b] = self.dancers[b], self.dancers[a]\n",
    "#         elif move[0] == 'p':\n",
    "#             a, _, b = move[1:].partition('/')\n",
    "#             a, b = self.dancers[self.dancers == a].index, self.dancers[self.dancers == b].index\n",
    "#             self.dancers[a], self.dancers[b] = self.dancers[b], self.dancers[a]\n",
    "#         else:\n",
    "#             raise ValueError(f'no such move {move} at instruction {self.pc}')\n",
    "#         self.pc += 1\n",
    "#         return ''.join(self.dancers)\n",
    "    \n",
    "#     def dance(self):\n",
    "#         while self.pc < len(self.moves):\n",
    "#             self.move()\n",
    "#         return ''.join(self.dancers)\n",
    "    \n",
    "#     def reset_pc(self):\n",
    "#         self.pc = 0\n",
    "    \n",
    "#     def __str__(self):\n",
    "#         return ''.join(self.dancers)\n",
    "    \n",
    "#     __repr__ = __str__"
   ]
  },
  {
   "cell_type": "code",
   "execution_count": 4,
   "metadata": {
    "collapsed": true
   },
   "outputs": [],
   "source": [
    "class Dancers(object):\n",
    "    def __init__(self, dancers, moves):\n",
    "        self.dancers = list(dancers)\n",
    "        self.len = len(self.dancers)\n",
    "        self.moves = moves\n",
    "        self.pc = 0\n",
    "        \n",
    "    def move(self):\n",
    "        move = self.moves[self.pc]\n",
    "        if move[0] == 's':\n",
    "            dist = int(move[1:])\n",
    "            self.dancers = self.dancers[self.len-dist:] + self.dancers[:self.len-dist]\n",
    "        elif move[0] == 'x':\n",
    "            a, _, b = move[1:].partition('/')\n",
    "            a, b = map(int, [a, b])\n",
    "            self.dancers[a], self.dancers[b] = self.dancers[b], self.dancers[a]\n",
    "        elif move[0] == 'p':\n",
    "            a, _, b = move[1:].partition('/')\n",
    "            a, b = self.dancers.index(a), self.dancers.index(b)\n",
    "            self.dancers[a], self.dancers[b] = self.dancers[b], self.dancers[a]\n",
    "        else:\n",
    "            raise ValueError(f'no such move {move} at instruction {self.pc}')\n",
    "        self.pc += 1\n",
    "        return ''.join(self.dancers)\n",
    "    \n",
    "    def dance(self):\n",
    "        while self.pc < len(self.moves):\n",
    "            self.move()\n",
    "        return ''.join(self.dancers)\n",
    "    \n",
    "    def reset_pc(self):\n",
    "        self.pc = 0\n",
    "    \n",
    "    def __str__(self):\n",
    "        return ''.join(self.dancers)\n",
    "    \n",
    "    __repr__ = __str__"
   ]
  },
  {
   "cell_type": "code",
   "execution_count": 5,
   "metadata": {},
   "outputs": [],
   "source": [
    "d = Dancers(dancers, input_dance)"
   ]
  },
  {
   "cell_type": "code",
   "execution_count": 6,
   "metadata": {},
   "outputs": [
    {
     "name": "stdout",
     "output_type": "stream",
     "text": [
      "part 1 answer: iabmedjhclofgknp\n",
      "16.2 ms ± 0 ns per loop (mean ± std. dev. of 1 run, 1 loop each)\n"
     ]
    }
   ],
   "source": [
    "%%timeit -n 1 -r 1\n",
    "print(f'part 1 answer: {d.dance()}')"
   ]
  },
  {
   "cell_type": "code",
   "execution_count": 7,
   "metadata": {},
   "outputs": [
    {
     "name": "stdout",
     "output_type": "stream",
     "text": [
      "part 2 answer: oildcmfeajhbpngk\n",
      "496 ms ± 0 ns per loop (mean ± std. dev. of 1 run, 1 loop each)\n"
     ]
    }
   ],
   "source": [
    "%%timeit -n 1 -r 1\n",
    "d = Dancers(dancers, input_dance)\n",
    "seen = [str(d)]\n",
    "for i in range(1000000000): # only kidding...  The repeat period will be shorter than this.\n",
    "    this = d.dance()\n",
    "    d.reset_pc()\n",
    "    #print(f'{i:3} {this}')\n",
    "    if this in seen:\n",
    "        period = len(seen)\n",
    "        break\n",
    "    seen.append(this)\n",
    "print(f'part 2 answer: {seen[1000000000 % period]}')"
   ]
  },
  {
   "cell_type": "markdown",
   "metadata": {},
   "source": [
    "# Timings\n",
    "\n",
    "## Dell XPS13\n",
    "```\n",
    "part 1 answer: iabmedjhclofgknp\n",
    "41.7 ms ± 0 ns per loop (mean ± std. dev. of 1 run, 1 loop each)\n",
    "\n",
    "part 2 answer: oildcmfeajhbpngk\n",
    "1.34 s ± 0 ns per loop (mean ± std. dev. of 1 run, 1 loop each)\n",
    "```\n",
    "\n",
    "## Dell Latitude 7480\n",
    "```\n",
    "part 1 answer: iabmedjhclofgknp\n",
    "16.2 ms ± 0 ns per loop (mean ± std. dev. of 1 run, 1 loop each)\n",
    "\n",
    "part 2 answer: oildcmfeajhbpngk\n",
    "496 ms ± 0 ns per loop (mean ± std. dev. of 1 run, 1 loop each)\n",
    "```"
   ]
  },
  {
   "cell_type": "code",
   "execution_count": null,
   "metadata": {},
   "outputs": [],
   "source": []
  }
 ],
 "metadata": {
  "kernelspec": {
   "display_name": "Python 3",
   "language": "python",
   "name": "python3"
  },
  "language_info": {
   "codemirror_mode": {
    "name": "ipython",
    "version": 3
   },
   "file_extension": ".py",
   "mimetype": "text/x-python",
   "name": "python",
   "nbconvert_exporter": "python",
   "pygments_lexer": "ipython3",
   "version": "3.6.5"
  }
 },
 "nbformat": 4,
 "nbformat_minor": 2
}
