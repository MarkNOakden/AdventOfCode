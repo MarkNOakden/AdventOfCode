{
 "cells": [
  {
   "cell_type": "markdown",
   "metadata": {},
   "source": [
    "# `--- Day 19: A Series of Tubes ---`"
   ]
  },
  {
   "cell_type": "code",
   "execution_count": 1,
   "metadata": {
    "collapsed": true
   },
   "outputs": [],
   "source": [
    "import operator\n",
    "from functools import reduce"
   ]
  },
  {
   "cell_type": "code",
   "execution_count": 2,
   "metadata": {
    "collapsed": true
   },
   "outputs": [],
   "source": [
    "test_map = '''     |          \n",
    "     |  +--+    \n",
    "     A  |  C    \n",
    " F---|----E|--+ \n",
    "     |  |  |  D \n",
    "     +B-+  +--+ '''.split('\\n')\n",
    "\n",
    "real_map = list(map(lambda x: x.strip('\\n'), open('input.txt').readlines()))"
   ]
  },
  {
   "cell_type": "code",
   "execution_count": 3,
   "metadata": {
    "collapsed": true
   },
   "outputs": [],
   "source": [
    "# (0,0) is top left, coordinates are (row, column)\n",
    "DELTA = {'N': (-1,  0),\n",
    "         'E': ( 0,  1),\n",
    "         'S': ( 1,  0),\n",
    "         'W': ( 0, -1)}\n",
    "\n",
    "DIRECTIONS = set(DELTA.keys())\n",
    "# which way to turn...\n",
    "ORTHOGONAL = {'N': 'EW',\n",
    "              'S': 'EW',\n",
    "              'E': 'NS',\n",
    "              'W': 'NS'}\n",
    "# in case part 2 is counting self-crossings\n",
    "CROSSINGS = {'N': '-',\n",
    "             'E': '|',\n",
    "             'S': '-',\n",
    "             'W': '|'}\n",
    "# the path\n",
    "PIPES = {'N': '|',\n",
    "         'E': '-',\n",
    "         'S': '|',\n",
    "         'W': '-'}\n",
    "\n",
    "ALPHA = list('ABCDEFGHIJKLMNOPQRSTUVWXYZ')\n",
    "\n",
    "BORDER = '#'\n",
    "\n",
    "class MapWalker(object):\n",
    "    \n",
    "    def __init__(self, maplines):\n",
    "        # add a border of \"#\" around the map so we don't have to worry about bounds checking\n",
    "        l = len(maplines[0]) + 2\n",
    "        extended_maplines = [list(BORDER * l)] + [[BORDER] + list(x) + [BORDER] for x in maplines] + [list(BORDER * l)]\n",
    "        self.map = extended_maplines\n",
    "        \n",
    "        self.trackchars = set(reduce(operator.add, self.map))\n",
    "        self.trackchars.remove(' ') # works in place\n",
    "        self.trackchars.remove('#') # works in place\n",
    "        self.row = None\n",
    "        self.col = None\n",
    "        self.height = len(self.map)\n",
    "        self.width = len(self.map[0])\n",
    "        self.direction = None\n",
    "        self.unders = 0 # number of times we go under another line\n",
    "        self.turns = 0\n",
    "        self.steps = 0\n",
    "        self.letters = ''\n",
    "        \n",
    "    def initialise(self):\n",
    "        '''Find the start position on the North side'''\n",
    "        self.row = 1\n",
    "        for i, c in enumerate(self.map[self.row]):\n",
    "            if c in self.trackchars:\n",
    "                self.col = i\n",
    "        self.direction = 'S'\n",
    "        return self\n",
    "    \n",
    "    def at(self, row, col):\n",
    "        return self.map[row][col]\n",
    "    \n",
    "    def here(self):\n",
    "        return self.at(self.row, self.col)\n",
    "    \n",
    "    def look(self, direction):\n",
    "        '''character at the curretn location plus one step in the given direction'''\n",
    "        dr, dc = DELTA[direction]\n",
    "        return self.map[self.row + dr][self.col + dc]\n",
    "    \n",
    "    def step(self):\n",
    "        \n",
    "        self.steps += 1\n",
    "        \n",
    "        drc = DELTA[self.direction]\n",
    "        \n",
    "        self.row = self.row + drc[0]\n",
    "        self.col = self.col + drc[1]\n",
    "        \n",
    "        here = self.here()\n",
    "        \n",
    "        if here in ALPHA:\n",
    "            self.letters += self.here()\n",
    "        elif here == PIPES[self.direction]:\n",
    "            # carry on - just a continued pipe\n",
    "            pass\n",
    "        elif here == '+':\n",
    "            self.turns += 1\n",
    "            dirns = ORTHOGONAL[self.direction]\n",
    "            for d in dirns:\n",
    "                if self.look(d) == PIPES[d] or self.look(d) in ALPHA:\n",
    "                    self.direction = d\n",
    "                    break\n",
    "        elif here == CROSSINGS[self.direction]:\n",
    "            self.unders += 1\n",
    "        else:\n",
    "            print('finished!')\n",
    "            print(f'letters: {self.letters}, steps {self.steps}, unders: {self.unders}, turns: {self.turns}')\n",
    "            raise StopIteration()\n",
    "        return self\n",
    "    \n",
    "    def walk(self):\n",
    "        self.initialise()\n",
    "        while True:\n",
    "            try:\n",
    "                self.step()\n",
    "            except StopIteration:\n",
    "                break\n",
    "        return self\n",
    "           \n",
    "    def __str__(self):\n",
    "        _str = ''\n",
    "        for row, l in enumerate(self.map):\n",
    "            for col, c in enumerate(l):\n",
    "                #print(c)\n",
    "                _str += '@' if (row, col) == (self.row, self.col) else c\n",
    "            _str += '\\n'\n",
    "        return _str\n",
    "    \n",
    "    __repr__ = __str__"
   ]
  },
  {
   "cell_type": "markdown",
   "metadata": {},
   "source": [
    "# Test"
   ]
  },
  {
   "cell_type": "code",
   "execution_count": 4,
   "metadata": {},
   "outputs": [
    {
     "name": "stdout",
     "output_type": "stream",
     "text": [
      "finished!\n",
      "letters: ABCDEF, steps 38, unders: 3, turns: 7\n"
     ]
    },
    {
     "data": {
      "text/plain": [
       "##################\n",
       "#     |          #\n",
       "#     |  +--+    #\n",
       "#     A  |  C    #\n",
       "#@F---|----E|--+ #\n",
       "#     |  |  |  D #\n",
       "#     +B-+  +--+ #\n",
       "##################"
      ]
     },
     "execution_count": 4,
     "metadata": {},
     "output_type": "execute_result"
    }
   ],
   "source": [
    "foo = MapWalker(test_map)\n",
    "\n",
    "foo.walk()"
   ]
  },
  {
   "cell_type": "markdown",
   "metadata": {},
   "source": [
    "# Real"
   ]
  },
  {
   "cell_type": "code",
   "execution_count": 5,
   "metadata": {},
   "outputs": [
    {
     "name": "stdout",
     "output_type": "stream",
     "text": [
      "finished!\n",
      "letters: HATBMQJYZ, steps 16332, unders: 1486, turns: 455\n"
     ]
    }
   ],
   "source": [
    "real = MapWalker(real_map)\n",
    "\n",
    "_ = real.walk()"
   ]
  },
  {
   "cell_type": "code",
   "execution_count": null,
   "metadata": {
    "collapsed": true
   },
   "outputs": [],
   "source": []
  }
 ],
 "metadata": {
  "kernelspec": {
   "display_name": "Python 3",
   "language": "python",
   "name": "python3"
  },
  "language_info": {
   "codemirror_mode": {
    "name": "ipython",
    "version": 3
   },
   "file_extension": ".py",
   "mimetype": "text/x-python",
   "name": "python",
   "nbconvert_exporter": "python",
   "pygments_lexer": "ipython3",
   "version": "3.6.5"
  }
 },
 "nbformat": 4,
 "nbformat_minor": 2
}
