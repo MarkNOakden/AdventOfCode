{
 "cells": [
  {
   "cell_type": "code",
   "execution_count": 1,
   "metadata": {
    "collapsed": true
   },
   "outputs": [],
   "source": [
    "import unittest\n",
    "import re"
   ]
  },
  {
   "cell_type": "code",
   "execution_count": 2,
   "metadata": {
    "collapsed": true
   },
   "outputs": [],
   "source": [
    "test_prog = '''b inc 5 if a > 1\n",
    "a inc 1 if b < 5\n",
    "c dec -10 if a >= 1\n",
    "c inc -20 if c == 10'''.split('\\n')\n",
    "real_prog = [i.strip() for i in open('input.txt').readlines()]"
   ]
  },
  {
   "cell_type": "code",
   "execution_count": 3,
   "metadata": {
    "collapsed": true
   },
   "outputs": [],
   "source": [
    "class VM(object):\n",
    "    def __init__(self, progl):\n",
    "        self.prog = progl[:]\n",
    "        self.registers = dict()\n",
    "        self.max = 0 # OK because registers initialised to 0\n",
    "    \n",
    "    def run(self):\n",
    "        for l in self.prog:\n",
    "            self.execute(l)\n",
    "            m = self.regmax()\n",
    "            if m > self.max:\n",
    "                self.max = m\n",
    "        return self\n",
    "    \n",
    "    linematcher = re.compile(r'^([^ ]+) (inc|dec) (-?[0-9]+) if ([^ ]+) ([^ ]+) ([^ ]+)$')\n",
    "\n",
    "    def execute(self, l):\n",
    "        target_reg, op, delta, test_l, cond, test_r = VM.linematcher.match(l).groups()\n",
    "        delta = self.value(delta)\n",
    "        if op == 'dec':\n",
    "            delta = -delta\n",
    "        if self.test(test_l, cond, test_r):\n",
    "            self.set_reg(target_reg, self.get_reg(target_reg) + delta)   \n",
    "        return self\n",
    "    \n",
    "    def test(self, a, op, b):\n",
    "        a, b = map(self.value, (a, b))\n",
    "        if op == '==':\n",
    "            return a == b\n",
    "        elif op == '!=':\n",
    "            return a != b\n",
    "        elif op == '>':\n",
    "            return a > b\n",
    "        elif op == '>=':\n",
    "            return a >= b\n",
    "        elif op == '<':\n",
    "            return a < b\n",
    "        elif op == '<=':\n",
    "            return a <= b\n",
    "        else:\n",
    "            raise ValueError(f'unimplemented operator {op}')\n",
    "        \n",
    "    def value(self, v):\n",
    "        try:\n",
    "            return int(v)\n",
    "        except ValueError:\n",
    "            return self.get_reg(v)\n",
    "            \n",
    "    def get_reg(self, r):\n",
    "        if r in self.registers:\n",
    "            return self.registers[r]\n",
    "        else:\n",
    "            self.registers[r] = 0\n",
    "            return 0\n",
    "        \n",
    "    def set_reg(self, r, val):\n",
    "        self.registers[r] = val\n",
    "    \n",
    "    def regmax(self):\n",
    "        try:\n",
    "            return max(self.registers.values())\n",
    "        except ValueError:\n",
    "            return None\n",
    "    \n",
    "    def memmax(self):\n",
    "        return self.max\n",
    "    \n",
    "    "
   ]
  },
  {
   "cell_type": "code",
   "execution_count": 4,
   "metadata": {
    "collapsed": true
   },
   "outputs": [],
   "source": [
    "class TestIt(unittest.TestCase):\n",
    "    def test_01(self):\n",
    "        testVM = VM(test_prog)\n",
    "        testVM.run()\n",
    "        self.assertEqual(testVM.regmax(), 1)\n",
    "    def test_02(self):\n",
    "        testVM = VM(test_prog)\n",
    "        testVM.run()\n",
    "        self.assertEqual(testVM.memmax(), 10)"
   ]
  },
  {
   "cell_type": "code",
   "execution_count": 5,
   "metadata": {},
   "outputs": [
    {
     "name": "stderr",
     "output_type": "stream",
     "text": [
      "test_01 (__main__.TestIt) ... ok\n",
      "test_02 (__main__.TestIt) ... ok\n",
      "\n",
      "----------------------------------------------------------------------\n",
      "Ran 2 tests in 0.015s\n",
      "\n",
      "OK\n"
     ]
    },
    {
     "data": {
      "text/plain": [
       "<unittest.runner.TextTestResult run=2 errors=0 failures=0>"
      ]
     },
     "execution_count": 5,
     "metadata": {},
     "output_type": "execute_result"
    }
   ],
   "source": [
    "suite = unittest.TestLoader().loadTestsFromTestCase(TestIt)\n",
    "unittest.TextTestRunner(verbosity=2).run(suite)"
   ]
  },
  {
   "cell_type": "code",
   "execution_count": 6,
   "metadata": {},
   "outputs": [
    {
     "name": "stdout",
     "output_type": "stream",
     "text": [
      "part 1 answer 4902\n",
      "part 2 answer 7037\n"
     ]
    }
   ],
   "source": [
    "vm = VM(real_prog)\n",
    "vm.run()\n",
    "print(f'part 1 answer {vm.regmax()}\\npart 2 answer {vm.memmax()}')"
   ]
  },
  {
   "cell_type": "code",
   "execution_count": 7,
   "metadata": {
    "collapsed": true
   },
   "outputs": [],
   "source": [
    "l = []\n",
    "vm = VM(real_prog)\n",
    "for i in range(1000):\n",
    "    vm.run()\n",
    "    l.append([i+1, vm.regmax(), vm.memmax()])\n",
    "\n",
    "import pandas as pd\n",
    "df = pd.DataFrame(l, columns=['i', 'regmax', 'memmax'])"
   ]
  },
  {
   "cell_type": "code",
   "execution_count": 8,
   "metadata": {},
   "outputs": [
    {
     "data": {
      "text/plain": [
       "<matplotlib.axes._subplots.AxesSubplot at 0x1c301aef0b8>"
      ]
     },
     "execution_count": 8,
     "metadata": {},
     "output_type": "execute_result"
    },
    {
     "data": {
      "image/png": "[encoded data removed]",
      "text/plain": [
       "<matplotlib.figure.Figure at 0x1c301ad5668>"
      ]
     },
     "metadata": {},
     "output_type": "display_data"
    }
   ],
   "source": [
    "import matplotlib.pyplot as plt\n",
    "%matplotlib inline\n",
    "df.loc[0:10, ['regmax', 'memmax']].plot()"
   ]
  },
  {
   "cell_type": "code",
   "execution_count": 9,
   "metadata": {},
   "outputs": [
    {
     "data": {
      "text/plain": [
       "<matplotlib.axes._subplots.AxesSubplot at 0x1c301e9b748>"
      ]
     },
     "execution_count": 9,
     "metadata": {},
     "output_type": "execute_result"
    },
    {
     "data": {
      "image/png": "[encoded data removed]",
      "text/plain": [
       "<matplotlib.figure.Figure at 0x1c301e85c18>"
      ]
     },
     "metadata": {},
     "output_type": "display_data"
    }
   ],
   "source": [
    "df.loc[:, ['regmax', 'memmax']].plot()"
   ]
  },
  {
   "cell_type": "code",
   "execution_count": 10,
   "metadata": {},
   "outputs": [
    {
     "data": {
      "text/plain": [
       "<matplotlib.axes._subplots.AxesSubplot at 0x1c302024710>"
      ]
     },
     "execution_count": 10,
     "metadata": {},
     "output_type": "execute_result"
    },
    {
     "data": {
      "image/png": "[encoded data removed]",
      "text/plain": [
       "<matplotlib.figure.Figure at 0x1c301f3a1d0>"
      ]
     },
     "metadata": {},
     "output_type": "display_data"
    }
   ],
   "source": [
    "(df['memmax'] - df['regmax']).plot()"
   ]
  },
  {
   "cell_type": "code",
   "execution_count": null,
   "metadata": {
    "collapsed": true
   },
   "outputs": [],
   "source": []
  }
 ],
 "metadata": {
  "kernelspec": {
   "display_name": "Python 3",
   "language": "python",
   "name": "python3"
  },
  "language_info": {
   "codemirror_mode": {
    "name": "ipython",
    "version": 3
   },
   "file_extension": ".py",
   "mimetype": "text/x-python",
   "name": "python",
   "nbconvert_exporter": "python",
   "pygments_lexer": "ipython3",
   "version": "3.6.5"
  }
 },
 "nbformat": 4,
 "nbformat_minor": 2
}
