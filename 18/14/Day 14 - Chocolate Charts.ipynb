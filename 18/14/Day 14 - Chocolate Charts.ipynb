{
 "cells": [
  {
   "cell_type": "markdown",
   "metadata": {},
   "source": [
    "--- Day 14: Chocolate Charts ---\n",
    "\n",
    "You finally have a chance to look at all of the produce moving around. Chocolate, cinnamon, mint, chili peppers, nutmeg, vanilla... the Elves must be growing these plants to make hot chocolate! As you realize this, you hear a conversation in the distance. When you go to investigate, you discover two Elves in what appears to be a makeshift underground kitchen/laboratory.\n",
    "\n",
    "The Elves are trying to come up with the ultimate hot chocolate recipe; they're even maintaining a scoreboard which tracks the quality score (0-9) of each recipe.\n",
    "\n",
    "Only two recipes are on the board: the first recipe got a score of 3, the second, 7. Each of the two Elves has a current recipe: the first Elf starts with the first recipe, and the second Elf starts with the second recipe.\n",
    "\n",
    "To create new recipes, the two Elves combine their current recipes. This creates new recipes from the digits of the sum of the current recipes' scores. With the current recipes' scores of 3 and 7, their sum is 10, and so two new recipes would be created: the first with score 1 and the second with score 0. If the current recipes' scores were 2 and 3, the sum, 5, would only create one recipe (with a score of 5) with its single digit.\n",
    "\n",
    "The new recipes are added to the end of the scoreboard in the order they are created. So, after the first round, the scoreboard is 3, 7, 1, 0.\n",
    "\n",
    "After all new recipes are added to the scoreboard, each Elf picks a new current recipe. To do this, the Elf steps forward through the scoreboard a number of recipes equal to 1 plus the score of their current recipe. So, after the first round, the first Elf moves forward 1 + 3 = 4 times, while the second Elf moves forward 1 + 7 = 8 times. If they run out of recipes, they loop back around to the beginning. After the first round, both Elves happen to loop around until they land on the same recipe that they had in the beginning; in general, they will move to different recipes.\n",
    "\n",
    "Drawing the first Elf as parentheses and the second Elf as square brackets, they continue this process:\n",
    "```\n",
    "(3)[7]\n",
    "(3)[7] 1  0 \n",
    " 3  7  1 [0](1) 0 \n",
    " 3  7  1  0 [1] 0 (1)\n",
    "(3) 7  1  0  1  0 [1] 2 \n",
    " 3  7  1  0 (1) 0  1  2 [4]\n",
    " 3  7  1 [0] 1  0 (1) 2  4  5 \n",
    " 3  7  1  0 [1] 0  1  2 (4) 5  1 \n",
    " 3 (7) 1  0  1  0 [1] 2  4  5  1  5 \n",
    " 3  7  1  0  1  0  1  2 [4](5) 1  5  8 \n",
    " 3 (7) 1  0  1  0  1  2  4  5  1  5  8 [9]\n",
    " 3  7  1  0  1  0  1 [2] 4 (5) 1  5  8  9  1  6 \n",
    " 3  7  1  0  1  0  1  2  4  5 [1] 5  8  9  1 (6) 7 \n",
    " 3  7  1  0 (1) 0  1  2  4  5  1  5 [8] 9  1  6  7  7 \n",
    " 3  7 [1] 0  1  0 (1) 2  4  5  1  5  8  9  1  6  7  7  9 \n",
    " 3  7  1  0 [1] 0  1  2 (4) 5  1  5  8  9  1  6  7  7  9  2 \n",
    "```\n",
    "The Elves think their skill will improve after making a few recipes (your puzzle input). However, that could take ages; you can speed this up considerably by identifying the scores of the ten recipes after that. For example:\n",
    "```\n",
    "    If the Elves think their skill will improve after making 9 recipes, the scores of the ten recipes after the first nine on the scoreboard would be 5158916779 (highlighted in the last line of the diagram).\n",
    "    After 5 recipes, the scores of the next ten would be 0124515891.\n",
    "    After 18 recipes, the scores of the next ten would be 9251071085.\n",
    "    After 2018 recipes, the scores of the next ten would be 5941429882.\n",
    "```\n",
    "**What are the scores of the ten recipes immediately after the number of recipes in your puzzle input?**\n",
    "\n",
    "Your puzzle input is `170641`."
   ]
  },
  {
   "cell_type": "code",
   "execution_count": 1,
   "metadata": {},
   "outputs": [],
   "source": [
    "puzzleInput = 170641"
   ]
  },
  {
   "cell_type": "code",
   "execution_count": 2,
   "metadata": {},
   "outputs": [],
   "source": [
    "def makeNewRecipes(l, e, f):\n",
    "    lsum = l[e] + l[f]\n",
    "    high, low = lsum // 10, lsum % 10\n",
    "    if high:\n",
    "        l.append(high)\n",
    "    l.append(low)\n",
    "    mod = len(l)\n",
    "    e = (e + l[e] + 1) % mod\n",
    "    f = (f + l[f] + 1) % mod\n",
    "    return l, e, f\n",
    "\n",
    "def recipeList(l, e, f):\n",
    "    out = ''\n",
    "    for i, digit in enumerate(l):\n",
    "        c = str(digit)\n",
    "        if i == e:\n",
    "            c = f'({c})'\n",
    "        if i == f:\n",
    "            c = f'[{c}]'\n",
    "        pad = (5 - len(c)) // 2\n",
    "        p = ' ' * pad\n",
    "        out += p + c + p\n",
    "    print(out)\n",
    "    "
   ]
  },
  {
   "cell_type": "markdown",
   "metadata": {},
   "source": [
    "# Can we reproduce the example?"
   ]
  },
  {
   "cell_type": "code",
   "execution_count": 3,
   "metadata": {},
   "outputs": [
    {
     "name": "stdout",
     "output_type": "stream",
     "text": [
      " (3)  [7] \n",
      " (3)  [7]   1    0  \n",
      "  3    7    1   [0]  (1)   0  \n",
      "  3    7    1    0   [1]   0   (1) \n",
      " (3)   7    1    0    1    0   [1]   2  \n",
      "  3    7    1    0   (1)   0    1    2   [4] \n",
      "  3    7    1   [0]   1    0   (1)   2    4    5  \n",
      "  3    7    1    0   [1]   0    1    2   (4)   5    1  \n",
      "  3   (7)   1    0    1    0   [1]   2    4    5    1    5  \n",
      "  3    7    1    0    1    0    1    2   [4]  (5)   1    5    8  \n",
      "  3   (7)   1    0    1    0    1    2    4    5    1    5    8   [9] \n",
      "  3    7    1    0    1    0    1   [2]   4   (5)   1    5    8    9    1    6  \n",
      "  3    7    1    0    1    0    1    2    4    5   [1]   5    8    9    1   (6)   7  \n",
      "  3    7    1    0   (1)   0    1    2    4    5    1    5   [8]   9    1    6    7    7  \n",
      "  3    7   [1]   0    1    0   (1)   2    4    5    1    5    8    9    1    6    7    7    9  \n",
      "  3    7    1    0   [1]   0    1    2   (4)   5    1    5    8    9    1    6    7    7    9    2  \n"
     ]
    }
   ],
   "source": [
    "recipes = [3, 7]\n",
    "\n",
    "elf1 = 0\n",
    "elf2 = 1\n",
    "\n",
    "for i in range(16):\n",
    "    recipeList(recipes, elf1, elf2)\n",
    "    recipes, elf1, elf2 = makeNewRecipes(recipes, elf1, elf2)"
   ]
  },
  {
   "cell_type": "markdown",
   "metadata": {},
   "source": [
    "# Part 1 code"
   ]
  },
  {
   "cell_type": "code",
   "execution_count": 4,
   "metadata": {},
   "outputs": [],
   "source": [
    "def part1(N):\n",
    "    recipes = [3, 7]\n",
    "\n",
    "    elf1 = 0\n",
    "    elf2 = 1\n",
    "    \n",
    "    while len(recipes) <= N + 10:\n",
    "        recipes, elf1, elf2 = makeNewRecipes(recipes, elf1, elf2)\n",
    "    \n",
    "    return ''.join(map(str, recipes[N:N+10]))\n",
    "    "
   ]
  },
  {
   "cell_type": "markdown",
   "metadata": {},
   "source": [
    "# Part 1 tests\n",
    "(using `assert()` instead of unittest for brevity)"
   ]
  },
  {
   "cell_type": "code",
   "execution_count": 5,
   "metadata": {},
   "outputs": [
    {
     "name": "stdout",
     "output_type": "stream",
     "text": [
      "9 -> 5158916779 (expect 5158916779)\n",
      "5 -> 0124515891 (expect 0124515891)\n",
      "18 -> 9251071085 (expect 9251071085)\n",
      "2018 -> 5941429882 (expect 5941429882)\n"
     ]
    }
   ],
   "source": [
    "results = []\n",
    "for testN, testR in [(9, '5158916779'), (5, '0124515891'), (18, '9251071085'), (2018, '5941429882')]:\n",
    "    res = part1(testN)\n",
    "    print(f'{testN} -> {res} (expect {testR})')\n",
    "    results.append(res == testR)\n",
    "assert(all(results))"
   ]
  },
  {
   "cell_type": "markdown",
   "metadata": {},
   "source": [
    "# Part 1 answer"
   ]
  },
  {
   "cell_type": "code",
   "execution_count": 6,
   "metadata": {},
   "outputs": [
    {
     "name": "stdout",
     "output_type": "stream",
     "text": [
      "Part 1 answer: 2103141159\n",
      "102 ms ± 0 ns per loop (mean ± std. dev. of 1 run, 1 loop each)\n"
     ]
    }
   ],
   "source": [
    "%%timeit -n 1 -r 1\n",
    "print(f'Part 1 answer: {part1(puzzleInput)}')"
   ]
  },
  {
   "cell_type": "markdown",
   "metadata": {},
   "source": [
    "# Part 2 code"
   ]
  },
  {
   "cell_type": "code",
   "execution_count": 7,
   "metadata": {},
   "outputs": [],
   "source": [
    "# re-used from Day 12\n",
    "def group(s, length=5):\n",
    "    for i in range(len(s) - length + 1):\n",
    "        yield s[i:i + length]\n",
    "\n",
    "def part2(N):\n",
    "    recipes = [3, 7]\n",
    "\n",
    "    elf1 = 0\n",
    "    elf2 = 1\n",
    "    \n",
    "    pattern = list(map(int, list(N)))\n",
    "    lenPat = len(pattern)\n",
    "    # create recipes until we have enought to check\n",
    "    while len(recipes) <= lenPat:\n",
    "        recipes, elf1, elf2 = makeNewRecipes(recipes, elf1, elf2)\n",
    "    \n",
    "    checkstart = 0\n",
    "    while True:\n",
    "        try:\n",
    "            isin = list(group(recipes[checkstart:], lenPat)).index(pattern)\n",
    "            #recipeList(recipes[checkstart-10:], 10, 11)\n",
    "            return checkstart + isin\n",
    "        except ValueError:\n",
    "            nbefore = len(recipes)\n",
    "            recipes, elf1, elf2 = makeNewRecipes(recipes, elf1, elf2)\n",
    "            checkstart += len(recipes) - nbefore"
   ]
  },
  {
   "cell_type": "markdown",
   "metadata": {},
   "source": [
    "# Part 2 tests\n",
    "(using `assert()` instead of unittest for brevity)"
   ]
  },
  {
   "cell_type": "code",
   "execution_count": 8,
   "metadata": {},
   "outputs": [
    {
     "name": "stdout",
     "output_type": "stream",
     "text": [
      "51589 -> 9 (expect 9)\n",
      "01245 -> 5 (expect 5)\n",
      "92510 -> 18 (expect 18)\n",
      "59414 -> 2018 (expect 2018)\n"
     ]
    }
   ],
   "source": [
    "results = []\n",
    "for testN, testR in [('51589', 9), ('01245', 5), ('92510', 18), ('59414', 2018)]:\n",
    "    res = part2(testN)\n",
    "    print(f'{testN} -> {res} (expect {testR})')\n",
    "    results.append(res == testR)\n",
    "assert(all(results))"
   ]
  },
  {
   "cell_type": "markdown",
   "metadata": {},
   "source": [
    "# Part 2 answer"
   ]
  },
  {
   "cell_type": "code",
   "execution_count": 9,
   "metadata": {},
   "outputs": [
    {
     "name": "stdout",
     "output_type": "stream",
     "text": [
      "Part 2 answer: 20165733\n",
      "46.8 s ± 0 ns per loop (mean ± std. dev. of 1 run, 1 loop each)\n"
     ]
    }
   ],
   "source": [
    "%%timeit -n 1 -r 1\n",
    "print(f'Part 2 answer: {part2(str(puzzleInput))}')"
   ]
  },
  {
   "cell_type": "code",
   "execution_count": null,
   "metadata": {},
   "outputs": [],
   "source": []
  }
 ],
 "metadata": {
  "kernelspec": {
   "display_name": "Python 3",
   "language": "python",
   "name": "python3"
  },
  "language_info": {
   "codemirror_mode": {
    "name": "ipython",
    "version": 3
   },
   "file_extension": ".py",
   "mimetype": "text/x-python",
   "name": "python",
   "nbconvert_exporter": "python",
   "pygments_lexer": "ipython3",
   "version": "3.6.5"
  }
 },
 "nbformat": 4,
 "nbformat_minor": 2
}
