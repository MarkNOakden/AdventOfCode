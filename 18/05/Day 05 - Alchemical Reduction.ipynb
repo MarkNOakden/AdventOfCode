{
 "cells": [
  {
   "cell_type": "markdown",
   "metadata": {},
   "source": [
    "`--- Day 5: Alchemical Reduction ---`"
   ]
  },
  {
   "cell_type": "code",
   "execution_count": 1,
   "metadata": {},
   "outputs": [],
   "source": [
    "import unittest\n",
    "import re"
   ]
  },
  {
   "cell_type": "code",
   "execution_count": 2,
   "metadata": {},
   "outputs": [
    {
     "name": "stdout",
     "output_type": "stream",
     "text": [
      "polymer length is 50000\n",
      "polymer = bBkKQqgaAG...FJnZNnwxXW\n"
     ]
    }
   ],
   "source": [
    "polymer = open('input.txt').read().strip()\n",
    "print(f'polymer length is {len(polymer)}\\npolymer = {polymer[:10]}...{polymer[-10:]}')"
   ]
  },
  {
   "cell_type": "markdown",
   "metadata": {},
   "source": [
    "# Construct tests"
   ]
  },
  {
   "cell_type": "markdown",
   "metadata": {},
   "source": [
    "For example:\n",
    "```\n",
    "    In aA, a and A react, leaving nothing behind.\n",
    "    In abBA, bB destroys itself, leaving aA. As above, this then destroys itself, leaving nothing.\n",
    "    In abAB, no two adjacent units are of the same type, and so nothing happens.\n",
    "    In aabAAB, even though aa and AA are of the same type, their polarities match, and so nothing happens.\n",
    "```\n",
    "Now, consider a larger example, dabAcCaCBAcCcaDA:\n",
    "```\n",
    "dabAcCaCBAcCcaDA  The first 'cC' is removed.\n",
    "dabAaCBAcCcaDA    This creates 'Aa', which is removed.\n",
    "dabCBAcCcaDA      Either 'cC' or 'Cc' are removed (the result is the same).\n",
    "dabCBAcaDA        No further actions can be taken.\n",
    "```\n",
    "After all possible reactions, the resulting polymer contains 10 units."
   ]
  },
  {
   "cell_type": "code",
   "execution_count": 3,
   "metadata": {},
   "outputs": [],
   "source": [
    "testdata = {              'aA': '',\n",
    "                        'abBA': '',\n",
    "                        'abAB': 'abAB',\n",
    "                      'aabAAB': 'aabAAB',\n",
    "            'dabAcCaCBAcCcaDA': 'dabCBAcaDA'}\n",
    "\n",
    "testdata2 = {'dabAcCaCBAcCcaDA': 'dabAaCBAcCcaDA',\n",
    "               'dabAaCBAcCcaDA': 'dabCBAcCcaDA',\n",
    "                 'dabCBAcCcaDA': 'dabCBAcaDA',\n",
    "                   'dabCBAcaDA': 'dabCBAcaDA'}\n",
    "\n",
    "testdata3 = {'dabAcCaCBAcCcaDA': 'dabAaCBAcaDA',\n",
    "               'dabAaCBAcCcaDA': 'dabCBAcaDA',\n",
    "                   'dabCBAcaDA': 'dabCBAcaDA'}"
   ]
  },
  {
   "cell_type": "code",
   "execution_count": 4,
   "metadata": {},
   "outputs": [],
   "source": [
    "class TestIt(unittest.TestCase):\n",
    "    # part 1\n",
    "    def test_poly_reduce(self):\n",
    "        for reducer in reducers:\n",
    "            for test, res in testdata.items():\n",
    "                with self.subTest(poly=test, reducer=reducer):\n",
    "                    self.assertEqual(poly_reduce(test, reducer=reducer), res)\n",
    "                \n",
    "    def test_reduce_first(self):\n",
    "        for test, res in testdata2.items():\n",
    "            with self.subTest(poly=test):\n",
    "                self.assertEqual(reduce_first(test), res)\n",
    "                \n",
    "    def test_reduce_all(self):\n",
    "        for test, res in testdata3.items():\n",
    "            with self.subTest(poly=test):\n",
    "                self.assertEqual(reduce_all(test), res)\n",
    "        "
   ]
  },
  {
   "cell_type": "markdown",
   "metadata": {},
   "source": [
    "# Implement part 1 solution"
   ]
  },
  {
   "cell_type": "code",
   "execution_count": 5,
   "metadata": {},
   "outputs": [],
   "source": [
    "rel = []\n",
    "for c in 'abcdefghijklmnopqrstuvwxyz':\n",
    "    rel.append(c + c.upper())\n",
    "    rel.append(c.upper() + c)\n",
    "\n",
    "reactive_units_re = re.compile('|'.join(rel))\n",
    "\n",
    "def reduce_first(poly):\n",
    "    return re.sub(reactive_units_re, '', poly, count=1)\n",
    "\n",
    "def reduce_all(poly):\n",
    "    return re.sub(reactive_units_re, '', poly)\n",
    "\n",
    "def reduce_sequential(poly):\n",
    "    for r in rel:\n",
    "        poly = re.sub(r, '', poly)\n",
    "    return poly\n",
    "\n",
    "reducers = [reduce_first, reduce_all, reduce_sequential]\n",
    "\n",
    "def poly_reduce(poly, reducer=reduce_sequential):\n",
    "    last_length = len(poly) + 1 # start out with it not equal to len(poly)\n",
    "    while last_length != len(poly):\n",
    "        last_length = len(poly)\n",
    "        poly = reducer(poly)\n",
    "    return poly"
   ]
  },
  {
   "cell_type": "markdown",
   "metadata": {},
   "source": [
    "# Run part 1 tests"
   ]
  },
  {
   "cell_type": "code",
   "execution_count": 6,
   "metadata": {},
   "outputs": [
    {
     "name": "stderr",
     "output_type": "stream",
     "text": [
      "test_poly_reduce (__main__.TestIt) ... ok\n",
      "test_reduce_all (__main__.TestIt) ... ok\n",
      "test_reduce_first (__main__.TestIt) ... ok\n",
      "\n",
      "----------------------------------------------------------------------\n",
      "Ran 3 tests in 0.011s\n",
      "\n",
      "OK\n"
     ]
    },
    {
     "data": {
      "text/plain": [
       "<unittest.runner.TextTestResult run=3 errors=0 failures=0>"
      ]
     },
     "execution_count": 6,
     "metadata": {},
     "output_type": "execute_result"
    }
   ],
   "source": [
    "suite = unittest.TestLoader().loadTestsFromTestCase(TestIt)\n",
    "unittest.TextTestRunner(verbosity=2).run(suite)"
   ]
  },
  {
   "cell_type": "markdown",
   "metadata": {},
   "source": [
    "# Performance checks"
   ]
  },
  {
   "cell_type": "code",
   "execution_count": 7,
   "metadata": {},
   "outputs": [],
   "source": [
    "test_poly = polymer[:10000]"
   ]
  },
  {
   "cell_type": "code",
   "execution_count": 8,
   "metadata": {},
   "outputs": [
    {
     "name": "stdout",
     "output_type": "stream",
     "text": [
      "3.79 ms ± 128 µs per loop (mean ± std. dev. of 7 runs, 100 loops each)\n"
     ]
    }
   ],
   "source": [
    "%%timeit\n",
    "res = poly_reduce(test_poly, reducer=reduce_sequential)"
   ]
  },
  {
   "cell_type": "code",
   "execution_count": 9,
   "metadata": {},
   "outputs": [
    {
     "name": "stdout",
     "output_type": "stream",
     "text": [
      "9.3 ms ± 545 µs per loop (mean ± std. dev. of 7 runs, 100 loops each)\n"
     ]
    }
   ],
   "source": [
    "%%timeit\n",
    "res = poly_reduce(test_poly, reducer=reduce_all)"
   ]
  },
  {
   "cell_type": "code",
   "execution_count": 10,
   "metadata": {},
   "outputs": [
    {
     "name": "stdout",
     "output_type": "stream",
     "text": [
      "706 ms ± 42.9 ms per loop (mean ± std. dev. of 7 runs, 1 loop each)\n"
     ]
    }
   ],
   "source": [
    "%%timeit\n",
    "res = poly_reduce(test_poly, reducer=reduce_first)"
   ]
  },
  {
   "cell_type": "markdown",
   "metadata": {},
   "source": [
    "# Part 1 answer"
   ]
  },
  {
   "cell_type": "code",
   "execution_count": 11,
   "metadata": {},
   "outputs": [
    {
     "name": "stdout",
     "output_type": "stream",
     "text": [
      "Part 1: 10598\n",
      "450 ms ± 0 ns per loop (mean ± std. dev. of 1 run, 1 loop each)\n"
     ]
    }
   ],
   "source": [
    "%%timeit -n 1 -r 1\n",
    "print(f'Part 1: {len(poly_reduce(polymer))}')"
   ]
  },
  {
   "cell_type": "markdown",
   "metadata": {},
   "source": [
    "# Part 2"
   ]
  },
  {
   "cell_type": "code",
   "execution_count": 12,
   "metadata": {},
   "outputs": [
    {
     "name": "stdout",
     "output_type": "stream",
     "text": [
      "Part 2: 5312\n",
      "12.2 s ± 0 ns per loop (mean ± std. dev. of 1 run, 1 loop each)\n"
     ]
    }
   ],
   "source": [
    "%%timeit -n 1 -r 1\n",
    "reduced_lengths = []\n",
    "for c in 'abcdefghijklmnopqrstuvwxyz':\n",
    "    r = f'[{c}{c.upper()}]' # '[aA]' etc.\n",
    "    reduced_lengths.append(len(poly_reduce(re.sub(r ,'', polymer))))\n",
    "print(f'Part 2: {min(reduced_lengths)}')"
   ]
  },
  {
   "cell_type": "code",
   "execution_count": null,
   "metadata": {},
   "outputs": [],
   "source": []
  }
 ],
 "metadata": {
  "kernelspec": {
   "display_name": "Python 3",
   "language": "python",
   "name": "python3"
  },
  "language_info": {
   "codemirror_mode": {
    "name": "ipython",
    "version": 3
   },
   "file_extension": ".py",
   "mimetype": "text/x-python",
   "name": "python",
   "nbconvert_exporter": "python",
   "pygments_lexer": "ipython3",
   "version": "3.6.5"
  }
 },
 "nbformat": 4,
 "nbformat_minor": 2
}
