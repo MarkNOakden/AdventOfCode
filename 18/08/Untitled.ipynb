{
 "cells": [
  {
   "cell_type": "markdown",
   "metadata": {},
   "source": [
    "`--- Day 8: Memory Maneuver ---`"
   ]
  },
  {
   "cell_type": "code",
   "execution_count": 1,
   "metadata": {},
   "outputs": [],
   "source": [
    "import unittest\n",
    "from collections import deque"
   ]
  },
  {
   "cell_type": "markdown",
   "metadata": {},
   "source": [
    "The sleigh is much easier to pull than you'd expect for something its weight. Unfortunately, neither you nor the Elves know which way the North Pole is from here.\n",
    "\n",
    "You check your wrist device for anything that might help. It seems to have some kind of navigation system! Activating the navigation system produces more bad news: \"Failed to start navigation system. Could not read software license file.\"\n",
    "\n",
    "The navigation system's license file consists of a list of numbers (your puzzle input). The numbers define a data structure which, when processed, produces some kind of tree that can be used to calculate the license number.\n",
    "\n",
    "The tree is made up of nodes; a single, outermost node forms the tree's root, and it contains all other nodes in the tree (or contains nodes that contain nodes, and so on).\n",
    "\n",
    "Specifically, a node consists of:\n",
    "```\n",
    "    A header, which is always exactly two numbers:\n",
    "        The quantity of child nodes.\n",
    "        The quantity of metadata entries.\n",
    "    Zero or more child nodes (as specified in the header).\n",
    "    One or more metadata entries (as specified in the header).\n",
    "```\n",
    "Each child node is itself a node that has its own header, child nodes, and metadata. For example:\n",
    "```\n",
    "2 3 0 3 10 11 12 1 1 0 1 99 2 1 1 2\n",
    "A----------------------------------\n",
    "    B----------- C-----------\n",
    "                     D-----\n",
    "```\n",
    "In this example, each node of the tree is also marked with an underline starting with a letter for easier identification. In it, there are four nodes:\n",
    "```\n",
    "    A, which has 2 child nodes (B, C) and 3 metadata entries (1, 1, 2).\n",
    "    B, which has 0 child nodes and 3 metadata entries (10, 11, 12).\n",
    "    C, which has 1 child node (D) and 1 metadata entry (2).\n",
    "    D, which has 0 child nodes and 1 metadata entry (99).\n",
    "```\n",
    "The first check done on the license file is to simply add up all of the metadata entries. In this example, that sum is 1+1+2+10+11+12+2+99=138.\n",
    "\n",
    "**What is the sum of all metadata entries?**"
   ]
  },
  {
   "cell_type": "code",
   "execution_count": 2,
   "metadata": {},
   "outputs": [],
   "source": [
    "license = deque(map(int, open('input.txt').read().strip().split(' ')))"
   ]
  },
  {
   "cell_type": "code",
   "execution_count": 3,
   "metadata": {},
   "outputs": [],
   "source": [
    "class TestIt(unittest.TestCase):\n",
    "    \n",
    "    def setUp(self):\n",
    "        test_license = deque(map(int, '2 3 0 3 10 11 12 1 1 0 1 99 2 1 1 2'.strip().split(' ')))\n",
    "        self.tree = mkTree(test_license)\n",
    "        \n",
    "    def test_treeMetadata(self):\n",
    "        self.assertEqual(self.tree.sumMetadata(), 138)\n",
    "        \n",
    "    def test_nodeCount(self):\n",
    "        self.assertEqual(self.tree.nodeCount(), 4)"
   ]
  },
  {
   "cell_type": "code",
   "execution_count": 4,
   "metadata": {},
   "outputs": [],
   "source": [
    "class Node(object):\n",
    "    \n",
    "    def __init__(self, n_children=0, n_metadata=0, parent=None, children=None, metadata=None):\n",
    "        self.parent = parent\n",
    "        self.n_children = n_children\n",
    "        self.n_metadata = n_metadata\n",
    "        self._value = None\n",
    "        if children is None:\n",
    "            self.children = []\n",
    "        else:\n",
    "            self.children = children[:] #  copy\n",
    "        if metadata is None:\n",
    "            self.metadata = []\n",
    "        else:\n",
    "            self.metadata = metadata[:] # copy\n",
    "    \n",
    "    def addChild(self, c):\n",
    "        self.children.append(c)\n",
    "        \n",
    "    def addMetadata(self, i):\n",
    "        self.metadata.append(i)\n",
    "        return self\n",
    "    \n",
    "    def sumMetadata(self):\n",
    "        metasum = sum(self.metadata)\n",
    "        metasum += sum(c.sumMetadata() for c in self.children)\n",
    "        return metasum\n",
    "    \n",
    "    def nodeCount(self):\n",
    "        nodecount = 1 # self\n",
    "        nodecount += sum(c.nodeCount() for c in self.children)\n",
    "        return nodecount\n",
    "    \n",
    "    # part2\n",
    "    def value(self):\n",
    "        if self._value:\n",
    "            return self._value\n",
    "        elif self.n_children == 0:\n",
    "            self._value = self.sumMetadata()\n",
    "            return self._value\n",
    "        else:\n",
    "            self._value = 0\n",
    "            for x in self.metadata:\n",
    "                i = x - 1 # child refs start at 1\n",
    "                if i < self.n_children:\n",
    "                    self._value += self.children[i].value()\n",
    "            return self._value\n",
    "    \n",
    "    def __str__(self):\n",
    "        return f'Node(N_children={self.n_children}, n_metadata={self.n_metadata}, parent={self.parent}, children={self.children}, metadata={self.metadata})'\n",
    "    \n",
    "    __repr__ = __str__\n",
    "    \n",
    "def mkTree(lic, parent=None):\n",
    "    n_children = lic.popleft()\n",
    "    n_meta = lic.popleft()\n",
    "    node = Node(n_children, n_meta, parent=parent)\n",
    "    for i in range(n_children):\n",
    "        c = mkTree(lic, node)\n",
    "        node.addChild(c)\n",
    "    for i in range(n_meta):\n",
    "        node.addMetadata(lic.popleft())\n",
    "    return node"
   ]
  },
  {
   "cell_type": "code",
   "execution_count": 5,
   "metadata": {},
   "outputs": [
    {
     "name": "stderr",
     "output_type": "stream",
     "text": [
      "test_nodeCount (__main__.TestIt) ... ok\n",
      "test_treeMetadata (__main__.TestIt) ... ok\n",
      "\n",
      "----------------------------------------------------------------------\n",
      "Ran 2 tests in 0.016s\n",
      "\n",
      "OK\n"
     ]
    },
    {
     "data": {
      "text/plain": [
       "<unittest.runner.TextTestResult run=2 errors=0 failures=0>"
      ]
     },
     "execution_count": 5,
     "metadata": {},
     "output_type": "execute_result"
    }
   ],
   "source": [
    "suite = unittest.TestLoader().loadTestsFromTestCase(TestIt)\n",
    "unittest.TextTestRunner(verbosity=2).run(suite)"
   ]
  },
  {
   "cell_type": "markdown",
   "metadata": {},
   "source": [
    "# Part 1"
   ]
  },
  {
   "cell_type": "code",
   "execution_count": 6,
   "metadata": {},
   "outputs": [],
   "source": [
    "tree = mkTree(license)"
   ]
  },
  {
   "cell_type": "code",
   "execution_count": 7,
   "metadata": {},
   "outputs": [
    {
     "data": {
      "text/plain": [
       "46096"
      ]
     },
     "execution_count": 7,
     "metadata": {},
     "output_type": "execute_result"
    }
   ],
   "source": [
    "tree.sumMetadata()"
   ]
  },
  {
   "cell_type": "markdown",
   "metadata": {},
   "source": [
    "# --- Part Two ---\n",
    "\n",
    "The second check is slightly more complicated: you need to find the value of the root node (A in the example above).\n",
    "\n",
    "The value of a node depends on whether it has child nodes.\n",
    "\n",
    "If a node has no child nodes, its value is the sum of its metadata entries. So, the value of node B is 10+11+12=33, and the value of node D is 99.\n",
    "\n",
    "However, if a node does have child nodes, the metadata entries become indexes which refer to those child nodes. A metadata entry of 1 refers to the first child node, 2 to the second, 3 to the third, and so on. The value of this node is the sum of the values of the child nodes referenced by the metadata entries. If a referenced child node does not exist, that reference is skipped. A child node can be referenced multiple time and counts each time it is referenced. A metadata entry of 0 does not refer to any child node.\n",
    "\n",
    "For example, again using the above nodes:\n",
    "\n",
    "* Node C has one metadata entry, 2. Because node C has only one child node, 2 references a child node which does not exist, and so the value of node C is 0.\n",
    "* Node A has three metadata entries: 1, 1, and 2. The 1 references node A's first child node, B, and the 2 references node A's second child node, C. Because node B has a value of 33 and node C has a value of 0, the value of node A is 33+33+0=66.\n",
    "\n",
    "So, in this example, the value of the root node is 66.\n",
    "\n",
    "What is the value of the root node?\n"
   ]
  },
  {
   "cell_type": "code",
   "execution_count": 8,
   "metadata": {},
   "outputs": [],
   "source": [
    "class TestPart2(unittest.TestCase):\n",
    "    \n",
    "    def setUp(self):\n",
    "        test_license = deque(map(int, '2 3 0 3 10 11 12 1 1 0 1 99 2 1 1 2'.strip().split(' ')))\n",
    "        self.tree = mkTree(test_license)\n",
    "        \n",
    "    def test_treeValue(self):\n",
    "        self.assertEqual(self.tree.value(), 66)"
   ]
  },
  {
   "cell_type": "code",
   "execution_count": 9,
   "metadata": {},
   "outputs": [
    {
     "name": "stderr",
     "output_type": "stream",
     "text": [
      "test_treeValue (__main__.TestPart2) ... ok\n",
      "\n",
      "----------------------------------------------------------------------\n",
      "Ran 1 test in 0.000s\n",
      "\n",
      "OK\n"
     ]
    },
    {
     "data": {
      "text/plain": [
       "<unittest.runner.TextTestResult run=1 errors=0 failures=0>"
      ]
     },
     "execution_count": 9,
     "metadata": {},
     "output_type": "execute_result"
    }
   ],
   "source": [
    "suite = unittest.TestLoader().loadTestsFromTestCase(TestPart2)\n",
    "unittest.TextTestRunner(verbosity=2).run(suite)"
   ]
  },
  {
   "cell_type": "code",
   "execution_count": 10,
   "metadata": {},
   "outputs": [
    {
     "data": {
      "text/plain": [
       "24820"
      ]
     },
     "execution_count": 10,
     "metadata": {},
     "output_type": "execute_result"
    }
   ],
   "source": [
    "tree.value()"
   ]
  }
 ],
 "metadata": {
  "kernelspec": {
   "display_name": "Python 3",
   "language": "python",
   "name": "python3"
  },
  "language_info": {
   "codemirror_mode": {
    "name": "ipython",
    "version": 3
   },
   "file_extension": ".py",
   "mimetype": "text/x-python",
   "name": "python",
   "nbconvert_exporter": "python",
   "pygments_lexer": "ipython3",
   "version": "3.6.5"
  }
 },
 "nbformat": 4,
 "nbformat_minor": 2
}
