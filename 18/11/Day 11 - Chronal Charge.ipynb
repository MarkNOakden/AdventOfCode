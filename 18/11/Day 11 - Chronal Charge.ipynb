{
 "cells": [
  {
   "cell_type": "markdown",
   "metadata": {},
   "source": [
    "--- Day 11: Chronal Charge ---\n",
    "\n",
    "You watch the Elves and their sleigh fade into the distance as they head toward the North Pole.\n",
    "\n",
    "Actually, you're the one fading. The falling sensation returns.\n",
    "\n",
    "The low fuel warning light is illuminated on your wrist-mounted device. Tapping it once causes it to project a hologram of the situation: a 300x300 grid of fuel cells and their current power levels, some negative. You're not sure what negative power means in the context of time travel, but it can't be good.\n",
    "\n",
    "Each fuel cell has a coordinate ranging from 1 to 300 in both the X (horizontal) and Y (vertical) direction. In X,Y notation, the top-left cell is 1,1, and the top-right cell is 300,1.\n",
    "\n",
    "The interface lets you select any 3x3 square of fuel cells. To increase your chances of getting to your destination, you decide to choose the 3x3 square with the largest total power.\n",
    "\n",
    "The power level in a given fuel cell can be found through the following process:\n",
    "\n",
    "*    Find the fuel cell's rack ID, which is its X coordinate plus 10.\n",
    "*    Begin with a power level of the rack ID times the Y coordinate.\n",
    "*    Increase the power level by the value of the grid serial number (your puzzle input).\n",
    "*    Set the power level to itself multiplied by the rack ID.\n",
    "*    Keep only the hundreds digit of the power level (so 12345 becomes 3; numbers with no hundreds digit become 0).\n",
    "*    Subtract 5 from the power level.\n",
    "\n",
    "For example, to find the power level of the fuel cell at 3,5 in a grid with serial number 8:\n",
    "\n",
    "*    The rack ID is 3 + 10 = 13.\n",
    "*    The power level starts at 13 * 5 = 65.\n",
    "*    Adding the serial number produces 65 + 8 = 73.\n",
    "*    Multiplying by the rack ID produces 73 * 13 = 949.\n",
    "*    The hundreds digit of 949 is 9.\n",
    "*    Subtracting 5 produces 9 - 5 = 4.\n",
    "\n",
    "So, the power level of this fuel cell is 4.\n",
    "\n",
    "Here are some more example power levels:\n",
    "\n",
    "*    Fuel cell at  122,79, grid serial number 57: power level -5.\n",
    "*    Fuel cell at 217,196, grid serial number 39: power level  0.\n",
    "*    Fuel cell at 101,153, grid serial number 71: power level  4.\n",
    "\n",
    "Your goal is to find the 3x3 square which has the largest total power. The square must be entirely within the 300x300 grid. Identify this square using the X,Y coordinate of its top-left fuel cell. For example:\n",
    "\n",
    "For grid serial number 18, the largest total 3x3 square has a top-left corner of 33,45 (with a total power of 29); these fuel cells appear in the middle of this 5x5 region:\n",
    "```\n",
    "-2  -4   4   4   4\n",
    "-4   4   4   4  -5\n",
    " 4   3   3   4  -4\n",
    " 1   1   2   4  -3\n",
    "-1   0   2  -5  -2\n",
    "```\n",
    "For grid serial number 42, the largest 3x3 square's top-left is 21,61 (with a total power of 30); they are in the middle of this region:\n",
    "```\n",
    "-3   4   2   2   2\n",
    "-4   4   3   3   4\n",
    "-5   3   3   4  -4\n",
    " 4   3   3   4  -3\n",
    " 3   3   3  -5  -1\n",
    "```\n",
    "**What is the X,Y coordinate of the top-left fuel cell of the 3x3 square with the largest total power?**\n",
    "\n",
    "Your puzzle input is 7857."
   ]
  },
  {
   "cell_type": "code",
   "execution_count": 1,
   "metadata": {},
   "outputs": [],
   "source": [
    "import unittest\n",
    "import numpy as np\n",
    "from scipy.signal import convolve2d, fftconvolve"
   ]
  },
  {
   "cell_type": "code",
   "execution_count": 2,
   "metadata": {},
   "outputs": [],
   "source": [
    "power_level_test_data = [[3, 5, 8, 4],\n",
    "                         [122, 79, 57, -5],\n",
    "                         [217, 196, 39, 0],\n",
    "                         [101, 153, 71, 4]]\n",
    "\n",
    "max_power_test_data = [[18, 33, 45, 29], [42, 21, 61, 30]]\n",
    "\n",
    "day11_sn = 7857"
   ]
  },
  {
   "cell_type": "code",
   "execution_count": 3,
   "metadata": {},
   "outputs": [],
   "source": [
    "class TestIt(unittest.TestCase):\n",
    "    \n",
    "    def test_power_level(self):\n",
    "        for x, y, sn, pl in power_level_test_data:\n",
    "            with self.subTest(x=x, y=y):\n",
    "                plGrid = powerLevelGrid(sn)\n",
    "                self.assertEqual(powerLevel(x, y, plGrid), pl)\n",
    "                \n",
    "    def test_max_power(self):\n",
    "        for sn, x, y, pl in max_power_test_data:\n",
    "            with self.subTest(sn=sn):\n",
    "                self.assertEqual(maxPower(sn), (x, y, pl))"
   ]
  },
  {
   "cell_type": "code",
   "execution_count": 4,
   "metadata": {},
   "outputs": [],
   "source": [
    "def powerLevelGrid(sn):\n",
    "    x = y = range(1, 301)\n",
    "    xv, yv = np.meshgrid(x, y, indexing='ij')\n",
    "    # Find the fuel cell's rack ID, which is its X coordinate plus 10.\n",
    "    rackID = xv + 10\n",
    "    # Begin with a power level of the rack ID times the Y coordinate.\n",
    "    pl = rackID * yv\n",
    "    # Increase the power level by the value of the grid serial number (your puzzle input).\n",
    "    pl = pl + sn\n",
    "    # Set the power level to itself multiplied by the rack ID.\n",
    "    pl = pl * rackID\n",
    "    # Keep only the hundreds digit of the power level (so 12345 becomes 3; numbers with no hundreds digit become 0).\n",
    "    pl = (pl // 100) % 10\n",
    "    # Subtract 5 from the power level.\n",
    "    pl = pl - 5\n",
    "    return pl\n",
    "\n",
    "def powerLevel(ix, iy, plGrid):\n",
    "    return plGrid[ix - 1, iy - 1]\n",
    "\n",
    "def maxPower(sn, size=3):\n",
    "    cellGrid = maxPowerGrid(powerLevelGrid(sn), size=size)\n",
    "    return maxPowerFromGrid(cellGrid)\n",
    "\n",
    "def maxPowerFromGrid(cellGrid):\n",
    "    max_element = np.max(cellGrid)\n",
    "    x, y = map(lambda x: x[0], np.where(cellGrid == max_element))\n",
    "    return x + 1, y + 1, max_element\n",
    "\n",
    "def maxPowerGrid(plGrid, size, convolve=fftconvolve):\n",
    "    cellGrid = convolve(np.ones((size, size), dtype=np.int), plGrid, mode='valid')\n",
    "    return cellGrid.astype(np.int)"
   ]
  },
  {
   "cell_type": "markdown",
   "metadata": {},
   "source": [
    "# Run part 1 tests"
   ]
  },
  {
   "cell_type": "code",
   "execution_count": 5,
   "metadata": {},
   "outputs": [
    {
     "name": "stderr",
     "output_type": "stream",
     "text": [
      "test_max_power (__main__.TestIt) ... ok\n",
      "test_power_level (__main__.TestIt) ... ok\n",
      "\n",
      "----------------------------------------------------------------------\n",
      "Ran 2 tests in 0.068s\n",
      "\n",
      "OK\n"
     ]
    },
    {
     "data": {
      "text/plain": [
       "<unittest.runner.TextTestResult run=2 errors=0 failures=0>"
      ]
     },
     "execution_count": 5,
     "metadata": {},
     "output_type": "execute_result"
    }
   ],
   "source": [
    "suite = unittest.TestLoader().loadTestsFromTestCase(TestIt)\n",
    "unittest.TextTestRunner(verbosity=2).run(suite)"
   ]
  },
  {
   "cell_type": "markdown",
   "metadata": {},
   "source": [
    "# Part 1"
   ]
  },
  {
   "cell_type": "code",
   "execution_count": 6,
   "metadata": {},
   "outputs": [
    {
     "name": "stdout",
     "output_type": "stream",
     "text": [
      "Part 1 answer - max power is at coordinates 243,16 (power was 31)\n"
     ]
    }
   ],
   "source": [
    "x, y, power = maxPower(day11_sn)\n",
    "print(f'Part 1 answer - max power is at coordinates {x},{y} (power was {power})')"
   ]
  },
  {
   "cell_type": "markdown",
   "metadata": {},
   "source": [
    "# Part 2"
   ]
  },
  {
   "cell_type": "code",
   "execution_count": 7,
   "metadata": {},
   "outputs": [],
   "source": [
    "def part2(sn, convolve=fftconvolve):\n",
    "    plGrid = powerLevelGrid(sn)\n",
    "    max_power = -5\n",
    "    x = None\n",
    "    y = None\n",
    "    best_size = None\n",
    "    for size in range(1, 301):\n",
    "        mpGrid = maxPowerGrid(plGrid, size, convolve=convolve)\n",
    "        xi, yi, power = maxPowerFromGrid(mpGrid)\n",
    "        if power > max_power:\n",
    "            max_power = power\n",
    "            x = xi\n",
    "            y = yi\n",
    "            best_size = size\n",
    "    return x, y, best_size, max_power\n",
    "    "
   ]
  },
  {
   "cell_type": "code",
   "execution_count": 8,
   "metadata": {},
   "outputs": [],
   "source": [
    "part2_tests = [[18, 90, 269, 16, 113],\n",
    "               [42, 232, 251, 12, 119]]"
   ]
  },
  {
   "cell_type": "code",
   "execution_count": 9,
   "metadata": {},
   "outputs": [],
   "source": [
    "class Test2(unittest.TestCase):\n",
    "    \n",
    "    def test_p2(self):\n",
    "        for sn, x, y, size, power in part2_tests:\n",
    "            with self.subTest(sn=sn):\n",
    "                self.assertEqual(part2(sn), (x, y, size, power))"
   ]
  },
  {
   "cell_type": "markdown",
   "metadata": {},
   "source": [
    "# Run part 2 tests"
   ]
  },
  {
   "cell_type": "code",
   "execution_count": 10,
   "metadata": {},
   "outputs": [
    {
     "name": "stderr",
     "output_type": "stream",
     "text": [
      "test_p2 (__main__.Test2) ... ok\n",
      "\n",
      "----------------------------------------------------------------------\n",
      "Ran 1 test in 9.462s\n",
      "\n",
      "OK\n"
     ]
    },
    {
     "data": {
      "text/plain": [
       "<unittest.runner.TextTestResult run=1 errors=0 failures=0>"
      ]
     },
     "execution_count": 10,
     "metadata": {},
     "output_type": "execute_result"
    }
   ],
   "source": [
    "suite = unittest.TestLoader().loadTestsFromTestCase(Test2)\n",
    "unittest.TextTestRunner(verbosity=2).run(suite)"
   ]
  },
  {
   "cell_type": "markdown",
   "metadata": {},
   "source": [
    "# Part 2 answer"
   ]
  },
  {
   "cell_type": "code",
   "execution_count": 11,
   "metadata": {},
   "outputs": [
    {
     "name": "stdout",
     "output_type": "stream",
     "text": [
      "Part 2 answer -  max power is at coordinates 231,227,14 (power was 129)\n",
      "4.65 s ± 0 ns per loop (mean ± std. dev. of 1 run, 1 loop each)\n"
     ]
    }
   ],
   "source": [
    "%%timeit -n 1 -r 1\n",
    "x, y, size, power = part2(day11_sn)\n",
    "print(f'Part 2 answer -  max power is at coordinates {x},{y},{size} (power was {power})')"
   ]
  },
  {
   "cell_type": "markdown",
   "metadata": {},
   "source": [
    "# Performance comparison\n",
    "\n",
    "SciPy has two 2d convolution routines `convolve2d` and `fftconvolve`.  `fftconvolve` (used above) is far quicker. For comparison, here is part 2 recalculated using `convolve2d`\n",
    "\n",
    "See also: http://blog.invibe.net/posts/2017-09-20-the-fastest-2d-convolution-in-the-world.html"
   ]
  },
  {
   "cell_type": "code",
   "execution_count": 12,
   "metadata": {},
   "outputs": [
    {
     "name": "stdout",
     "output_type": "stream",
     "text": [
      "Part 2 answer -  max power is at coordinates 231,227,14 (power was 129)\n",
      "2min 47s ± 0 ns per loop (mean ± std. dev. of 1 run, 1 loop each)\n"
     ]
    }
   ],
   "source": [
    "%%timeit -n 1 -r 1\n",
    "x, y, size, power = part2(day11_sn, convolve=convolve2d)\n",
    "print(f'Part 2 answer -  max power is at coordinates {x},{y},{size} (power was {power})')"
   ]
  },
  {
   "cell_type": "code",
   "execution_count": 13,
   "metadata": {},
   "outputs": [
    {
     "name": "stdout",
     "output_type": "stream",
     "text": [
      " "
     ]
    },
    {
     "data": {
      "text/plain": [
       "         6349 function calls in 166.474 seconds\n",
       "\n",
       "   Ordered by: internal time\n",
       "\n",
       "   ncalls  tottime  percall  cumtime  percall filename:lineno(function)\n",
       "      300  166.405    0.555  166.405    0.555 {built-in method scipy.signal.sigtools._convolve2d}\n",
       "      300    0.024    0.000    0.024    0.000 {built-in method numpy.core.multiarray.where}\n",
       "      300    0.010    0.000    0.047    0.000 <ipython-input-4-01e5c9a89e77>:25(maxPowerFromGrid)\n",
       "      300    0.010    0.000    0.010    0.000 {method 'reduce' of 'numpy.ufunc' objects}\n",
       "      300    0.007    0.000    0.007    0.000 {method 'astype' of 'numpy.ndarray' objects}\n",
       "      300    0.003    0.000  166.422    0.555 <ipython-input-4-01e5c9a89e77>:30(maxPowerGrid)\n",
       "      300    0.002    0.000  166.409    0.555 signaltools.py:947(convolve2d)\n",
       "      300    0.002    0.000    0.002    0.000 {built-in method numpy.core.multiarray.copyto}\n",
       "      300    0.002    0.000    0.013    0.000 fromnumeric.py:2222(amax)\n",
       "        1    0.002    0.002    0.003    0.003 <ipython-input-4-01e5c9a89e77>:1(powerLevelGrid)\n",
       "        1    0.002    0.002  166.474  166.474 <ipython-input-7-4a266ea31908>:1(part2)\n",
       "      300    0.001    0.000    0.001    0.000 {built-in method numpy.core.multiarray.empty}\n",
       "      300    0.001    0.000    0.001    0.000 signaltools.py:73(_inputs_swap_needed)\n",
       "        2    0.001    0.000    0.001    0.000 {method 'copy' of 'numpy.ndarray' objects}\n",
       "      300    0.001    0.000    0.004    0.000 numeric.py:146(ones)\n",
       "      600    0.001    0.000    0.001    0.000 <ipython-input-4-01e5c9a89e77>:27(<lambda>)\n",
       "      606    0.000    0.000    0.000    0.000 {built-in method numpy.core.multiarray.array}\n",
       "      300    0.000    0.000    0.000    0.000 signaltools.py:65(_bvalfromboundary)\n",
       "      300    0.000    0.000    0.010    0.000 _methods.py:25(_amax)\n",
       "      300    0.000    0.000    0.000    0.000 signaltools.py:57(_valfrommode)\n",
       "      600    0.000    0.000    0.000    0.000 numeric.py:424(asarray)\n",
       "        1    0.000    0.000    0.001    0.001 function_base.py:4568(meshgrid)\n",
       "        2    0.000    0.000    0.000    0.000 stride_tricks.py:115(_broadcast_to)\n",
       "        1    0.000    0.000  166.474  166.474 {built-in method builtins.exec}\n",
       "        1    0.000    0.000    0.000    0.000 stride_tricks.py:195(broadcast_arrays)\n",
       "        1    0.000    0.000    0.000    0.000 stride_tricks.py:176(_broadcast_shape)\n",
       "        1    0.000    0.000    0.000    0.000 function_base.py:4685(<listcomp>)\n",
       "        1    0.000    0.000    0.001    0.001 function_base.py:4698(<listcomp>)\n",
       "        2    0.000    0.000    0.000    0.000 {method 'reshape' of 'numpy.ndarray' objects}\n",
       "        2    0.000    0.000    0.000    0.000 numeric.py:495(asanyarray)\n",
       "        2    0.000    0.000    0.000    0.000 function_base.py:213(iterable)\n",
       "        1    0.000    0.000    0.000    0.000 stride_tricks.py:257(<listcomp>)\n",
       "        1    0.000    0.000  166.474  166.474 <string>:1(<module>)\n",
       "        2    0.000    0.000    0.000    0.000 stride_tricks.py:251(<genexpr>)\n",
       "        6    0.000    0.000    0.000    0.000 stride_tricks.py:120(<genexpr>)\n",
       "        1    0.000    0.000    0.000    0.000 stride_tricks.py:247(<listcomp>)\n",
       "        2    0.000    0.000    0.000    0.000 stride_tricks.py:25(_maybe_view_as_subclass)\n",
       "        4    0.000    0.000    0.000    0.000 {method 'pop' of 'dict' objects}\n",
       "        1    0.000    0.000    0.000    0.000 {built-in method builtins.all}\n",
       "        2    0.000    0.000    0.000    0.000 {built-in method builtins.any}\n",
       "        2    0.000    0.000    0.000    0.000 {built-in method builtins.len}\n",
       "        2    0.000    0.000    0.000    0.000 {built-in method builtins.iter}\n",
       "        1    0.000    0.000    0.000    0.000 {method 'disable' of '_lsprof.Profiler' objects}"
      ]
     },
     "metadata": {},
     "output_type": "display_data"
    }
   ],
   "source": [
    "%prun part2(day11_sn, convolve=convolve2d)"
   ]
  },
  {
   "cell_type": "code",
   "execution_count": null,
   "metadata": {},
   "outputs": [],
   "source": []
  }
 ],
 "metadata": {
  "kernelspec": {
   "display_name": "Python 3",
   "language": "python",
   "name": "python3"
  },
  "language_info": {
   "codemirror_mode": {
    "name": "ipython",
    "version": 3
   },
   "file_extension": ".py",
   "mimetype": "text/x-python",
   "name": "python",
   "nbconvert_exporter": "python",
   "pygments_lexer": "ipython3",
   "version": "3.6.5"
  }
 },
 "nbformat": 4,
 "nbformat_minor": 2
}
