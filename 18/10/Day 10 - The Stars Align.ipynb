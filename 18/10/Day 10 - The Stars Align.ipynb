{
 "cells": [
  {
   "cell_type": "code",
   "execution_count": 1,
   "metadata": {},
   "outputs": [],
   "source": [
    "import unittest\n",
    "import re\n",
    "from math import sqrt"
   ]
  },
  {
   "cell_type": "markdown",
   "metadata": {},
   "source": [
    "--- Day 10: The Stars Align ---\n",
    "\n",
    "It's no use; your navigation system simply isn't capable of providing walking directions in the arctic circle, and certainly not in 1018.\n",
    "\n",
    "The Elves suggest an alternative. In times like these, North Pole rescue operations will arrange points of light in the sky to guide missing Elves back to base. Unfortunately, the message is easy to miss: the points move slowly enough that it takes hours to align them, but have so much momentum that they only stay aligned for a second. If you blink at the wrong time, it might be hours before another message appears.\n",
    "\n",
    "You can see these points of light floating in the distance, and record their position in the sky and their velocity, the relative change in position per second (your puzzle input). The coordinates are all given from your perspective; given enough time, those positions and velocities will move the points into a cohesive message!\n",
    "\n",
    "Rather than wait, you decide to fast-forward the process and calculate what the points will eventually spell.\n",
    "\n",
    "For example, suppose you note the following points:\n",
    "```\n",
    "position=< 9,  1> velocity=< 0,  2>\n",
    "position=< 7,  0> velocity=<-1,  0>\n",
    "position=< 3, -2> velocity=<-1,  1>\n",
    "position=< 6, 10> velocity=<-2, -1>\n",
    "position=< 2, -4> velocity=< 2,  2>\n",
    "position=<-6, 10> velocity=< 2, -2>\n",
    "position=< 1,  8> velocity=< 1, -1>\n",
    "position=< 1,  7> velocity=< 1,  0>\n",
    "position=<-3, 11> velocity=< 1, -2>\n",
    "position=< 7,  6> velocity=<-1, -1>\n",
    "position=<-2,  3> velocity=< 1,  0>\n",
    "position=<-4,  3> velocity=< 2,  0>\n",
    "position=<10, -3> velocity=<-1,  1>\n",
    "position=< 5, 11> velocity=< 1, -2>\n",
    "position=< 4,  7> velocity=< 0, -1>\n",
    "position=< 8, -2> velocity=< 0,  1>\n",
    "position=<15,  0> velocity=<-2,  0>\n",
    "position=< 1,  6> velocity=< 1,  0>\n",
    "position=< 8,  9> velocity=< 0, -1>\n",
    "position=< 3,  3> velocity=<-1,  1>\n",
    "position=< 0,  5> velocity=< 0, -1>\n",
    "position=<-2,  2> velocity=< 2,  0>\n",
    "position=< 5, -2> velocity=< 1,  2>\n",
    "position=< 1,  4> velocity=< 2,  1>\n",
    "position=<-2,  7> velocity=< 2, -2>\n",
    "position=< 3,  6> velocity=<-1, -1>\n",
    "position=< 5,  0> velocity=< 1,  0>\n",
    "position=<-6,  0> velocity=< 2,  0>\n",
    "position=< 5,  9> velocity=< 1, -2>\n",
    "position=<14,  7> velocity=<-2,  0>\n",
    "position=<-3,  6> velocity=< 2, -1>\n",
    "```\n",
    "Each line represents one point. Positions are given as <X, Y> pairs: X represents how far left (negative) or right (positive) the point appears, while Y represents how far up (negative) or down (positive) the point appears.\n",
    "\n",
    "At 0 seconds, each point has the position given. Each second, each point's velocity is added to its position. So, a point with velocity <1, -2> is moving to the right, but is moving upward twice as quickly. If this point's initial position were <3, 9>, after 3 seconds, its position would become <6, 3>.\n",
    "\n",
    "Over time, the points listed above would move like this:\n",
    "\n",
    "Initially:\n",
    "```\n",
    "........#.............\n",
    "................#.....\n",
    ".........#.#..#.......\n",
    "......................\n",
    "#..........#.#.......#\n",
    "...............#......\n",
    "....#.................\n",
    "..#.#....#............\n",
    ".......#..............\n",
    "......#...............\n",
    "...#...#.#...#........\n",
    "....#..#..#.........#.\n",
    ".......#..............\n",
    "...........#..#.......\n",
    "#...........#.........\n",
    "...#.......#..........\n",
    "```\n",
    "After 1 second:\n",
    "```\n",
    "......................\n",
    "......................\n",
    "..........#....#......\n",
    "........#.....#.......\n",
    "..#.........#......#..\n",
    "......................\n",
    "......#...............\n",
    "....##.........#......\n",
    "......#.#.............\n",
    ".....##.##..#.........\n",
    "........#.#...........\n",
    "........#...#.....#...\n",
    "..#...........#.......\n",
    "....#.....#.#.........\n",
    "......................\n",
    "......................\n",
    "```\n",
    "After 2 seconds:\n",
    "```\n",
    "......................\n",
    "......................\n",
    "......................\n",
    "..............#.......\n",
    "....#..#...####..#....\n",
    "......................\n",
    "........#....#........\n",
    "......#.#.............\n",
    ".......#...#..........\n",
    ".......#..#..#.#......\n",
    "....#....#.#..........\n",
    ".....#...#...##.#.....\n",
    "........#.............\n",
    "......................\n",
    "......................\n",
    "......................\n",
    "```\n",
    "After 3 seconds:\n",
    "```\n",
    "......................\n",
    "......................\n",
    "......................\n",
    "......................\n",
    "......#...#..###......\n",
    "......#...#...#.......\n",
    "......#...#...#.......\n",
    "......#####...#.......\n",
    "......#...#...#.......\n",
    "......#...#...#.......\n",
    "......#...#...#.......\n",
    "......#...#..###......\n",
    "......................\n",
    "......................\n",
    "......................\n",
    "......................\n",
    "```\n",
    "After 4 seconds:\n",
    "```\n",
    "......................\n",
    "......................\n",
    "......................\n",
    "............#.........\n",
    "........##...#.#......\n",
    "......#.....#..#......\n",
    ".....#..##.##.#.......\n",
    ".......##.#....#......\n",
    "...........#....#.....\n",
    "..............#.......\n",
    "....#......#...#......\n",
    ".....#.....##.........\n",
    "...............#......\n",
    "...............#......\n",
    "......................\n",
    "......................\n",
    "```\n",
    "After 3 seconds, the message appeared briefly: HI. Of course, your message will be much longer and will take many more seconds to appear.\n",
    "\n",
    "What message will eventually appear in the sky?\n"
   ]
  },
  {
   "cell_type": "code",
   "execution_count": 2,
   "metadata": {},
   "outputs": [],
   "source": [
    "test_points_raw = '''position=< 9,  1> velocity=< 0,  2>\n",
    "position=< 7,  0> velocity=<-1,  0>\n",
    "position=< 3, -2> velocity=<-1,  1>\n",
    "position=< 6, 10> velocity=<-2, -1>\n",
    "position=< 2, -4> velocity=< 2,  2>\n",
    "position=<-6, 10> velocity=< 2, -2>\n",
    "position=< 1,  8> velocity=< 1, -1>\n",
    "position=< 1,  7> velocity=< 1,  0>\n",
    "position=<-3, 11> velocity=< 1, -2>\n",
    "position=< 7,  6> velocity=<-1, -1>\n",
    "position=<-2,  3> velocity=< 1,  0>\n",
    "position=<-4,  3> velocity=< 2,  0>\n",
    "position=<10, -3> velocity=<-1,  1>\n",
    "position=< 5, 11> velocity=< 1, -2>\n",
    "position=< 4,  7> velocity=< 0, -1>\n",
    "position=< 8, -2> velocity=< 0,  1>\n",
    "position=<15,  0> velocity=<-2,  0>\n",
    "position=< 1,  6> velocity=< 1,  0>\n",
    "position=< 8,  9> velocity=< 0, -1>\n",
    "position=< 3,  3> velocity=<-1,  1>\n",
    "position=< 0,  5> velocity=< 0, -1>\n",
    "position=<-2,  2> velocity=< 2,  0>\n",
    "position=< 5, -2> velocity=< 1,  2>\n",
    "position=< 1,  4> velocity=< 2,  1>\n",
    "position=<-2,  7> velocity=< 2, -2>\n",
    "position=< 3,  6> velocity=<-1, -1>\n",
    "position=< 5,  0> velocity=< 1,  0>\n",
    "position=<-6,  0> velocity=< 2,  0>\n",
    "position=< 5,  9> velocity=< 1, -2>\n",
    "position=<14,  7> velocity=<-2,  0>\n",
    "position=<-3,  6> velocity=< 2, -1>\n",
    "'''\n",
    "\n",
    "test_points = list(map(lambda x: list(map(int, re.findall(r'-?\\d+', x))), test_points_raw.splitlines()))\n",
    "points = list(map(lambda x: list(map(int, re.findall(r'-?\\d+', x))), open('input.txt').read().splitlines()))"
   ]
  },
  {
   "cell_type": "code",
   "execution_count": 3,
   "metadata": {},
   "outputs": [
    {
     "data": {
      "text/plain": [
       "[[9, 1, 0, 2],\n",
       " [7, 0, -1, 0],\n",
       " [3, -2, -1, 1],\n",
       " [6, 10, -2, -1],\n",
       " [2, -4, 2, 2],\n",
       " [-6, 10, 2, -2],\n",
       " [1, 8, 1, -1],\n",
       " [1, 7, 1, 0],\n",
       " [-3, 11, 1, -2],\n",
       " [7, 6, -1, -1],\n",
       " [-2, 3, 1, 0],\n",
       " [-4, 3, 2, 0],\n",
       " [10, -3, -1, 1],\n",
       " [5, 11, 1, -2],\n",
       " [4, 7, 0, -1],\n",
       " [8, -2, 0, 1],\n",
       " [15, 0, -2, 0],\n",
       " [1, 6, 1, 0],\n",
       " [8, 9, 0, -1],\n",
       " [3, 3, -1, 1],\n",
       " [0, 5, 0, -1],\n",
       " [-2, 2, 2, 0],\n",
       " [5, -2, 1, 2],\n",
       " [1, 4, 2, 1],\n",
       " [-2, 7, 2, -2],\n",
       " [3, 6, -1, -1],\n",
       " [5, 0, 1, 0],\n",
       " [-6, 0, 2, 0],\n",
       " [5, 9, 1, -2],\n",
       " [14, 7, -2, 0],\n",
       " [-3, 6, 2, -1]]"
      ]
     },
     "execution_count": 3,
     "metadata": {},
     "output_type": "execute_result"
    }
   ],
   "source": [
    "test_points"
   ]
  },
  {
   "cell_type": "code",
   "execution_count": 4,
   "metadata": {},
   "outputs": [],
   "source": [
    "class TestIt(unittest.TestCase):\n",
    "    \n",
    "    def setUp(self):\n",
    "        self.lightArray = LightArray(test_points)\n",
    "        \n",
    "    def test_1(self):\n",
    "        self.assertEqual(self.lightArray.msgTime(), 3)"
   ]
  },
  {
   "cell_type": "code",
   "execution_count": 5,
   "metadata": {},
   "outputs": [],
   "source": [
    "class LightArray(object):\n",
    "    \n",
    "    def __init__(self, points):\n",
    "        self.x0, self.y0, self.vx, self.vy = zip(*points)\n",
    "        self.x = self.x0[:]\n",
    "        self.y = self.y0[:]\n",
    "        self.t = 0\n",
    "        \n",
    "    def bbX(self):\n",
    "        return max(self.x) - min(self.x)\n",
    "    \n",
    "    def bbY(self):\n",
    "        return max(self.y) - min(self.y)\n",
    "    \n",
    "    def bbDiag(self):\n",
    "        return sqrt(self.bbX()**2 + self.bbY()**2)\n",
    "    \n",
    "    def evolve(self, t):\n",
    "        self.x = [x0 + t * vx for x0, vx in zip(self.x0, self.vx)]\n",
    "        self.y = [y0 + t * vy for y0, vy in zip(self.y0, self.vy)]\n",
    "        self.t = t\n",
    "        return self\n",
    "        \n",
    "    def msgTime(self):\n",
    "        bblast = self.evolve(0).bbDiag()\n",
    "        t = 1\n",
    "        while True:\n",
    "            bb = self.evolve(t).bbDiag()\n",
    "            if bb > bblast:\n",
    "                self.evolve(t - 1)\n",
    "                return self.t\n",
    "            bblast = bb\n",
    "            t += 1\n",
    "        return 0\n",
    "    \n",
    "    def msg(self):\n",
    "        _ = self.msgTime()\n",
    "        return self\n",
    "    \n",
    "    def __str__(self):\n",
    "        xmin = min(self.x)\n",
    "        ymin = min(self.y)\n",
    "        w = self.bbX() + 1\n",
    "        h = self.bbY() + 1\n",
    "        \n",
    "        row = ['.'] * w\n",
    "        array = list()\n",
    "        for i in range(h):\n",
    "            array.append(row[:])\n",
    "        \n",
    "        for x, y in zip(self.x, self.y):\n",
    "            array[y - ymin][x - xmin] = '#'\n",
    "        \n",
    "        return '\\n'.join(''.join(r) for r in array)\n",
    "    \n",
    "    __repr__ = __str__"
   ]
  },
  {
   "cell_type": "code",
   "execution_count": 6,
   "metadata": {},
   "outputs": [
    {
     "name": "stderr",
     "output_type": "stream",
     "text": [
      "test_1 (__main__.TestIt) ... ok\n",
      "\n",
      "----------------------------------------------------------------------\n",
      "Ran 1 test in 0.015s\n",
      "\n",
      "OK\n"
     ]
    },
    {
     "data": {
      "text/plain": [
       "<unittest.runner.TextTestResult run=1 errors=0 failures=0>"
      ]
     },
     "execution_count": 6,
     "metadata": {},
     "output_type": "execute_result"
    }
   ],
   "source": [
    "suite = unittest.TestLoader().loadTestsFromTestCase(TestIt)\n",
    "unittest.TextTestRunner(verbosity=2).run(suite)"
   ]
  },
  {
   "cell_type": "code",
   "execution_count": 7,
   "metadata": {},
   "outputs": [],
   "source": [
    "la = LightArray(test_points)"
   ]
  },
  {
   "cell_type": "code",
   "execution_count": 8,
   "metadata": {},
   "outputs": [
    {
     "data": {
      "text/plain": [
       "#...#..###\n",
       "#...#...#.\n",
       "#...#...#.\n",
       "#####...#.\n",
       "#...#...#.\n",
       "#...#...#.\n",
       "#...#...#.\n",
       "#...#..###"
      ]
     },
     "execution_count": 8,
     "metadata": {},
     "output_type": "execute_result"
    }
   ],
   "source": [
    "la.msg()"
   ]
  },
  {
   "cell_type": "code",
   "execution_count": 9,
   "metadata": {},
   "outputs": [],
   "source": [
    "part1 = LightArray(points)"
   ]
  },
  {
   "cell_type": "markdown",
   "metadata": {},
   "source": [
    "# Part 1"
   ]
  },
  {
   "cell_type": "code",
   "execution_count": 10,
   "metadata": {},
   "outputs": [
    {
     "data": {
      "text/plain": [
       "######....##....######..######..#####...#.......######...####.\n",
       ".....#...#..#...#............#..#....#..#............#..#....#\n",
       ".....#..#....#..#............#..#....#..#............#..#.....\n",
       "....#...#....#..#...........#...#....#..#...........#...#.....\n",
       "...#....#....#..#####......#....#####...#..........#....#.....\n",
       "..#.....######..#.........#.....#..#....#.........#.....#..###\n",
       ".#......#....#..#........#......#...#...#........#......#....#\n",
       "#.......#....#..#.......#.......#...#...#.......#.......#....#\n",
       "#.......#....#..#.......#.......#....#..#.......#.......#...##\n",
       "######..#....#..######..######..#....#..######..######...###.#"
      ]
     },
     "execution_count": 10,
     "metadata": {},
     "output_type": "execute_result"
    }
   ],
   "source": [
    "part1.msg()"
   ]
  },
  {
   "cell_type": "markdown",
   "metadata": {},
   "source": [
    "# Part 2"
   ]
  },
  {
   "cell_type": "code",
   "execution_count": 11,
   "metadata": {},
   "outputs": [
    {
     "data": {
      "text/plain": [
       "10105"
      ]
     },
     "execution_count": 11,
     "metadata": {},
     "output_type": "execute_result"
    }
   ],
   "source": [
    "part1.t"
   ]
  },
  {
   "cell_type": "markdown",
   "metadata": {},
   "source": [
    "# Visualisation"
   ]
  },
  {
   "cell_type": "code",
   "execution_count": 12,
   "metadata": {},
   "outputs": [],
   "source": [
    "import matplotlib.pyplot as plt\n",
    "%matplotlib inline"
   ]
  },
  {
   "cell_type": "code",
   "execution_count": 13,
   "metadata": {},
   "outputs": [
    {
     "data": {
      "text/plain": [
       "<matplotlib.collections.PathCollection at 0x27468e42f98>"
      ]
     },
     "execution_count": 13,
     "metadata": {},
     "output_type": "execute_result"
    },
    {
     "data": {
      "image/png": "[encoded data removed]",
      "text/plain": [
       "<Figure size 432x288 with 1 Axes>"
      ]
     },
     "metadata": {},
     "output_type": "display_data"
    }
   ],
   "source": [
    "plt.scatter(part1.x, [-y for y in part1.y])"
   ]
  },
  {
   "cell_type": "code",
   "execution_count": 14,
   "metadata": {},
   "outputs": [],
   "source": [
    "import numpy as np"
   ]
  },
  {
   "cell_type": "code",
   "execution_count": 15,
   "metadata": {},
   "outputs": [],
   "source": [
    "p1 = part1.evolve(0)"
   ]
  },
  {
   "cell_type": "code",
   "execution_count": 16,
   "metadata": {},
   "outputs": [
    {
     "data": {
      "text/plain": [
       "101109"
      ]
     },
     "execution_count": 16,
     "metadata": {},
     "output_type": "execute_result"
    }
   ],
   "source": [
    "p1.bbX()"
   ]
  },
  {
   "cell_type": "code",
   "execution_count": 17,
   "metadata": {},
   "outputs": [
    {
     "data": {
      "text/plain": [
       "101059"
      ]
     },
     "execution_count": 17,
     "metadata": {},
     "output_type": "execute_result"
    }
   ],
   "source": [
    "p1.bbY()"
   ]
  },
  {
   "cell_type": "code",
   "execution_count": 18,
   "metadata": {},
   "outputs": [],
   "source": [
    "size = 800\n",
    "\n",
    "t = 0\n",
    "part1.evolve(t)\n",
    "while part1.bbX() > size or part1.bbY() > size:\n",
    "    t += 1\n",
    "    part1.evolve(t)\n",
    "tmin = t\n",
    "xmin = min(part1.x)\n",
    "ymin = min(part1.y)\n",
    "while max(part1.x) - xmin <= size and max(part1.y) - ymin <= size:\n",
    "    t += 1\n",
    "    part1.evolve(t)\n",
    "tmax = t"
   ]
  },
  {
   "cell_type": "code",
   "execution_count": 19,
   "metadata": {},
   "outputs": [
    {
     "data": {
      "text/plain": [
       "(10031, 10180, -235, -245)"
      ]
     },
     "execution_count": 19,
     "metadata": {},
     "output_type": "execute_result"
    }
   ],
   "source": [
    "tmin, tmax, xmin, ymin"
   ]
  },
  {
   "cell_type": "code",
   "execution_count": 24,
   "metadata": {},
   "outputs": [],
   "source": [
    "for t in range(tmin, tmax + 1):\n",
    "    part1.evolve(t)\n",
    "    im = np.zeros((size + 10, size + 10))\n",
    "    for x, y in zip(part1.x, part1.y):\n",
    "        im[800 - y + ymin][x - xmin] = 1.\n",
    "    image = plt.imsave(f'frames/frame{t - tmin:03d}.png', im)\n"
   ]
  },
  {
   "cell_type": "code",
   "execution_count": null,
   "metadata": {},
   "outputs": [],
   "source": []
  },
  {
   "cell_type": "code",
   "execution_count": null,
   "metadata": {},
   "outputs": [],
   "source": []
  }
 ],
 "metadata": {
  "kernelspec": {
   "display_name": "Python 3",
   "language": "python",
   "name": "python3"
  },
  "language_info": {
   "codemirror_mode": {
    "name": "ipython",
    "version": 3
   },
   "file_extension": ".py",
   "mimetype": "text/x-python",
   "name": "python",
   "nbconvert_exporter": "python",
   "pygments_lexer": "ipython3",
   "version": "3.6.5"
  }
 },
 "nbformat": 4,
 "nbformat_minor": 2
}
