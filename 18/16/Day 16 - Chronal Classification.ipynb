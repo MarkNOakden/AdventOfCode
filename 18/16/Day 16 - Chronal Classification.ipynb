{
 "cells": [
  {
   "cell_type": "markdown",
   "metadata": {},
   "source": [
    "# --- Day 16: Chronal Classification ---\n",
    "\n",
    "As you see the Elves defend their hot chocolate successfully, you go back to falling through time. This is going to become a problem.\n",
    "\n",
    "If you're ever going to return to your own time, you need to understand how this device on your wrist works. You have a little while before you reach your next destination, and with a bit of trial and error, you manage to pull up a programming manual on the device's tiny screen.\n",
    "\n",
    "According to the manual, the device has four registers (numbered 0 through 3) that can be manipulated by instructions containing one of 16 opcodes. The registers start with the value 0.\n",
    "\n",
    "Every instruction consists of four values: an opcode, two inputs (named A and B), and an output (named C), in that order. The opcode specifies the behavior of the instruction and how the inputs are interpreted. The output, C, is always treated as a register.\n",
    "\n",
    "In the opcode descriptions below, if something says \"value A\", it means to take the number given as A literally. (This is also called an \"immediate\" value.) If something says \"register A\", it means to use the number given as A to read from (or write to) the register with that number. So, if the opcode addi adds register A and value B, storing the result in register C, and the instruction addi 0 7 3 is encountered, it would add 7 to the value contained by register 0 and store the sum in register 3, never modifying registers 0, 1, or 2 in the process.\n",
    "\n",
    "Many opcodes are similar except for how they interpret their arguments. The opcodes fall into seven general categories:\n",
    "\n",
    "Addition:\n",
    "\n",
    "    addr (add register) stores into register C the result of adding register A and register B.\n",
    "    addi (add immediate) stores into register C the result of adding register A and value B.\n",
    "\n",
    "Multiplication:\n",
    "\n",
    "    mulr (multiply register) stores into register C the result of multiplying register A and register B.\n",
    "    muli (multiply immediate) stores into register C the result of multiplying register A and value B.\n",
    "\n",
    "Bitwise AND:\n",
    "\n",
    "    banr (bitwise AND register) stores into register C the result of the bitwise AND of register A and register B.\n",
    "    bani (bitwise AND immediate) stores into register C the result of the bitwise AND of register A and value B.\n",
    "\n",
    "Bitwise OR:\n",
    "\n",
    "    borr (bitwise OR register) stores into register C the result of the bitwise OR of register A and register B.\n",
    "    bori (bitwise OR immediate) stores into register C the result of the bitwise OR of register A and value B.\n",
    "\n",
    "Assignment:\n",
    "\n",
    "    setr (set register) copies the contents of register A into register C. (Input B is ignored.)\n",
    "    seti (set immediate) stores value A into register C. (Input B is ignored.)\n",
    "\n",
    "Greater-than testing:\n",
    "\n",
    "    gtir (greater-than immediate/register) sets register C to 1 if value A is greater than register B. Otherwise, register C is set to 0.\n",
    "    gtri (greater-than register/immediate) sets register C to 1 if register A is greater than value B. Otherwise, register C is set to 0.\n",
    "    gtrr (greater-than register/register) sets register C to 1 if register A is greater than register B. Otherwise, register C is set to 0.\n",
    "\n",
    "Equality testing:\n",
    "\n",
    "    eqir (equal immediate/register) sets register C to 1 if value A is equal to register B. Otherwise, register C is set to 0.\n",
    "    eqri (equal register/immediate) sets register C to 1 if register A is equal to value B. Otherwise, register C is set to 0.\n",
    "    eqrr (equal register/register) sets register C to 1 if register A is equal to register B. Otherwise, register C is set to 0.\n",
    "\n",
    "Unfortunately, while the manual gives the name of each opcode, it doesn't seem to indicate the number. However, you can monitor the CPU to see the contents of the registers before and after instructions are executed to try to work them out. Each opcode has a number from 0 through 15, but the manual doesn't say which is which. For example, suppose you capture the following sample:\n",
    "```\n",
    "Before: [3, 2, 1, 1]\n",
    "9 2 1 2\n",
    "After:  [3, 2, 2, 1]\n",
    "```\n",
    "This sample shows the effect of the instruction 9 2 1 2 on the registers. Before the instruction is executed, register 0 has value 3, register 1 has value 2, and registers 2 and 3 have value 1. After the instruction is executed, register 2's value becomes 2.\n",
    "\n",
    "The instruction itself, 9 2 1 2, means that opcode 9 was executed with A=2, B=1, and C=2. Opcode 9 could be any of the 16 opcodes listed above, but only three of them behave in a way that would cause the result shown in the sample:\n",
    "\n",
    "    Opcode 9 could be mulr: register 2 (which has a value of 1) times register 1 (which has a value of 2) produces 2, which matches the value stored in the output register, register 2.\n",
    "    Opcode 9 could be addi: register 2 (which has a value of 1) plus value 1 produces 2, which matches the value stored in the output register, register 2.\n",
    "    Opcode 9 could be seti: value 2 matches the value stored in the output register, register 2; the number given for B is irrelevant.\n",
    "\n",
    "None of the other opcodes produce the result captured in the sample. Because of this, the sample above behaves like three opcodes.\n",
    "\n",
    "You collect many of these samples (the first section of your puzzle input). The manual also includes a small test program (the second section of your puzzle input) - you can ignore it for now.\n",
    "\n",
    "**Ignoring the opcode numbers, how many samples in your puzzle input behave like three or more opcodes?**\n"
   ]
  },
  {
   "cell_type": "markdown",
   "metadata": {},
   "source": [
    "# Part 1\n",
    "\n",
    "**N.B. I completed day 19 before doing day 16, so I will use the code from that, extracted as the day19 library, to solve day16**"
   ]
  },
  {
   "cell_type": "code",
   "execution_count": 1,
   "metadata": {},
   "outputs": [],
   "source": [
    "from day19 import *\n",
    "from collections import Counter\n",
    "import re"
   ]
  },
  {
   "cell_type": "code",
   "execution_count": 2,
   "metadata": {},
   "outputs": [],
   "source": [
    "data = open('input.txt').read().splitlines()"
   ]
  },
  {
   "cell_type": "code",
   "execution_count": 3,
   "metadata": {},
   "outputs": [],
   "source": [
    "def parsedata(filedata):\n",
    "    triples = []\n",
    "    program = []\n",
    "    rest = filedata[:]\n",
    "    while len(rest):\n",
    "        first, *rest = rest\n",
    "        if first.startswith('Before:'):\n",
    "            second, third, _, *rest = rest # _ to skip the blank line after each sample block\n",
    "            first = list(map(int, re.findall(r'(-?\\d+)', first)))\n",
    "            second = list(map(int, re.findall(r'(-?\\d+)', second)))\n",
    "            third = list(map(int, re.findall(r'(-?\\d+)', third)))\n",
    "            triples.append([first, second, third])\n",
    "        else:\n",
    "            line = list(map(int, re.findall(r'(-?\\d+)', first)))\n",
    "            if len(line):\n",
    "                program.append(line)\n",
    "    return triples, program\n",
    "        "
   ]
  },
  {
   "cell_type": "code",
   "execution_count": 4,
   "metadata": {},
   "outputs": [],
   "source": [
    "triples, program = parsedata(data)"
   ]
  },
  {
   "cell_type": "code",
   "execution_count": 5,
   "metadata": {},
   "outputs": [],
   "source": [
    "vm = VM(prog=['nop'], nregisters=4)\n",
    "c = Counter()\n",
    "matchedlist = []\n",
    "for line in triples:\n",
    "    before, prog, after = line\n",
    "    opcode, A, B, C = prog\n",
    "    matchcount = 0\n",
    "    matches = []\n",
    "    for instr in INSTRS:\n",
    "        vm.ip = 0\n",
    "        vm._set_registers(before)\n",
    "        vm.prog = [f'{instr} {A} {B} {C}']\n",
    "        vm.step()\n",
    "        if vm.registers == after:\n",
    "            matchcount += 1\n",
    "            matches.append(instr)\n",
    "    matchedlist.append([opcode, matchcount, matches])"
   ]
  },
  {
   "cell_type": "code",
   "execution_count": 6,
   "metadata": {},
   "outputs": [
    {
     "name": "stdout",
     "output_type": "stream",
     "text": [
      "Part 1 answer: there are 580 samples that match 3 or more opcodes\n"
     ]
    }
   ],
   "source": [
    "print(f'Part 1 answer: there are {len([i for i in matchedlist if i[1] >= 3])} samples that match 3 or more opcodes')"
   ]
  },
  {
   "cell_type": "markdown",
   "metadata": {},
   "source": [
    "# Part 2\n",
    "Hypothesis: There will be at least one opcode with only one possibility.  We can start with that/those and eliminate those instructions from the remaining possible lists.  Iterating this process will give us the pammings."
   ]
  },
  {
   "cell_type": "code",
   "execution_count": 7,
   "metadata": {},
   "outputs": [
    {
     "data": {
      "text/plain": [
       "[[11, 1, ['eqri']],\n",
       " [11, 1, ['eqri']],\n",
       " [11, 1, ['eqri']],\n",
       " [11, 1, ['eqri']],\n",
       " [11, 1, ['eqri']]]"
      ]
     },
     "execution_count": 7,
     "metadata": {},
     "output_type": "execute_result"
    }
   ],
   "source": [
    "[i for i in matchedlist if i[1] == 1][:5]"
   ]
  },
  {
   "cell_type": "code",
   "execution_count": 8,
   "metadata": {},
   "outputs": [],
   "source": [
    "def eliminate(datalist, instr):\n",
    "    newl = []\n",
    "    for l in datalist:\n",
    "        opcode, count, instrlist = l\n",
    "        if instr in instrlist:\n",
    "            instrlist.remove(instr)\n",
    "            count = count - 1\n",
    "            if count == 0:\n",
    "                continue\n",
    "        newl.append([opcode, count, instrlist])\n",
    "    return newl"
   ]
  },
  {
   "cell_type": "code",
   "execution_count": 9,
   "metadata": {},
   "outputs": [
    {
     "name": "stdout",
     "output_type": "stream",
     "text": [
      "The set of all lengths is now: {1, 2, 3, 4, 5, 6, 7, 8, 9, 13} from 725 entries\n",
      "The set of all lengths is now: {1, 2, 3, 4, 5, 6, 7, 8, 12} from 679 entries\n",
      "The set of all lengths is now: {1, 2, 3, 4, 5, 6, 7, 11} from 629 entries\n",
      "The set of all lengths is now: {1, 2, 3, 4, 5, 6, 7, 11} from 578 entries\n",
      "The set of all lengths is now: {1, 2, 3, 4, 6, 7, 11} from 528 entries\n",
      "The set of all lengths is now: {1, 2, 3, 4, 5, 6, 10} from 479 entries\n",
      "The set of all lengths is now: {1, 2, 3, 4, 5, 9} from 430 entries\n",
      "The set of all lengths is now: {1, 2, 4, 5, 8} from 376 entries\n",
      "The set of all lengths is now: {1, 3, 4, 5, 7} from 328 entries\n",
      "The set of all lengths is now: {1, 2, 4, 6} from 283 entries\n",
      "The set of all lengths is now: {1, 2, 3, 5} from 232 entries\n",
      "The set of all lengths is now: {1, 2, 4} from 187 entries\n",
      "The set of all lengths is now: {1, 3} from 145 entries\n",
      "The set of all lengths is now: {1, 2} from 97 entries\n",
      "The set of all lengths is now: {1} from 44 entries\n",
      "The set of all lengths is now: set() from 0 entries\n"
     ]
    }
   ],
   "source": [
    "mappings = {}\n",
    "while len(matchedlist):\n",
    "    el = [i for i in matchedlist if i[1] == 1][0] # lets assume there's one at each stage\n",
    "    opcode, c, instrl = el\n",
    "    mappings[opcode] = instrl[0]\n",
    "    matchedlist = eliminate(matchedlist, instrl[0])\n",
    "    print(f'The set of all lengths is now: {set(x[1] for x in matchedlist)} from {len(matchedlist)} entries')"
   ]
  },
  {
   "cell_type": "code",
   "execution_count": 10,
   "metadata": {},
   "outputs": [],
   "source": [
    "newprogram = []\n",
    "for line in program:\n",
    "    opcode, A, B, C = line\n",
    "    newprogram.append(f'{mappings[opcode]} {A} {B} {C}')"
   ]
  },
  {
   "cell_type": "code",
   "execution_count": 11,
   "metadata": {},
   "outputs": [],
   "source": [
    "vm = VM(prog=newprogram, nregisters=4)"
   ]
  },
  {
   "cell_type": "code",
   "execution_count": 12,
   "metadata": {},
   "outputs": [
    {
     "name": "stdout",
     "output_type": "stream",
     "text": [
      "Finished execution of program at address 919 after 919 steps. Registers are [537, 2, 3, 2].\n",
      "Part two answer: at the end of the program, register 0 contains 537\n"
     ]
    }
   ],
   "source": [
    "print(f'Part two answer: at the end of the program, register 0 contains {vm.run()}')"
   ]
  },
  {
   "cell_type": "code",
   "execution_count": null,
   "metadata": {},
   "outputs": [],
   "source": []
  }
 ],
 "metadata": {
  "kernelspec": {
   "display_name": "Python 3",
   "language": "python",
   "name": "python3"
  },
  "language_info": {
   "codemirror_mode": {
    "name": "ipython",
    "version": 3
   },
   "file_extension": ".py",
   "mimetype": "text/x-python",
   "name": "python",
   "nbconvert_exporter": "python",
   "pygments_lexer": "ipython3",
   "version": "3.6.5"
  }
 },
 "nbformat": 4,
 "nbformat_minor": 2
}
