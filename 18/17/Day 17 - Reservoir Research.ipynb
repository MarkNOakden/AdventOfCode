{
 "cells": [
  {
   "cell_type": "markdown",
   "metadata": {},
   "source": [
    "--- Day 17: Reservoir Research ---\n",
    "\n",
    "You arrive in the year 18. If it weren't for the coat you got in 1018, you would be very cold: the North Pole base hasn't even been constructed.\n",
    "\n",
    "Rather, it hasn't been constructed yet. The Elves are making a little progress, but there's not a lot of liquid water in this climate, so they're getting very dehydrated. Maybe there's more underground?\n",
    "\n",
    "You scan a two-dimensional vertical slice of the ground nearby and discover that it is mostly sand with veins of clay. The scan only provides data with a granularity of square meters, but it should be good enough to determine how much water is trapped there. In the scan, x represents the distance to the right, and y represents the distance down. There is also a spring of water near the surface at x=500, y=0. The scan identifies which square meters are clay (your puzzle input).\n",
    "\n",
    "For example, suppose your scan shows the following veins of clay:\n",
    "```\n",
    "x=495, y=2..7\n",
    "y=7, x=495..501\n",
    "x=501, y=3..7\n",
    "x=498, y=2..4\n",
    "x=506, y=1..2\n",
    "x=498, y=10..13\n",
    "x=504, y=10..13\n",
    "y=13, x=498..504\n",
    "```\n",
    "Rendering clay as `#`, sand as `.`, and the water spring as `+`, and with `x` increasing to the right and `y` increasing downward, this becomes:\n",
    "```\n",
    "   44444455555555\n",
    "   99999900000000\n",
    "   45678901234567\n",
    " 0 ......+.......\n",
    " 1 ............#.\n",
    " 2 .#..#.......#.\n",
    " 3 .#..#..#......\n",
    " 4 .#..#..#......\n",
    " 5 .#.....#......\n",
    " 6 .#.....#......\n",
    " 7 .#######......\n",
    " 8 ..............\n",
    " 9 ..............\n",
    "10 ....#.....#...\n",
    "11 ....#.....#...\n",
    "12 ....#.....#...\n",
    "13 ....#######...\n",
    "```\n",
    "The spring of water will produce water forever. Water can move through sand, but is blocked by clay. Water always moves down when possible, and spreads to the left and right otherwise, filling space that has clay on both sides and falling out otherwise.\n",
    "\n",
    "For example, if five squares of water are created, they will flow downward until they reach the clay and settle there. Water that has come to rest is shown here as `~`, while sand through which water has passed (but which is now dry again) is shown as `|`:\n",
    "```\n",
    "......+.......\n",
    "......|.....#.\n",
    ".#..#.|.....#.\n",
    ".#..#.|#......\n",
    ".#..#.|#......\n",
    ".#....|#......\n",
    ".#~~~~~#......\n",
    ".#######......\n",
    "..............\n",
    "..............\n",
    "....#.....#...\n",
    "....#.....#...\n",
    "....#.....#...\n",
    "....#######...\n",
    "```\n",
    "Two squares of water can't occupy the same location. If another five squares of water are created, they will settle on the first five, filling the clay reservoir a little more:\n",
    "```\n",
    "......+.......\n",
    "......|.....#.\n",
    ".#..#.|.....#.\n",
    ".#..#.|#......\n",
    ".#..#.|#......\n",
    ".#~~~~~#......\n",
    ".#~~~~~#......\n",
    ".#######......\n",
    "..............\n",
    "..............\n",
    "....#.....#...\n",
    "....#.....#...\n",
    "....#.....#...\n",
    "....#######...\n",
    "```\n",
    "Water pressure does not apply in this scenario. If another four squares of water are created, they will stay on the right side of the barrier, and no water will reach the left side:\n",
    "```\n",
    "......+.......\n",
    "......|.....#.\n",
    ".#..#.|.....#.\n",
    ".#..#~~#......\n",
    ".#..#~~#......\n",
    ".#~~~~~#......\n",
    ".#~~~~~#......\n",
    ".#######......\n",
    "..............\n",
    "..............\n",
    "....#.....#...\n",
    "....#.....#...\n",
    "....#.....#...\n",
    "....#######...\n",
    "```\n",
    "At this point, the top reservoir overflows. While water can reach the tiles above the surface of the water, it cannot settle there, and so the next five squares of water settle like this:\n",
    "```\n",
    "......+.......\n",
    "......|.....#.\n",
    ".#..#||||...#.\n",
    ".#..#~~#|.....\n",
    ".#..#~~#|.....\n",
    ".#~~~~~#|.....\n",
    ".#~~~~~#|.....\n",
    ".#######|.....\n",
    "........|.....\n",
    "........|.....\n",
    "....#...|.#...\n",
    "....#...|.#...\n",
    "....#~~~~~#...\n",
    "....#######...\n",
    "```\n",
    "Note especially the leftmost |: the new squares of water can reach this tile, but cannot stop there. Instead, eventually, they all fall to the right and settle in the reservoir below.\n",
    "\n",
    "After 10 more squares of water, the bottom reservoir is also full:\n",
    "```\n",
    "......+.......\n",
    "......|.....#.\n",
    ".#..#||||...#.\n",
    ".#..#~~#|.....\n",
    ".#..#~~#|.....\n",
    ".#~~~~~#|.....\n",
    ".#~~~~~#|.....\n",
    ".#######|.....\n",
    "........|.....\n",
    "........|.....\n",
    "....#~~~~~#...\n",
    "....#~~~~~#...\n",
    "....#~~~~~#...\n",
    "....#######...\n",
    "```\n",
    "Finally, while there is nowhere left for the water to settle, it can reach a few more tiles before overflowing beyond the bottom of the scanned data:\n",
    "```\n",
    "......+.......    (line not counted: above minimum y value)\n",
    "......|.....#.\n",
    ".#..#||||...#.\n",
    ".#..#~~#|.....\n",
    ".#..#~~#|.....\n",
    ".#~~~~~#|.....\n",
    ".#~~~~~#|.....\n",
    ".#######|.....\n",
    "........|.....\n",
    "...|||||||||..\n",
    "...|#~~~~~#|..\n",
    "...|#~~~~~#|..\n",
    "...|#~~~~~#|..\n",
    "...|#######|..\n",
    "...|.......|..    (line not counted: below maximum y value)\n",
    "...|.......|..    (line not counted: below maximum y value)\n",
    "...|.......|..    (line not counted: below maximum y value)\n",
    "```\n",
    "How many tiles can be reached by the water? To prevent counting forever, ignore tiles with a y coordinate smaller than the smallest y coordinate in your scan data or larger than the largest one. Any x coordinate is valid. In this example, the lowest y coordinate given is 1, and the highest is 13, causing the water spring (in row 0) and the water falling off the bottom of the render (in rows 14 through infinity) to be ignored.\n",
    "\n",
    "So, in the example above, counting both water at rest (~) and other sand tiles the water can hypothetically reach (|), the total number of tiles the water can reach is 57.\n",
    "\n",
    "How many tiles can the water reach within the range of y values in your scan?\n"
   ]
  },
  {
   "cell_type": "code",
   "execution_count": 1,
   "metadata": {},
   "outputs": [],
   "source": [
    "from collections import defaultdict, deque, Counter\n",
    "import re"
   ]
  },
  {
   "cell_type": "code",
   "execution_count": 2,
   "metadata": {},
   "outputs": [],
   "source": [
    "data = open('input.txt').read().splitlines()\n",
    "\n",
    "testdata = '''x=495, y=2..7\n",
    "y=7, x=495..501\n",
    "x=501, y=3..7\n",
    "x=498, y=2..4\n",
    "x=506, y=1..2\n",
    "x=498, y=10..13\n",
    "x=504, y=10..13\n",
    "y=13, x=498..504'''.splitlines()\n",
    "\n",
    "testdata2 = '''x=495, y=2..7\n",
    "y=7, x=495..501\n",
    "y=3, x=500..501\n",
    "x=501, y=4..7\n",
    "x=498, y=2..4\n",
    "x=506, y=1..2\n",
    "x=498, y=10..13\n",
    "x=504, y=10..13\n",
    "y=13, x=498..504'''.splitlines()\n"
   ]
  },
  {
   "cell_type": "code",
   "execution_count": 3,
   "metadata": {},
   "outputs": [],
   "source": [
    "UP = complex(0, -1)\n",
    "DOWN = complex(0, 1)\n",
    "LEFT = complex(-1, 0)\n",
    "RIGHT = complex(1, 0)\n",
    "\n",
    "class GroundScan(object):\n",
    "    \n",
    "    def __init__(self, data):\n",
    "        self.state = self._parse(data)\n",
    "        self.ymin = min(int(e.imag) for e in self.state.keys())\n",
    "        self.ymax = max(int(e.imag) for e in self.state.keys())\n",
    "        \n",
    "    def _parse(self, data):\n",
    "        clay = []\n",
    "        for line in data:\n",
    "            first, c1, cfrom, cto = re.search(r'^([xy])=([^,]+), [xy]=(-?[0-9]+)..(-?[0-9]+)$', line).groups()\n",
    "            c1, cfrom, cto = map(int, [c1, cfrom, cto])\n",
    "            y = range(cfrom, cto + 1)\n",
    "            x = [c1] * len(y)\n",
    "            if first == 'y':\n",
    "                x, y = y, x\n",
    "            clay += list(zip(x, y))\n",
    "        layout = defaultdict(lambda: '.')\n",
    "        for c in clay:\n",
    "            layout[complex(*c)] = '#'\n",
    "        return layout\n",
    "    \n",
    "    def addWater(self, source=complex(500, 0)):\n",
    "        start = source + DOWN\n",
    " \n",
    "        if self.state[start] != '.':\n",
    "            return\n",
    "        \n",
    "        self.state[start] = '|'\n",
    "\n",
    "        queue = deque()\n",
    "        \n",
    "        backstack = list()\n",
    "        backstack.append(start)\n",
    "        \n",
    "        leftblock = None\n",
    "        rightblock = None\n",
    "        \n",
    "        while len(backstack):\n",
    "            #print('\\n\\n')\n",
    "            poppedlast = False\n",
    "            if len(queue) == 0:\n",
    "                poppedlast = True\n",
    "                #print('popped up')\n",
    "                queue.append(backstack.pop())\n",
    "                leftblock = None\n",
    "                rightblock = None\n",
    "            pos = queue.popleft()\n",
    "            #print(queue)\n",
    "            #print(backstack)\n",
    "            ##print(f'1pos = {pos}')\n",
    "            #print(str(g))\n",
    "            if (pos + DOWN).imag <= self.ymax: # not off the bottom\n",
    "                if self.state[pos + DOWN] == '.':\n",
    "                    #print('added down')\n",
    "                    self.state[pos + DOWN] = '|'\n",
    "                    queue.append(pos + DOWN)\n",
    "                    backstack.append(pos)\n",
    "                    leftblock = None\n",
    "                    rightblock = None\n",
    "                    continue # don't try left or right until we find ourselves blocked below\n",
    "            else:\n",
    "                continue\n",
    "            ###print(f'2pos = {pos}')\n",
    "            if (self.state[pos + LEFT] == '.') and (self.state[pos + LEFT + DOWN] in '#~.') and (self.state[pos + DOWN] in '#|~'):\n",
    "                if (not poppedlast) or (self.state[pos + LEFT + DOWN] in '#~'):\n",
    "                    #print('added left')\n",
    "                    self.state[pos + LEFT] = '|'\n",
    "                    queue.append(pos + LEFT)\n",
    "            elif self.state[pos + LEFT] not in '|.':\n",
    "                if leftblock is None:\n",
    "                    #print(f'blocked left - @{pos + LEFT} is {self.state[pos + LEFT]}')\n",
    "                    #print(f'blocked left - @{pos + LEFT + DOWN} is {self.state[pos + LEFT + DOWN]}')\n",
    "                    leftblock = pos\n",
    "            #print(f'3pos = {pos}')\n",
    "            if (self.state[pos + RIGHT] == '.') and (self.state[pos + RIGHT + DOWN] in '#~.') and (self.state[pos + DOWN] in '#|~'):\n",
    "                if (not poppedlast) or (self.state[pos + RIGHT + DOWN] in '#~'):\n",
    "                    #print('added right')\n",
    "                    self.state[pos + RIGHT] = '|'\n",
    "                    queue.append(pos + RIGHT)\n",
    "            elif self.state[pos + RIGHT] not in '|.':\n",
    "                if rightblock is None:\n",
    "                    #print(f'blocked right - @{pos + RIGHT} is {self.state[pos + RIGHT]}')\n",
    "                    #print(f'blocked right - @{pos + RIGHT + DOWN} is {self.state[pos + RIGHT + DOWN]}')\n",
    "                    rightblock = pos\n",
    "            #print(leftblock, ' <> ', rightblock)\n",
    "            if (leftblock is not None) and (rightblock is not None):\n",
    "                #print('filled left to right')\n",
    "                for x in range(int(leftblock.real), int(rightblock.real) + 1):\n",
    "                    self.state[complex(x, int(leftblock.imag))] = '~'\n",
    "                leftblock = None\n",
    "                rightblock = None\n",
    "\n",
    "    def __str__(self):\n",
    "        notsand = self.state.keys()\n",
    "        xmin = min(int(e.real) for e in notsand)\n",
    "        xmax = max(int(e.real) for e in notsand)\n",
    "        ymin = min(int(e.imag) for e in notsand)\n",
    "        ymax = max(int(e.imag) for e in notsand)\n",
    "        out = []\n",
    "        out.append((' ' * (500 - xmin)) + '+' + (' ' * (xmax - 500)))\n",
    "        for y in range(ymin, ymax + 1):\n",
    "            s = ''\n",
    "            for x in range(xmin, xmax + 1):\n",
    "                s += self.state[x + y * 1j]\n",
    "            out.append(s)\n",
    "        return '\\n'.join(out)\n",
    "        \n",
    "    __repr__ = __str__\n",
    "        "
   ]
  },
  {
   "cell_type": "code",
   "execution_count": 4,
   "metadata": {},
   "outputs": [],
   "source": [
    "g = GroundScan(testdata)"
   ]
  },
  {
   "cell_type": "code",
   "execution_count": 5,
   "metadata": {},
   "outputs": [
    {
     "data": {
      "text/plain": [
       "     +      \n",
       "...........#\n",
       "#..#.......#\n",
       "#..#..#.....\n",
       "#..#..#.....\n",
       "#.....#.....\n",
       "#.....#.....\n",
       "#######.....\n",
       "............\n",
       "............\n",
       "...#.....#..\n",
       "...#.....#..\n",
       "...#.....#..\n",
       "...#######.."
      ]
     },
     "execution_count": 5,
     "metadata": {},
     "output_type": "execute_result"
    }
   ],
   "source": [
    "g"
   ]
  },
  {
   "cell_type": "code",
   "execution_count": 6,
   "metadata": {},
   "outputs": [
    {
     "data": {
      "text/plain": [
       "     +      \n",
       ".....|.....#\n",
       "#..#||||...#\n",
       "#..#~~#|....\n",
       "#..#~~#|....\n",
       "#~~~~~#|....\n",
       "#~~~~~#|....\n",
       "#######|....\n",
       ".......|....\n",
       "..|||||||||.\n",
       "..|#~~~~~#|.\n",
       "..|#~~~~~#|.\n",
       "..|#~~~~~#|.\n",
       "..|#######|."
      ]
     },
     "execution_count": 6,
     "metadata": {},
     "output_type": "execute_result"
    }
   ],
   "source": [
    "g.addWater()\n",
    "g"
   ]
  },
  {
   "cell_type": "code",
   "execution_count": 7,
   "metadata": {},
   "outputs": [
    {
     "data": {
      "text/plain": [
       "     +      \n",
       "...........#\n",
       "#..#.......#\n",
       "#..#.##.....\n",
       "#..#..#.....\n",
       "#.....#.....\n",
       "#.....#.....\n",
       "#######.....\n",
       "............\n",
       "............\n",
       "...#.....#..\n",
       "...#.....#..\n",
       "...#.....#..\n",
       "...#######.."
      ]
     },
     "execution_count": 7,
     "metadata": {},
     "output_type": "execute_result"
    }
   ],
   "source": [
    "g2 = GroundScan(testdata2)\n",
    "g2"
   ]
  },
  {
   "cell_type": "code",
   "execution_count": 8,
   "metadata": {},
   "outputs": [
    {
     "data": {
      "text/plain": [
       "     +      \n",
       ".....|.....#\n",
       "#..#||||...#\n",
       "#..#~##|....\n",
       "#..#|.#|....\n",
       "#...|.#|....\n",
       "#|||||#|....\n",
       "#######|....\n",
       ".......|....\n",
       "..|||||||||.\n",
       "..|#~~~~~#|.\n",
       "..|#~~~~~#|.\n",
       "..|#~~~~~#|.\n",
       "..|#######|."
      ]
     },
     "execution_count": 8,
     "metadata": {},
     "output_type": "execute_result"
    }
   ],
   "source": [
    "g2.addWater()\n",
    "g2"
   ]
  },
  {
   "cell_type": "markdown",
   "metadata": {},
   "source": [
    "Observations\n",
    "* Once there are two streams checking for bounded left/right fails ('|' vs '~' in the upper container)"
   ]
  },
  {
   "cell_type": "code",
   "execution_count": 9,
   "metadata": {},
   "outputs": [],
   "source": [
    "c = Counter(g.state.values())"
   ]
  },
  {
   "cell_type": "code",
   "execution_count": 10,
   "metadata": {},
   "outputs": [
    {
     "data": {
      "text/plain": [
       "57"
      ]
     },
     "execution_count": 10,
     "metadata": {},
     "output_type": "execute_result"
    }
   ],
   "source": [
    "c['|'] + c['~']"
   ]
  },
  {
   "cell_type": "code",
   "execution_count": 11,
   "metadata": {},
   "outputs": [],
   "source": [
    "p1 = GroundScan(data)"
   ]
  },
  {
   "cell_type": "code",
   "execution_count": 12,
   "metadata": {},
   "outputs": [],
   "source": [
    "p1.addWater()"
   ]
  },
  {
   "cell_type": "code",
   "execution_count": 13,
   "metadata": {},
   "outputs": [],
   "source": [
    "c = Counter(p1.state.values())"
   ]
  },
  {
   "cell_type": "code",
   "execution_count": 14,
   "metadata": {},
   "outputs": [
    {
     "data": {
      "text/plain": [
       "200"
      ]
     },
     "execution_count": 14,
     "metadata": {},
     "output_type": "execute_result"
    }
   ],
   "source": [
    "c['|'] + c['~']"
   ]
  },
  {
   "cell_type": "code",
   "execution_count": 15,
   "metadata": {},
   "outputs": [],
   "source": [
    "#p1"
   ]
  },
  {
   "cell_type": "code",
   "execution_count": 42,
   "metadata": {},
   "outputs": [],
   "source": [
    "class Water:\n",
    "    \n",
    "    def __init__(self, loc):\n",
    "        self.loc = loc\n",
    "        self.state = '|' # '|' flowing '~' standing\n",
    "        self.available = [RIGHT, LEFT, DOWN]\n",
    "        \n",
    "    @property\n",
    "    def nextdir(self):\n",
    "        return self.available.pop()\n",
    "\n",
    "    @property\n",
    "    def exhausted(self):\n",
    "        return len(self.available) == 0\n",
    "\n",
    "DIRS = [DOWN, LEFT, RIGHT]\n",
    "\n",
    "class GroundScan:\n",
    "    \n",
    "    def __init__(self, data):\n",
    "        self.state = self._parse(data)\n",
    "        self.ymin = min(int(e.imag) for e in self.state.keys())\n",
    "        self.ymax = max(int(e.imag) for e in self.state.keys())\n",
    "        \n",
    "    def _parse(self, data):\n",
    "        clay = []\n",
    "        for line in data:\n",
    "            first, c1, cfrom, cto = re.search(r'^([xy])=([^,]+), [xy]=(-?[0-9]+)..(-?[0-9]+)$', line).groups()\n",
    "            c1, cfrom, cto = map(int, [c1, cfrom, cto])\n",
    "            y = range(cfrom, cto + 1)\n",
    "            x = [c1] * len(y)\n",
    "            if first == 'y':\n",
    "                x, y = y, x\n",
    "            clay += list(zip(x, y))\n",
    "        layout = defaultdict(lambda: '.')\n",
    "        for c in clay:\n",
    "            layout[complex(*c)] = '#'\n",
    "        return layout\n",
    "    \n",
    "    def addWater(self, source=complex(500, 0)):\n",
    "        stack = []\n",
    "        stack.append((source, False, False))\n",
    "        \n",
    "        while stack:\n",
    "            print(stack)\n",
    "            current, blocked_left, blocked_right = stack.pop()\n",
    "            #blocked_left = blocked_right = False\n",
    "            # always try to move down\n",
    "            if (current + DOWN).imag > self.ymax:\n",
    "                # out of bounds\n",
    "                continue\n",
    "            if self.state[current + DOWN] == '.':\n",
    "                stack.append((current + DOWN, False, False))\n",
    "                self.state[current + DOWN] = '|'\n",
    "            elif self.state[current + DOWN] in '#~':\n",
    "                # blocked below so try left\n",
    "                if not blocked_left:\n",
    "                    if self.state[current + LEFT] == '.':\n",
    "                        stack.append((current + LEFT, blocked_left, blocked_right))\n",
    "                        self.state[current + LEFT] = '|'\n",
    "                    elif self.state[current + LEFT] == '#':\n",
    "                        blocked_left = True\n",
    "                elif not blocked_right:\n",
    "                    if self.state[current + RIGHT] == '.':\n",
    "                        stack.append((current + RIGHT, blocked_left, blocked_right))\n",
    "                        self.state[current + RIGHT] = '|'\n",
    "                    elif self.state[current + RIGHT] == '#':\n",
    "                        blocked_right = True\n",
    "                elif blocked_left and blocked_right:\n",
    "                    self.state[current] = '~'\n",
    "\n",
    "    def __str__(self):\n",
    "        notsand = self.state.keys()\n",
    "        xmin = min(int(e.real) for e in notsand)\n",
    "        xmax = max(int(e.real) for e in notsand)\n",
    "        #ymin = min(int(e.imag) for e in notsand)\n",
    "        #ymax = max(int(e.imag) for e in notsand)\n",
    "        out = []\n",
    "        out.append((' ' * (500 - xmin)) + '+' + (' ' * (xmax - 500)))\n",
    "        for y in range(self.ymin, self.ymax + 1):\n",
    "            s = ''\n",
    "            for x in range(xmin, xmax + 1):\n",
    "                s += self.state[x + y * 1j]\n",
    "            out.append(s)\n",
    "        return '\\n'.join(out)\n",
    "        \n",
    "    __repr__ = __str__"
   ]
  },
  {
   "cell_type": "code",
   "execution_count": 43,
   "metadata": {},
   "outputs": [],
   "source": [
    "t = GroundScan(testdata)"
   ]
  },
  {
   "cell_type": "code",
   "execution_count": 44,
   "metadata": {},
   "outputs": [
    {
     "data": {
      "text/plain": [
       "     +      \n",
       "...........#\n",
       "#..#.......#\n",
       "#..#..#.....\n",
       "#..#..#.....\n",
       "#.....#.....\n",
       "#.....#.....\n",
       "#######.....\n",
       "............\n",
       "............\n",
       "...#.....#..\n",
       "...#.....#..\n",
       "...#.....#..\n",
       "...#######.."
      ]
     },
     "execution_count": 44,
     "metadata": {},
     "output_type": "execute_result"
    }
   ],
   "source": [
    "t"
   ]
  },
  {
   "cell_type": "code",
   "execution_count": 45,
   "metadata": {},
   "outputs": [
    {
     "name": "stdout",
     "output_type": "stream",
     "text": [
      "[((500+0j), False, False)]\n",
      "[((500+1j), False, False)]\n",
      "[((500+2j), False, False)]\n",
      "[((500+3j), False, False)]\n",
      "[((500+4j), False, False)]\n",
      "[((500+5j), False, False)]\n",
      "[((500+6j), False, False)]\n",
      "[((499+6j), False, False)]\n",
      "[((498+6j), False, False)]\n",
      "[((497+6j), False, False)]\n",
      "[((496+6j), False, False)]\n"
     ]
    }
   ],
   "source": [
    "t.addWater()"
   ]
  },
  {
   "cell_type": "code",
   "execution_count": 46,
   "metadata": {},
   "outputs": [
    {
     "data": {
      "text/plain": [
       "     +      \n",
       ".....|.....#\n",
       "#..#.|.....#\n",
       "#..#.|#.....\n",
       "#..#.|#.....\n",
       "#....|#.....\n",
       "#|||||#.....\n",
       "#######.....\n",
       "............\n",
       "............\n",
       "...#.....#..\n",
       "...#.....#..\n",
       "...#.....#..\n",
       "...#######.."
      ]
     },
     "execution_count": 46,
     "metadata": {},
     "output_type": "execute_result"
    }
   ],
   "source": [
    "t"
   ]
  },
  {
   "cell_type": "code",
   "execution_count": 21,
   "metadata": {},
   "outputs": [
    {
     "data": {
      "text/plain": [
       "1j"
      ]
     },
     "execution_count": 21,
     "metadata": {},
     "output_type": "execute_result"
    }
   ],
   "source": [
    "w.nextdir"
   ]
  },
  {
   "cell_type": "code",
   "execution_count": 22,
   "metadata": {},
   "outputs": [
    {
     "data": {
      "text/plain": [
       "[(1+0j), (-1+0j)]"
      ]
     },
     "execution_count": 22,
     "metadata": {},
     "output_type": "execute_result"
    }
   ],
   "source": [
    "w.available"
   ]
  },
  {
   "cell_type": "code",
   "execution_count": 23,
   "metadata": {},
   "outputs": [
    {
     "data": {
      "text/plain": [
       "False"
      ]
     },
     "execution_count": 23,
     "metadata": {},
     "output_type": "execute_result"
    }
   ],
   "source": [
    "w.exhausted"
   ]
  },
  {
   "cell_type": "code",
   "execution_count": null,
   "metadata": {},
   "outputs": [],
   "source": []
  }
 ],
 "metadata": {
  "kernelspec": {
   "display_name": "Python 3",
   "language": "python",
   "name": "python3"
  },
  "language_info": {
   "codemirror_mode": {
    "name": "ipython",
    "version": 3
   },
   "file_extension": ".py",
   "mimetype": "text/x-python",
   "name": "python",
   "nbconvert_exporter": "python",
   "pygments_lexer": "ipython3",
   "version": "3.6.5"
  }
 },
 "nbformat": 4,
 "nbformat_minor": 2
}
