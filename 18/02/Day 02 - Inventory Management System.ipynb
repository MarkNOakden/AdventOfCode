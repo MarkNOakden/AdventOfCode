{
 "cells": [
  {
   "cell_type": "markdown",
   "metadata": {},
   "source": [
    "# `--- Day 2: Inventory Management System ---`"
   ]
  },
  {
   "cell_type": "code",
   "execution_count": 1,
   "metadata": {},
   "outputs": [],
   "source": [
    "from collections import Counter\n",
    "import unittest\n",
    "from itertools import permutations"
   ]
  },
  {
   "cell_type": "markdown",
   "metadata": {},
   "source": [
    "For example, if you see the following box IDs:\n",
    "```\n",
    "    abcdef contains no letters that appear exactly two or three times.\n",
    "    bababc contains two a and three b, so it counts for both.\n",
    "    abbcde contains two b, but no letter appears exactly three times.\n",
    "    abcccd contains three c, but no letter appears exactly two times.\n",
    "    aabcdd contains two a and two d, but it only counts once.\n",
    "    abcdee contains two e.\n",
    "    ababab contains three a and three b, but it only counts once.\n",
    "```   \n",
    "Of these box IDs, four of them contain a letter which appears exactly twice, and three of them contain a letter which appears exactly three times. Multiplying these together produces a checksum of 4 * 3 = 12.\n"
   ]
  },
  {
   "cell_type": "code",
   "execution_count": 2,
   "metadata": {},
   "outputs": [],
   "source": [
    "test_ids = ['abcdef', 'bababc', 'abbcde', 'abcccd', 'aabcdd', 'abcdee', 'ababab']\n",
    "test_results = [(0, 0), (1, 1), (1, 0), (0, 1), (1, 0), (1, 0), (0, 1)]"
   ]
  },
  {
   "cell_type": "code",
   "execution_count": 3,
   "metadata": {},
   "outputs": [],
   "source": [
    "class TestIt(unittest.TestCase):\n",
    "\n",
    "    def test_1(self):\n",
    "        for box_id, res in zip(test_ids, test_results):\n",
    "            with self.subTest(box_id=box_id):\n",
    "                self.assertEqual(check(box_id), res)\n",
    "\n",
    "    def test_2(self):\n",
    "        self.assertEqual(checksum(test_ids), 12)"
   ]
  },
  {
   "cell_type": "code",
   "execution_count": 4,
   "metadata": {},
   "outputs": [],
   "source": [
    "box_ids = open('input.txt', 'r').read().splitlines()"
   ]
  },
  {
   "cell_type": "code",
   "execution_count": 5,
   "metadata": {},
   "outputs": [
    {
     "data": {
      "text/plain": [
       "['oeambtcgjqnzhgkdylfapoiusr',\n",
       " 'oewmbtcxjqnzhgvdyltapvqusr',\n",
       " 'oewmbtchjqnzigkdylfapviuse',\n",
       " 'oeimbucxjqnzhgkdyyfapviusr',\n",
       " 'fewmbtcxjqndhgcdylfapviusr']"
      ]
     },
     "execution_count": 5,
     "metadata": {},
     "output_type": "execute_result"
    }
   ],
   "source": [
    "box_ids[0:5]"
   ]
  },
  {
   "cell_type": "code",
   "execution_count": 6,
   "metadata": {},
   "outputs": [],
   "source": [
    "def check(box_id):\n",
    "    counts = Counter(box_id)\n",
    "    twos, threes = 0, 0\n",
    "    \n",
    "    for k in counts:\n",
    "        if counts[k] == 2:\n",
    "            twos = 1\n",
    "        if counts[k] == 3:\n",
    "            threes = 1\n",
    "    \n",
    "    return (twos, threes)\n",
    "\n",
    "def checksum(id_list):\n",
    "    sums = list(map(sum, zip(*map(check, id_list))))\n",
    "    return sums[0] * sums[1]"
   ]
  },
  {
   "cell_type": "code",
   "execution_count": 7,
   "metadata": {},
   "outputs": [
    {
     "name": "stderr",
     "output_type": "stream",
     "text": [
      "test_1 (__main__.TestIt) ... ok\n",
      "test_2 (__main__.TestIt) ... ok\n",
      "\n",
      "----------------------------------------------------------------------\n",
      "Ran 2 tests in 0.018s\n",
      "\n",
      "OK\n"
     ]
    },
    {
     "data": {
      "text/plain": [
       "<unittest.runner.TextTestResult run=2 errors=0 failures=0>"
      ]
     },
     "execution_count": 7,
     "metadata": {},
     "output_type": "execute_result"
    }
   ],
   "source": [
    "suite = unittest.TestLoader().loadTestsFromTestCase(TestIt)\n",
    "unittest.TextTestRunner(verbosity=2).run(suite)"
   ]
  },
  {
   "cell_type": "code",
   "execution_count": 8,
   "metadata": {},
   "outputs": [
    {
     "name": "stdout",
     "output_type": "stream",
     "text": [
      "Part 1: 6916\n"
     ]
    }
   ],
   "source": [
    "print(f'Part 1: {checksum(box_ids)}')"
   ]
  },
  {
   "cell_type": "markdown",
   "metadata": {},
   "source": [
    "```\n",
    "--- Part Two ---\n",
    "```\n",
    "Confident that your list of box IDs is complete, you're ready to find the boxes full of prototype fabric.\n",
    "\n",
    "The boxes will have IDs which differ by exactly one character at the same position in both strings. For example, given the following box IDs:\n",
    "```\n",
    "abcde\n",
    "fghij\n",
    "klmno\n",
    "pqrst\n",
    "fguij\n",
    "axcye\n",
    "wvxyz\n",
    "```\n",
    "The IDs `abcde` and `axcye` are close, but they differ by two characters (the second and fourth). However, the IDs `fghij` and `fguij` differ by exactly one character, the third (`h` and `u`). Those must be the correct boxes.\n",
    "\n",
    "What letters are common between the two correct box IDs? (In the example above, this is found by removing the differing character from either ID, producing `fgij`.)\n"
   ]
  },
  {
   "cell_type": "code",
   "execution_count": 9,
   "metadata": {},
   "outputs": [],
   "source": [
    "test2_ids = ['abcde', 'fghij', 'klmno', 'pqrst', 'fguij', 'axcye', 'wvxyz']\n",
    "\n",
    "class TestIt2(unittest.TestCase):\n",
    "\n",
    "    def test_1(self):\n",
    "        self.assertEqual(common('abcde', 'axcye'), 'ace')\n",
    "\n",
    "    def test_2(self):\n",
    "        self.assertEqual(common('fghij', 'fguij'), 'fgij')\n",
    "        \n",
    "    def test_3(self):\n",
    "        self.assertEqual(part2(test2_ids), 'fgij')\n"
   ]
  },
  {
   "cell_type": "code",
   "execution_count": 10,
   "metadata": {},
   "outputs": [],
   "source": [
    "def common(s1, s2):\n",
    "    return ''.join(a for a, b in zip(s1, s2) if a == b)\n",
    "            \n",
    "def part2(id_list):\n",
    "    for i, j in permutations(id_list, 2):\n",
    "        common_chars = common(i, j)\n",
    "        if len(i) - len(common_chars) == 1:\n",
    "            return common_chars"
   ]
  },
  {
   "cell_type": "code",
   "execution_count": 11,
   "metadata": {},
   "outputs": [
    {
     "name": "stderr",
     "output_type": "stream",
     "text": [
      "test_1 (__main__.TestIt2) ... ok\n",
      "test_2 (__main__.TestIt2) ... ok\n",
      "test_3 (__main__.TestIt2) ... ok\n",
      "\n",
      "----------------------------------------------------------------------\n",
      "Ran 3 tests in 0.009s\n",
      "\n",
      "OK\n"
     ]
    },
    {
     "data": {
      "text/plain": [
       "<unittest.runner.TextTestResult run=3 errors=0 failures=0>"
      ]
     },
     "execution_count": 11,
     "metadata": {},
     "output_type": "execute_result"
    }
   ],
   "source": [
    "suite = unittest.TestLoader().loadTestsFromTestCase(TestIt2)\n",
    "unittest.TextTestRunner(verbosity=2).run(suite)"
   ]
  },
  {
   "cell_type": "code",
   "execution_count": 12,
   "metadata": {},
   "outputs": [
    {
     "name": "stdout",
     "output_type": "stream",
     "text": [
      "Part 2: oeylbtcxjqnzhgyylfapviusr\n"
     ]
    }
   ],
   "source": [
    "print(f'Part 2: {part2(box_ids)}')"
   ]
  },
  {
   "cell_type": "code",
   "execution_count": null,
   "metadata": {},
   "outputs": [],
   "source": []
  }
 ],
 "metadata": {
  "kernelspec": {
   "display_name": "Python 3",
   "language": "python",
   "name": "python3"
  },
  "language_info": {
   "codemirror_mode": {
    "name": "ipython",
    "version": 3
   },
   "file_extension": ".py",
   "mimetype": "text/x-python",
   "name": "python",
   "nbconvert_exporter": "python",
   "pygments_lexer": "ipython3",
   "version": "3.6.5"
  }
 },
 "nbformat": 4,
 "nbformat_minor": 2
}
