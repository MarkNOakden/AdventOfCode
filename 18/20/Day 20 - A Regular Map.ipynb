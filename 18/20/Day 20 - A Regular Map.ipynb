{
 "cells": [
  {
   "cell_type": "markdown",
   "metadata": {},
   "source": [
    "--- Day 20: A Regular Map ---\n",
    "\n",
    "While you were learning about instruction pointers, the Elves made considerable progress. When you look up, you discover that the North Pole base construction project has completely surrounded you.\n",
    "\n",
    "The area you are in is made up entirely of rooms and doors. The rooms are arranged in a grid, and rooms only connect to adjacent rooms when a door is present between them.\n",
    "\n",
    "For example, drawing rooms as ., walls as #, doors as | or -, your current position as X, and where north is up, the area you're in might look like this:\n",
    "```\n",
    "#####\n",
    "#.|.#\n",
    "#-###\n",
    "#.|X#\n",
    "#####\n",
    "```\n",
    "You get the attention of a passing construction Elf and ask for a map. \"I don't have time to draw out a map of this place - it's huge. Instead, I can give you directions to every room in the facility!\" He writes down some directions on a piece of parchment and runs off. In the example above, the instructions might have been ^WNE\\$, a regular expression or \"regex\" (your puzzle input).\n",
    "\n",
    "The regex matches routes (like WNE for \"west, north, east\") that will take you from your current room through various doors in the facility. In aggregate, the routes will take you through every door in the facility at least once; mapping out all of these routes will let you build a proper map and find your way around.\n",
    "\n",
    "^ and \\$ are at the beginning and end of your regex; these just mean that the regex doesn't match anything outside the routes it describes. (Specifically, ^ matches the start of the route, and $ matches the end of it.) These characters will not appear elsewhere in the regex.\n",
    "\n",
    "The rest of the regex matches various sequences of the characters N (north), S (south), E (east), and W (west). In the example above, ^WNE\\$ matches only one route, WNE, which means you can move west, then north, then east from your current position. Sequences of letters like this always match that exact route in the same order.\n",
    "\n",
    "Sometimes, the route can branch. A branch is given by a list of options separated by pipes (\\|) and wrapped in parentheses. So, ^N(E\\|W)N\\$ contains a branch: after going north, you must choose to go either east or west before finishing your route by going north again. By tracing out the possible routes after branching, you can determine where the doors are and, therefore, where the rooms are in the facility.\n",
    "\n",
    "For example, consider this regex: `^ENWWW(NEEE|SSE(EE|N))$`\n",
    "\n",
    "This regex begins with ENWWW, which means that from your current position, all routes must begin by moving east, north, and then west three times, in that order. After this, there is a branch. Before you consider the branch, this is what you know about the map so far, with doors you aren't sure about marked with a ?:\n",
    "```\n",
    "#?#?#?#?#\n",
    "?.|.|.|.?\n",
    "#?#?#?#-#\n",
    "    ?X|.?\n",
    "    #?#?#\n",
    "```\n",
    "After this point, there is `(NEEE|SSE(EE|N))`. This gives you exactly two options: NEEE and `SSE(EE|N)`. By following NEEE, the map now looks like this:\n",
    "```\n",
    "#?#?#?#?#\n",
    "?.|.|.|.?\n",
    "#-#?#?#?#\n",
    "?.|.|.|.?\n",
    "#?#?#?#-#\n",
    "    ?X|.?\n",
    "    #?#?#\n",
    "```\n",
    "Now, only `SSE(EE|N)` remains. Because it is in the same parenthesized group as NEEE, it starts from the same room NEEE started in. It states that starting from that point, there exist doors which will allow you to move south twice, then east; this ends up at another branch. After that, you can either move east twice or north once. This information fills in the rest of the doors:\n",
    "```\n",
    "#?#?#?#?#\n",
    "?.|.|.|.?\n",
    "#-#?#?#?#\n",
    "?.|.|.|.?\n",
    "#-#?#?#-#\n",
    "?.?.?X|.?\n",
    "#-#-#?#?#\n",
    "?.|.|.|.?\n",
    "#?#?#?#?#\n",
    "```\n",
    "Once you've followed all possible routes, you know the remaining unknown parts are all walls, producing a finished map of the facility:\n",
    "```\n",
    "#########\n",
    "#.|.|.|.#\n",
    "#-#######\n",
    "#.|.|.|.#\n",
    "#-#####-#\n",
    "#.#.#X|.#\n",
    "#-#-#####\n",
    "#.|.|.|.#\n",
    "#########\n",
    "```\n",
    "Sometimes, a list of options can have an empty option, like `(NEWS|WNSE|)`. This means that routes at this point could effectively skip the options in parentheses and move on immediately. For example, consider this regex and the corresponding map:\n",
    "```\n",
    "^ENNWSWW(NEWS|)SSSEEN(WNSE|)EE(SWEN|)NNN$\n",
    "\n",
    "###########\n",
    "#.|.#.|.#.#\n",
    "#-###-#-#-#\n",
    "#.|.|.#.#.#\n",
    "#-#####-#-#\n",
    "#.#.#X|.#.#\n",
    "#-#-#####-#\n",
    "#.#.|.|.|.#\n",
    "#-###-###-#\n",
    "#.|.|.#.|.#\n",
    "###########\n",
    "```\n",
    "This regex has one main route which, at three locations, can optionally include additional detours and be valid: (NEWS|), (WNSE|), and (SWEN|). Regardless of which option is taken, the route continues from the position it is left at after taking those steps. So, for example, this regex matches all of the following routes (and more that aren't listed here):\n",
    "\n",
    " *    ENNWSWWSSSEENEENNN\n",
    " *    ENNWSWWNEWSSSSEENEENNN\n",
    " *    ENNWSWWNEWSSSSEENEESWENNNN\n",
    " *    ENNWSWWSSSEENWNSEEENNN\n",
    "\n",
    "By following the various routes the regex matches, a full map of all of the doors and rooms in the facility can be assembled.\n",
    "\n",
    "To get a sense for the size of this facility, you'd like to determine which room is furthest from you: specifically, you would like to find the room for which the shortest path to that room would require passing through the most doors.\n",
    "\n",
    " *    In the first example `(^WNE$)`, this would be the north-east corner 3 doors away.\n",
    " *    In the second example `(^ENWWW(NEEE|SSE(EE|N))$)`, this would be the south-east corner 10 doors away.\n",
    " *    In the third example `(^ENNWSWW(NEWS|)SSSEEN(WNSE|)EE(SWEN|)NNN$)`, this would be the north-east corner 18 doors away.\n",
    "\n",
    "Here are a few more examples:\n",
    "```\n",
    "Regex: ^ESSWWN(E|NNENN(EESS(WNSE|)SSS|WWWSSSSE(SW|NNNE)))$\n",
    "Furthest room requires passing 23 doors\n",
    "\n",
    "#############\n",
    "#.|.|.|.|.|.#\n",
    "#-#####-###-#\n",
    "#.#.|.#.#.#.#\n",
    "#-#-###-#-#-#\n",
    "#.#.#.|.#.|.#\n",
    "#-#-#-#####-#\n",
    "#.#.#.#X|.#.#\n",
    "#-#-#-###-#-#\n",
    "#.|.#.|.#.#.#\n",
    "###-#-###-#-#\n",
    "#.|.#.|.|.#.#\n",
    "#############\n",
    "\n",
    "Regex: ^WSSEESWWWNW(S|NENNEEEENN(ESSSSW(NWSW|SSEN)|WSWWN(E|WWS(E|SS))))$\n",
    "Furthest room requires passing 31 doors\n",
    "\n",
    "###############\n",
    "#.|.|.|.#.|.|.#\n",
    "#-###-###-#-#-#\n",
    "#.|.#.|.|.#.#.#\n",
    "#-#########-#-#\n",
    "#.#.|.|.|.|.#.#\n",
    "#-#-#########-#\n",
    "#.#.#.|X#.|.#.#\n",
    "###-#-###-#-#-#\n",
    "#.|.#.#.|.#.|.#\n",
    "#-###-#####-###\n",
    "#.|.#.|.|.#.#.#\n",
    "#-#-#####-#-#-#\n",
    "#.#.|.|.|.#.|.#\n",
    "###############\n",
    "```\n",
    "**What is the largest number of doors you would be required to pass through to reach a room?** That is, find the room for which the shortest path from your starting location to that room would require passing through the most doors; what is the fewest doors you can pass through to reach it?\n"
   ]
  },
  {
   "cell_type": "code",
   "execution_count": 8,
   "metadata": {},
   "outputs": [],
   "source": [
    "data = open('input.txt').read().splitlines()[0]"
   ]
  },
  {
   "cell_type": "code",
   "execution_count": 14,
   "metadata": {},
   "outputs": [],
   "source": [
    "test1 = ' ^ENWWW(NEEE|SSE(EE|N))$'\n",
    "map1 = '''#########\n",
    "#.|.|.|.#\n",
    "#-#######\n",
    "#.|.|.|.#\n",
    "#-#####-#\n",
    "#.#.#X|.#\n",
    "#-#-#####\n",
    "#.|.|.|.#\n",
    "#########'''\n"
   ]
  },
  {
   "cell_type": "code",
   "execution_count": 13,
   "metadata": {},
   "outputs": [],
   "source": [
    "from collections import Counter, deque, defaultdict"
   ]
  },
  {
   "cell_type": "code",
   "execution_count": 11,
   "metadata": {},
   "outputs": [],
   "source": [
    "c = Counter(list(data))"
   ]
  },
  {
   "cell_type": "code",
   "execution_count": 12,
   "metadata": {},
   "outputs": [
    {
     "data": {
      "text/plain": [
       "Counter({'^': 1,\n",
       "         'S': 2779,\n",
       "         'E': 2795,\n",
       "         'W': 2741,\n",
       "         'N': 2771,\n",
       "         '(': 1012,\n",
       "         '|': 1024,\n",
       "         ')': 1012,\n",
       "         '$': 1})"
      ]
     },
     "execution_count": 12,
     "metadata": {},
     "output_type": "execute_result"
    }
   ],
   "source": [
    "c"
   ]
  },
  {
   "cell_type": "code",
   "execution_count": 27,
   "metadata": {},
   "outputs": [],
   "source": [
    "class Rooms(object):\n",
    "    \n",
    "    def __init__(self, regexp):\n",
    "        self.regexp = regexp\n",
    "        # coordinates will be complex numbers with the first room at 0 + 0j and rooms at even numbered coords (complex(2m, 2n))\n",
    "        # doors/walls tobe discovered have one coordinate even and one odd (complex(2m+1, 2n) - '\\' or complex(2m, 2n+1) - '-')\n",
    "        # remaining coords (odd, odd) are all walls\n",
    "        self.map = {} # dict rather than defaultdict since we want coordinate dependent defaults\n",
    "        \n",
    "    def buildmap(self):\n",
    "        pass\n",
    "    \n",
    "    def get(self, x, y):\n",
    "        coord = x + y * 1j\n",
    "        try:\n",
    "            return self.map[coord]\n",
    "        except KeyError:\n",
    "            if x == 0 and y == 0:\n",
    "                self.map[coord] = 'X'\n",
    "                return self.map[coord]\n",
    "            xiseven = (x % 2) == 0\n",
    "            xisodd = not xiseven\n",
    "            yiseven = (y % 2) == 0\n",
    "            yisodd = not yiseven\n",
    "            if xiseven and yiseven:\n",
    "                self.map[coord] = '.'\n",
    "            elif xisodd and yisodd:\n",
    "                self.map[coord] = '#'\n",
    "            else:\n",
    "                self.map[coord] = '?'\n",
    "        return self.map[coord]\n",
    "    \n",
    "    def set(self, x, y, char):\n",
    "        self.map[x + y * 1j] = char\n",
    "        \n",
    "    def __str__(self):\n",
    "        return self.mapdump()\n",
    "        \n",
    "    __repr__ = __str__\n",
    "    \n",
    "    def mapdump(self, window=None): # window = ((llx, lly), (urx, ury))\n",
    "        if window is None:\n",
    "            coords = self.map.keys()\n",
    "            x = [int(c.real) for c in coords]\n",
    "            y = [int(c.imag) for c in coords]\n",
    "            xmin = min(x)\n",
    "            xmax = max(x)\n",
    "            ymin = min(y)\n",
    "            ymax = max(y)\n",
    "        else:\n",
    "            ((xmin, ymin), (xmax, ymax)) = window\n",
    "        out = []\n",
    "        for y in range(ymin, ymax + 1):\n",
    "            s = ''\n",
    "            for x in range(xmin, xmax + 1):\n",
    "                s = s + self.get(x, y)\n",
    "            out.append(s)\n",
    "        return '\\n'.join(out)"
   ]
  },
  {
   "cell_type": "code",
   "execution_count": 28,
   "metadata": {},
   "outputs": [],
   "source": [
    "r = Rooms(test1)"
   ]
  },
  {
   "cell_type": "code",
   "execution_count": 34,
   "metadata": {},
   "outputs": [
    {
     "name": "stdout",
     "output_type": "stream",
     "text": [
      "#?#?#?#\n",
      "?.?.?.?\n",
      "#?#?#?#\n",
      "?.?.?.?\n",
      "#?#?#?#\n",
      "?.?.?.?\n",
      "#?#?#?#\n"
     ]
    }
   ],
   "source": [
    "print(r.mapdump(((3, 3), (9, 9))))"
   ]
  },
  {
   "cell_type": "code",
   "execution_count": 35,
   "metadata": {},
   "outputs": [
    {
     "name": "stdout",
     "output_type": "stream",
     "text": [
      "#?#?#?#?#?#?#?#\n",
      "?.?.?.?.?.?.?.?\n",
      "#?#?#?#?#?#?#?#\n",
      "?.?.?.?.?.?.?.?\n",
      "#?#?#?#?#?#?#?#\n",
      "?.?.?X?.?.?.?.?\n",
      "#?#?#?#?#?#?#?#\n",
      "?.?.?.?.?.?.?.?\n",
      "#?#?#?#?#?#?#?#\n",
      "?.?.?.?.?.?.?.?\n",
      "#?#?#?#?#?#?#?#\n",
      "?.?.?.?.?.?.?.?\n",
      "#?#?#?#?#?#?#?#\n",
      "?.?.?.?.?.?.?.?\n",
      "#?#?#?#?#?#?#?#\n"
     ]
    }
   ],
   "source": [
    "print(str(r))"
   ]
  },
  {
   "cell_type": "code",
   "execution_count": null,
   "metadata": {},
   "outputs": [],
   "source": []
  }
 ],
 "metadata": {
  "kernelspec": {
   "display_name": "Python 3",
   "language": "python",
   "name": "python3"
  },
  "language_info": {
   "codemirror_mode": {
    "name": "ipython",
    "version": 3
   },
   "file_extension": ".py",
   "mimetype": "text/x-python",
   "name": "python",
   "nbconvert_exporter": "python",
   "pygments_lexer": "ipython3",
   "version": "3.6.5"
  }
 },
 "nbformat": 4,
 "nbformat_minor": 2
}
