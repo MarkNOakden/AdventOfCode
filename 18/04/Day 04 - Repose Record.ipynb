{
 "cells": [
  {
   "cell_type": "markdown",
   "metadata": {},
   "source": [
    "`--- Day 4: Repose Record ---`"
   ]
  },
  {
   "cell_type": "code",
   "execution_count": null,
   "metadata": {},
   "outputs": [],
   "source": [
    "from collections import Counter\n",
    "import re"
   ]
  },
  {
   "cell_type": "code",
   "execution_count": null,
   "metadata": {},
   "outputs": [],
   "source": [
    "input_data = open('input.txt', 'r').read().splitlines()"
   ]
  },
  {
   "cell_type": "code",
   "execution_count": null,
   "metadata": {},
   "outputs": [],
   "source": [
    "input_data = sorted(input_data) # yyyy-mm-dd hh:mm format sorts correctly lexically"
   ]
  },
  {
   "cell_type": "code",
   "execution_count": 4,
   "metadata": {},
   "outputs": [],
   "source": [
    "class Guard(object):\n",
    "    \n",
    "    def __init__(self, guard_id):\n",
    "        self.guard_id = guard_id\n",
    "        self.counts = Counter()\n",
    "        self.sleeptime = 0\n",
    "        self.cached_most_frequent = None # might be premature optimisation... not sure how expensive self.most_frequent() is\n",
    "        \n",
    "    def sleep(self, start, end):\n",
    "        if end <= start:\n",
    "            raise ValueError('end must be after start!')\n",
    "        self.counts += Counter(range(start, end))\n",
    "        self.sleeptime += end - start\n",
    "        self.cached_most_frequent = None # invalidate cache\n",
    "        \n",
    "    def most_frequent(self):\n",
    "        if self.cached_most_frequent is None:\n",
    "            most_common = self.counts.most_common(1)\n",
    "            if len(most_common) == 0: # not yet slept\n",
    "                maxv = 0\n",
    "            else:\n",
    "                maxv = most_common[0][1]\n",
    "            self.cached_most_frequent = [k for k,v in self.counts.items() if v == maxv]\n",
    "        return self.cached_most_frequent\n",
    "        \n",
    "    def __str__(self):\n",
    "        return f'Guard #{self.guard_id}: sleeptime = {self.sleeptime}, most_frequent = {self.most_frequent()}'\n",
    "    \n",
    "    __repr__ = __str__"
   ]
  },
  {
   "cell_type": "code",
   "execution_count": 5,
   "metadata": {},
   "outputs": [],
   "source": [
    "def process_records(data):\n",
    "    guard_on_duty_id = None\n",
    "    guard_on_duty = None\n",
    "    \n",
    "    guard_ids = set()\n",
    "    guards = {}\n",
    "    \n",
    "    sleep_start = None\n",
    "    \n",
    "    # The following assumes that a \"falls asleep\" for a guard is always paired with a corresponding \"wakes up\"\n",
    "    # that is true for my input data.  In general, this should allow for a guard falling asleep, but not waking up\n",
    "    # before the end of the hour (detect that condition and log a sleep of (start_time, 60))\n",
    "    for l in data:\n",
    "        if 'Guard' in l:\n",
    "            guard_on_duty_id = int(re.findall(r'#(\\d+)', l)[0])\n",
    "            if guard_on_duty_id in guard_ids:\n",
    "                guard_on_duty = guards[guard_on_duty_id]\n",
    "            else:\n",
    "                guard_on_duty = Guard(guard_on_duty_id)\n",
    "                guards[guard_on_duty_id] = guard_on_duty\n",
    "                guard_ids.add(guard_on_duty_id)\n",
    "        else:\n",
    "            minute = int(re.findall(r'\\d+', l)[4])\n",
    "            if 'falls' in l:\n",
    "                sleep_start = minute\n",
    "            elif 'wakes' in l:\n",
    "                guard_on_duty.sleep(sleep_start, minute)\n",
    "                sleep_start = None\n",
    "            else:\n",
    "                raise NotImplementedError(f'unrecognised line \\'{l}\\'')\n",
    "    \n",
    "    return guard_ids, guards\n",
    "\n",
    "def strategy1(guard_ids, guards):\n",
    "    max_sleeptime = max(guards[gid].sleeptime for gid in guard_ids)\n",
    "    sleepiest = [gid for gid in guard_ids if guards[gid].sleeptime == max_sleeptime][0] # assumption that there is only one\n",
    "    return sleepiest * guards[sleepiest].most_frequent()[0]"
   ]
  },
  {
   "cell_type": "markdown",
   "metadata": {},
   "source": [
    "# Part 1\n",
    "## test case"
   ]
  },
  {
   "cell_type": "code",
   "execution_count": 6,
   "metadata": {},
   "outputs": [],
   "source": [
    "test_data = '''[1518-11-01 00:00] Guard #10 begins shift\n",
    "[1518-11-01 00:05] falls asleep\n",
    "[1518-11-01 00:25] wakes up\n",
    "[1518-11-01 00:30] falls asleep\n",
    "[1518-11-01 00:55] wakes up\n",
    "[1518-11-01 23:58] Guard #99 begins shift\n",
    "[1518-11-02 00:40] falls asleep\n",
    "[1518-11-02 00:50] wakes up\n",
    "[1518-11-03 00:05] Guard #10 begins shift\n",
    "[1518-11-03 00:24] falls asleep\n",
    "[1518-11-03 00:29] wakes up\n",
    "[1518-11-04 00:02] Guard #99 begins shift\n",
    "[1518-11-04 00:36] falls asleep\n",
    "[1518-11-04 00:46] wakes up\n",
    "[1518-11-05 00:03] Guard #99 begins shift\n",
    "[1518-11-05 00:45] falls asleep\n",
    "[1518-11-05 00:55] wakes up'''.splitlines()\n",
    "\n",
    "# test case\n",
    "assert(strategy1(*process_records(test_data)) == 240)"
   ]
  },
  {
   "cell_type": "markdown",
   "metadata": {},
   "source": [
    "## answer"
   ]
  },
  {
   "cell_type": "code",
   "execution_count": 7,
   "metadata": {},
   "outputs": [
    {
     "name": "stdout",
     "output_type": "stream",
     "text": [
      "Part 1: 71748\n"
     ]
    }
   ],
   "source": [
    "print(f'Part 1: {strategy1(*process_records(input_data))}')"
   ]
  },
  {
   "cell_type": "markdown",
   "metadata": {},
   "source": [
    "# Part 2"
   ]
  },
  {
   "cell_type": "code",
   "execution_count": 8,
   "metadata": {},
   "outputs": [],
   "source": [
    "def strategy2(guard_ids, guards):\n",
    "    gid, max_frequency, count = max([(gid,\n",
    "                                      None if len(guards[gid].most_frequent()) == 0 else guards[gid].most_frequent()[0], \n",
    "                                      0 if len(guards[gid].most_frequent()) == 0 else guards[gid].counts[guards[gid].most_frequent()[0]])\n",
    "                                     for gid in guard_ids],\n",
    "                                    key=lambda x: x[2])\n",
    "    return gid * max_frequency\n",
    "    "
   ]
  },
  {
   "cell_type": "markdown",
   "metadata": {},
   "source": [
    "## test case"
   ]
  },
  {
   "cell_type": "code",
   "execution_count": 9,
   "metadata": {},
   "outputs": [],
   "source": [
    "assert(strategy2(*process_records(test_data)) == 4455)"
   ]
  },
  {
   "cell_type": "markdown",
   "metadata": {},
   "source": [
    "## answer"
   ]
  },
  {
   "cell_type": "code",
   "execution_count": 10,
   "metadata": {},
   "outputs": [
    {
     "name": "stdout",
     "output_type": "stream",
     "text": [
      "Part 2: 106850\n"
     ]
    }
   ],
   "source": [
    "print(f'Part 2: {strategy2(*process_records(input_data))}')"
   ]
  },
  {
   "cell_type": "code",
   "execution_count": null,
   "metadata": {},
   "outputs": [],
   "source": []
  }
 ],
 "metadata": {
  "kernelspec": {
   "display_name": "Python 3",
   "language": "python",
   "name": "python3"
  },
  "language_info": {
   "codemirror_mode": {
    "name": "ipython",
    "version": 3
   },
   "file_extension": ".py",
   "mimetype": "text/x-python",
   "name": "python",
   "nbconvert_exporter": "python",
   "pygments_lexer": "ipython3",
   "version": "3.6.5"
  }
 },
 "nbformat": 4,
 "nbformat_minor": 2
}
