{
 "cells": [
  {
   "cell_type": "markdown",
   "metadata": {},
   "source": [
    "`--- Day 3: No Matter How You Slice It ---`"
   ]
  },
  {
   "cell_type": "code",
   "execution_count": 1,
   "metadata": {},
   "outputs": [],
   "source": [
    "import unittest\n",
    "from collections import defaultdict"
   ]
  },
  {
   "cell_type": "code",
   "execution_count": 2,
   "metadata": {},
   "outputs": [],
   "source": [
    "input_lines = open('input.txt', 'r').read().splitlines()"
   ]
  },
  {
   "cell_type": "markdown",
   "metadata": {},
   "source": [
    "The problem is that many of the claims overlap, causing two or more claims to cover part of the same areas. For example, consider the following claims:\n",
    "```\n",
    "#1 @ 1,3: 4x4\n",
    "#2 @ 3,1: 4x4\n",
    "#3 @ 5,5: 2x2\n",
    "```\n",
    "Visually, these claim the following areas:\n",
    "```\n",
    "........\n",
    "...2222.\n",
    "...2222.\n",
    ".11XX22.\n",
    ".11XX22.\n",
    ".111133.\n",
    ".111133.\n",
    "........\n",
    "```\n",
    "The four square inches marked with X are claimed by both 1 and 2. (Claim 3, while adjacent to the others, does not overlap either of them.)\n"
   ]
  },
  {
   "cell_type": "markdown",
   "metadata": {},
   "source": [
    "# Test Setup"
   ]
  },
  {
   "cell_type": "code",
   "execution_count": 3,
   "metadata": {},
   "outputs": [],
   "source": [
    "test_lines = ['#1 @ 1,3: 4x4', '#2 @ 3,1: 4x4', '#3 @ 5,5: 2x2']\n",
    "\n",
    "test1_results = [(1, 1, 3, 4, 4), (2, 3, 1, 4, 4), (3, 5, 5, 2, 2)]\n",
    "\n",
    "r1 = tuple((i, j) for i in range(1, 5) for j in range(3, 7))\n",
    "test_res1 = (1, r1)\n",
    "\n",
    "r2 = tuple((i, j) for i in range(3, 7) for j in range(1, 5))\n",
    "test_res2 = (2, r2)\n",
    "\n",
    "r3 = tuple((i, j) for i in range(5, 7) for j in range(5, 7))\n",
    "test_res3 = (3, r3)\n",
    "\n",
    "test2_results = [test_res1, test_res2, test_res3]\n",
    "\n",
    "test3_res = {                                (3, 1):   (2,), (4, 1):   (2,), (5, 1):   (2,), (6, 1):   (2,),\n",
    "                                             (3, 2):   (2,), (4, 2):   (2,), (5, 2):   (2,), (6, 2):   (2,),\n",
    "             (1, 3):   (1,), (2, 3):   (1,), (3, 3): (1, 2), (4, 3): (1, 2), (5, 3):   (2,), (6, 3):   (2,),\n",
    "             (1, 4):   (1,), (2, 4):   (1,), (3, 4): (1, 2), (4, 4): (1, 2), (5, 4):   (2,), (6, 4):   (2,),\n",
    "             (1, 5):   (1,), (2, 5):   (1,), (3, 5):   (1,), (4, 5):   (1,), (5, 5):   (3,), (6, 5):   (3,),\n",
    "             (1, 6):   (1,), (2, 6):   (1,), (3, 6):   (1,), (4, 6):   (1,), (5, 6):   (3,), (6, 6):   (3,)}"
   ]
  },
  {
   "cell_type": "code",
   "execution_count": 4,
   "metadata": {},
   "outputs": [],
   "source": [
    "class TestIt(unittest.TestCase):\n",
    "    \n",
    "    def test_split_claim(self):\n",
    "        for claim, res in zip(test_lines, test1_results):\n",
    "            with self.subTest(claim=claim):\n",
    "                self.assertEqual(split_claim(claim), res)\n",
    "                \n",
    "    def test_process_claim(self):\n",
    "        for claim, res in zip(test_lines, test2_results):\n",
    "            with self.subTest(claim=claim):\n",
    "                self.assertEqual(process_claim(claim), res)\n",
    "                \n",
    "    def test_make_grid(self):\n",
    "        self.assertEqual(make_grid(test_lines), test3_res)"
   ]
  },
  {
   "cell_type": "markdown",
   "metadata": {},
   "source": [
    "# Define the required functions"
   ]
  },
  {
   "cell_type": "code",
   "execution_count": 5,
   "metadata": {},
   "outputs": [],
   "source": [
    "def split_claim(claim): # '#1 @ 1,3: 4x4'\n",
    "    \n",
    "    '''Parse the claim string and return the elements as a tuple of integers'''\n",
    "    \n",
    "    claim_id, claim = claim.split(' @ ')\n",
    "    claim_id = claim_id.replace('#', '')\n",
    "    x,        claim = claim.split(',')\n",
    "    y,        claim = claim.split(': ')\n",
    "    w,        h     = claim.split('x')\n",
    "    \n",
    "    return tuple(map(int, (claim_id, x, y, w, h)))\n",
    "    \n",
    "def process_claim(claim):\n",
    "    \n",
    "    '''Process the claim to return a tuple of the claim id and a tuple of the coordinates of all included 1\" squares'''\n",
    "    \n",
    "    claim_id, x, y, w, h = split_claim(claim)\n",
    "    \n",
    "    coords = tuple((i, j) for i in range(x, x + w) for j in range(y, y + h))\n",
    "    \n",
    "    return (claim_id, coords)\n",
    "\n",
    "def make_grid(claims):\n",
    "    grid = defaultdict(tuple)\n",
    "    for claim in claims:\n",
    "        claim_id, coords = process_claim(claim)\n",
    "        for coord in coords:\n",
    "            grid[coord] += (claim_id,)\n",
    "    return dict(grid)"
   ]
  },
  {
   "cell_type": "markdown",
   "metadata": {},
   "source": [
    "# Run the tests"
   ]
  },
  {
   "cell_type": "code",
   "execution_count": 6,
   "metadata": {},
   "outputs": [
    {
     "name": "stderr",
     "output_type": "stream",
     "text": [
      "test_make_grid (__main__.TestIt) ... ok\n",
      "test_process_claim (__main__.TestIt) ... ok\n",
      "test_split_claim (__main__.TestIt) ... ok\n",
      "\n",
      "----------------------------------------------------------------------\n",
      "Ran 3 tests in 0.013s\n",
      "\n",
      "OK\n"
     ]
    },
    {
     "data": {
      "text/plain": [
       "<unittest.runner.TextTestResult run=3 errors=0 failures=0>"
      ]
     },
     "execution_count": 6,
     "metadata": {},
     "output_type": "execute_result"
    }
   ],
   "source": [
    "suite = unittest.TestLoader().loadTestsFromTestCase(TestIt)\n",
    "unittest.TextTestRunner(verbosity=2).run(suite)"
   ]
  },
  {
   "cell_type": "markdown",
   "metadata": {},
   "source": [
    "# Part 1"
   ]
  },
  {
   "cell_type": "code",
   "execution_count": 7,
   "metadata": {},
   "outputs": [],
   "source": [
    "fabric_grid = make_grid(input_lines)"
   ]
  },
  {
   "cell_type": "code",
   "execution_count": 8,
   "metadata": {},
   "outputs": [
    {
     "name": "stdout",
     "output_type": "stream",
     "text": [
      "Part 1: 101565\n"
     ]
    }
   ],
   "source": [
    "print(f'Part 1: {len([square for square in fabric_grid if len(fabric_grid[square]) >= 2])}')"
   ]
  },
  {
   "cell_type": "markdown",
   "metadata": {},
   "source": [
    "# Part 2"
   ]
  },
  {
   "cell_type": "code",
   "execution_count": 9,
   "metadata": {},
   "outputs": [],
   "source": [
    "all_claim_ids = set(x[0] for x in (split_claim(claim) for claim in input_lines))"
   ]
  },
  {
   "cell_type": "code",
   "execution_count": 10,
   "metadata": {},
   "outputs": [],
   "source": [
    "overlapping_claim_ids = set()\n",
    "\n",
    "for square in [x  for x in fabric_grid if len(fabric_grid[x]) >= 2]:\n",
    "    for claim in fabric_grid[square]:\n",
    "        overlapping_claim_ids.add(claim)"
   ]
  },
  {
   "cell_type": "code",
   "execution_count": 11,
   "metadata": {},
   "outputs": [
    {
     "name": "stdout",
     "output_type": "stream",
     "text": [
      "The set of non-overlapping claims is: {656}\n"
     ]
    }
   ],
   "source": [
    "print(f'The set of non-overlapping claims is: {all_claim_ids - overlapping_claim_ids}')"
   ]
  },
  {
   "cell_type": "code",
   "execution_count": null,
   "metadata": {},
   "outputs": [],
   "source": []
  }
 ],
 "metadata": {
  "kernelspec": {
   "display_name": "Python 3",
   "language": "python",
   "name": "python3"
  },
  "language_info": {
   "codemirror_mode": {
    "name": "ipython",
    "version": 3
   },
   "file_extension": ".py",
   "mimetype": "text/x-python",
   "name": "python",
   "nbconvert_exporter": "python",
   "pygments_lexer": "ipython3",
   "version": "3.6.5"
  }
 },
 "nbformat": 4,
 "nbformat_minor": 2
}
